{
 "cells": [
  {
   "cell_type": "code",
   "execution_count": 1,
   "id": "adult-series",
   "metadata": {},
   "outputs": [],
   "source": [
    "import sys\n",
    "sys.path.append('/opt/ml/code/stage1')"
   ]
  },
  {
   "cell_type": "code",
   "execution_count": 4,
   "id": "figured-aluminum",
   "metadata": {},
   "outputs": [],
   "source": [
    "from stage1.utils import *\n",
    "from stage1.modules.models import *\n",
    "from stage1.modules.loss import *\n",
    "from stage1.trainer import *\n",
    "import stage1.data as data\n",
    "\n",
    "import torchvision\n",
    "\n",
    "import timm\n",
    "from efficientnet_pytorch import EfficientNet\n",
    "import albumentations as A\n",
    "\n",
    "%matplotlib inline"
   ]
  },
  {
   "cell_type": "markdown",
   "id": "irish-houston",
   "metadata": {},
   "source": [
    "# Utilities"
   ]
  },
  {
   "cell_type": "code",
   "execution_count": 5,
   "id": "micro-reception",
   "metadata": {},
   "outputs": [],
   "source": [
    "'''\n",
    "function to remove strange 'module' prefix and load the state dict\n",
    "'''\n",
    "\n",
    "from collections import OrderedDict\n",
    "def load_and_fix_state_dict(state_path, prefix='module'):\n",
    "    state_dict = torch.load(state_path)\n",
    "    fixed_state_dict = OrderedDict()\n",
    "    for name, param in state_dict.items():\n",
    "        if name[:len(prefix)] == prefix:\n",
    "            new_name = '.'.join(name.split('.')[1:])\n",
    "            fixed_state_dict[new_name] = param\n",
    "        else:\n",
    "            raise TypeError(name)\n",
    "            \n",
    "    return fixed_state_dict"
   ]
  },
  {
   "cell_type": "code",
   "execution_count": 6,
   "id": "formed-england",
   "metadata": {},
   "outputs": [
    {
     "name": "stdout",
     "output_type": "stream",
     "text": [
      "Thu Apr  8 09:28:45 2021       \n",
      "+-----------------------------------------------------------------------------+\n",
      "| NVIDIA-SMI 418.67       Driver Version: 418.67       CUDA Version: 10.1     |\n",
      "|-------------------------------+----------------------+----------------------+\n",
      "| GPU  Name        Persistence-M| Bus-Id        Disp.A | Volatile Uncorr. ECC |\n",
      "| Fan  Temp  Perf  Pwr:Usage/Cap|         Memory-Usage | GPU-Util  Compute M. |\n",
      "|===============================+======================+======================|\n",
      "|   0  Tesla P40           On   | 00000000:00:05.0 Off |                  Off |\n",
      "| N/A   41C    P8    13W / 250W |      0MiB / 24451MiB |      0%      Default |\n",
      "+-------------------------------+----------------------+----------------------+\n",
      "                                                                               \n",
      "+-----------------------------------------------------------------------------+\n",
      "| Processes:                                                       GPU Memory |\n",
      "|  GPU       PID   Type   Process name                             Usage      |\n",
      "|=============================================================================|\n",
      "|  No running processes found                                                 |\n",
      "+-----------------------------------------------------------------------------+\n"
     ]
    }
   ],
   "source": [
    "!nvidia-smi"
   ]
  },
  {
   "cell_type": "markdown",
   "id": "joint-scroll",
   "metadata": {},
   "source": [
    "# Basic Architectures"
   ]
  },
  {
   "cell_type": "code",
   "execution_count": 7,
   "id": "sharp-grace",
   "metadata": {},
   "outputs": [],
   "source": [
    "# l=np.load('/opt/ml/input/pretrained/F0_haiku.npz', allow_pickle=True)#, #fix_imports=True)#, , encoding='latin1')"
   ]
  },
  {
   "cell_type": "code",
   "execution_count": 8,
   "id": "combined-standard",
   "metadata": {},
   "outputs": [],
   "source": [
    "hrnet_w18_small_v2_1a_all = timm.models.hrnet_w18_small_v2()\n",
    "hrnet_w18_small_v2_1a_all.classifier = nn.Linear(hrnet_w18_small_v2_1a_all.classifier.in_features, 18)\n",
    "setattr(hrnet_w18_small_v2_1a_all, 'name', '-'.join('hrnet_w18_small_v2_1a_all'.split('_')))\n",
    "hrnet_w18_small_v2_1a_all_logger = CSVLogger()"
   ]
  },
  {
   "cell_type": "code",
   "execution_count": 9,
   "id": "plastic-upper",
   "metadata": {},
   "outputs": [],
   "source": [
    "effnet_b0_2da_age = timm.models.efficientnet_b0()\n",
    "effnet_b0_2da_age.classifier = nn.Sequential(\n",
    "    nn.Linear(effnet_b0_2da_age.classifier.in_features, 1024),\n",
    "    nn.Dropout(0.5),\n",
    "    nn.Linear(1024, 3)\n",
    ")\n",
    "setattr(effnet_b0_2da_age, 'name', 'effnet-b0-2da-age')\n",
    "effnet_b0_2da_age_logger = CSVLogger()"
   ]
  },
  {
   "cell_type": "code",
   "execution_count": 10,
   "id": "frozen-offense",
   "metadata": {},
   "outputs": [],
   "source": [
    "effnet_b3_2da_age = timm.models.efficientnet_b3(True)\n",
    "effnet_b3_2da_age.classifier = nn.Sequential(\n",
    "    nn.Linear(effnet_b3_2da_age.classifier.in_features, 1024),\n",
    "    nn.Dropout(0.5),\n",
    "    nn.Linear(1024, 3)\n",
    ")\n",
    "setattr(effnet_b3_2da_age, 'name', 'effnet-b3-2da-age')\n",
    "effnet_b0_2da_age_logger = CSVLogger()"
   ]
  },
  {
   "cell_type": "code",
   "execution_count": 11,
   "id": "unusual-wheat",
   "metadata": {},
   "outputs": [],
   "source": [
    "effnet_b3_age = timm.models.efficientnet_b3(True)\n",
    "effnet_b3_age.classifier = nn.Linear(\n",
    "    effnet_b3_age.classifier.in_features, 3\n",
    ")\n",
    "setattr(effnet_b3_age, 'name', 'effnet-b3-1a-age-raw')\n",
    "\n",
    "effnet_b3_age_logger = CSVLogger()"
   ]
  },
  {
   "cell_type": "code",
   "execution_count": 12,
   "id": "official-safety",
   "metadata": {},
   "outputs": [],
   "source": [
    "effnet_b3_gender = timm.models.efficientnet_b3(True)\n",
    "effnet_b3_gender.classifier = nn.Linear(\n",
    "    effnet_b3_gender.classifier.in_features, 2\n",
    ")\n",
    "setattr(effnet_b3_gender, 'name', 'effnet_b3_gender')\n",
    "\n",
    "effnet_b3_gender_logger = CSVLogger()"
   ]
  },
  {
   "cell_type": "code",
   "execution_count": 13,
   "id": "laughing-nowhere",
   "metadata": {},
   "outputs": [],
   "source": [
    "effnet_b3_mask = timm.models.efficientnet_b3(True)\n",
    "effnet_b3_mask.classifier = nn.Linear(\n",
    "    effnet_b3_mask.classifier.in_features, 3\n",
    ")\n",
    "setattr(effnet_b3_mask, 'name', 'effnet_b3_mask')\n",
    "\n",
    "effnet_b3_mask_logger = CSVLogger()"
   ]
  },
  {
   "cell_type": "code",
   "execution_count": 14,
   "id": "juvenile-hotel",
   "metadata": {},
   "outputs": [],
   "source": [
    "effnet_b0_1a = timm.models.efficientnet_b0(True)\n",
    "effnet_b0_1a.classifier = nn.Linear(effnet_b0_1a.classifier.in_features, 18)\n",
    "setattr(effnet_b0_1a, 'name', 'effnet-b0-1a')\n",
    "\n",
    "effnet_b0_1a_logger = CSVLogger()"
   ]
  },
  {
   "cell_type": "code",
   "execution_count": 15,
   "id": "covered-mustang",
   "metadata": {},
   "outputs": [],
   "source": [
    "effnet_b0_2da = timm.models.efficientnet_b0(True)\n",
    "effnet_b0_2da.classifier = nn.Sequential(\n",
    "    nn.Linear(effnet_b0_2da.classifier.in_features, 1024),\n",
    "    nn.Dropout(0.5),\n",
    "    nn.Linear(1024, 18)\n",
    ")\n",
    "setattr(effnet_b0_2da, 'name', 'effnet-b0-2da')\n",
    "\n",
    "effnet_b0_2da_logger = CSVLogger()"
   ]
  },
  {
   "cell_type": "markdown",
   "id": "virtual-stopping",
   "metadata": {},
   "source": [
    "# Configurations"
   ]
  },
  {
   "cell_type": "code",
   "execution_count": 16,
   "id": "dietary-fever",
   "metadata": {},
   "outputs": [],
   "source": [
    "# new config\n",
    "config = ConfigTree()"
   ]
  },
  {
   "cell_type": "code",
   "execution_count": 17,
   "id": "sufficient-australian",
   "metadata": {},
   "outputs": [],
   "source": [
    "# system\n",
    "config.system.device = torch.device(\"cuda:0\" if torch.cuda.is_available() else \"cpu\")\n",
    "config.system.num_workers = 4"
   ]
  },
  {
   "cell_type": "code",
   "execution_count": 18,
   "id": "familiar-heaven",
   "metadata": {},
   "outputs": [],
   "source": [
    "# path\n",
    "config.path.input = os.path.join('/', 'opt', 'ml', 'input')\n",
    "config.path.base = os.path.join(config.path.input, 'data')\n",
    "config.path.train = os.path.join(config.path.base, 'train', 'all_')\n",
    "config.path.test = os.path.join(config.path.base, 'eval', 'images')\n",
    "config.path.valid = None\n",
    "\n",
    "config.path.output = os.path.join('/', 'opt', 'ml', 'output')\n",
    "config.path.models = os.path.join(config.path.output, 'models')\n",
    "config.path.archive = os.path.join(config.path.models, 'archive')\n",
    "config.path.configs = os.path.join(config.path.output, 'configs')\n",
    "config.path.logs = os.path.join(config.path.output, 'logs')\n",
    "\n",
    "config.path.pretrained = os.path.join(config.path.input, 'pretrained')"
   ]
  },
  {
   "cell_type": "code",
   "execution_count": 19,
   "id": "caring-dialogue",
   "metadata": {},
   "outputs": [],
   "source": [
    "# data\n",
    "config.data.valid_ratio = 0.2\n",
    "config.data.valid_balanced = False\n",
    "config.data.upscale = False\n",
    "config.data.train_cutmix = False\n",
    "config.data.cutmix_kernel = 256\n",
    "config.data.soften_age = False\n",
    "config.data.custom_augment = [\n",
    "    A.Rotate(limit=15, always_apply=True),\n",
    "    A.HorizontalFlip(always_apply=True),\n",
    "    A.GaussNoise(var_limit=20, always_apply=True),\n",
    "    A.ShiftScaleRotate(scale_limit=0.2, rotate_limit=15, always_apply=True)\n",
    "]\n",
    "config.data.preprocess = False\n",
    "config.data.crop_size = None\n",
    "config.data.resize = None\n",
    "config.data.sampler = None   # not implemented yet\n",
    "config.data.batch_size = 16"
   ]
  },
  {
   "cell_type": "code",
   "execution_count": 20,
   "id": "educated-chrome",
   "metadata": {},
   "outputs": [],
   "source": [
    "# hyperparameters for training\n",
    "config.train.lr = ConfigBranch(\n",
    "    base = 1e-3,\n",
    "    backbone = 0,\n",
    "    classifier = 0,\n",
    "    scheduler = False,\n",
    "    scheduler_kwarg = ConfigBranch(),\n",
    "    few = 3,\n",
    "    divider = 10,\n",
    "    low_limit = 1e-8,\n",
    ")\n",
    "config.train.weight_decay = 1e-4\n",
    "config.train.betas = (0.9, 0.999)\n",
    "config.train.momentum = 0.9\n",
    "config.train.nesterov = False\n",
    "config.train.loss = ConfigBranch(\n",
    "    criterion = 'CrossEntropyLoss',\n",
    "#     criterion = FocalLoss(),\n",
    ")\n",
    "config.train.optimizer = ConfigBranch(\n",
    "    name = 'AdamP',\n",
    "    separate = False,\n",
    ")"
   ]
  },
  {
   "cell_type": "code",
   "execution_count": 21,
   "id": "communist-understanding",
   "metadata": {},
   "outputs": [],
   "source": [
    "# monitor settings\n",
    "config.train.num_epochs = 10\n",
    "config.train.valid_iters = 0\n",
    "\n",
    "config.train.valid_min = 1\n",
    "config.train.test_min = 1\n",
    "config.train.save_min = 1\n",
    "\n",
    "config.train.valid_period = 1\n",
    "config.train.test_period = 0\n",
    "config.train.save_period = 1\n",
    "config.train.shuffle_period = 0\n",
    "config.train.plot_period = 5\n",
    "\n",
    "config.train.valid_min_acc = 0\n",
    "config.train.test_min_acc = 1\n",
    "config.train.save_min_acc = 0\n",
    "config.train.plot_min_acc = 0\n",
    "\n",
    "config.train.logger = CSVLogger()"
   ]
  },
  {
   "cell_type": "code",
   "execution_count": 22,
   "id": "funky-russell",
   "metadata": {},
   "outputs": [],
   "source": [
    "# model\n",
    "config.model = ConfigBranch(\n",
    "    model = torchvision.models.resnet18(False),\n",
    "    teacher = None,\n",
    "    classifying = 'all',\n",
    "    state_path = ''\n",
    ")\n",
    "setattr(config.model.model, 'name', 'dummy_model')"
   ]
  },
  {
   "cell_type": "markdown",
   "id": "worse-wisconsin",
   "metadata": {},
   "source": [
    "# Trainers"
   ]
  },
  {
   "cell_type": "code",
   "execution_count": 24,
   "id": "nonprofit-public",
   "metadata": {},
   "outputs": [],
   "source": [
    "trainer = Trainer(config)"
   ]
  },
  {
   "cell_type": "markdown",
   "id": "attached-detail",
   "metadata": {},
   "source": [
    "# Models + Training"
   ]
  },
  {
   "cell_type": "code",
   "execution_count": 30,
   "id": "accurate-kuwait",
   "metadata": {
    "tags": []
   },
   "outputs": [],
   "source": [
    "'''[STRATIFIED FOLD #0 였던 것] effnet-b3-multi (smaller)(CE)(AdamP)\n",
    ">>> CHECKPOINTS\n",
    "[lowest loss]()<- \"\"\n",
    "[best f1 score]()<- \"\"\n",
    "(epoch 1)\n",
    " /opt/ml/output/models/2021-04-08-09_20_14.317066_effnet-b3-multi+smaller+ce+adamp_0_upscaled.pth\n",
    "\n",
    "'''\n",
    "\n",
    "fold_idx = 0\n",
    "\n",
    "\n",
    "effnet_b3_multi = timm.models.efficientnet_b3(True)\n",
    "effnet_b3_multi.classifier = MultiheadClassifier(\n",
    "    in_features=effnet_b3_multi.classifier.in_features, \n",
    "    out_features=18\n",
    ")\n",
    "setattr(effnet_b3_multi, \"name\", f\"effnet-b3-multi+smaller+ce+adamp_{fold_idx}\")\n",
    "effnet_b3_multi_logger = CSVLogger()"
   ]
  },
  {
   "cell_type": "code",
   "execution_count": null,
   "id": "proper-grass",
   "metadata": {},
   "outputs": [],
   "source": []
  },
  {
   "cell_type": "code",
   "execution_count": null,
   "id": "fancy-syndication",
   "metadata": {},
   "outputs": [],
   "source": [
    "'''[STRATIFIED FOLD #0] effnet-b0 (smaller)(CE)(AdamP)\n",
    ">>> CHECKPOINTS\n",
    "[lowest loss]()<- \"\"\n",
    "[best f1 score]()<- \"\"\n",
    "(epoch 1)\n",
    " /opt/ml/output/models/2021-04-08-09_20_14.317066_effnet-b3-multi+smaller+ce+adamp_0_upscaled.pth\n",
    "\n",
    "'''\n",
    "\n",
    "fold_idx = 0\n",
    "\n",
    "effnet_b3_mul = timm.models.efficientnet_b3(True)\n",
    "effnet_b3_multi.classifier = MultiheadClassifier(\n",
    "    in_features=effnet_b3_multi.classifier.in_features, \n",
    "    out_features=18\n",
    ")\n",
    "setattr(effnet_b3_multi, \"name\", f\"effnet-b0+smaller+ce+adamp_{fold_idx}\")\n",
    "effnet_b3_multi_logger = CSVLogger()"
   ]
  },
  {
   "cell_type": "code",
   "execution_count": null,
   "id": "british-tribune",
   "metadata": {},
   "outputs": [],
   "source": []
  },
  {
   "cell_type": "code",
   "execution_count": null,
   "id": "ceramic-theology",
   "metadata": {},
   "outputs": [],
   "source": []
  },
  {
   "cell_type": "code",
   "execution_count": 31,
   "id": "split-working",
   "metadata": {
    "tags": []
   },
   "outputs": [
    {
     "name": "stdout",
     "output_type": "stream",
     "text": [
      "Loaded state dict to model.\n",
      "[Valid 001]  Loss: 0.06642,  Acc: 97.623,  F1 Score: 0.97033\n",
      "effnet-b3-multi+smaller+ce+adamp_0: End of evaluation (01:59)\n",
      "Saved result: /opt/ml/output/effnet-b3-multi+smaller+ce+adamp_0_2021-04-08-09_54_52.937448.csv\n"
     ]
    },
    {
     "data": {
      "text/plain": [
       "'/opt/ml/output/effnet-b3-multi+smaller+ce+adamp_0_2021-04-08-09_54_52.937448.csv'"
      ]
     },
     "execution_count": 31,
     "metadata": {},
     "output_type": "execute_result"
    }
   ],
   "source": [
    "branch = ConfigBranch(\n",
    "    train_path = f'/opt/ml/input/data/train/smaller_',\n",
    "    valid_path = None,\n",
    "    model = effnet_b3_multi,\n",
    "    logger = effnet_b3_multi_logger,\n",
    "    classifying = 'all', \n",
    "    upscale = True,\n",
    "    cutmix = False,\n",
    "    criterion = 'CrossEntropyLoss',\n",
    "    optimizer = 'AdamP',\n",
    "    lr = 1e-3,\n",
    "    state_path = '/opt/ml/output/models/2021-04-08-09_20_14.317066_effnet-b3-multi+smaller+ce+adamp_0_upscaled.pth',\n",
    ")\n",
    "\n",
    "config.path.train = branch.train_path\n",
    "config.path.valid = branch.valid_path\n",
    "config.model.model = branch.model\n",
    "config.train.logger = branch.logger\n",
    "config.model.classifying = branch.classifying\n",
    "config.data.upscale = branch.upscale\n",
    "config.data.train_cutmix = branch.cutmix\n",
    "config.train.optimizer.name = branch.optimizer\n",
    "config.train.lr.base = branch.lr\n",
    "config.train.weight_decay = 1e-4\n",
    "config.train.loss.criterion = branch.criterion\n",
    "config.model.state_path = branch.state_path\n",
    "\n",
    "try:\n",
    "    trainer().load_state_dict_to_model()\n",
    "except KeyError:\n",
    "    trainer().model.load_state_dict(load_and_fix_state_dict(config.model.state_path))\n",
    "\n",
    "# trainer.train_and_save()\n",
    "trainer.valid()\n",
    "trainer.infer_and_save_csv()"
   ]
  },
  {
   "cell_type": "code",
   "execution_count": 25,
   "id": "retired-fighter",
   "metadata": {},
   "outputs": [],
   "source": [
    "'''effnet-b3-age (smaller)(ArcFace)(AdamP)\n",
    ">>> CHECKPOINTS\n",
    "[lowest loss]()<- \"\"\n",
    "[best f1 score]()<- \"\"\n",
    "(1 epoch)\n",
    "/opt/ml/output/models/2021-04-08-09_41_48.519864_effnet-b4-age+smaller+ce+adamp_.pth\n",
    "'''\n",
    "\n",
    "effnet_b4_age = EfficientNet.from_pretrained('efficientnet-b3')\n",
    "effnet_b4_age._fc = nn.Linear(effnet_b4_age._fc.in_features, 3)\n",
    "setattr(effnet_b4_age, \"name\", \"effnet-b4-age+smaller+ce+adamp\")\n",
    "effnet_b4_age_logger = CSVLogger()"
   ]
  },
  {
   "cell_type": "code",
   "execution_count": null,
   "id": "consecutive-residence",
   "metadata": {},
   "outputs": [
    {
     "name": "stdout",
     "output_type": "stream",
     "text": [
      "[INFO]\n",
      "model=effnet-b4-age+smaller+ce+adamp\n",
      "device=cuda:0(Tesla P40)\n",
      "data size=(12959 + 3239), batch size=16\n",
      "optimizer.name=AdamP\n",
      "epochs=10, lr=0.001, weight_decay=0.0001, betas=(0.9, 0.999)\n",
      "\n",
      "Start of traning.\n",
      "[Epoch 002]  Loss: 3.74217,  Acc: 93.132,  F1 Score: 0.78218  (11:23)\n",
      "[Valid 002] (Batch #077)  Loss: 5.69441,  Acc: 88.6220"
     ]
    }
   ],
   "source": [
    "branch = ConfigBranch(\n",
    "    train_path = f'/opt/ml/input/data/train/smaller_',\n",
    "    valid_path = None,\n",
    "    model = effnet_b4_age,\n",
    "    logger = effnet_b4_age_logger,\n",
    "    classifying = 'age', \n",
    "    upscale = False,\n",
    "    cutmix = False,\n",
    "    criterion = 'ArcFaceLoss',\n",
    "    optimizer = 'AdamP',\n",
    "    lr = 1e-3,\n",
    "    state_path = '',\n",
    ")\n",
    "\n",
    "config.path.train = branch.train_path\n",
    "config.path.valid = branch.valid_path\n",
    "config.model.model = branch.model\n",
    "config.train.logger = branch.logger\n",
    "config.model.classifying = branch.classifying\n",
    "config.data.upscale = branch.upscale\n",
    "config.data.train_cutmix = branch.cutmix\n",
    "config.train.optimizer.name = branch.optimizer\n",
    "config.train.lr.base = branch.lr\n",
    "config.train.weight_decay = 1e-4\n",
    "config.train.loss.criterion = branch.criterion\n",
    "config.model.state_path = branch.state_path\n",
    "\n",
    "try:\n",
    "    trainer().load_state_dict_to_model()\n",
    "except KeyError:\n",
    "    trainer().model.load_state_dict(load_and_fix_state_dict(config.model.state_path))\n",
    "\n",
    "trainer.train_and_save()\n",
    "# trainer.valid()\n",
    "# trainer.infer_and_save_csv()"
   ]
  },
  {
   "cell_type": "code",
   "execution_count": null,
   "id": "final-living",
   "metadata": {},
   "outputs": [],
   "source": [
    "'''effnet-b3-age-soften (smaller)(ArcFace)(AdamP)\n",
    ">>> CHECKPOINTS\n",
    "[lowest loss]()<- \"\"\n",
    "[best f1 score]()<- \"\"\n",
    "'''\n",
    "\n",
    "effnet_b3_age_s = EfficientNet.from_pretrained('efficientnet-b3')\n",
    "effnet_b3_age_s._fc = nn.Linear(effnet_b3_age_s._fc.in_features, 3)\n",
    "setattr(effnet_b3_age_s, \"name\", \"effnet-b3-age-soft+smaller+ce+adamp\")\n",
    "effnet_b3_age_s_logger = CSVLogger()\n",
    "\n",
    "branch = ConfigBranch(\n",
    "    train_path = f'/opt/ml/input/data/train/smaller_',\n",
    "    valid_path = None,\n",
    "    model = effnet_b3_age_s,\n",
    "    logger = effnet_b3_age_s_logger,\n",
    "    classifying = 'age', \n",
    "    soften_age = True,\n",
    "    upscale = False,\n",
    "    cutmix = False,\n",
    "    criterion = 'ArcFaceLoss',\n",
    "    optimizer = 'AdamP',\n",
    "    lr = 1e-3,\n",
    "    state_path = '',\n",
    ")\n",
    "\n",
    "config.path.train = branch.train_path\n",
    "config.path.valid = branch.valid_path\n",
    "config.model.model = branch.model\n",
    "config.train.logger = branch.logger\n",
    "config.model.classifying = branch.classifying\n",
    "config.data.upscale = branch.upscale\n",
    "config.data.train_cutmix = branch.cutmix\n",
    "config.data.soften_age = branch.soften_age\n",
    "config.train.optimizer.name = branch.optimizer\n",
    "config.train.lr.base = branch.lr\n",
    "config.train.weight_decay = 1e-4\n",
    "config.train.loss.criterion = branch.criterion\n",
    "config.model.state_path = branch.state_path\n",
    "\n",
    "try:\n",
    "    trainer().load_state_dict_to_model()\n",
    "except KeyError:\n",
    "    trainer().model.load_state_dict(load_and_fix_state_dict(config.model.state_path))\n",
    "\n",
    "trainer.train_and_save()\n",
    "# trainer.valid()\n",
    "# trainer.infer_and_save_csv()"
   ]
  },
  {
   "cell_type": "code",
   "execution_count": 25,
   "id": "furnished-moses",
   "metadata": {
    "collapsed": true,
    "jupyter": {
     "outputs_hidden": true
    },
    "tags": []
   },
   "outputs": [
    {
     "name": "stdout",
     "output_type": "stream",
     "text": [
      "[INFO]\n",
      "model=effnet-b0-multi_student_+smaller+ce+adamp_0\n",
      "device=cuda:0(Tesla P40)\n",
      "data size=(12166 + 4032), batch size=16\n",
      "optimizer.name=AdamP\n",
      "epochs=10, lr=0.001, weight_decay=0.0001, betas=(0.9, 0.999)\n",
      "\n",
      "Start of traning.\n",
      "[Epoch 001]  Loss: 45.81765,  Acc: 79.385,  F1 Score: 0.46161  (10:37)\n",
      "[Valid 001]  "
     ]
    },
    {
     "ename": "TypeError",
     "evalue": "forward() missing 1 required positional argument: 'targets'",
     "output_type": "error",
     "traceback": [
      "\u001b[0;31m---------------------------------------------------------------------------\u001b[0m",
      "\u001b[0;31mTypeError\u001b[0m                                 Traceback (most recent call last)",
      "\u001b[0;32m<ipython-input-25-20a92d9c1b5f>\u001b[0m in \u001b[0;36m<module>\u001b[0;34m\u001b[0m\n\u001b[1;32m     46\u001b[0m     \u001b[0mtrainer\u001b[0m\u001b[0;34m(\u001b[0m\u001b[0;34m)\u001b[0m\u001b[0;34m.\u001b[0m\u001b[0mmodel\u001b[0m\u001b[0;34m.\u001b[0m\u001b[0mload_state_dict\u001b[0m\u001b[0;34m(\u001b[0m\u001b[0mload_and_fix_state_dict\u001b[0m\u001b[0;34m(\u001b[0m\u001b[0mconfig\u001b[0m\u001b[0;34m.\u001b[0m\u001b[0mmodel\u001b[0m\u001b[0;34m.\u001b[0m\u001b[0mstate_path\u001b[0m\u001b[0;34m)\u001b[0m\u001b[0;34m)\u001b[0m\u001b[0;34m\u001b[0m\u001b[0;34m\u001b[0m\u001b[0m\n\u001b[1;32m     47\u001b[0m \u001b[0;34m\u001b[0m\u001b[0m\n\u001b[0;32m---> 48\u001b[0;31m \u001b[0mtrainer\u001b[0m\u001b[0;34m.\u001b[0m\u001b[0mtrain_and_save\u001b[0m\u001b[0;34m(\u001b[0m\u001b[0;34m)\u001b[0m\u001b[0;34m\u001b[0m\u001b[0;34m\u001b[0m\u001b[0m\n\u001b[0m\u001b[1;32m     49\u001b[0m \u001b[0;31m# trainer.valid()\u001b[0m\u001b[0;34m\u001b[0m\u001b[0;34m\u001b[0m\u001b[0;34m\u001b[0m\u001b[0m\n\u001b[1;32m     50\u001b[0m \u001b[0;31m# trainer.infer_and_save_csv()\u001b[0m\u001b[0;34m\u001b[0m\u001b[0;34m\u001b[0m\u001b[0;34m\u001b[0m\u001b[0m\n",
      "\u001b[0;32m~/code/stage1/stage1/trainer/trainer.py\u001b[0m in \u001b[0;36mtrain_and_save\u001b[0;34m(self)\u001b[0m\n\u001b[1;32m    693\u001b[0m             \u001b[0;32mand\u001b[0m \u001b[0mself\u001b[0m\u001b[0;34m.\u001b[0m\u001b[0mepochs\u001b[0m \u001b[0;34m>=\u001b[0m \u001b[0mself\u001b[0m\u001b[0;34m.\u001b[0m\u001b[0mconfig\u001b[0m\u001b[0;34m.\u001b[0m\u001b[0mtrain\u001b[0m\u001b[0;34m.\u001b[0m\u001b[0mvalid_min\u001b[0m\u001b[0;31m \u001b[0m\u001b[0;31m\\\u001b[0m\u001b[0;34m\u001b[0m\u001b[0;34m\u001b[0m\u001b[0m\n\u001b[1;32m    694\u001b[0m             \u001b[0;32mand\u001b[0m \u001b[0mself\u001b[0m\u001b[0;34m.\u001b[0m\u001b[0mepochs\u001b[0m \u001b[0;34m%\u001b[0m \u001b[0mself\u001b[0m\u001b[0;34m.\u001b[0m\u001b[0mconfig\u001b[0m\u001b[0;34m.\u001b[0m\u001b[0mtrain\u001b[0m\u001b[0;34m.\u001b[0m\u001b[0mvalid_period\u001b[0m \u001b[0;34m==\u001b[0m \u001b[0;36m0\u001b[0m\u001b[0;34m:\u001b[0m\u001b[0;34m\u001b[0m\u001b[0;34m\u001b[0m\u001b[0m\n\u001b[0;32m--> 695\u001b[0;31m                 \u001b[0mlast_valid_loss\u001b[0m\u001b[0;34m,\u001b[0m \u001b[0mlast_valid_acc\u001b[0m \u001b[0;34m=\u001b[0m \u001b[0mself\u001b[0m\u001b[0;34m.\u001b[0m\u001b[0mvalid\u001b[0m\u001b[0;34m(\u001b[0m\u001b[0;34m)\u001b[0m\u001b[0;34m\u001b[0m\u001b[0;34m\u001b[0m\u001b[0m\n\u001b[0m\u001b[1;32m    696\u001b[0m                 \u001b[0mvalided\u001b[0m \u001b[0;34m=\u001b[0m \u001b[0;32mTrue\u001b[0m\u001b[0;34m\u001b[0m\u001b[0;34m\u001b[0m\u001b[0m\n\u001b[1;32m    697\u001b[0m \u001b[0;34m\u001b[0m\u001b[0m\n",
      "\u001b[0;32m~/code/stage1/stage1/trainer/trainer.py\u001b[0m in \u001b[0;36mvalid\u001b[0;34m(self, log)\u001b[0m\n\u001b[1;32m    858\u001b[0m \u001b[0;34m\u001b[0m\u001b[0m\n\u001b[1;32m    859\u001b[0m                 \u001b[0moutputs\u001b[0m \u001b[0;34m=\u001b[0m \u001b[0mself\u001b[0m\u001b[0;34m.\u001b[0m\u001b[0mmodel\u001b[0m\u001b[0;34m(\u001b[0m\u001b[0minputs\u001b[0m\u001b[0;34m)\u001b[0m\u001b[0;34m\u001b[0m\u001b[0;34m\u001b[0m\u001b[0m\n\u001b[0;32m--> 860\u001b[0;31m                 \u001b[0mloss\u001b[0m \u001b[0;34m=\u001b[0m \u001b[0mself\u001b[0m\u001b[0;34m.\u001b[0m\u001b[0mcriterion\u001b[0m\u001b[0;34m(\u001b[0m\u001b[0moutputs\u001b[0m\u001b[0;34m,\u001b[0m \u001b[0mtargets\u001b[0m\u001b[0;34m)\u001b[0m\u001b[0;34m\u001b[0m\u001b[0;34m\u001b[0m\u001b[0m\n\u001b[0m\u001b[1;32m    861\u001b[0m \u001b[0;34m\u001b[0m\u001b[0m\n\u001b[1;32m    862\u001b[0m                 \u001b[0mvalid_loss\u001b[0m \u001b[0;34m+=\u001b[0m \u001b[0mloss\u001b[0m\u001b[0;34m.\u001b[0m\u001b[0mitem\u001b[0m\u001b[0;34m(\u001b[0m\u001b[0;34m)\u001b[0m\u001b[0;34m\u001b[0m\u001b[0;34m\u001b[0m\u001b[0m\n",
      "\u001b[0;32m/opt/conda/lib/python3.7/site-packages/torch/nn/modules/module.py\u001b[0m in \u001b[0;36m_call_impl\u001b[0;34m(self, *input, **kwargs)\u001b[0m\n\u001b[1;32m    720\u001b[0m             \u001b[0mresult\u001b[0m \u001b[0;34m=\u001b[0m \u001b[0mself\u001b[0m\u001b[0;34m.\u001b[0m\u001b[0m_slow_forward\u001b[0m\u001b[0;34m(\u001b[0m\u001b[0;34m*\u001b[0m\u001b[0minput\u001b[0m\u001b[0;34m,\u001b[0m \u001b[0;34m**\u001b[0m\u001b[0mkwargs\u001b[0m\u001b[0;34m)\u001b[0m\u001b[0;34m\u001b[0m\u001b[0;34m\u001b[0m\u001b[0m\n\u001b[1;32m    721\u001b[0m         \u001b[0;32melse\u001b[0m\u001b[0;34m:\u001b[0m\u001b[0;34m\u001b[0m\u001b[0;34m\u001b[0m\u001b[0m\n\u001b[0;32m--> 722\u001b[0;31m             \u001b[0mresult\u001b[0m \u001b[0;34m=\u001b[0m \u001b[0mself\u001b[0m\u001b[0;34m.\u001b[0m\u001b[0mforward\u001b[0m\u001b[0;34m(\u001b[0m\u001b[0;34m*\u001b[0m\u001b[0minput\u001b[0m\u001b[0;34m,\u001b[0m \u001b[0;34m**\u001b[0m\u001b[0mkwargs\u001b[0m\u001b[0;34m)\u001b[0m\u001b[0;34m\u001b[0m\u001b[0;34m\u001b[0m\u001b[0m\n\u001b[0m\u001b[1;32m    723\u001b[0m         for hook in itertools.chain(\n\u001b[1;32m    724\u001b[0m                 \u001b[0m_global_forward_hooks\u001b[0m\u001b[0;34m.\u001b[0m\u001b[0mvalues\u001b[0m\u001b[0;34m(\u001b[0m\u001b[0;34m)\u001b[0m\u001b[0;34m,\u001b[0m\u001b[0;34m\u001b[0m\u001b[0;34m\u001b[0m\u001b[0m\n",
      "\u001b[0;31mTypeError\u001b[0m: forward() missing 1 required positional argument: 'targets'"
     ]
    }
   ],
   "source": [
    "'''\n",
    "Student: EfficientNet-b0, cutmix_random (KDLoss)\n",
    "'''\n",
    "\n",
    "effnet_b0_student = timm.models.efficientnet_b0(True)\n",
    "effnet_b0_student.classifier = MultiheadClassifier(\n",
    "    in_features=effnet_b0_student.classifier.in_features, \n",
    "    out_features=18\n",
    ")\n",
    "setattr(effnet_b0_student, \"name\", f\"effnet-b0-multi_student_+smaller+ce+adamp\")\n",
    "effnet_b0_student_logger = CSVLogger()\n",
    "\n",
    "branch = ConfigBranch(\n",
    "    train_path = f'/opt/ml/input/data/train/smaller_',\n",
    "    valid_path = None,\n",
    "    teacher = effnet_b3_multi,\n",
    "    model = effnet_b0_student,\n",
    "    logger = effnet_b0_student_logger,\n",
    "    classifying = 'all', \n",
    "    upscale = False,\n",
    "    cutmix = 'random',\n",
    "    criterion = KDLoss(T=2.5, alpha=0.75, num_classes=18),\n",
    "    optimizer = 'AdamP',\n",
    "    lr = 1e-3,\n",
    "    state_path = '',\n",
    ")\n",
    "\n",
    "config.path.train = branch.train_path\n",
    "config.path.valid = branch.valid_path\n",
    "config.model.model = branch.model\n",
    "config.model.teacher = branch.teacher\n",
    "config.train.logger = branch.logger\n",
    "config.model.classifying = branch.classifying\n",
    "config.data.upscale = branch.upscale\n",
    "config.data.train_cutmix = branch.cutmix\n",
    "config.train.optimizer.name = branch.optimizer\n",
    "config.train.lr.base = branch.lr\n",
    "config.train.weight_decay = 1e-4\n",
    "config.train.loss.criterion = branch.criterion\n",
    "config.model.state_path = branch.state_path\n",
    "\n",
    "\n",
    "try:\n",
    "    trainer().load_state_dict_to_model()\n",
    "except KeyError:\n",
    "    trainer().model.load_state_dict(load_and_fix_state_dict(config.model.state_path))\n",
    "\n",
    "trainer.train_and_save()\n",
    "# trainer.valid()\n",
    "# trainer.infer_and_save_csv()"
   ]
  },
  {
   "cell_type": "markdown",
   "id": "tribal-intermediate",
   "metadata": {},
   "source": [
    "## Single model TTA inference"
   ]
  },
  {
   "cell_type": "code",
   "execution_count": null,
   "id": "velvet-second",
   "metadata": {},
   "outputs": [],
   "source": [
    "branch = ConfigBranch(\n",
    "    model = effnet_b3_2da_age,\n",
    "    classifying = 'age',\n",
    "    state_path = '/opt/ml/output/models/2021-04-06 02:22:12.233049_effnet_b3_2d_age_upscaled.pth'\n",
    ")      \n",
    "\n",
    "config.model.model = branch.model\n",
    "config.model.classifying = branch.classifying\n",
    "config.model.state_path = branch.state_path\n",
    "trainer().load_state_dict_to_model()\n",
    "predictions = trainer.infer_with_simple_tta()\n",
    "\n",
    "predictions.head()"
   ]
  },
  {
   "cell_type": "code",
   "execution_count": null,
   "id": "attended-signature",
   "metadata": {},
   "outputs": [],
   "source": [
    "csv_name = f\"effnet-b3-2da-age-upscaled-tta__{filename_from_datetime(datetime.today().time())}.csv\"\n",
    "csv_path = os.path.join(config.path.output, csv_name)\n",
    "\n",
    "predictions.to_csv(csv_path)\n",
    "print(f\"Saved result: {csv_path}\")"
   ]
  },
  {
   "cell_type": "markdown",
   "id": "outstanding-lithuania",
   "metadata": {},
   "source": [
    "# Ensemble"
   ]
  },
  {
   "cell_type": "markdown",
   "id": "retired-quilt",
   "metadata": {},
   "source": [
    "## Single criterion revision"
   ]
  },
  {
   "cell_type": "code",
   "execution_count": 27,
   "id": "leading-opinion",
   "metadata": {},
   "outputs": [],
   "source": [
    "label_csv = '/opt/ml/output/effnet-b0-multi-raw+ce(as)+adamp_2021-04-07-21_21_25.613439.csv'\n",
    "\n",
    "age_csv = '/opt/ml/output/effnet-b0-1a-age-soft+raw+ce+adamp_2021-04-08-01_08_05.839885.csv'\n",
    "gender_csv = ''\n",
    "mask_csv = ''"
   ]
  },
  {
   "cell_type": "code",
   "execution_count": 28,
   "id": "criminal-structure",
   "metadata": {
    "tags": []
   },
   "outputs": [],
   "source": [
    "if label_csv:\n",
    "    labels = pd.read_csv(label_csv, index_col='ImageID')\n",
    "elif not (age_csv and gender_csv and mask_csv):\n",
    "    raise ValueError\n",
    "\n",
    "if age_csv:\n",
    "    ages = pd.read_csv(age_csv, index_col='ImageID')\n",
    "else:\n",
    "    ages = pd.DataFrame(data={'ans': labels.ans.map(data.age_from_label)}, index=labels.index)\n",
    "    \n",
    "if gender_csv:\n",
    "    genders = pd.read_csv(gender_csv, index_col='ImageID')\n",
    "else:\n",
    "    genders = pd.DataFrame(data={'ans': labels.ans.map(data.gender_from_label)}, index=labels.index)\n",
    "    \n",
    "if mask_csv: \n",
    "    masks = pd.read_csv(mask_csv, index_col='ImageID')\n",
    "else:\n",
    "    masks = pd.DataFrame(data={'ans': labels.ans.map(data.mask_from_label)}, index=labels.index)\n",
    "\n",
    "info = pd.read_csv('/opt/ml/output/info.csv', index_col='ImageID')\n",
    "\n",
    "assert (labels.index == info.index).all()\n",
    "assert (ages.index == info.index).all()\n",
    "assert (genders.index == info.index).all()\n",
    "assert (masks.index == info.index).all()"
   ]
  },
  {
   "cell_type": "code",
   "execution_count": 29,
   "id": "monetary-governor",
   "metadata": {},
   "outputs": [
    {
     "data": {
      "text/html": [
       "<div>\n",
       "<style scoped>\n",
       "    .dataframe tbody tr th:only-of-type {\n",
       "        vertical-align: middle;\n",
       "    }\n",
       "\n",
       "    .dataframe tbody tr th {\n",
       "        vertical-align: top;\n",
       "    }\n",
       "\n",
       "    .dataframe thead th {\n",
       "        text-align: right;\n",
       "    }\n",
       "</style>\n",
       "<table border=\"1\" class=\"dataframe\">\n",
       "  <thead>\n",
       "    <tr style=\"text-align: right;\">\n",
       "      <th></th>\n",
       "      <th>ans</th>\n",
       "    </tr>\n",
       "    <tr>\n",
       "      <th>ImageID</th>\n",
       "      <th></th>\n",
       "    </tr>\n",
       "  </thead>\n",
       "  <tbody>\n",
       "    <tr>\n",
       "      <th>cbc5c6e168e63498590db46022617123f1fe1268.jpg</th>\n",
       "      <td>13</td>\n",
       "    </tr>\n",
       "    <tr>\n",
       "      <th>0e72482bf56b3581c081f7da2a6180b8792c7089.jpg</th>\n",
       "      <td>1</td>\n",
       "    </tr>\n",
       "    <tr>\n",
       "      <th>b549040c49190cedc41327748aeb197c1670f14d.jpg</th>\n",
       "      <td>13</td>\n",
       "    </tr>\n",
       "    <tr>\n",
       "      <th>4f9cb2a045c6d5b9e50ad3459ea7b791eb6e18bc.jpg</th>\n",
       "      <td>13</td>\n",
       "    </tr>\n",
       "    <tr>\n",
       "      <th>248428d9a4a5b6229a7081c32851b90cb8d38d0c.jpg</th>\n",
       "      <td>12</td>\n",
       "    </tr>\n",
       "  </tbody>\n",
       "</table>\n",
       "</div>"
      ],
      "text/plain": [
       "                                              ans\n",
       "ImageID                                          \n",
       "cbc5c6e168e63498590db46022617123f1fe1268.jpg   13\n",
       "0e72482bf56b3581c081f7da2a6180b8792c7089.jpg    1\n",
       "b549040c49190cedc41327748aeb197c1670f14d.jpg   13\n",
       "4f9cb2a045c6d5b9e50ad3459ea7b791eb6e18bc.jpg   13\n",
       "248428d9a4a5b6229a7081c32851b90cb8d38d0c.jpg   12"
      ]
     },
     "execution_count": 29,
     "metadata": {},
     "output_type": "execute_result"
    }
   ],
   "source": [
    "labels.head()"
   ]
  },
  {
   "cell_type": "code",
   "execution_count": 30,
   "id": "orange-scroll",
   "metadata": {},
   "outputs": [
    {
     "data": {
      "text/plain": [
       "0    5428\n",
       "2    4051\n",
       "1    3121\n",
       "Name: ans, dtype: int64"
      ]
     },
     "execution_count": 30,
     "metadata": {},
     "output_type": "execute_result"
    }
   ],
   "source": [
    "ages.ans = ages.ans.map(data.age_from_label)\n",
    "ages.ans.value_counts()"
   ]
  },
  {
   "cell_type": "code",
   "execution_count": 31,
   "id": "ethical-bulgaria",
   "metadata": {},
   "outputs": [
    {
     "data": {
      "text/html": [
       "<div>\n",
       "<style scoped>\n",
       "    .dataframe tbody tr th:only-of-type {\n",
       "        vertical-align: middle;\n",
       "    }\n",
       "\n",
       "    .dataframe tbody tr th {\n",
       "        vertical-align: top;\n",
       "    }\n",
       "\n",
       "    .dataframe thead th {\n",
       "        text-align: right;\n",
       "    }\n",
       "</style>\n",
       "<table border=\"1\" class=\"dataframe\">\n",
       "  <thead>\n",
       "    <tr style=\"text-align: right;\">\n",
       "      <th></th>\n",
       "      <th>ans</th>\n",
       "    </tr>\n",
       "    <tr>\n",
       "      <th>ImageID</th>\n",
       "      <th></th>\n",
       "    </tr>\n",
       "  </thead>\n",
       "  <tbody>\n",
       "    <tr>\n",
       "      <th>cbc5c6e168e63498590db46022617123f1fe1268.jpg</th>\n",
       "      <td>14</td>\n",
       "    </tr>\n",
       "    <tr>\n",
       "      <th>0e72482bf56b3581c081f7da2a6180b8792c7089.jpg</th>\n",
       "      <td>2</td>\n",
       "    </tr>\n",
       "    <tr>\n",
       "      <th>b549040c49190cedc41327748aeb197c1670f14d.jpg</th>\n",
       "      <td>14</td>\n",
       "    </tr>\n",
       "    <tr>\n",
       "      <th>4f9cb2a045c6d5b9e50ad3459ea7b791eb6e18bc.jpg</th>\n",
       "      <td>13</td>\n",
       "    </tr>\n",
       "    <tr>\n",
       "      <th>248428d9a4a5b6229a7081c32851b90cb8d38d0c.jpg</th>\n",
       "      <td>12</td>\n",
       "    </tr>\n",
       "  </tbody>\n",
       "</table>\n",
       "</div>"
      ],
      "text/plain": [
       "                                              ans\n",
       "ImageID                                          \n",
       "cbc5c6e168e63498590db46022617123f1fe1268.jpg   14\n",
       "0e72482bf56b3581c081f7da2a6180b8792c7089.jpg    2\n",
       "b549040c49190cedc41327748aeb197c1670f14d.jpg   14\n",
       "4f9cb2a045c6d5b9e50ad3459ea7b791eb6e18bc.jpg   13\n",
       "248428d9a4a5b6229a7081c32851b90cb8d38d0c.jpg   12"
      ]
     },
     "execution_count": 31,
     "metadata": {},
     "output_type": "execute_result"
    }
   ],
   "source": [
    "new_labels = pd.DataFrame(\n",
    "    data={'ans': data.labels(ages.ans, genders.ans, masks.ans)},\n",
    "    index=labels.index\n",
    ")\n",
    "new_labels.head()"
   ]
  },
  {
   "cell_type": "code",
   "execution_count": 32,
   "id": "jewish-turning",
   "metadata": {},
   "outputs": [
    {
     "data": {
      "text/plain": [
       "ans    2719\n",
       "dtype: int64"
      ]
     },
     "execution_count": 32,
     "metadata": {},
     "output_type": "execute_result"
    }
   ],
   "source": [
    "(new_labels - labels).sum()"
   ]
  },
  {
   "cell_type": "code",
   "execution_count": 34,
   "id": "complimentary-ukraine",
   "metadata": {},
   "outputs": [
    {
     "name": "stdout",
     "output_type": "stream",
     "text": [
      "Saved result: /opt/ml/output/[age]effnet-b0-1a-age-soften+[gender][mask]effnet-b0-multi-all-raw__01_09_45.404480.csv\n"
     ]
    }
   ],
   "source": [
    "prefix = \"[age]effnet-b0-1a-age-soften+[gender][mask]effnet-b0-multi-all-raw\"\n",
    "\n",
    "csv_name = f\"{prefix}__{filename_from_datetime(datetime.today().time())}.csv\"\n",
    "csv_path = os.path.join(config.path.output, csv_name)\n",
    "\n",
    "new_labels.to_csv(csv_path)\n",
    "\n",
    "print(f\"Saved result: {csv_path}\")"
   ]
  },
  {
   "cell_type": "markdown",
   "id": "spanish-marathon",
   "metadata": {},
   "source": [
    "## Ensemble of n(x/w)"
   ]
  },
  {
   "cell_type": "code",
   "execution_count": null,
   "id": "difficult-mongolia",
   "metadata": {},
   "outputs": [],
   "source": [
    "models = [\n",
    "    (),\n",
    "]\n",
    "\n",
    "for model, state_path, _ in models:\n",
    "    model.load_state_dict(torch.load(state_path, map_location=config.system.device))\n",
    "\n",
    "print(\"<All keys have been matched.>\")"
   ]
  },
  {
   "cell_type": "code",
   "execution_count": null,
   "id": "lesser-alexander",
   "metadata": {},
   "outputs": [],
   "source": [
    "ensemble_and_infer_test(trainer, models, weighted=False)"
   ]
  },
  {
   "cell_type": "markdown",
   "id": "registered-marker",
   "metadata": {},
   "source": [
    "## Just to save each inference to csv"
   ]
  },
  {
   "cell_type": "code",
   "execution_count": null,
   "id": "ecological-proxy",
   "metadata": {
    "tags": []
   },
   "outputs": [],
   "source": [
    "for model, _, classifying in models:\n",
    "    print(f\"{branch.model.name}\", end=\"\")\n",
    "    config.model.model = model\n",
    "    config.model.classifying = classifying\n",
    "    trainer().infer_and_save_csv()"
   ]
  },
  {
   "cell_type": "markdown",
   "id": "satisfactory-rebound",
   "metadata": {},
   "source": [
    "# Result check and visualization"
   ]
  },
  {
   "cell_type": "code",
   "execution_count": 28,
   "id": "periodic-binding",
   "metadata": {},
   "outputs": [
    {
     "data": {
      "text/html": [
       "<div>\n",
       "<style scoped>\n",
       "    .dataframe tbody tr th:only-of-type {\n",
       "        vertical-align: middle;\n",
       "    }\n",
       "\n",
       "    .dataframe tbody tr th {\n",
       "        vertical-align: top;\n",
       "    }\n",
       "\n",
       "    .dataframe thead th {\n",
       "        text-align: right;\n",
       "    }\n",
       "</style>\n",
       "<table border=\"1\" class=\"dataframe\">\n",
       "  <thead>\n",
       "    <tr style=\"text-align: right;\">\n",
       "      <th></th>\n",
       "      <th>ImageID</th>\n",
       "      <th>ans</th>\n",
       "    </tr>\n",
       "  </thead>\n",
       "  <tbody>\n",
       "    <tr>\n",
       "      <th>0</th>\n",
       "      <td>cbc5c6e168e63498590db46022617123f1fe1268.jpg</td>\n",
       "      <td>14</td>\n",
       "    </tr>\n",
       "    <tr>\n",
       "      <th>1</th>\n",
       "      <td>0e72482bf56b3581c081f7da2a6180b8792c7089.jpg</td>\n",
       "      <td>2</td>\n",
       "    </tr>\n",
       "    <tr>\n",
       "      <th>2</th>\n",
       "      <td>b549040c49190cedc41327748aeb197c1670f14d.jpg</td>\n",
       "      <td>14</td>\n",
       "    </tr>\n",
       "    <tr>\n",
       "      <th>3</th>\n",
       "      <td>4f9cb2a045c6d5b9e50ad3459ea7b791eb6e18bc.jpg</td>\n",
       "      <td>14</td>\n",
       "    </tr>\n",
       "    <tr>\n",
       "      <th>4</th>\n",
       "      <td>248428d9a4a5b6229a7081c32851b90cb8d38d0c.jpg</td>\n",
       "      <td>12</td>\n",
       "    </tr>\n",
       "  </tbody>\n",
       "</table>\n",
       "</div>"
      ],
      "text/plain": [
       "                                        ImageID  ans\n",
       "0  cbc5c6e168e63498590db46022617123f1fe1268.jpg   14\n",
       "1  0e72482bf56b3581c081f7da2a6180b8792c7089.jpg    2\n",
       "2  b549040c49190cedc41327748aeb197c1670f14d.jpg   14\n",
       "3  4f9cb2a045c6d5b9e50ad3459ea7b791eb6e18bc.jpg   14\n",
       "4  248428d9a4a5b6229a7081c32851b90cb8d38d0c.jpg   12"
      ]
     },
     "execution_count": 28,
     "metadata": {},
     "output_type": "execute_result"
    }
   ],
   "source": [
    "pd.read_csv('/opt/ml/output/archive/effnet-b0-1a-smaller-raw_2021-04-07 19_24_27.092316.csv').head()"
   ]
  },
  {
   "cell_type": "code",
   "execution_count": null,
   "id": "light-guard",
   "metadata": {},
   "outputs": [],
   "source": [
    "test_size = len(ages)\n",
    "num_samples = 100\n",
    "\n",
    "fig, axes = plt.subplots(\n",
    "    num_samples // 5, 5, \n",
    "    figsize=(10, 5 * num_samples // 8)\n",
    ")\n",
    "\n",
    "for i, idx in enumerate(np.random.randint(0, test_size, num_samples)):\n",
    "    filename = ages.index[idx]\n",
    "    prediction = ages.iloc[idx].ans\n",
    "    label = labels.loc[filename].ans\n",
    "    \n",
    "    filepath = os.path.join(config.path.test, filename)\n",
    "    image = cv2.imread(filepath)\n",
    "    image = cv2.cvtColor(image, cv2.COLOR_BGR2RGB)\n",
    "    image = image / 255.\n",
    "    \n",
    "        \n",
    "    if prediction % 3 == 0:\n",
    "        age = 'under 30'\n",
    "    elif prediction % 3 == 1:\n",
    "        age = '30 to 60'\n",
    "    else:\n",
    "        age = '60 or more'\n",
    "        \n",
    "    if label % 3 == 0:\n",
    "        age_l = 'under 30'\n",
    "    elif prediction % 3 == 1:\n",
    "        age_l = '30 to 60'\n",
    "    else:\n",
    "        age_l = '60 or more'\n",
    "    \n",
    "    r, c = divmod(i, 5)\n",
    "    axes[r, c].imshow(image)\n",
    "    axes[r, c].set_title(f\"{age_l} -> {age}\", fontsize=12)\n",
    "    axes[r, c].axis('off')\n",
    "    \n",
    "plt.tight_layout()\n",
    "plt.show()"
   ]
  },
  {
   "cell_type": "code",
   "execution_count": null,
   "id": "protected-gauge",
   "metadata": {
    "tags": []
   },
   "outputs": [],
   "source": [
    "predictions = labels\n",
    "\n",
    "test_size = len(predictions)\n",
    "num_samples = 100\n",
    "\n",
    "fig, axes = plt.subplots(\n",
    "    num_samples // 5, 5, \n",
    "    figsize=(10, 5 * num_samples // 7)\n",
    ")\n",
    "\n",
    "for i, idx in enumerate(np.random.randint(0, test_size, num_samples)):\n",
    "    filename = predictions.index[idx]\n",
    "    prediction = predictions.iloc[idx].ans\n",
    "    filepath = os.path.join(config.path.test, filename)\n",
    "    image = cv2.imread(filepath)\n",
    "    image = cv2.cvtColor(image, cv2.COLOR_BGR2RGB)\n",
    "    image = image / 255.\n",
    "    \n",
    "    if prediction // 6 == 0:\n",
    "        mask = 'correct'\n",
    "    elif prediction // 6 == 1:\n",
    "        mask = 'incorrect'\n",
    "    elif prediction // 6 == 2:\n",
    "        mask = 'not wear'\n",
    "    else:\n",
    "        raise \"?\"\n",
    "    \n",
    "    if (prediction // 3) % 2 == 0:\n",
    "        gender = 'male'\n",
    "    else:\n",
    "        gender = 'female'\n",
    "        \n",
    "    if prediction % 3 == 0:\n",
    "        age = 'under 30'\n",
    "    elif prediction % 3 == 1:\n",
    "        age = '30 to 60'\n",
    "    else:\n",
    "        age = '60 or more'\n",
    "    \n",
    "    r, c = divmod(i, 5)\n",
    "    axes[r, c].imshow(image)\n",
    "    axes[r, c].set_title(f\"{mask}\\n{gender}\\n{age}\", fontsize=12)\n",
    "    axes[r, c].axis('off')\n",
    "    \n",
    "plt.tight_layout()\n",
    "plt.show()"
   ]
  },
  {
   "cell_type": "markdown",
   "id": "direct-thompson",
   "metadata": {},
   "source": [
    "# Augmentation check"
   ]
  },
  {
   "cell_type": "code",
   "execution_count": 48,
   "id": "advanced-exchange",
   "metadata": {},
   "outputs": [],
   "source": [
    "if config.data.upscale:\n",
    "    train_set = trainer.train_loader.dataset\n",
    "    num_samples = 10\n",
    "    sample_indices = np.random.randint(0, len(train_set), num_samples)\n",
    "    fig, axes = plt.subplots(num_samples // 5, 5, figsize=(10, 5))\n",
    "    for i, idx in enumerate(sample_indices):\n",
    "        image = train_set[idx][0].permute(1, 2, 0).numpy()\n",
    "        subfig = axes[divmod(i, 5)]\n",
    "        subfig.axis('off')\n",
    "        subfig.imshow(image)\n",
    "\n",
    "    plt.tight_layout()\n",
    "    plt.show()"
   ]
  },
  {
   "cell_type": "code",
   "execution_count": null,
   "id": "exclusive-layout",
   "metadata": {},
   "outputs": [],
   "source": []
  }
 ],
 "metadata": {
  "kernelspec": {
   "display_name": "Python 3",
   "language": "python",
   "name": "python3"
  },
  "language_info": {
   "codemirror_mode": {
    "name": "ipython",
    "version": 3
   },
   "file_extension": ".py",
   "mimetype": "text/x-python",
   "name": "python",
   "nbconvert_exporter": "python",
   "pygments_lexer": "ipython3",
   "version": "3.7.7"
  }
 },
 "nbformat": 4,
 "nbformat_minor": 5
}