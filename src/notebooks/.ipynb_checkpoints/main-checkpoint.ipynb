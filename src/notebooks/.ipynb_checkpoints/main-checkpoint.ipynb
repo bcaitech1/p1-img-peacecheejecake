{
 "cells": [
  {
   "cell_type": "code",
   "execution_count": 1,
   "id": "fallen-looking",
   "metadata": {},
   "outputs": [],
   "source": [
    "import sys\n",
    "sys.path.append('/opt/ml/code/stage1')"
   ]
  },
  {
   "cell_type": "code",
   "execution_count": 2,
   "id": "systematic-judges",
   "metadata": {},
   "outputs": [],
   "source": [
    "from stage1.utils import *\n",
    "from stage1.modules.models import *\n",
    "from stage1.modules.loss import *\n",
    "from stage1.trainer import *\n",
    "import stage1.data as data\n",
    "\n",
    "import torchvision\n",
    "\n",
    "import timm\n",
    "from efficientnet_pytorch import EfficientNet\n",
    "import albumentations as A\n",
    "\n",
    "%matplotlib inline"
   ]
  },
  {
   "cell_type": "markdown",
   "id": "formed-music",
   "metadata": {},
   "source": [
    "# Utilities"
   ]
  },
  {
   "cell_type": "code",
   "execution_count": 3,
   "id": "severe-stewart",
   "metadata": {},
   "outputs": [],
   "source": [
    "'''\n",
    "function to remove strange 'module' prefix and load the state dict\n",
    "'''\n",
    "\n",
    "from collections import OrderedDict\n",
    "def load_and_fix_state_dict(state_path, prefix='module'):\n",
    "    state_dict = torch.load(state_path)\n",
    "    fixed_state_dict = OrderedDict()\n",
    "    for name, param in state_dict.items():\n",
    "        if name[:len(prefix)] == prefix:\n",
    "            new_name = '.'.join(name.split('.')[1:])\n",
    "            fixed_state_dict[new_name] = param\n",
    "        else:\n",
    "            raise TypeError(name)\n",
    "            \n",
    "    return fixed_state_dict"
   ]
  },
  {
   "cell_type": "code",
   "execution_count": 4,
   "id": "binary-sierra",
   "metadata": {},
   "outputs": [
    {
     "name": "stdout",
     "output_type": "stream",
     "text": [
      "Thu Apr  8 06:58:52 2021       \n",
      "+-----------------------------------------------------------------------------+\n",
      "| NVIDIA-SMI 418.67       Driver Version: 418.67       CUDA Version: 10.1     |\n",
      "|-------------------------------+----------------------+----------------------+\n",
      "| GPU  Name        Persistence-M| Bus-Id        Disp.A | Volatile Uncorr. ECC |\n",
      "| Fan  Temp  Perf  Pwr:Usage/Cap|         Memory-Usage | GPU-Util  Compute M. |\n",
      "|===============================+======================+======================|\n",
      "|   0  Tesla P40           On   | 00000000:00:05.0 Off |                  Off |\n",
      "| N/A   36C    P8    12W / 250W |      0MiB / 24451MiB |      0%      Default |\n",
      "+-------------------------------+----------------------+----------------------+\n",
      "                                                                               \n",
      "+-----------------------------------------------------------------------------+\n",
      "| Processes:                                                       GPU Memory |\n",
      "|  GPU       PID   Type   Process name                             Usage      |\n",
      "|=============================================================================|\n",
      "|  No running processes found                                                 |\n",
      "+-----------------------------------------------------------------------------+\n"
     ]
    }
   ],
   "source": [
    "!nvidia-smi"
   ]
  },
  {
   "cell_type": "markdown",
   "id": "chief-roulette",
   "metadata": {},
   "source": [
    "# Basic Architectures"
   ]
  },
  {
   "cell_type": "code",
   "execution_count": 5,
   "id": "proper-healthcare",
   "metadata": {},
   "outputs": [],
   "source": [
    "# l=np.load('/opt/ml/input/pretrained/F0_haiku.npz', allow_pickle=True)#, #fix_imports=True)#, , encoding='latin1')"
   ]
  },
  {
   "cell_type": "code",
   "execution_count": 6,
   "id": "strategic-thread",
   "metadata": {},
   "outputs": [],
   "source": [
    "hrnet_w18_small_v2_1a_all = timm.models.hrnet_w18_small_v2()\n",
    "hrnet_w18_small_v2_1a_all.classifier = nn.Linear(hrnet_w18_small_v2_1a_all.classifier.in_features, 18)\n",
    "setattr(hrnet_w18_small_v2_1a_all, 'name', '-'.join('hrnet_w18_small_v2_1a_all'.split('_')))\n",
    "hrnet_w18_small_v2_1a_all_logger = CSVLogger()"
   ]
  },
  {
   "cell_type": "code",
   "execution_count": 7,
   "id": "convinced-adjustment",
   "metadata": {},
   "outputs": [],
   "source": [
    "effnet_b0_2da_age = timm.models.efficientnet_b0()\n",
    "effnet_b0_2da_age.classifier = nn.Sequential(\n",
    "    nn.Linear(effnet_b0_2da_age.classifier.in_features, 1024),\n",
    "    nn.Dropout(0.5),\n",
    "    nn.Linear(1024, 3)\n",
    ")\n",
    "setattr(effnet_b0_2da_age, 'name', 'effnet-b0-2da-age')\n",
    "effnet_b0_2da_age_logger = CSVLogger()"
   ]
  },
  {
   "cell_type": "code",
   "execution_count": 8,
   "id": "statewide-vitamin",
   "metadata": {},
   "outputs": [],
   "source": [
    "effnet_b3_2da_age = timm.models.efficientnet_b3(True)\n",
    "effnet_b3_2da_age.classifier = nn.Sequential(\n",
    "    nn.Linear(effnet_b3_2da_age.classifier.in_features, 1024),\n",
    "    nn.Dropout(0.5),\n",
    "    nn.Linear(1024, 3)\n",
    ")\n",
    "setattr(effnet_b3_2da_age, 'name', 'effnet-b3-2da-age')\n",
    "effnet_b0_2da_age_logger = CSVLogger()"
   ]
  },
  {
   "cell_type": "code",
   "execution_count": 9,
   "id": "viral-sarah",
   "metadata": {},
   "outputs": [],
   "source": [
    "effnet_b3_age = timm.models.efficientnet_b3(True)\n",
    "effnet_b3_age.classifier = nn.Linear(\n",
    "    effnet_b3_age.classifier.in_features, 3\n",
    ")\n",
    "setattr(effnet_b3_age, 'name', 'effnet-b3-1a-age-raw')\n",
    "\n",
    "effnet_b3_age_logger = CSVLogger()"
   ]
  },
  {
   "cell_type": "code",
   "execution_count": 10,
   "id": "english-cream",
   "metadata": {},
   "outputs": [],
   "source": [
    "effnet_b3_gender = timm.models.efficientnet_b3(True)\n",
    "effnet_b3_gender.classifier = nn.Linear(\n",
    "    effnet_b3_gender.classifier.in_features, 2\n",
    ")\n",
    "setattr(effnet_b3_gender, 'name', 'effnet_b3_gender')\n",
    "\n",
    "effnet_b3_gender_logger = CSVLogger()"
   ]
  },
  {
   "cell_type": "code",
   "execution_count": 11,
   "id": "facial-charles",
   "metadata": {},
   "outputs": [],
   "source": [
    "effnet_b3_mask = timm.models.efficientnet_b3(True)\n",
    "effnet_b3_mask.classifier = nn.Linear(\n",
    "    effnet_b3_mask.classifier.in_features, 3\n",
    ")\n",
    "setattr(effnet_b3_mask, 'name', 'effnet_b3_mask')\n",
    "\n",
    "effnet_b3_mask_logger = CSVLogger()"
   ]
  },
  {
   "cell_type": "code",
   "execution_count": 12,
   "id": "later-draft",
   "metadata": {},
   "outputs": [],
   "source": [
    "effnet_b0_1a = timm.models.efficientnet_b0(True)\n",
    "effnet_b0_1a.classifier = nn.Linear(effnet_b0_1a.classifier.in_features, 18)\n",
    "setattr(effnet_b0_1a, 'name', 'effnet-b0-1a')\n",
    "\n",
    "effnet_b0_1a_logger = CSVLogger()"
   ]
  },
  {
   "cell_type": "code",
   "execution_count": 13,
   "id": "geographic-cornell",
   "metadata": {},
   "outputs": [],
   "source": [
    "effnet_b0_2da = timm.models.efficientnet_b0(True)\n",
    "effnet_b0_2da.classifier = nn.Sequential(\n",
    "    nn.Linear(effnet_b0_2da.classifier.in_features, 1024),\n",
    "    nn.Dropout(0.5),\n",
    "    nn.Linear(1024, 18)\n",
    ")\n",
    "setattr(effnet_b0_2da, 'name', 'effnet-b0-2da')\n",
    "\n",
    "effnet_b0_2da_logger = CSVLogger()"
   ]
  },
  {
   "cell_type": "markdown",
   "id": "retired-semiconductor",
   "metadata": {},
   "source": [
    "# Configurations"
   ]
  },
  {
   "cell_type": "code",
   "execution_count": 14,
   "id": "congressional-robinson",
   "metadata": {},
   "outputs": [],
   "source": [
    "# new config\n",
    "config = ConfigTree()"
   ]
  },
  {
   "cell_type": "code",
   "execution_count": 15,
   "id": "dimensional-personal",
   "metadata": {},
   "outputs": [],
   "source": [
    "# device\n",
    "config.system.device = torch.device(\"cuda:0\" if torch.cuda.is_available() else \"cpu\")\n",
    "config.system.num_workers = 4"
   ]
  },
  {
   "cell_type": "code",
   "execution_count": 16,
   "id": "ranging-appointment",
   "metadata": {},
   "outputs": [],
   "source": [
    "# path\n",
    "config.path.input = os.path.join('/', 'opt', 'ml', 'input')\n",
    "config.path.base = os.path.join(config.path.input, 'data')\n",
    "config.path.train = os.path.join(config.path.base, 'train', 'all_')\n",
    "config.path.test = os.path.join(config.path.base, 'eval', 'images')\n",
    "config.path.valid = None\n",
    "\n",
    "config.path.output = os.path.join('/', 'opt', 'ml', 'output')\n",
    "config.path.models = os.path.join(config.path.output, 'models')\n",
    "config.path.archive = os.path.join(config.path.models, 'archive')\n",
    "config.path.configs = os.path.join(config.path.output, 'configs')\n",
    "config.path.logs = os.path.join(config.path.output, 'logs')\n",
    "\n",
    "config.path.pretrained = os.path.join(config.path.input, 'pretrained')"
   ]
  },
  {
   "cell_type": "code",
   "execution_count": 17,
   "id": "varying-furniture",
   "metadata": {},
   "outputs": [],
   "source": [
    "# data\n",
    "config.data.valid_ratio = 0.2\n",
    "config.data.valid_balanced = False\n",
    "config.data.upscale = False\n",
    "config.data.train_cutmix = False\n",
    "config.data.cutmix_kernel = 256\n",
    "config.data.soften_age = False\n",
    "config.data.custom_augment = [\n",
    "    A.Rotate(limit=15, always_apply=True),\n",
    "    A.HorizontalFlip(always_apply=True),\n",
    "    A.GaussNoise(var_limit=20, always_apply=True),\n",
    "    A.ShiftScaleRotate(scale_limit=0.2, rotate_limit=15, always_apply=True)\n",
    "]\n",
    "config.data.preprocess = False\n",
    "config.data.crop_size = None\n",
    "config.data.resize = None\n",
    "config.data.sampler = None   # not implemented yet\n",
    "config.data.batch_size = 32"
   ]
  },
  {
   "cell_type": "code",
   "execution_count": 18,
   "id": "major-cholesterol",
   "metadata": {},
   "outputs": [],
   "source": [
    "# hyperparameters for training\n",
    "config.train.lr = ConfigBranch(\n",
    "    base = 1e-3,\n",
    "    backbone = 0,\n",
    "    classifier = 0,\n",
    "    scheduler = False,\n",
    "    scheduler_kwarg = ConfigBranch(),\n",
    "    few = 3,\n",
    "    divider = 10,\n",
    "    low_limit = 1e-8,\n",
    ")\n",
    "config.train.weight_decay = 1e-4\n",
    "config.train.betas = (0.9, 0.999)\n",
    "config.train.momentum = 0.9\n",
    "config.train.nesterov = False\n",
    "config.train.loss = ConfigBranch(\n",
    "    criterion = 'CrossEntropyLoss',\n",
    "#     criterion = FocalLoss(),\n",
    ")\n",
    "config.train.optimizer = ConfigBranch(\n",
    "    name = 'AdamP',\n",
    "    separate = False,\n",
    ")"
   ]
  },
  {
   "cell_type": "code",
   "execution_count": 19,
   "id": "solid-municipality",
   "metadata": {},
   "outputs": [],
   "source": [
    "# monitor settings\n",
    "config.train.num_epochs = 20\n",
    "config.train.valid_iters = 0\n",
    "\n",
    "config.train.valid_min = 1\n",
    "config.train.test_min = 1\n",
    "config.train.save_min = 1\n",
    "\n",
    "config.train.valid_period = 1\n",
    "config.train.test_period = 0\n",
    "config.train.save_period = 1\n",
    "config.train.shuffle_period = 0\n",
    "config.train.plot_period = 5\n",
    "\n",
    "config.train.valid_min_acc = 0\n",
    "config.train.test_min_acc = 1\n",
    "config.train.save_min_acc = 0\n",
    "config.train.plot_min_acc = 0\n",
    "\n",
    "config.train.logger = CSVLogger()"
   ]
  },
  {
   "cell_type": "code",
   "execution_count": 20,
   "id": "martial-relative",
   "metadata": {},
   "outputs": [],
   "source": [
    "# model\n",
    "config.model = ConfigBranch(\n",
    "    model = torchvision.models.resnet18(False),\n",
    "    teacher = None,\n",
    "    classifying = 'all',\n",
    "    state_path = ''\n",
    ")\n",
    "setattr(config.model.model, 'name', 'dummy_model')"
   ]
  },
  {
   "cell_type": "markdown",
   "id": "frank-economy",
   "metadata": {},
   "source": [
    "# Augmentation check"
   ]
  },
  {
   "cell_type": "code",
   "execution_count": 21,
   "id": "driven-marsh",
   "metadata": {},
   "outputs": [],
   "source": [
    "if config.data.upscale:\n",
    "    train_set = trainer.train_loader.dataset\n",
    "    num_samples = 10\n",
    "    sample_indices = np.random.randint(0, len(train_set), num_samples)\n",
    "    fig, axes = plt.subplots(num_samples // 5, 5, figsize=(10, 5))\n",
    "    for i, idx in enumerate(sample_indices):\n",
    "        image = train_set[idx][0].permute(1, 2, 0).numpy()\n",
    "        subfig = axes[divmod(i, 5)]\n",
    "        subfig.axis('off')\n",
    "        subfig.imshow(image)\n",
    "\n",
    "    plt.tight_layout()\n",
    "    plt.show()"
   ]
  },
  {
   "cell_type": "markdown",
   "id": "honey-samba",
   "metadata": {},
   "source": [
    "# Trainers"
   ]
  },
  {
   "cell_type": "code",
   "execution_count": 22,
   "id": "rubber-friday",
   "metadata": {},
   "outputs": [],
   "source": [
    "trainer = Trainer(config)"
   ]
  },
  {
   "cell_type": "markdown",
   "id": "remarkable-router",
   "metadata": {},
   "source": [
    "# Models + Training"
   ]
  },
  {
   "cell_type": "code",
   "execution_count": 23,
   "id": "cooked-london",
   "metadata": {
    "tags": []
   },
   "outputs": [
    {
     "data": {
      "text/plain": [
       "'effnet-b0-1a-all-cutmix_center (smaller)(CE)(AdamP)\\nCHECKPOINTS\\n[lowest loss]()<- \"\"\\n[best f1 score]()<- \"\"\\n'"
      ]
     },
     "execution_count": 23,
     "metadata": {},
     "output_type": "execute_result"
    }
   ],
   "source": [
    "'''effnet-b0-1a-all-cutmix_center (smaller)(CE)(AdamP)\n",
    ">>> CHECKPOINTS\n",
    "[lowest loss]()<- \"\"\n",
    "[best f1 score]()<- \"\"\n",
    "'''\n",
    "\n",
    "# effnet_b0_1a = timm.models.efficientnet_b0(pretrained=True)\n",
    "# effnet_b0_1a.classifier = nn.Linear(effnet_b0_1a.classifier.in_features, 18)\n",
    "# setattr(effnet_b0_1a, \"name\", \"effnet-b0-1a-all-cutmix_center+smaller+ce+adamp\")\n",
    "# effnet_b0_1a__logger = CSVLogger()\n",
    "\n",
    "# branch = ConfigBranch(\n",
    "#     train_path = '/opt/ml/input/data/train/smaller_',\n",
    "#     model = effnet_b0_1a,\n",
    "#     logger = effnet_b0_1a__logger, \n",
    "#     classifying = 'all', \n",
    "#     upscale = False,\n",
    "#     cutmix = 'random',\n",
    "#     criterion = 'CrossEntropyLoss',\n",
    "#     optimizer = 'AdamP',\n",
    "#     lr = 1e-3,\n",
    "#     state_path = '',\n",
    "# )\n",
    "\n",
    "# config.path.train = branch.train_path\n",
    "# config.model.model = branch.model\n",
    "# config.train.logger = branch.logger\n",
    "# config.model.classifying = branch.classifying\n",
    "# config.data.upscale = branch.upscale\n",
    "# config.data.train_cutmix = branch.cutmix\n",
    "# config.train.optimizer.name = branch.optimizer\n",
    "# config.train.lr.base = branch.lr\n",
    "# config.train.weight_decay = 1e-4\n",
    "# config.train.loss.criterion = branch.criterion\n",
    "# config.model.state_path = branch.state_path\n",
    "\n",
    "# try:\n",
    "#     trainer().load_state_dict_to_model()\n",
    "# except KeyError:\n",
    "#     trainer().model.load_state_dict(load_and_fix_state_dict(config.model.state_path))\n",
    "\n",
    "# trainer.train_and_save()\n",
    "# # trainer.valid()\n",
    "# # trainer.infer_and_save_csv()"
   ]
  },
  {
   "cell_type": "code",
   "execution_count": null,
   "id": "paperback-balloon",
   "metadata": {},
   "outputs": [
    {
     "name": "stdout",
     "output_type": "stream",
     "text": [
      "[INFO]\n",
      "model=effnet-b3-multi+smaller+ce+adamp\n",
      "device=cuda:0(Tesla P40)\n",
      "data size=(48780 + 4032), batch size=16\n",
      "upaugs=['HorizontalFlip', 'ShiftScaleRotate']\n",
      "optimizer.name=AdamP\n",
      "epochs=20, lr=0.001, weight_decay=0.0001, betas=(0.9, 0.999)\n",
      "\n",
      "Start of traning.\n",
      "[Epoch 001]  Loss: 0.18651,  Acc: 93.920,  F1 Score: 0.88589  (32:09)\n",
      "[Valid 001]  Loss: 1.09087,  Acc: 72.817,  F1 Score: 0.52358\n",
      "Saved model: /opt/ml/output/models/2021-04-08-07_32_30.721541_effnet-b3-multi+smaller+ce+adamp_upscaled.pth\n",
      "[Epoch 002] (Batch #2660)  Loss: 0.07327,  Acc: 97.710  (28:04)"
     ]
    }
   ],
   "source": [
    "'''[STRATIFIED FOLD #0] effnet-b3-multi (smaller)(CE)(AdamP)\n",
    ">>> CHECKPOINTS\n",
    "[lowest loss]()<- \"\"\n",
    "[best f1 score]()<- \"\"\n",
    "'''\n",
    "\n",
    "fold_idx = 0\n",
    "\n",
    "\n",
    "effnet_b3_multi = timm.models.efficientnet_b3(True)\n",
    "effnet_b3_multi.classifier = MultiheadClassifier(\n",
    "    in_features=effnet_b3_multi.classifier.in_features, \n",
    "    out_features=18\n",
    ")\n",
    "setattr(effnet_b3_multi, \"name\", f\"effnet-b3-multi+smaller+ce+adamp_{fold_idx}\")\n",
    "effnet_b3_multi_logger = CSVLogger()\n",
    "\n",
    "branch = ConfigBranch(\n",
    "    train_path = f'/opt/ml/input/data/train/train_{fold_idx}',\n",
    "    valid_path = f'/opt/ml/input/data/train/valid_{fold_idx}',\n",
    "    model = effnet_b3_multi,\n",
    "    logger = effnet_b3_multi_logger,\n",
    "    classifying = 'all', \n",
    "    upscale = True,\n",
    "    cutmix = False,\n",
    "    criterion = 'CrossEntropyLoss',\n",
    "    optimizer = 'AdamP',\n",
    "    lr = 1e-3,\n",
    "    state_path = '',\n",
    ")\n",
    "\n",
    "config.path.train = branch.train_path\n",
    "config.path.valid = branch.valid_path\n",
    "config.model.model = branch.model\n",
    "config.train.logger = branch.logger\n",
    "config.model.classifying = branch.classifying\n",
    "config.data.upscale = branch.upscale\n",
    "config.data.train_cutmix = branch.cutmix\n",
    "config.train.optimizer.name = branch.optimizer\n",
    "config.train.lr.base = branch.lr\n",
    "config.train.weight_decay = 1e-4\n",
    "config.train.loss.criterion = branch.criterion\n",
    "config.model.state_path = branch.state_path\n",
    "\n",
    "try:\n",
    "    trainer().load_state_dict_to_model()\n",
    "except KeyError:\n",
    "    trainer().model.load_state_dict(load_and_fix_state_dict(config.model.state_path))\n",
    "\n",
    "trainer.train_and_save()\n",
    "# trainer.valid()\n",
    "# trainer.infer_and_save_csv()"
   ]
  },
  {
   "cell_type": "code",
   "execution_count": null,
   "id": "local-track",
   "metadata": {},
   "outputs": [],
   "source": [
    "config.data.batch_size = 32"
   ]
  },
  {
   "cell_type": "code",
   "execution_count": null,
   "id": "weighted-investigation",
   "metadata": {},
   "outputs": [],
   "source": [
    "'''\n",
    "Student: EfficientNet-b0, cutmix_center (KDLoss)\n",
    "'''\n",
    "\n",
    "effnet_b0_student = timm.models.efficientnet_b0(True)\n",
    "effnet_b0_student.classifier = MultiheadClassifier(\n",
    "    in_features=effnet_b0_student.classifier.in_features, \n",
    "    out_features=18\n",
    ")\n",
    "setattr(effnet_b0_student, \"name\", f\"effnet-b0-multi_student_+smaller+ce+adamp_{fold_idx}\")\n",
    "effnet_b0_student_logger = CSVLogger()\n",
    "\n",
    "branch = ConfigBranch(\n",
    "    train_path = f'/opt/ml/input/data/train/train_{fold_idx}',\n",
    "    valid_path = f'/opt/ml/input/data/train/valid_{fold_idx}',\n",
    "    teacher = effnet_b3_multi,\n",
    "    model = effnet_b0_student,\n",
    "    logger = effnet_b0_student_logger,\n",
    "    classifying = 'all', \n",
    "    upscale = False,\n",
    "    cutmix = 'center',\n",
    "    criterion = KDLoss(T=10, alpha=0.75, num_targets=18),\n",
    "    optimizer = 'AdamP',\n",
    "    lr = 1e-3,\n",
    "    state_path = '',\n",
    ")\n",
    "\n",
    "config.path.train = branch.train_path\n",
    "config.path.valid = branch.valid_path\n",
    "config.model.model = branch.model\n",
    "config.model.teacher = branch.teacher\n",
    "config.train.logger = branch.logger\n",
    "config.model.classifying = branch.classifying\n",
    "config.data.upscale = branch.upscale\n",
    "config.data.train_cutmix = branch.cutmix\n",
    "config.train.optimizer.name = branch.optimizer\n",
    "config.train.lr.base = branch.lr\n",
    "config.train.weight_decay = 1e-4\n",
    "config.train.loss.criterion = branch.criterion\n",
    "config.model.state_path = branch.state_path\n",
    "\n",
    "try:\n",
    "    trainer().load_state_dict_to_model()\n",
    "except KeyError:\n",
    "    trainer().model.load_state_dict(load_and_fix_state_dict(config.model.state_path))\n",
    "\n",
    "trainer.train_and_save()\n",
    "# trainer.valid()\n",
    "# trainer.infer_and_save_csv()"
   ]
  },
  {
   "cell_type": "code",
   "execution_count": null,
   "id": "certain-housing",
   "metadata": {},
   "outputs": [],
   "source": [
    "'''[STRATIFIED FOLD #1] effnet-b4-multi (smaller)(CE)(AdamP)\n",
    ">>> CHECKPOINTS\n",
    "[lowest loss]()<- \"\"\n",
    "[best f1 score]()<- \"\"\n",
    "'''\n",
    "\n",
    "fold_idx = 1\n",
    "\n",
    "\n",
    "effnet_b3_multi = timm.models.efficientnet_b3(True)\n",
    "effnet_b3_multi.classifier = MultiheadClassifier(\n",
    "    in_features=effnet_b3_multi.classifier.in_features, \n",
    "    out_features=18\n",
    ")\n",
    "setattr(effnet_b3_multi, \"name\", \"effnet-b3-multi+smaller+ce+adamp\")\n",
    "effnet_b3_multi_logger = CSVLogger()\n",
    "\n",
    "branch = ConfigBranch(\n",
    "    train_path = f'/opt/ml/input/data/train/train_{fold_idx}',\n",
    "    valid_path = f'/opt/ml/input/data/train/valid_{fold_idx}',\n",
    "    model = effnet_b3_multi,\n",
    "    logger = effnet_b3_multi_logger,\n",
    "    classifying = 'all', \n",
    "    upscale = True,\n",
    "    cutmix = False,\n",
    "    criterion = 'CrossEntropyLoss',\n",
    "    optimizer = 'AdamP',\n",
    "    lr = 1e-3,\n",
    "    state_path = '',\n",
    ")\n",
    "\n",
    "config.path.train = branch.train_path\n",
    "config.path.valid = branch.valid_path\n",
    "config.model.model = branch.model\n",
    "config.train.logger = branch.logger\n",
    "config.model.classifying = branch.classifying\n",
    "config.data.upscale = branch.upscale\n",
    "config.data.train_cutmix = branch.cutmix\n",
    "config.train.optimizer.name = branch.optimizer\n",
    "config.train.lr.base = branch.lr\n",
    "config.train.weight_decay = 1e-4\n",
    "config.train.loss.criterion = branch.criterion\n",
    "config.model.state_path = branch.state_path\n",
    "\n",
    "try:\n",
    "    trainer().load_state_dict_to_model()\n",
    "except KeyError:\n",
    "    trainer().model.load_state_dict(load_and_fix_state_dict(config.model.state_path))\n",
    "\n",
    "trainer.train_and_save()\n",
    "# trainer.valid()\n",
    "# trainer.infer_and_save_csv()"
   ]
  },
  {
   "cell_type": "code",
   "execution_count": null,
   "id": "speaking-poland",
   "metadata": {},
   "outputs": [],
   "source": [
    "'''[STRATIFIED FOLD #2] effnet-b4-multi (smaller)(CE)(AdamP)\n",
    ">>> CHECKPOINTS\n",
    "[lowest loss]()<- \"\"\n",
    "[best f1 score]()<- \"\"\n",
    "'''\n",
    "\n",
    "fold_idx = 2\n",
    "\n",
    "\n",
    "effnet_b3_multi = timm.models.efficientnet_b3(True)\n",
    "effnet_b3_multi.classifier = MultiheadClassifier(\n",
    "    in_features=effnet_b3_multi.classifier.in_features, \n",
    "    out_features=18\n",
    ")\n",
    "setattr(effnet_b3_multi, \"name\", \"effnet-b3-multi+smaller+ce+adamp\")\n",
    "effnet_b3_multi_logger = CSVLogger()\n",
    "\n",
    "branch = ConfigBranch(\n",
    "    train_path = f'/opt/ml/input/data/train/train_{fold_idx}',\n",
    "    valid_path = f'/opt/ml/input/data/train/valid_{fold_idx}',\n",
    "    model = effnet_b3_multi,\n",
    "    logger = effnet_b3_multi_logger,\n",
    "    classifying = 'all', \n",
    "    upscale = True,\n",
    "    cutmix = False,\n",
    "    criterion = 'CrossEntropyLoss',\n",
    "    optimizer = 'AdamP',\n",
    "    lr = 1e-3,\n",
    "    state_path = '',\n",
    ")\n",
    "\n",
    "config.path.train = branch.train_path\n",
    "config.path.valid = branch.valid_path\n",
    "config.model.model = branch.model\n",
    "config.train.logger = branch.logger\n",
    "config.model.classifying = branch.classifying\n",
    "config.data.upscale = branch.upscale\n",
    "config.data.train_cutmix = branch.cutmix\n",
    "config.train.optimizer.name = branch.optimizer\n",
    "config.train.lr.base = branch.lr\n",
    "config.train.weight_decay = 1e-4\n",
    "config.train.loss.criterion = branch.criterion\n",
    "config.model.state_path = branch.state_path\n",
    "\n",
    "try:\n",
    "    trainer().load_state_dict_to_model()\n",
    "except KeyError:\n",
    "    trainer().model.load_state_dict(load_and_fix_state_dict(config.model.state_path))\n",
    "\n",
    "trainer.train_and_save()\n",
    "# trainer.valid()\n",
    "# trainer.infer_and_save_csv()"
   ]
  },
  {
   "cell_type": "code",
   "execution_count": null,
   "id": "composite-answer",
   "metadata": {},
   "outputs": [],
   "source": [
    "'''[STRATIFIED FOLD #3] effnet-b4-multi (smaller)(CE)(AdamP)\n",
    ">>> CHECKPOINTS\n",
    "[lowest loss]()<- \"\"\n",
    "[best f1 score]()<- \"\"\n",
    "'''\n",
    "\n",
    "fold_idx = 3\n",
    "\n",
    "\n",
    "effnet_b3_multi = timm.models.efficientnet_b3(True)\n",
    "effnet_b3_multi.classifier = MultiheadClassifier(\n",
    "    in_features=effnet_b3_multi.classifier.in_features, \n",
    "    out_features=18\n",
    ")\n",
    "setattr(effnet_b3_multi, \"name\", \"effnet-b3-multi+smaller+ce+adamp\")\n",
    "effnet_b3_multi_logger = CSVLogger()\n",
    "\n",
    "branch = ConfigBranch(\n",
    "    train_path = f'/opt/ml/input/data/train/train_{fold_idx}',\n",
    "    valid_path = f'/opt/ml/input/data/train/valid_{fold_idx}',\n",
    "    model = effnet_b3_multi,\n",
    "    logger = effnet_b3_multi_logger,\n",
    "    classifying = 'all', \n",
    "    upscale = True,\n",
    "    cutmix = False,\n",
    "    criterion = 'CrossEntropyLoss',\n",
    "    optimizer = 'AdamP',\n",
    "    lr = 1e-3,\n",
    "    state_path = '',\n",
    ")\n",
    "\n",
    "config.path.train = branch.train_path\n",
    "config.path.valid = branch.valid_path\n",
    "config.model.model = branch.model\n",
    "config.train.logger = branch.logger\n",
    "config.model.classifying = branch.classifying\n",
    "config.data.upscale = branch.upscale\n",
    "config.data.train_cutmix = branch.cutmix\n",
    "config.train.optimizer.name = branch.optimizer\n",
    "config.train.lr.base = branch.lr\n",
    "config.train.weight_decay = 1e-4\n",
    "config.train.loss.criterion = branch.criterion\n",
    "config.model.state_path = branch.state_path\n",
    "\n",
    "try:\n",
    "    trainer().load_state_dict_to_model()\n",
    "except KeyError:\n",
    "    trainer().model.load_state_dict(load_and_fix_state_dict(config.model.state_path))\n",
    "\n",
    "trainer.train_and_save()\n",
    "# trainer.valid()\n",
    "# trainer.infer_and_save_csv()"
   ]
  },
  {
   "cell_type": "code",
   "execution_count": null,
   "id": "wicked-lodging",
   "metadata": {},
   "outputs": [],
   "source": []
  },
  {
   "cell_type": "code",
   "execution_count": 23,
   "id": "coral-sociology",
   "metadata": {},
   "outputs": [
    {
     "name": "stdout",
     "output_type": "stream",
     "text": [
      "Loaded pretrained weights for efficientnet-b4\n",
      "[INFO]\n",
      "model=effnet-b4-1a+smaller+ce+adamp\n",
      "device=cuda:0(Tesla P40)\n",
      "data size=(12959 + 3239), batch size=16\n",
      "optimizer.name=AdamP\n",
      "epochs=20, lr=0.001, weight_decay=0.0001, betas=(0.9, 0.999)\n",
      "\n",
      "Start of traning.\n",
      "[Epoch 001]  Loss: 0.50793,  Acc: 84.104,  F1 Score: 0.58141  (14:42)\n",
      "[Valid 001]  Loss: 0.27447,  Acc: 90.861,  F1 Score: 0.75372\n",
      "Saved model: /opt/ml/output/models/2021-04-08-05_09_51.657508_effnet-b4-1a+smaller+ce+adamp_.pth\n",
      "[Epoch 002] (Batch #123)  Loss: 0.23679,  Acc: 92.893  (02:15)"
     ]
    },
    {
     "ename": "KeyboardInterrupt",
     "evalue": "",
     "output_type": "error",
     "traceback": [
      "\u001b[0;31m---------------------------------------------------------------------------\u001b[0m",
      "\u001b[0;31mKeyboardInterrupt\u001b[0m                         Traceback (most recent call last)",
      "\u001b[0;32m<ipython-input-23-354158c5bb46>\u001b[0m in \u001b[0;36m<module>\u001b[0;34m\u001b[0m\n\u001b[1;32m     41\u001b[0m     \u001b[0mtrainer\u001b[0m\u001b[0;34m(\u001b[0m\u001b[0;34m)\u001b[0m\u001b[0;34m.\u001b[0m\u001b[0mmodel\u001b[0m\u001b[0;34m.\u001b[0m\u001b[0mload_state_dict\u001b[0m\u001b[0;34m(\u001b[0m\u001b[0mload_and_fix_state_dict\u001b[0m\u001b[0;34m(\u001b[0m\u001b[0mconfig\u001b[0m\u001b[0;34m.\u001b[0m\u001b[0mmodel\u001b[0m\u001b[0;34m.\u001b[0m\u001b[0mstate_path\u001b[0m\u001b[0;34m)\u001b[0m\u001b[0;34m)\u001b[0m\u001b[0;34m\u001b[0m\u001b[0;34m\u001b[0m\u001b[0m\n\u001b[1;32m     42\u001b[0m \u001b[0;34m\u001b[0m\u001b[0m\n\u001b[0;32m---> 43\u001b[0;31m \u001b[0mtrainer\u001b[0m\u001b[0;34m.\u001b[0m\u001b[0mtrain_and_save\u001b[0m\u001b[0;34m(\u001b[0m\u001b[0;34m)\u001b[0m\u001b[0;34m\u001b[0m\u001b[0;34m\u001b[0m\u001b[0m\n\u001b[0m\u001b[1;32m     44\u001b[0m \u001b[0;31m# trainer.valid()\u001b[0m\u001b[0;34m\u001b[0m\u001b[0;34m\u001b[0m\u001b[0;34m\u001b[0m\u001b[0m\n\u001b[1;32m     45\u001b[0m \u001b[0;31m# trainer.infer_and_save_csv()\u001b[0m\u001b[0;34m\u001b[0m\u001b[0;34m\u001b[0m\u001b[0;34m\u001b[0m\u001b[0m\n",
      "\u001b[0;32m~/code/stage1/stage1/trainer/trainer.py\u001b[0m in \u001b[0;36mtrain_and_save\u001b[0;34m(self)\u001b[0m\n\u001b[1;32m    614\u001b[0m \u001b[0;34m\u001b[0m\u001b[0m\n\u001b[1;32m    615\u001b[0m             \u001b[0mself\u001b[0m\u001b[0;34m.\u001b[0m\u001b[0mepochs\u001b[0m \u001b[0;34m+=\u001b[0m \u001b[0;36m1\u001b[0m\u001b[0;34m\u001b[0m\u001b[0;34m\u001b[0m\u001b[0m\n\u001b[0;32m--> 616\u001b[0;31m             \u001b[0mself\u001b[0m\u001b[0;34m.\u001b[0m\u001b[0mtrain_one_epoch\u001b[0m\u001b[0;34m(\u001b[0m\u001b[0;34m)\u001b[0m\u001b[0;34m\u001b[0m\u001b[0;34m\u001b[0m\u001b[0m\n\u001b[0m\u001b[1;32m    617\u001b[0m \u001b[0;34m\u001b[0m\u001b[0m\n\u001b[1;32m    618\u001b[0m             \u001b[0;31m# naive k-fold validation\u001b[0m\u001b[0;34m\u001b[0m\u001b[0;34m\u001b[0m\u001b[0;34m\u001b[0m\u001b[0m\n",
      "\u001b[0;32m~/code/stage1/stage1/trainer/trainer.py\u001b[0m in \u001b[0;36mtrain_one_epoch\u001b[0;34m(self, add_loader)\u001b[0m\n\u001b[1;32m    718\u001b[0m \u001b[0;34m\u001b[0m\u001b[0m\n\u001b[1;32m    719\u001b[0m             \u001b[0mloss\u001b[0m \u001b[0;34m=\u001b[0m \u001b[0mself\u001b[0m\u001b[0;34m.\u001b[0m\u001b[0mcriterion\u001b[0m\u001b[0;34m(\u001b[0m\u001b[0moutputs\u001b[0m\u001b[0;34m,\u001b[0m \u001b[0mtargets\u001b[0m\u001b[0;34m)\u001b[0m\u001b[0;34m\u001b[0m\u001b[0;34m\u001b[0m\u001b[0m\n\u001b[0;32m--> 720\u001b[0;31m             \u001b[0mloss\u001b[0m\u001b[0;34m.\u001b[0m\u001b[0mbackward\u001b[0m\u001b[0;34m(\u001b[0m\u001b[0;34m)\u001b[0m\u001b[0;34m\u001b[0m\u001b[0;34m\u001b[0m\u001b[0m\n\u001b[0m\u001b[1;32m    721\u001b[0m \u001b[0;34m\u001b[0m\u001b[0m\n\u001b[1;32m    722\u001b[0m             \u001b[0;32mif\u001b[0m \u001b[0mself\u001b[0m\u001b[0;34m.\u001b[0m\u001b[0mconfig\u001b[0m\u001b[0;34m.\u001b[0m\u001b[0mtrain\u001b[0m\u001b[0;34m.\u001b[0m\u001b[0moptimizer\u001b[0m\u001b[0;34m.\u001b[0m\u001b[0mseparate\u001b[0m\u001b[0;34m:\u001b[0m\u001b[0;34m\u001b[0m\u001b[0;34m\u001b[0m\u001b[0m\n",
      "\u001b[0;32m/opt/conda/lib/python3.7/site-packages/torch/tensor.py\u001b[0m in \u001b[0;36mbackward\u001b[0;34m(self, gradient, retain_graph, create_graph)\u001b[0m\n\u001b[1;32m    183\u001b[0m                 \u001b[0mproducts\u001b[0m\u001b[0;34m.\u001b[0m \u001b[0mDefaults\u001b[0m \u001b[0mto\u001b[0m\u001b[0;31m \u001b[0m\u001b[0;31m`\u001b[0m\u001b[0;31m`\u001b[0m\u001b[0;32mFalse\u001b[0m\u001b[0;31m`\u001b[0m\u001b[0;31m`\u001b[0m\u001b[0;34m.\u001b[0m\u001b[0;34m\u001b[0m\u001b[0;34m\u001b[0m\u001b[0m\n\u001b[1;32m    184\u001b[0m         \"\"\"\n\u001b[0;32m--> 185\u001b[0;31m         \u001b[0mtorch\u001b[0m\u001b[0;34m.\u001b[0m\u001b[0mautograd\u001b[0m\u001b[0;34m.\u001b[0m\u001b[0mbackward\u001b[0m\u001b[0;34m(\u001b[0m\u001b[0mself\u001b[0m\u001b[0;34m,\u001b[0m \u001b[0mgradient\u001b[0m\u001b[0;34m,\u001b[0m \u001b[0mretain_graph\u001b[0m\u001b[0;34m,\u001b[0m \u001b[0mcreate_graph\u001b[0m\u001b[0;34m)\u001b[0m\u001b[0;34m\u001b[0m\u001b[0;34m\u001b[0m\u001b[0m\n\u001b[0m\u001b[1;32m    186\u001b[0m \u001b[0;34m\u001b[0m\u001b[0m\n\u001b[1;32m    187\u001b[0m     \u001b[0;32mdef\u001b[0m \u001b[0mregister_hook\u001b[0m\u001b[0;34m(\u001b[0m\u001b[0mself\u001b[0m\u001b[0;34m,\u001b[0m \u001b[0mhook\u001b[0m\u001b[0;34m)\u001b[0m\u001b[0;34m:\u001b[0m\u001b[0;34m\u001b[0m\u001b[0;34m\u001b[0m\u001b[0m\n",
      "\u001b[0;32m/opt/conda/lib/python3.7/site-packages/torch/autograd/__init__.py\u001b[0m in \u001b[0;36mbackward\u001b[0;34m(tensors, grad_tensors, retain_graph, create_graph, grad_variables)\u001b[0m\n\u001b[1;32m    125\u001b[0m     Variable._execution_engine.run_backward(\n\u001b[1;32m    126\u001b[0m         \u001b[0mtensors\u001b[0m\u001b[0;34m,\u001b[0m \u001b[0mgrad_tensors\u001b[0m\u001b[0;34m,\u001b[0m \u001b[0mretain_graph\u001b[0m\u001b[0;34m,\u001b[0m \u001b[0mcreate_graph\u001b[0m\u001b[0;34m,\u001b[0m\u001b[0;34m\u001b[0m\u001b[0;34m\u001b[0m\u001b[0m\n\u001b[0;32m--> 127\u001b[0;31m         allow_unreachable=True)  # allow_unreachable flag\n\u001b[0m\u001b[1;32m    128\u001b[0m \u001b[0;34m\u001b[0m\u001b[0m\n\u001b[1;32m    129\u001b[0m \u001b[0;34m\u001b[0m\u001b[0m\n",
      "\u001b[0;31mKeyboardInterrupt\u001b[0m: "
     ]
    }
   ],
   "source": [
    "'''effnet-b4-1a (smaller)(CE)(AdamP)\n",
    ">>> CHECKPOINTS\n",
    "[lowest loss]()<- \"\"\n",
    "[best f1 score]()<- \"\"\n",
    "'''\n",
    "\n",
    "effnet_b4_1a = EfficientNet.from_pretrained('efficientnet-b4')\n",
    "effnet_b4_1a._fc = nn.Linear(effnet_b4_1a._fc.in_features, 18)\n",
    "setattr(effnet_b4_1a, \"name\", \"effnet-b4-1a+smaller+ce+adamp\")\n",
    "\n",
    "effnet_b4_1a_logger = CSVLogger()\n",
    "\n",
    "branch = ConfigBranch(\n",
    "    train_path = '/opt/ml/input/data/train/smaller_',\n",
    "    model = effnet_b4_1a,\n",
    "    logger = effnet_b4_1a_logger, \n",
    "    classifying = 'all', \n",
    "    upscale = False,\n",
    "    cutmix = False,\n",
    "    criterion = 'CrossEntropyLoss',\n",
    "    optimizer = 'AdamP',\n",
    "    lr = 1e-3,\n",
    "    state_path = '/opt/ml/output/models/2021-04-08-05_09_51.657508_effnet-b4-1a+smaller+ce+adamp_.pth',\n",
    ")\n",
    "\n",
    "config.path.train = branch.train_path\n",
    "config.model.model = branch.model\n",
    "config.train.logger = branch.logger\n",
    "config.model.classifying = branch.classifying\n",
    "config.data.upscale = branch.upscale\n",
    "config.data.train_cutmix = branch.cutmix\n",
    "config.train.optimizer.name = branch.optimizer\n",
    "config.train.lr.base = branch.lr\n",
    "config.train.weight_decay = 1e-4\n",
    "config.train.loss.criterion = branch.criterion\n",
    "config.model.state_path = branch.state_path\n",
    "\n",
    "try:\n",
    "    trainer().load_state_dict_to_model()\n",
    "except KeyError:\n",
    "    trainer().model.load_state_dict(load_and_fix_state_dict(config.model.state_path))\n",
    "\n",
    "trainer.train_and_save()\n",
    "# trainer.valid()\n",
    "# trainer.infer_and_save_csv()"
   ]
  },
  {
   "cell_type": "code",
   "execution_count": null,
   "id": "through-latino",
   "metadata": {},
   "outputs": [],
   "source": [
    "'''\n",
    ">>> CHECKPOINTS\n",
    "[lowest loss]()<- \"\"\n",
    "[best f1 score]()<- \"\"\n",
    "'''\n",
    "\n",
    "config.data.train_cutmix = True\n",
    "config.model.state_path = ''\n",
    "# config.train.lr.base = \n",
    "\n",
    "try:\n",
    "    trainer().load_state_dict_to_model()\n",
    "except KeyError:\n",
    "    trainer().model.load_state_dict(load_and_fix_state_dict(config.model.state_path))\n",
    "\n",
    "trainer.train_and_save()\n",
    "# trainer.valid()\n",
    "# trainer.infer_and_save_csv()"
   ]
  },
  {
   "cell_type": "code",
   "execution_count": 24,
   "id": "serious-repeat",
   "metadata": {},
   "outputs": [
    {
     "name": "stdout",
     "output_type": "stream",
     "text": [
      "Loaded pretrained weights for efficientnet-b4\n",
      "[INFO]\n",
      "model=model\n",
      "device=cuda:0(Tesla P40)\n",
      "data size=(12959 + 3239), batch size=16\n",
      "optimizer.name=AdamP\n",
      "epochs=20, lr=0.001, weight_decay=0.0001, betas=(0.9, 0.999)\n",
      "\n",
      "Start of traning.\n",
      "[Epoch 001]  Loss: 0.55090,  Acc: 82.746,  F1 Score: 0.56699  (14:46)\n",
      "[Valid 001]  Loss: 0.47209,  Acc: 86.261,  F1 Score: 0.62296\n",
      "Saved model: /opt/ml/output/models/2021-04-08-05_28_01.260455_model_.pth\n",
      "[Epoch 002] (Batch #003)  Loss: 0.31968,  Acc: 90.625  (00:04))"
     ]
    },
    {
     "ename": "KeyboardInterrupt",
     "evalue": "",
     "output_type": "error",
     "traceback": [
      "\u001b[0;31m---------------------------------------------------------------------------\u001b[0m",
      "\u001b[0;31mKeyboardInterrupt\u001b[0m                         Traceback (most recent call last)",
      "\u001b[0;32m<ipython-input-24-04b03d4c8adc>\u001b[0m in \u001b[0;36m<module>\u001b[0;34m\u001b[0m\n\u001b[1;32m     44\u001b[0m     \u001b[0mtrainer\u001b[0m\u001b[0;34m(\u001b[0m\u001b[0;34m)\u001b[0m\u001b[0;34m.\u001b[0m\u001b[0mmodel\u001b[0m\u001b[0;34m.\u001b[0m\u001b[0mload_state_dict\u001b[0m\u001b[0;34m(\u001b[0m\u001b[0mload_and_fix_state_dict\u001b[0m\u001b[0;34m(\u001b[0m\u001b[0mconfig\u001b[0m\u001b[0;34m.\u001b[0m\u001b[0mmodel\u001b[0m\u001b[0;34m.\u001b[0m\u001b[0mstate_path\u001b[0m\u001b[0;34m)\u001b[0m\u001b[0;34m)\u001b[0m\u001b[0;34m\u001b[0m\u001b[0;34m\u001b[0m\u001b[0m\n\u001b[1;32m     45\u001b[0m \u001b[0;34m\u001b[0m\u001b[0m\n\u001b[0;32m---> 46\u001b[0;31m \u001b[0mtrainer\u001b[0m\u001b[0;34m.\u001b[0m\u001b[0mtrain_and_save\u001b[0m\u001b[0;34m(\u001b[0m\u001b[0;34m)\u001b[0m\u001b[0;34m\u001b[0m\u001b[0;34m\u001b[0m\u001b[0m\n\u001b[0m\u001b[1;32m     47\u001b[0m \u001b[0;31m# trainer.valid()\u001b[0m\u001b[0;34m\u001b[0m\u001b[0;34m\u001b[0m\u001b[0;34m\u001b[0m\u001b[0m\n\u001b[1;32m     48\u001b[0m \u001b[0;31m# trainer.infer_and_save_csv()\u001b[0m\u001b[0;34m\u001b[0m\u001b[0;34m\u001b[0m\u001b[0;34m\u001b[0m\u001b[0m\n",
      "\u001b[0;32m~/code/stage1/stage1/trainer/trainer.py\u001b[0m in \u001b[0;36mtrain_and_save\u001b[0;34m(self)\u001b[0m\n\u001b[1;32m    614\u001b[0m         \u001b[0mprint\u001b[0m\u001b[0;34m(\u001b[0m\u001b[0;34mf\"model={self.model.name}\"\u001b[0m\u001b[0;34m)\u001b[0m\u001b[0;34m\u001b[0m\u001b[0;34m\u001b[0m\u001b[0m\n\u001b[1;32m    615\u001b[0m         \u001b[0mprint\u001b[0m\u001b[0;34m(\u001b[0m\u001b[0;34mf\"device={self.device}({torch.cuda.get_device_name(self.device)})\"\u001b[0m\u001b[0;34m)\u001b[0m\u001b[0;34m\u001b[0m\u001b[0;34m\u001b[0m\u001b[0m\n\u001b[0;32m--> 616\u001b[0;31m         print(f\"data size=({len(self.train_loader.dataset)} + {len(self.valid_loader.dataset)}), \\\n\u001b[0m\u001b[1;32m    617\u001b[0m batch size={self.config.data.batch_size}\")\n\u001b[1;32m    618\u001b[0m         \u001b[0;32mif\u001b[0m \u001b[0mself\u001b[0m\u001b[0;34m.\u001b[0m\u001b[0mconfig\u001b[0m\u001b[0;34m.\u001b[0m\u001b[0mdata\u001b[0m\u001b[0;34m.\u001b[0m\u001b[0mupscale\u001b[0m\u001b[0;34m:\u001b[0m\u001b[0;34m\u001b[0m\u001b[0;34m\u001b[0m\u001b[0m\n",
      "\u001b[0;32m~/code/stage1/stage1/trainer/trainer.py\u001b[0m in \u001b[0;36mtrain_one_epoch\u001b[0;34m(self, add_loader)\u001b[0m\n\u001b[1;32m    718\u001b[0m                     \u001b[0mfew\u001b[0m \u001b[0;34m=\u001b[0m \u001b[0mself\u001b[0m\u001b[0;34m.\u001b[0m\u001b[0mconfig\u001b[0m\u001b[0;34m.\u001b[0m\u001b[0mtrain\u001b[0m\u001b[0;34m.\u001b[0m\u001b[0mlr\u001b[0m\u001b[0;34m.\u001b[0m\u001b[0mfew\u001b[0m\u001b[0;34m\u001b[0m\u001b[0;34m\u001b[0m\u001b[0m\n\u001b[1;32m    719\u001b[0m                     \u001b[0mlast_few_losses\u001b[0m \u001b[0;34m=\u001b[0m \u001b[0;34m[\u001b[0m\u001b[0mlogs\u001b[0m\u001b[0;34m[\u001b[0m\u001b[0;36m1\u001b[0m\u001b[0;34m]\u001b[0m \u001b[0;32mfor\u001b[0m \u001b[0mlogs\u001b[0m \u001b[0;32min\u001b[0m \u001b[0mself\u001b[0m\u001b[0;34m.\u001b[0m\u001b[0mlogger\u001b[0m\u001b[0;34m.\u001b[0m\u001b[0mvalid\u001b[0m\u001b[0;34m[\u001b[0m\u001b[0;34m-\u001b[0m\u001b[0mfew\u001b[0m\u001b[0;34m:\u001b[0m\u001b[0;34m]\u001b[0m\u001b[0;34m]\u001b[0m\u001b[0;34m\u001b[0m\u001b[0;34m\u001b[0m\u001b[0m\n\u001b[0;32m--> 720\u001b[0;31m                     \u001b[0mlast_last_few_losses\u001b[0m \u001b[0;34m=\u001b[0m \u001b[0;34m[\u001b[0m\u001b[0mlogs\u001b[0m\u001b[0;34m[\u001b[0m\u001b[0;36m1\u001b[0m\u001b[0;34m]\u001b[0m \u001b[0;32mfor\u001b[0m \u001b[0mlogs\u001b[0m \u001b[0;32min\u001b[0m \u001b[0mself\u001b[0m\u001b[0;34m.\u001b[0m\u001b[0mlogger\u001b[0m\u001b[0;34m.\u001b[0m\u001b[0mvalid\u001b[0m\u001b[0;34m[\u001b[0m\u001b[0;34m-\u001b[0m\u001b[0mfew\u001b[0m\u001b[0;34m-\u001b[0m\u001b[0;36m1\u001b[0m\u001b[0;34m:\u001b[0m\u001b[0;34m-\u001b[0m\u001b[0;36m1\u001b[0m\u001b[0;34m]\u001b[0m\u001b[0;34m]\u001b[0m\u001b[0;34m\u001b[0m\u001b[0;34m\u001b[0m\u001b[0m\n\u001b[0m\u001b[1;32m    721\u001b[0m                     \u001b[0;32mif\u001b[0m \u001b[0mlast_last_few_losses\u001b[0m \u001b[0;32mand\u001b[0m  \u001b[0mnp\u001b[0m\u001b[0;34m.\u001b[0m\u001b[0mmean\u001b[0m\u001b[0;34m(\u001b[0m\u001b[0mlast_last_few_losses\u001b[0m\u001b[0;34m)\u001b[0m \u001b[0;34m<\u001b[0m \u001b[0mnp\u001b[0m\u001b[0;34m.\u001b[0m\u001b[0mmean\u001b[0m\u001b[0;34m(\u001b[0m\u001b[0mlast_few_losses\u001b[0m\u001b[0;34m)\u001b[0m\u001b[0;34m:\u001b[0m\u001b[0;34m\u001b[0m\u001b[0;34m\u001b[0m\u001b[0m\n\u001b[1;32m    722\u001b[0m                         \u001b[0mold_lr\u001b[0m \u001b[0;34m=\u001b[0m \u001b[0mself\u001b[0m\u001b[0;34m.\u001b[0m\u001b[0mlr\u001b[0m\u001b[0;34m\u001b[0m\u001b[0;34m\u001b[0m\u001b[0m\n",
      "\u001b[0;32m/opt/conda/lib/python3.7/site-packages/torch/tensor.py\u001b[0m in \u001b[0;36mbackward\u001b[0;34m(self, gradient, retain_graph, create_graph)\u001b[0m\n\u001b[1;32m    183\u001b[0m                 \u001b[0mproducts\u001b[0m\u001b[0;34m.\u001b[0m \u001b[0mDefaults\u001b[0m \u001b[0mto\u001b[0m\u001b[0;31m \u001b[0m\u001b[0;31m`\u001b[0m\u001b[0;31m`\u001b[0m\u001b[0;32mFalse\u001b[0m\u001b[0;31m`\u001b[0m\u001b[0;31m`\u001b[0m\u001b[0;34m.\u001b[0m\u001b[0;34m\u001b[0m\u001b[0;34m\u001b[0m\u001b[0m\n\u001b[1;32m    184\u001b[0m         \"\"\"\n\u001b[0;32m--> 185\u001b[0;31m         \u001b[0mtorch\u001b[0m\u001b[0;34m.\u001b[0m\u001b[0mautograd\u001b[0m\u001b[0;34m.\u001b[0m\u001b[0mbackward\u001b[0m\u001b[0;34m(\u001b[0m\u001b[0mself\u001b[0m\u001b[0;34m,\u001b[0m \u001b[0mgradient\u001b[0m\u001b[0;34m,\u001b[0m \u001b[0mretain_graph\u001b[0m\u001b[0;34m,\u001b[0m \u001b[0mcreate_graph\u001b[0m\u001b[0;34m)\u001b[0m\u001b[0;34m\u001b[0m\u001b[0;34m\u001b[0m\u001b[0m\n\u001b[0m\u001b[1;32m    186\u001b[0m \u001b[0;34m\u001b[0m\u001b[0m\n\u001b[1;32m    187\u001b[0m     \u001b[0;32mdef\u001b[0m \u001b[0mregister_hook\u001b[0m\u001b[0;34m(\u001b[0m\u001b[0mself\u001b[0m\u001b[0;34m,\u001b[0m \u001b[0mhook\u001b[0m\u001b[0;34m)\u001b[0m\u001b[0;34m:\u001b[0m\u001b[0;34m\u001b[0m\u001b[0;34m\u001b[0m\u001b[0m\n",
      "\u001b[0;32m/opt/conda/lib/python3.7/site-packages/torch/autograd/__init__.py\u001b[0m in \u001b[0;36mbackward\u001b[0;34m(tensors, grad_tensors, retain_graph, create_graph, grad_variables)\u001b[0m\n\u001b[1;32m    125\u001b[0m     Variable._execution_engine.run_backward(\n\u001b[1;32m    126\u001b[0m         \u001b[0mtensors\u001b[0m\u001b[0;34m,\u001b[0m \u001b[0mgrad_tensors\u001b[0m\u001b[0;34m,\u001b[0m \u001b[0mretain_graph\u001b[0m\u001b[0;34m,\u001b[0m \u001b[0mcreate_graph\u001b[0m\u001b[0;34m,\u001b[0m\u001b[0;34m\u001b[0m\u001b[0;34m\u001b[0m\u001b[0m\n\u001b[0;32m--> 127\u001b[0;31m         allow_unreachable=True)  # allow_unreachable flag\n\u001b[0m\u001b[1;32m    128\u001b[0m \u001b[0;34m\u001b[0m\u001b[0m\n\u001b[1;32m    129\u001b[0m \u001b[0;34m\u001b[0m\u001b[0m\n",
      "\u001b[0;31mKeyboardInterrupt\u001b[0m: "
     ]
    }
   ],
   "source": [
    "'''effnet-b4-1-multi (smaller)(CE)(AdamP)\n",
    ">>> CHECKPOINTS\n",
    "[lowest loss]()<- \"\"\n",
    "[best f1 score]()<- \"\"\n",
    "'''\n",
    "\n",
    "effnet_b4_1_multi = EfficientNetWithMultihead(\n",
    "    arc='efficientnet-b4',\n",
    "    pretrained=True,\n",
    "    label_weight_for_output=0.67,\n",
    "    name='effnet-b4-1-multi+smaller+ce+adamp'\n",
    ")\n",
    "\n",
    "effnet_b4_1_multi_logger = CSVLogger()\n",
    "\n",
    "branch = ConfigBranch(\n",
    "    train_path = '/opt/ml/input/data/train/train0_',\n",
    "    valid_set = \n",
    "    model = effnet_b4_1_multi,\n",
    "    logger = effnet_b4_1_multi_logger,\n",
    "    classifying = 'all', \n",
    "    upscale = False,\n",
    "    cutmix = False,\n",
    "    criterion = 'CrossEntropyLoss',\n",
    "    optimizer = 'AdamP',\n",
    "    lr = 1e-3,\n",
    "    state_path = '/opt/ml/output/models/2021-04-08-05_28_01.260455_model_.pth',\n",
    ")\n",
    "\n",
    "config.path.train = branch.train_path\n",
    "config.model.model = branch.model\n",
    "config.train.logger = branch.logger\n",
    "config.model.classifying = branch.classifying\n",
    "config.data.upscale = branch.upscale\n",
    "config.data.train_cutmix = branch.cutmix\n",
    "config.train.optimizer.name = branch.optimizer\n",
    "config.train.lr.base = branch.lr\n",
    "config.train.weight_decay = 1e-4\n",
    "config.train.loss.criterion = branch.criterion\n",
    "config.model.state_path = branch.state_path\n",
    "\n",
    "try:\n",
    "    trainer().load_state_dict_to_model()\n",
    "except KeyError:\n",
    "    trainer().model.load_state_dict(load_and_fix_state_dict(config.model.state_path))\n",
    "\n",
    "trainer.train_and_save()\n",
    "# trainer.valid()\n",
    "# trainer.infer_and_save_csv()"
   ]
  },
  {
   "cell_type": "code",
   "execution_count": null,
   "id": "scientific-macedonia",
   "metadata": {},
   "outputs": [],
   "source": [
    "'''\n",
    ">>> CHECKPOINTS\n",
    "[lowest loss]()<- \"\"\n",
    "[best f1 score]()<- \"\"\n",
    "'''\n",
    "\n",
    "config.data.train_cutmix = True\n",
    "config.model.state_path = ''\n",
    "# config.train.lr.base = \n",
    "\n",
    "try:\n",
    "    trainer().load_state_dict_to_model()\n",
    "except KeyError:\n",
    "    trainer().model.load_state_dict(load_and_fix_state_dict(config.model.state_path))\n",
    "\n",
    "trainer.train_and_save()\n",
    "# trainer.valid()\n",
    "# trainer.infer_and_save_csv()"
   ]
  },
  {
   "cell_type": "code",
   "execution_count": 24,
   "id": "meaningful-cathedral",
   "metadata": {
    "tags": []
   },
   "outputs": [
    {
     "data": {
      "text/plain": [
       "'hrnet-w18-small-v2 (all)(nn.CrossEntropyLoss)(AdamP)\\nCHECKPOINTS\\n[lowest loss]()   <-  \"\"\\n[best f1 score]() <-  \"\"\\n'"
      ]
     },
     "execution_count": 24,
     "metadata": {},
     "output_type": "execute_result"
    }
   ],
   "source": [
    "'''hrnet-w18-small-v2 (all)(nn.CrossEntropyLoss)(AdamP)\n",
    ">>> CHECKPOINTS\n",
    "[lowest loss]()   <-  \"\"\n",
    "[best f1 score]() <-  \"\"\n",
    "'''\n",
    "\n",
    "# hrnet_w18_small_v2_1a_all = timm.models.hrnet_w18_small_v2(True)\n",
    "# hrnet_w18_small_v2_1a_all.classifier = nn.Linear(hrnet_w18_small_v2_1a_all.classifier.in_features, 18)\n",
    "# setattr(hrnet_w18_small_v2_1a_all, 'name', '-'.join('hrnet_w18_small_v2_1a_all'.split('_')))\n",
    "# hrnet_w18_small_v2_1a_all_logger = CSVLogger()\n",
    "\n",
    "# branch = ConfigBranch(\n",
    "#     train_path = '/opt/ml/input/data/train/all_',\n",
    "#     model = hrnet_w18_small_v2_1a_all,\n",
    "#     logger = hrnet_w18_small_v2_1a_all_logger, \n",
    "#     classifying = 'all', \n",
    "#     upscale = False,\n",
    "#     criterion = \"CrossEntropyLoss\",\n",
    "#     optimizer = 'AdamP',\n",
    "#     lr = 1e-3,\n",
    "#     state_path = '/opt/ml/output/models/2021-04-07 18:42:34.246793__.pth',\n",
    "# )\n",
    "\n",
    "# config.path.train = branch.train_path\n",
    "# config.model.model = branch.model\n",
    "# config.train.logger = branch.logger\n",
    "# config.model.classifying = branch.classifying\n",
    "# config.data.upscale = branch.upscale\n",
    "# config.train.optimizer.name = branch.optimizer\n",
    "# config.train.lr.base = branch.lr\n",
    "# config.train.weight_decay = 1e-4\n",
    "# config.train.loss.criterion = branch.criterion\n",
    "# config.model.state_path = branch.state_path\n",
    "\n",
    "# try:\n",
    "#     trainer().load_state_dict_to_model()\n",
    "# except:\n",
    "#     trainer().model.load_state_dict(load_and_fix_state_dict(config.model.state_path))\n",
    "    \n",
    "# trainer.train_and_save()"
   ]
  },
  {
   "cell_type": "code",
   "execution_count": 25,
   "id": "crucial-payroll",
   "metadata": {},
   "outputs": [
    {
     "data": {
      "text/plain": [
       "'effnet-b0-1a-age-soft (raw)(nn.CrossEntropyLoss)(AdamP)\\n>>>CHECKPOINTS\\n[lowest loss]()<- \" /opt/ml/output/models/2021-04-08-00_55_12.825011_effnet-b0-1a-age-soft+raw+ce+adamp_.pth\"\\n[best f1 score]()<- \"\"\\n'"
      ]
     },
     "execution_count": 25,
     "metadata": {},
     "output_type": "execute_result"
    }
   ],
   "source": [
    "'''effnet-b0-1a-age-soft (raw)(nn.CrossEntropyLoss)(AdamP)\n",
    ">>>CHECKPOINTS\n",
    "[lowest loss]()<- \" /opt/ml/output/models/2021-04-08-00_55_12.825011_effnet-b0-1a-age-soft+raw+ce+adamp_.pth\"\n",
    "[best f1 score]()<- \"\"\n",
    "'''\n",
    "\n",
    "# effnet_b0_1a = timm.models.efficientnet_b0(pretrained=True)\n",
    "# effnet_b0_1a.classifier = nn.Linear(effnet_b0_1a.classifier.in_features, 3)\n",
    "# setattr(effnet_b0_1a, \"name\", \"effnet-b0-1a-age-soft+raw+ce+adamp\")\n",
    "# effnet_b0_1a_logger = CSVLogger()\n",
    "\n",
    "# branch = ConfigBranch(\n",
    "#     train_path = '/opt/ml/input/data/train/all_',\n",
    "#     model = effnet_b0_1a,\n",
    "#     logger = effnet_b0_1a_logger, \n",
    "#     classifying = 'age', \n",
    "#     soften_age = True,\n",
    "#     upscale = False,\n",
    "#     criterion = SoftKLDivLoss(T=1),\n",
    "#     optimizer = 'AdamP',\n",
    "#     lr = 1e-3,\n",
    "#     state_path = '/opt/ml/output/models/2021-04-08-00_55_12.825011_effnet-b0-1a-age-soft+raw+ce+adamp_.pth',\n",
    "# )\n",
    "\n",
    "# config.path.train = branch.train_path\n",
    "# config.model.model = branch.model\n",
    "# config.train.logger = branch.logger\n",
    "# config.model.classifying = branch.classifying\n",
    "# config.data.soften_age = branch.soften_age\n",
    "# config.data.upscale = branch.upscale\n",
    "# config.train.optimizer.name = branch.optimizer\n",
    "# config.train.lr.base = branch.lr\n",
    "# config.train.weight_decay = 1e-4\n",
    "# config.train.loss.criterion = branch.criterion\n",
    "# config.model.state_path = branch.state_path\n",
    "\n",
    "# try:\n",
    "#     trainer().load_state_dict_to_model()\n",
    "# except:\n",
    "#     trainer().model.load_state_dict(load_and_fix_state_dict(config.model.state_path))\n",
    "\n",
    "# # trainer.train_and_save()\n",
    "# # trainer.valid()\n",
    "# trainer.infer_and_save_csv()"
   ]
  },
  {
   "cell_type": "code",
   "execution_count": 26,
   "id": "painful-destruction",
   "metadata": {
    "collapsed": true,
    "jupyter": {
     "outputs_hidden": true
    },
    "tags": []
   },
   "outputs": [
    {
     "name": "stdout",
     "output_type": "stream",
     "text": [
      "[INFO]\n",
      "model=effnet-b0-1a-all-cutmix_random+smaller+ce+adamp\n",
      "device=cuda:0(Tesla P40)\n",
      "data size=(12959 + 3239), batch size=32\n",
      "optimizer.name=AdamP\n",
      "epochs=20, lr=0.001, weight_decay=0.0001, betas=(0.9, 0.999)\n",
      "\n",
      "Start of traning.\n",
      "[Epoch 001]  Loss: 0.77222,  Acc: 77.884,  F1 Score: 0.44877  (04:05)\n",
      "[Valid 001]  Loss: 1.49752,  Acc: 65.082,  F1 Score: 0.32283\n",
      "Saved model: /opt/ml/output/models/2021-04-08-03_34_42.377840_effnet-b0-1a-all-cutmix_random+smaller+ce+adamp_.pth\n",
      "[Epoch 002]  Loss: 0.55970,  Acc: 83.270,  F1 Score: 0.54918  (04:08)\n",
      "[Valid 002]  Loss: 0.78492,  Acc: 78.635,  F1 Score: 0.45454\n",
      "Saved model: /opt/ml/output/models/2021-04-08-03_39_07.572087_effnet-b0-1a-all-cutmix_random+smaller+ce+adamp_.pth\n",
      "[Epoch 003]  Loss: 0.33886,  Acc: 90.123,  F1 Score: 0.66095  (04:09)\n",
      "[Valid 003]  Loss: 1.26470,  Acc: 71.998,  F1 Score: 0.43060\n",
      "Saved model: /opt/ml/output/models/2021-04-08-03_43_34.216052_effnet-b0-1a-all-cutmix_random+smaller+ce+adamp_.pth\n",
      "[Epoch 004]  Loss: 0.21392,  Acc: 93.834,  F1 Score: 0.78658  (04:05)\n",
      "[Valid 004]  Loss: 1.38165,  Acc: 76.505,  F1 Score: 0.43116\n",
      "Saved model: /opt/ml/output/models/2021-04-08-03_47_56.604953_effnet-b0-1a-all-cutmix_random+smaller+ce+adamp_.pth\n",
      "[Epoch 005]  Loss: 0.15031,  Acc: 95.656,  F1 Score: 0.84795  (04:06)\n",
      "[Valid 005]  Loss: 0.89366,  Acc: 82.309,  F1 Score: 0.58399\n",
      "Saved model: /opt/ml/output/models/2021-04-08-03_52_20.155369_effnet-b0-1a-all-cutmix_random+smaller+ce+adamp_.pth\n"
     ]
    },
    {
     "data": {
      "image/png": "[encoded data removed]",
      "text/plain": [
       "<Figure size 720x360 with 2 Axes>"
      ]
     },
     "metadata": {
      "needs_background": "light"
     },
     "output_type": "display_data"
    },
    {
     "name": "stdout",
     "output_type": "stream",
     "text": [
      "[Epoch 006]  Loss: 0.13079,  Acc: 96.296,  F1 Score: 0.88017  (04:05)\n",
      "[Valid 006]  Loss: 1.12245,  Acc: 80.086,  F1 Score: 0.53483\n",
      "Saved model: /opt/ml/output/models/2021-04-08-03_56_42.434227_effnet-b0-1a-all-cutmix_random+smaller+ce+adamp_.pth\n",
      "[Epoch 007]  Loss: 0.08582,  Acc: 97.508,  F1 Score: 0.90489  (04:09)\n",
      "[Valid 007]  Loss: 1.13554,  Acc: 81.198,  F1 Score: 0.57681\n",
      "Saved model: /opt/ml/output/models/2021-04-08-04_01_08.574490_effnet-b0-1a-all-cutmix_random+smaller+ce+adamp_.pth\n",
      "[Epoch 008]  Loss: 0.05113,  Acc: 98.418,  F1 Score: 0.94014  (04:07)\n",
      "[Valid 008]  Loss: 1.23758,  Acc: 82.186,  F1 Score: 0.57031\n",
      "Saved model: /opt/ml/output/models/2021-04-08-04_05_33.353761_effnet-b0-1a-all-cutmix_random+smaller+ce+adamp_.pth\n",
      "[Epoch 009]  Loss: 0.03852,  Acc: 98.843,  F1 Score: 0.95218  (04:06)\n",
      "[Valid 009]  Loss: 1.58597,  Acc: 76.906,  F1 Score: 0.51531\n",
      "Saved model: /opt/ml/output/models/2021-04-08-04_09_56.693043_effnet-b0-1a-all-cutmix_random+smaller+ce+adamp_.pth\n",
      "[Epoch 010]  Loss: 0.04958,  Acc: 98.642,  F1 Score: 0.96211  (04:06)\n",
      "[Valid 010]  Loss: 1.19335,  Acc: 81.754,  F1 Score: 0.56945\n",
      "Saved model: /opt/ml/output/models/2021-04-08-04_14_20.215391_effnet-b0-1a-all-cutmix_random+smaller+ce+adamp_.pth\n"
     ]
    },
    {
     "data": {
      "image/png": "[encoded data removed]",
      "text/plain": [
       "<Figure size 720x360 with 2 Axes>"
      ]
     },
     "metadata": {
      "needs_background": "light"
     },
     "output_type": "display_data"
    },
    {
     "name": "stdout",
     "output_type": "stream",
     "text": [
      "[Epoch 011]  Loss: 0.04013,  Acc: 98.912,  F1 Score: 0.96778  (04:07)\n",
      "[Valid 011]  Loss: 1.34958,  Acc: 82.495,  F1 Score: 0.58597\n",
      "Saved model: /opt/ml/output/models/2021-04-08-04_18_44.943784_effnet-b0-1a-all-cutmix_random+smaller+ce+adamp_.pth\n",
      "[Epoch 012]  Loss: 0.05023,  Acc: 98.542,  F1 Score: 0.93857  (04:05)\n",
      "[Valid 012]  Loss: 1.58465,  Acc: 80.611,  F1 Score: 0.55122\n",
      "Saved model: /opt/ml/output/models/2021-04-08-04_23_07.439096_effnet-b0-1a-all-cutmix_random+smaller+ce+adamp_.pth\n",
      "[Epoch 013]  Loss: 0.05755,  Acc: 98.418,  F1 Score: 0.95467  (04:09)\n",
      "[Valid 013]  Loss: 1.78036,  Acc: 77.956,  F1 Score: 0.53299\n",
      "Saved model: /opt/ml/output/models/2021-04-08-04_27_33.607987_effnet-b0-1a-all-cutmix_random+smaller+ce+adamp_.pth\n",
      "[Epoch 014]  Loss: 0.03769,  Acc: 98.935,  F1 Score: 0.96508  (04:08)\n",
      "[Valid 014]  Loss: 1.57525,  Acc: 81.414,  F1 Score: 0.55538\n",
      "Saved model: /opt/ml/output/models/2021-04-08-04_31_58.604264_effnet-b0-1a-all-cutmix_random+smaller+ce+adamp_.pth\n",
      "[Epoch 015]  Loss: 0.04212,  Acc: 98.758,  F1 Score: 0.95735  (04:07)\n",
      "[Valid 015]  Loss: 1.52257,  Acc: 80.426,  F1 Score: 0.54615\n",
      "Saved model: /opt/ml/output/models/2021-04-08-04_36_22.564124_effnet-b0-1a-all-cutmix_random+smaller+ce+adamp_.pth\n"
     ]
    },
    {
     "data": {
      "image/png": "[encoded data removed]",
      "text/plain": [
       "<Figure size 720x360 with 2 Axes>"
      ]
     },
     "metadata": {
      "needs_background": "light"
     },
     "output_type": "display_data"
    },
    {
     "name": "stdout",
     "output_type": "stream",
     "text": [
      "[Epoch 016]  Loss: 0.03409,  Acc: 99.043,  F1 Score: 0.96823  (04:10)\n",
      "[Valid 016]  Loss: 1.93474,  Acc: 79.098,  F1 Score: 0.53604\n",
      "Saved model: /opt/ml/output/models/2021-04-08-04_40_50.063907_effnet-b0-1a-all-cutmix_random+smaller+ce+adamp_.pth\n",
      "[Epoch 017] (Batch #168)  Loss: 0.03775,  Acc: 98.835  (01:46))"
     ]
    },
    {
     "ename": "KeyboardInterrupt",
     "evalue": "",
     "output_type": "error",
     "traceback": [
      "\u001b[0;31m---------------------------------------------------------------------------\u001b[0m",
      "\u001b[0;31mKeyboardInterrupt\u001b[0m                         Traceback (most recent call last)",
      "\u001b[0;32m<ipython-input-26-a425a4e9c0b6>\u001b[0m in \u001b[0;36m<module>\u001b[0;34m\u001b[0m\n\u001b[1;32m     41\u001b[0m     \u001b[0mtrainer\u001b[0m\u001b[0;34m(\u001b[0m\u001b[0;34m)\u001b[0m\u001b[0;34m.\u001b[0m\u001b[0mmodel\u001b[0m\u001b[0;34m.\u001b[0m\u001b[0mload_state_dict\u001b[0m\u001b[0;34m(\u001b[0m\u001b[0mload_and_fix_state_dict\u001b[0m\u001b[0;34m(\u001b[0m\u001b[0mconfig\u001b[0m\u001b[0;34m.\u001b[0m\u001b[0mmodel\u001b[0m\u001b[0;34m.\u001b[0m\u001b[0mstate_path\u001b[0m\u001b[0;34m)\u001b[0m\u001b[0;34m)\u001b[0m\u001b[0;34m\u001b[0m\u001b[0;34m\u001b[0m\u001b[0m\n\u001b[1;32m     42\u001b[0m \u001b[0;34m\u001b[0m\u001b[0m\n\u001b[0;32m---> 43\u001b[0;31m \u001b[0mtrainer\u001b[0m\u001b[0;34m.\u001b[0m\u001b[0mtrain_and_save\u001b[0m\u001b[0;34m(\u001b[0m\u001b[0;34m)\u001b[0m\u001b[0;34m\u001b[0m\u001b[0;34m\u001b[0m\u001b[0m\n\u001b[0m\u001b[1;32m     44\u001b[0m \u001b[0;31m# trainer.valid()\u001b[0m\u001b[0;34m\u001b[0m\u001b[0;34m\u001b[0m\u001b[0;34m\u001b[0m\u001b[0m\n\u001b[1;32m     45\u001b[0m \u001b[0;31m# trainer.infer_and_save_csv()\u001b[0m\u001b[0;34m\u001b[0m\u001b[0;34m\u001b[0m\u001b[0;34m\u001b[0m\u001b[0m\n",
      "\u001b[0;32m~/code/stage1/stage1/trainer/trainer.py\u001b[0m in \u001b[0;36mtrain_and_save\u001b[0;34m(self)\u001b[0m\n\u001b[1;32m    614\u001b[0m \u001b[0;34m\u001b[0m\u001b[0m\n\u001b[1;32m    615\u001b[0m             \u001b[0mself\u001b[0m\u001b[0;34m.\u001b[0m\u001b[0mepochs\u001b[0m \u001b[0;34m+=\u001b[0m \u001b[0;36m1\u001b[0m\u001b[0;34m\u001b[0m\u001b[0;34m\u001b[0m\u001b[0m\n\u001b[0;32m--> 616\u001b[0;31m             \u001b[0mself\u001b[0m\u001b[0;34m.\u001b[0m\u001b[0mtrain_one_epoch\u001b[0m\u001b[0;34m(\u001b[0m\u001b[0;34m)\u001b[0m\u001b[0;34m\u001b[0m\u001b[0;34m\u001b[0m\u001b[0m\n\u001b[0m\u001b[1;32m    617\u001b[0m \u001b[0;34m\u001b[0m\u001b[0m\n\u001b[1;32m    618\u001b[0m             \u001b[0;31m# naive k-fold validation\u001b[0m\u001b[0;34m\u001b[0m\u001b[0;34m\u001b[0m\u001b[0;34m\u001b[0m\u001b[0m\n",
      "\u001b[0;32m~/code/stage1/stage1/trainer/trainer.py\u001b[0m in \u001b[0;36mtrain_one_epoch\u001b[0;34m(self, add_loader)\u001b[0m\n\u001b[1;32m    715\u001b[0m \u001b[0;34m\u001b[0m\u001b[0m\n\u001b[1;32m    716\u001b[0m             \u001b[0moutputs\u001b[0m \u001b[0;34m=\u001b[0m \u001b[0mself\u001b[0m\u001b[0;34m.\u001b[0m\u001b[0mmodel\u001b[0m\u001b[0;34m(\u001b[0m\u001b[0minputs\u001b[0m\u001b[0;34m)\u001b[0m\u001b[0;34m\u001b[0m\u001b[0;34m\u001b[0m\u001b[0m\n\u001b[0;32m--> 717\u001b[0;31m             \u001b[0mtargets\u001b[0m \u001b[0;34m=\u001b[0m \u001b[0mtargets\u001b[0m\u001b[0;34m.\u001b[0m\u001b[0mto\u001b[0m\u001b[0;34m(\u001b[0m\u001b[0mself\u001b[0m\u001b[0;34m.\u001b[0m\u001b[0mdevice\u001b[0m\u001b[0;34m)\u001b[0m\u001b[0;34m\u001b[0m\u001b[0;34m\u001b[0m\u001b[0m\n\u001b[0m\u001b[1;32m    718\u001b[0m \u001b[0;34m\u001b[0m\u001b[0m\n\u001b[1;32m    719\u001b[0m             \u001b[0mloss\u001b[0m \u001b[0;34m=\u001b[0m \u001b[0mself\u001b[0m\u001b[0;34m.\u001b[0m\u001b[0mcriterion\u001b[0m\u001b[0;34m(\u001b[0m\u001b[0moutputs\u001b[0m\u001b[0;34m,\u001b[0m \u001b[0mtargets\u001b[0m\u001b[0;34m)\u001b[0m\u001b[0;34m\u001b[0m\u001b[0;34m\u001b[0m\u001b[0m\n",
      "\u001b[0;31mKeyboardInterrupt\u001b[0m: "
     ]
    }
   ],
   "source": [
    "'''effnet-b0-1a-all-cutmix-realrandom (smaller)(CE)(AdamP)\n",
    ">>> CHECKPOINTS\n",
    "[lowest loss]()<- \"\"\n",
    "[best f1 score]()<- \"\"\n",
    "'''\n",
    "\n",
    "effnet_b0_1a = timm.models.efficientnet_b0(pretrained=True)\n",
    "effnet_b0_1a.classifier = nn.Linear(effnet_b0_1a.classifier.in_features, 18)\n",
    "setattr(effnet_b0_1a, \"name\", \"effnet-b0-1a-all-cutmix_random+smaller+ce+adamp\")\n",
    "\n",
    "effnet_b0_1a__logger = CSVLogger()\n",
    "\n",
    "branch = ConfigBranch(\n",
    "    train_path = '/opt/ml/input/data/train/smaller_',\n",
    "    model = effnet_b0_1a,\n",
    "    logger = effnet_b0_1a__logger, \n",
    "    classifying = 'all', \n",
    "    upscale = False,\n",
    "    cutmix = 'random',\n",
    "    criterion = 'CrossEntropyLoss',\n",
    "    optimizer = 'AdamP',\n",
    "    lr = 1e-3,\n",
    "    state_path = '',\n",
    ")\n",
    "\n",
    "config.path.train = branch.train_path\n",
    "config.model.model = branch.model\n",
    "config.train.logger = branch.logger\n",
    "config.model.classifying = branch.classifying\n",
    "config.data.upscale = branch.upscale\n",
    "config.data.train_cutmix = branch.cutmix\n",
    "config.train.optimizer.name = branch.optimizer\n",
    "config.train.lr.base = branch.lr\n",
    "config.train.weight_decay = 1e-4\n",
    "config.train.loss.criterion = branch.criterion\n",
    "config.model.state_path = branch.state_path\n",
    "\n",
    "try:\n",
    "    trainer().load_state_dict_to_model()\n",
    "except KeyError:\n",
    "    trainer().model.load_state_dict(load_and_fix_state_dict(config.model.state_path))\n",
    "\n",
    "trainer.train_and_save()\n",
    "# trainer.valid()\n",
    "# trainer.infer_and_save_csv()"
   ]
  },
  {
   "cell_type": "code",
   "execution_count": 36,
   "id": "massive-globe",
   "metadata": {},
   "outputs": [
    {
     "name": "stdout",
     "output_type": "stream",
     "text": [
      "Loaded state dict to model.\n",
      "[Valid 039]  Loss: 1.69499,  Acc: 97.530,  F1 Score: 0.93921\n",
      "effnet-b0-1a+smaller+ce+adamp: End of evaluation (01:02)\n",
      "Saved result: /opt/ml/output/effnet-b0-1a+smaller+ce+adamp_2021-04-08-02_44_35.293591.csv\n"
     ]
    },
    {
     "data": {
      "text/plain": [
       "'/opt/ml/output/effnet-b0-1a+smaller+ce+adamp_2021-04-08-02_44_35.293591.csv'"
      ]
     },
     "execution_count": 36,
     "metadata": {},
     "output_type": "execute_result"
    }
   ],
   "source": [
    "'''effnet-b0-1a-all (smaller)(ArcFaceLoss)(AdamP)\n",
    ">>> CHECKPOINTS\n",
    "[lowest loss](1.69499)<- \"/opt/ml/output/models/2021-04-08-02_22_16.155344_effnet-b0-1a+smaller+ce+adamp_.pth\"\n",
    "[best f1 score](0.93921)<- \"/opt/ml/output/models/2021-04-08-02_22_16.155344_effnet-b0-1a+smaller+ce+adamp_.pth\"\n",
    "'''\n",
    "\n",
    "effnet_b0_1a = timm.models.efficientnet_b0(pretrained=True)\n",
    "effnet_b0_1a.classifier = nn.Linear(effnet_b0_1a.classifier.in_features, 18)\n",
    "setattr(effnet_b0_1a, \"name\", \"effnet-b0-1a+smaller+ce+adamp\")\n",
    "\n",
    "effnet_b0_1a__logger = CSVLogger()\n",
    "\n",
    "branch = ConfigBranch(\n",
    "    train_path = '/opt/ml/input/data/train/smaller_',\n",
    "    model = effnet_b0_1a,\n",
    "    logger = effnet_b0_1a__logger, \n",
    "    classifying = 'all', \n",
    "    upscale = False,\n",
    "    criterion = 'ArcFaceLoss',\n",
    "    optimizer = 'AdamP',\n",
    "    lr = 1e-3,\n",
    "    state_path = '/opt/ml/output/models/archive/2021-04-08-02_22_16.155344_effnet-b0-1a+smaller+ce+adamp_.pth',\n",
    ")\n",
    "\n",
    "config.path.train = branch.train_path\n",
    "config.model.model = branch.model\n",
    "config.train.logger = branch.logger\n",
    "config.model.classifying = branch.classifying\n",
    "config.data.upscale = branch.upscale\n",
    "config.train.optimizer.name = branch.optimizer\n",
    "config.train.lr.base = branch.lr\n",
    "config.train.weight_decay = 1e-4\n",
    "config.train.loss.criterion = branch.criterion\n",
    "config.model.state_path = branch.state_path\n",
    "\n",
    "try:\n",
    "    trainer().load_state_dict_to_model()\n",
    "except KeyError:\n",
    "    trainer().model.load_state_dict(load_and_fix_state_dict(config.model.state_path))\n",
    "\n",
    "# trainer.train_and_save()\n",
    "trainer.valid()\n",
    "trainer.infer_and_save_csv()"
   ]
  },
  {
   "cell_type": "code",
   "execution_count": 29,
   "id": "traditional-replica",
   "metadata": {
    "collapsed": true,
    "jupyter": {
     "outputs_hidden": true
    },
    "tags": []
   },
   "outputs": [
    {
     "name": "stdout",
     "output_type": "stream",
     "text": [
      "Loaded pretrained weights for efficientnet-b0\n",
      "[INFO]\n",
      "model=effnet-b0-1-1-multi-raw+ce(as)+adamp\n",
      "device=cuda:0(Tesla P40)\n",
      "data size=(15120 + 3780), batch size=32\n",
      "optimizer.name=MADGRAD\n",
      "epochs=20, lr=0.01, weight_decay=0.0001\n",
      "\n",
      "Start of traning.\n",
      "[Valid 005]  Loss: 2.93791,  Acc: 4.233,  F1 Score: 0.00511\n",
      "[Epoch 006]  Loss: 2.47867,  Acc: 22.235,  F1 Score: 0.03701  (05:48)\n",
      "[Valid 006] (Batch #064)  Loss: 9.47496,  Acc: 4.760"
     ]
    },
    {
     "ename": "KeyboardInterrupt",
     "evalue": "",
     "output_type": "error",
     "traceback": [
      "\u001b[0;31m---------------------------------------------------------------------------\u001b[0m",
      "\u001b[0;31mKeyboardInterrupt\u001b[0m                         Traceback (most recent call last)",
      "\u001b[0;32m<ipython-input-29-f8821791c6f5>\u001b[0m in \u001b[0;36m<module>\u001b[0;34m\u001b[0m\n\u001b[1;32m     34\u001b[0m     \u001b[0mstate_dict\u001b[0m \u001b[0;34m=\u001b[0m \u001b[0mload_and_fix_state_dict\u001b[0m\u001b[0;34m(\u001b[0m\u001b[0mstate_path\u001b[0m\u001b[0;34m=\u001b[0m\u001b[0mconfig\u001b[0m\u001b[0;34m.\u001b[0m\u001b[0mmodel\u001b[0m\u001b[0;34m.\u001b[0m\u001b[0mstate_path\u001b[0m\u001b[0;34m)\u001b[0m\u001b[0;34m\u001b[0m\u001b[0;34m\u001b[0m\u001b[0m\n\u001b[1;32m     35\u001b[0m     \u001b[0mbranch\u001b[0m\u001b[0;34m.\u001b[0m\u001b[0mmodel\u001b[0m\u001b[0;34m.\u001b[0m\u001b[0mload_state_dict\u001b[0m\u001b[0;34m(\u001b[0m\u001b[0mstate_dict\u001b[0m\u001b[0;34m)\u001b[0m\u001b[0;34m\u001b[0m\u001b[0;34m\u001b[0m\u001b[0m\n\u001b[0;32m---> 36\u001b[0;31m \u001b[0mtrainer\u001b[0m\u001b[0;34m(\u001b[0m\u001b[0;34m)\u001b[0m\u001b[0;34m.\u001b[0m\u001b[0mtrain_and_save\u001b[0m\u001b[0;34m(\u001b[0m\u001b[0;34m)\u001b[0m\u001b[0;34m\u001b[0m\u001b[0;34m\u001b[0m\u001b[0m\n\u001b[0m",
      "\u001b[0;32m~/code/stage1/stage1/trainer/trainer.py\u001b[0m in \u001b[0;36mtrain_and_save\u001b[0;34m(self)\u001b[0m\n\u001b[1;32m    463\u001b[0m             \u001b[0;32mand\u001b[0m \u001b[0mself\u001b[0m\u001b[0;34m.\u001b[0m\u001b[0mepochs\u001b[0m \u001b[0;34m>=\u001b[0m \u001b[0mself\u001b[0m\u001b[0;34m.\u001b[0m\u001b[0mconfig\u001b[0m\u001b[0;34m.\u001b[0m\u001b[0mtrain\u001b[0m\u001b[0;34m.\u001b[0m\u001b[0mvalid_min\u001b[0m\u001b[0;31m \u001b[0m\u001b[0;31m\\\u001b[0m\u001b[0;34m\u001b[0m\u001b[0;34m\u001b[0m\u001b[0m\n\u001b[1;32m    464\u001b[0m             \u001b[0;32mand\u001b[0m \u001b[0mself\u001b[0m\u001b[0;34m.\u001b[0m\u001b[0mepochs\u001b[0m \u001b[0;34m%\u001b[0m \u001b[0mself\u001b[0m\u001b[0;34m.\u001b[0m\u001b[0mconfig\u001b[0m\u001b[0;34m.\u001b[0m\u001b[0mtrain\u001b[0m\u001b[0;34m.\u001b[0m\u001b[0mvalid_period\u001b[0m \u001b[0;34m==\u001b[0m \u001b[0;36m0\u001b[0m\u001b[0;34m:\u001b[0m\u001b[0;34m\u001b[0m\u001b[0;34m\u001b[0m\u001b[0m\n\u001b[0;32m--> 465\u001b[0;31m                 \u001b[0mlast_valid_loss\u001b[0m\u001b[0;34m,\u001b[0m \u001b[0mlast_valid_acc\u001b[0m \u001b[0;34m=\u001b[0m \u001b[0mself\u001b[0m\u001b[0;34m.\u001b[0m\u001b[0mvalid\u001b[0m\u001b[0;34m(\u001b[0m\u001b[0;34m)\u001b[0m\u001b[0;34m\u001b[0m\u001b[0;34m\u001b[0m\u001b[0m\n\u001b[0m\u001b[1;32m    466\u001b[0m                 \u001b[0mvalided\u001b[0m \u001b[0;34m=\u001b[0m \u001b[0;32mTrue\u001b[0m\u001b[0;34m\u001b[0m\u001b[0;34m\u001b[0m\u001b[0m\n\u001b[1;32m    467\u001b[0m \u001b[0;34m\u001b[0m\u001b[0m\n",
      "\u001b[0;32m~/code/stage1/stage1/trainer/trainer.py\u001b[0m in \u001b[0;36mvalid\u001b[0;34m(self, log)\u001b[0m\n\u001b[1;32m    620\u001b[0m                 \u001b[0minputs\u001b[0m\u001b[0;34m,\u001b[0m \u001b[0mtargets\u001b[0m \u001b[0;34m=\u001b[0m \u001b[0minputs\u001b[0m\u001b[0;34m.\u001b[0m\u001b[0mto\u001b[0m\u001b[0;34m(\u001b[0m\u001b[0mself\u001b[0m\u001b[0;34m.\u001b[0m\u001b[0mdevice\u001b[0m\u001b[0;34m)\u001b[0m\u001b[0;34m,\u001b[0m \u001b[0mtargets\u001b[0m\u001b[0;34m.\u001b[0m\u001b[0mto\u001b[0m\u001b[0;34m(\u001b[0m\u001b[0mself\u001b[0m\u001b[0;34m.\u001b[0m\u001b[0mdevice\u001b[0m\u001b[0;34m)\u001b[0m\u001b[0;34m\u001b[0m\u001b[0;34m\u001b[0m\u001b[0m\n\u001b[1;32m    621\u001b[0m \u001b[0;34m\u001b[0m\u001b[0m\n\u001b[0;32m--> 622\u001b[0;31m                 \u001b[0moutputs\u001b[0m \u001b[0;34m=\u001b[0m \u001b[0mself\u001b[0m\u001b[0;34m.\u001b[0m\u001b[0mmodel\u001b[0m\u001b[0;34m(\u001b[0m\u001b[0minputs\u001b[0m\u001b[0;34m)\u001b[0m\u001b[0;34m\u001b[0m\u001b[0;34m\u001b[0m\u001b[0m\n\u001b[0m\u001b[1;32m    623\u001b[0m                 \u001b[0mloss\u001b[0m \u001b[0;34m=\u001b[0m \u001b[0mself\u001b[0m\u001b[0;34m.\u001b[0m\u001b[0mcriterion\u001b[0m\u001b[0;34m(\u001b[0m\u001b[0moutputs\u001b[0m\u001b[0;34m,\u001b[0m \u001b[0mtargets\u001b[0m\u001b[0;34m)\u001b[0m\u001b[0;34m\u001b[0m\u001b[0;34m\u001b[0m\u001b[0m\n\u001b[1;32m    624\u001b[0m \u001b[0;34m\u001b[0m\u001b[0m\n",
      "\u001b[0;32m/opt/conda/lib/python3.7/site-packages/torch/nn/modules/module.py\u001b[0m in \u001b[0;36m_call_impl\u001b[0;34m(self, *input, **kwargs)\u001b[0m\n\u001b[1;32m    720\u001b[0m             \u001b[0mresult\u001b[0m \u001b[0;34m=\u001b[0m \u001b[0mself\u001b[0m\u001b[0;34m.\u001b[0m\u001b[0m_slow_forward\u001b[0m\u001b[0;34m(\u001b[0m\u001b[0;34m*\u001b[0m\u001b[0minput\u001b[0m\u001b[0;34m,\u001b[0m \u001b[0;34m**\u001b[0m\u001b[0mkwargs\u001b[0m\u001b[0;34m)\u001b[0m\u001b[0;34m\u001b[0m\u001b[0;34m\u001b[0m\u001b[0m\n\u001b[1;32m    721\u001b[0m         \u001b[0;32melse\u001b[0m\u001b[0;34m:\u001b[0m\u001b[0;34m\u001b[0m\u001b[0;34m\u001b[0m\u001b[0m\n\u001b[0;32m--> 722\u001b[0;31m             \u001b[0mresult\u001b[0m \u001b[0;34m=\u001b[0m \u001b[0mself\u001b[0m\u001b[0;34m.\u001b[0m\u001b[0mforward\u001b[0m\u001b[0;34m(\u001b[0m\u001b[0;34m*\u001b[0m\u001b[0minput\u001b[0m\u001b[0;34m,\u001b[0m \u001b[0;34m**\u001b[0m\u001b[0mkwargs\u001b[0m\u001b[0;34m)\u001b[0m\u001b[0;34m\u001b[0m\u001b[0;34m\u001b[0m\u001b[0m\n\u001b[0m\u001b[1;32m    723\u001b[0m         for hook in itertools.chain(\n\u001b[1;32m    724\u001b[0m                 \u001b[0m_global_forward_hooks\u001b[0m\u001b[0;34m.\u001b[0m\u001b[0mvalues\u001b[0m\u001b[0;34m(\u001b[0m\u001b[0;34m)\u001b[0m\u001b[0;34m,\u001b[0m\u001b[0;34m\u001b[0m\u001b[0;34m\u001b[0m\u001b[0m\n",
      "\u001b[0;32m/opt/conda/lib/python3.7/site-packages/torch/nn/parallel/data_parallel.py\u001b[0m in \u001b[0;36mforward\u001b[0;34m(self, *inputs, **kwargs)\u001b[0m\n\u001b[1;32m    151\u001b[0m         \u001b[0minputs\u001b[0m\u001b[0;34m,\u001b[0m \u001b[0mkwargs\u001b[0m \u001b[0;34m=\u001b[0m \u001b[0mself\u001b[0m\u001b[0;34m.\u001b[0m\u001b[0mscatter\u001b[0m\u001b[0;34m(\u001b[0m\u001b[0minputs\u001b[0m\u001b[0;34m,\u001b[0m \u001b[0mkwargs\u001b[0m\u001b[0;34m,\u001b[0m \u001b[0mself\u001b[0m\u001b[0;34m.\u001b[0m\u001b[0mdevice_ids\u001b[0m\u001b[0;34m)\u001b[0m\u001b[0;34m\u001b[0m\u001b[0;34m\u001b[0m\u001b[0m\n\u001b[1;32m    152\u001b[0m         \u001b[0;32mif\u001b[0m \u001b[0mlen\u001b[0m\u001b[0;34m(\u001b[0m\u001b[0mself\u001b[0m\u001b[0;34m.\u001b[0m\u001b[0mdevice_ids\u001b[0m\u001b[0;34m)\u001b[0m \u001b[0;34m==\u001b[0m \u001b[0;36m1\u001b[0m\u001b[0;34m:\u001b[0m\u001b[0;34m\u001b[0m\u001b[0;34m\u001b[0m\u001b[0m\n\u001b[0;32m--> 153\u001b[0;31m             \u001b[0;32mreturn\u001b[0m \u001b[0mself\u001b[0m\u001b[0;34m.\u001b[0m\u001b[0mmodule\u001b[0m\u001b[0;34m(\u001b[0m\u001b[0;34m*\u001b[0m\u001b[0minputs\u001b[0m\u001b[0;34m[\u001b[0m\u001b[0;36m0\u001b[0m\u001b[0;34m]\u001b[0m\u001b[0;34m,\u001b[0m \u001b[0;34m**\u001b[0m\u001b[0mkwargs\u001b[0m\u001b[0;34m[\u001b[0m\u001b[0;36m0\u001b[0m\u001b[0;34m]\u001b[0m\u001b[0;34m)\u001b[0m\u001b[0;34m\u001b[0m\u001b[0;34m\u001b[0m\u001b[0m\n\u001b[0m\u001b[1;32m    154\u001b[0m         \u001b[0mreplicas\u001b[0m \u001b[0;34m=\u001b[0m \u001b[0mself\u001b[0m\u001b[0;34m.\u001b[0m\u001b[0mreplicate\u001b[0m\u001b[0;34m(\u001b[0m\u001b[0mself\u001b[0m\u001b[0;34m.\u001b[0m\u001b[0mmodule\u001b[0m\u001b[0;34m,\u001b[0m \u001b[0mself\u001b[0m\u001b[0;34m.\u001b[0m\u001b[0mdevice_ids\u001b[0m\u001b[0;34m[\u001b[0m\u001b[0;34m:\u001b[0m\u001b[0mlen\u001b[0m\u001b[0;34m(\u001b[0m\u001b[0minputs\u001b[0m\u001b[0;34m)\u001b[0m\u001b[0;34m]\u001b[0m\u001b[0;34m)\u001b[0m\u001b[0;34m\u001b[0m\u001b[0;34m\u001b[0m\u001b[0m\n\u001b[1;32m    155\u001b[0m         \u001b[0moutputs\u001b[0m \u001b[0;34m=\u001b[0m \u001b[0mself\u001b[0m\u001b[0;34m.\u001b[0m\u001b[0mparallel_apply\u001b[0m\u001b[0;34m(\u001b[0m\u001b[0mreplicas\u001b[0m\u001b[0;34m,\u001b[0m \u001b[0minputs\u001b[0m\u001b[0;34m,\u001b[0m \u001b[0mkwargs\u001b[0m\u001b[0;34m)\u001b[0m\u001b[0;34m\u001b[0m\u001b[0;34m\u001b[0m\u001b[0m\n",
      "\u001b[0;32m/opt/conda/lib/python3.7/site-packages/torch/nn/modules/module.py\u001b[0m in \u001b[0;36m_call_impl\u001b[0;34m(self, *input, **kwargs)\u001b[0m\n\u001b[1;32m    720\u001b[0m             \u001b[0mresult\u001b[0m \u001b[0;34m=\u001b[0m \u001b[0mself\u001b[0m\u001b[0;34m.\u001b[0m\u001b[0m_slow_forward\u001b[0m\u001b[0;34m(\u001b[0m\u001b[0;34m*\u001b[0m\u001b[0minput\u001b[0m\u001b[0;34m,\u001b[0m \u001b[0;34m**\u001b[0m\u001b[0mkwargs\u001b[0m\u001b[0;34m)\u001b[0m\u001b[0;34m\u001b[0m\u001b[0;34m\u001b[0m\u001b[0m\n\u001b[1;32m    721\u001b[0m         \u001b[0;32melse\u001b[0m\u001b[0;34m:\u001b[0m\u001b[0;34m\u001b[0m\u001b[0;34m\u001b[0m\u001b[0m\n\u001b[0;32m--> 722\u001b[0;31m             \u001b[0mresult\u001b[0m \u001b[0;34m=\u001b[0m \u001b[0mself\u001b[0m\u001b[0;34m.\u001b[0m\u001b[0mforward\u001b[0m\u001b[0;34m(\u001b[0m\u001b[0;34m*\u001b[0m\u001b[0minput\u001b[0m\u001b[0;34m,\u001b[0m \u001b[0;34m**\u001b[0m\u001b[0mkwargs\u001b[0m\u001b[0;34m)\u001b[0m\u001b[0;34m\u001b[0m\u001b[0;34m\u001b[0m\u001b[0m\n\u001b[0m\u001b[1;32m    723\u001b[0m         for hook in itertools.chain(\n\u001b[1;32m    724\u001b[0m                 \u001b[0m_global_forward_hooks\u001b[0m\u001b[0;34m.\u001b[0m\u001b[0mvalues\u001b[0m\u001b[0;34m(\u001b[0m\u001b[0;34m)\u001b[0m\u001b[0;34m,\u001b[0m\u001b[0;34m\u001b[0m\u001b[0;34m\u001b[0m\u001b[0m\n",
      "\u001b[0;32m~/code/stage1/stage1/modules/models.py\u001b[0m in \u001b[0;36mforward\u001b[0;34m(self, x)\u001b[0m\n\u001b[1;32m     43\u001b[0m             \u001b[0;32mreturn\u001b[0m \u001b[0moutputs\u001b[0m\u001b[0;34m\u001b[0m\u001b[0;34m\u001b[0m\u001b[0m\n\u001b[1;32m     44\u001b[0m \u001b[0;34m\u001b[0m\u001b[0m\n\u001b[0;32m---> 45\u001b[0;31m         \u001b[0;32mreturn\u001b[0m \u001b[0mself\u001b[0m\u001b[0;34m.\u001b[0m\u001b[0m_forward_impl\u001b[0m\u001b[0;34m(\u001b[0m\u001b[0mx\u001b[0m\u001b[0;34m)\u001b[0m\u001b[0;34m\u001b[0m\u001b[0;34m\u001b[0m\u001b[0m\n\u001b[0m\u001b[1;32m     46\u001b[0m \u001b[0;34m\u001b[0m\u001b[0m\n\u001b[1;32m     47\u001b[0m \u001b[0;34m\u001b[0m\u001b[0m\n",
      "\u001b[0;32m~/code/stage1/stage1/modules/models.py\u001b[0m in \u001b[0;36m_forward_impl\u001b[0;34m(self, x)\u001b[0m\n\u001b[1;32m    296\u001b[0m \u001b[0;34m\u001b[0m\u001b[0m\n\u001b[1;32m    297\u001b[0m     \u001b[0;32mdef\u001b[0m \u001b[0m_forward_impl\u001b[0m\u001b[0;34m(\u001b[0m\u001b[0mself\u001b[0m\u001b[0;34m,\u001b[0m \u001b[0mx\u001b[0m\u001b[0;34m)\u001b[0m\u001b[0;34m:\u001b[0m\u001b[0;34m\u001b[0m\u001b[0;34m\u001b[0m\u001b[0m\n\u001b[0;32m--> 298\u001b[0;31m         \u001b[0mx\u001b[0m \u001b[0;34m=\u001b[0m \u001b[0mself\u001b[0m\u001b[0;34m.\u001b[0m\u001b[0mmodel\u001b[0m\u001b[0;34m(\u001b[0m\u001b[0mx\u001b[0m\u001b[0;34m)\u001b[0m\u001b[0;34m\u001b[0m\u001b[0;34m\u001b[0m\u001b[0m\n\u001b[0m\u001b[1;32m    299\u001b[0m         \u001b[0;32mreturn\u001b[0m \u001b[0mx\u001b[0m\u001b[0;34m\u001b[0m\u001b[0;34m\u001b[0m\u001b[0m\n\u001b[1;32m    300\u001b[0m \u001b[0;34m\u001b[0m\u001b[0m\n",
      "\u001b[0;32m/opt/conda/lib/python3.7/site-packages/torch/nn/modules/module.py\u001b[0m in \u001b[0;36m_call_impl\u001b[0;34m(self, *input, **kwargs)\u001b[0m\n\u001b[1;32m    720\u001b[0m             \u001b[0mresult\u001b[0m \u001b[0;34m=\u001b[0m \u001b[0mself\u001b[0m\u001b[0;34m.\u001b[0m\u001b[0m_slow_forward\u001b[0m\u001b[0;34m(\u001b[0m\u001b[0;34m*\u001b[0m\u001b[0minput\u001b[0m\u001b[0;34m,\u001b[0m \u001b[0;34m**\u001b[0m\u001b[0mkwargs\u001b[0m\u001b[0;34m)\u001b[0m\u001b[0;34m\u001b[0m\u001b[0;34m\u001b[0m\u001b[0m\n\u001b[1;32m    721\u001b[0m         \u001b[0;32melse\u001b[0m\u001b[0;34m:\u001b[0m\u001b[0;34m\u001b[0m\u001b[0;34m\u001b[0m\u001b[0m\n\u001b[0;32m--> 722\u001b[0;31m             \u001b[0mresult\u001b[0m \u001b[0;34m=\u001b[0m \u001b[0mself\u001b[0m\u001b[0;34m.\u001b[0m\u001b[0mforward\u001b[0m\u001b[0;34m(\u001b[0m\u001b[0;34m*\u001b[0m\u001b[0minput\u001b[0m\u001b[0;34m,\u001b[0m \u001b[0;34m**\u001b[0m\u001b[0mkwargs\u001b[0m\u001b[0;34m)\u001b[0m\u001b[0;34m\u001b[0m\u001b[0;34m\u001b[0m\u001b[0m\n\u001b[0m\u001b[1;32m    723\u001b[0m         for hook in itertools.chain(\n\u001b[1;32m    724\u001b[0m                 \u001b[0m_global_forward_hooks\u001b[0m\u001b[0;34m.\u001b[0m\u001b[0mvalues\u001b[0m\u001b[0;34m(\u001b[0m\u001b[0;34m)\u001b[0m\u001b[0;34m,\u001b[0m\u001b[0;34m\u001b[0m\u001b[0;34m\u001b[0m\u001b[0m\n",
      "\u001b[0;32m/opt/conda/lib/python3.7/site-packages/torch/nn/modules/container.py\u001b[0m in \u001b[0;36mforward\u001b[0;34m(self, input)\u001b[0m\n\u001b[1;32m    115\u001b[0m     \u001b[0;32mdef\u001b[0m \u001b[0mforward\u001b[0m\u001b[0;34m(\u001b[0m\u001b[0mself\u001b[0m\u001b[0;34m,\u001b[0m \u001b[0minput\u001b[0m\u001b[0;34m)\u001b[0m\u001b[0;34m:\u001b[0m\u001b[0;34m\u001b[0m\u001b[0;34m\u001b[0m\u001b[0m\n\u001b[1;32m    116\u001b[0m         \u001b[0;32mfor\u001b[0m \u001b[0mmodule\u001b[0m \u001b[0;32min\u001b[0m \u001b[0mself\u001b[0m\u001b[0;34m:\u001b[0m\u001b[0;34m\u001b[0m\u001b[0;34m\u001b[0m\u001b[0m\n\u001b[0;32m--> 117\u001b[0;31m             \u001b[0minput\u001b[0m \u001b[0;34m=\u001b[0m \u001b[0mmodule\u001b[0m\u001b[0;34m(\u001b[0m\u001b[0minput\u001b[0m\u001b[0;34m)\u001b[0m\u001b[0;34m\u001b[0m\u001b[0;34m\u001b[0m\u001b[0m\n\u001b[0m\u001b[1;32m    118\u001b[0m         \u001b[0;32mreturn\u001b[0m \u001b[0minput\u001b[0m\u001b[0;34m\u001b[0m\u001b[0;34m\u001b[0m\u001b[0m\n\u001b[1;32m    119\u001b[0m \u001b[0;34m\u001b[0m\u001b[0m\n",
      "\u001b[0;32m/opt/conda/lib/python3.7/site-packages/torch/nn/modules/module.py\u001b[0m in \u001b[0;36m_call_impl\u001b[0;34m(self, *input, **kwargs)\u001b[0m\n\u001b[1;32m    720\u001b[0m             \u001b[0mresult\u001b[0m \u001b[0;34m=\u001b[0m \u001b[0mself\u001b[0m\u001b[0;34m.\u001b[0m\u001b[0m_slow_forward\u001b[0m\u001b[0;34m(\u001b[0m\u001b[0;34m*\u001b[0m\u001b[0minput\u001b[0m\u001b[0;34m,\u001b[0m \u001b[0;34m**\u001b[0m\u001b[0mkwargs\u001b[0m\u001b[0;34m)\u001b[0m\u001b[0;34m\u001b[0m\u001b[0;34m\u001b[0m\u001b[0m\n\u001b[1;32m    721\u001b[0m         \u001b[0;32melse\u001b[0m\u001b[0;34m:\u001b[0m\u001b[0;34m\u001b[0m\u001b[0;34m\u001b[0m\u001b[0m\n\u001b[0;32m--> 722\u001b[0;31m             \u001b[0mresult\u001b[0m \u001b[0;34m=\u001b[0m \u001b[0mself\u001b[0m\u001b[0;34m.\u001b[0m\u001b[0mforward\u001b[0m\u001b[0;34m(\u001b[0m\u001b[0;34m*\u001b[0m\u001b[0minput\u001b[0m\u001b[0;34m,\u001b[0m \u001b[0;34m**\u001b[0m\u001b[0mkwargs\u001b[0m\u001b[0;34m)\u001b[0m\u001b[0;34m\u001b[0m\u001b[0;34m\u001b[0m\u001b[0m\n\u001b[0m\u001b[1;32m    723\u001b[0m         for hook in itertools.chain(\n\u001b[1;32m    724\u001b[0m                 \u001b[0m_global_forward_hooks\u001b[0m\u001b[0;34m.\u001b[0m\u001b[0mvalues\u001b[0m\u001b[0;34m(\u001b[0m\u001b[0;34m)\u001b[0m\u001b[0;34m,\u001b[0m\u001b[0;34m\u001b[0m\u001b[0;34m\u001b[0m\u001b[0m\n",
      "\u001b[0;32m/opt/conda/lib/python3.7/site-packages/efficientnet_pytorch/model.py\u001b[0m in \u001b[0;36mforward\u001b[0;34m(self, inputs)\u001b[0m\n\u001b[1;32m    309\u001b[0m         \"\"\"\n\u001b[1;32m    310\u001b[0m         \u001b[0;31m# Convolution layers\u001b[0m\u001b[0;34m\u001b[0m\u001b[0;34m\u001b[0m\u001b[0;34m\u001b[0m\u001b[0m\n\u001b[0;32m--> 311\u001b[0;31m         \u001b[0mx\u001b[0m \u001b[0;34m=\u001b[0m \u001b[0mself\u001b[0m\u001b[0;34m.\u001b[0m\u001b[0mextract_features\u001b[0m\u001b[0;34m(\u001b[0m\u001b[0minputs\u001b[0m\u001b[0;34m)\u001b[0m\u001b[0;34m\u001b[0m\u001b[0;34m\u001b[0m\u001b[0m\n\u001b[0m\u001b[1;32m    312\u001b[0m         \u001b[0;31m# Pooling and final linear layer\u001b[0m\u001b[0;34m\u001b[0m\u001b[0;34m\u001b[0m\u001b[0;34m\u001b[0m\u001b[0m\n\u001b[1;32m    313\u001b[0m         \u001b[0mx\u001b[0m \u001b[0;34m=\u001b[0m \u001b[0mself\u001b[0m\u001b[0;34m.\u001b[0m\u001b[0m_avg_pooling\u001b[0m\u001b[0;34m(\u001b[0m\u001b[0mx\u001b[0m\u001b[0;34m)\u001b[0m\u001b[0;34m\u001b[0m\u001b[0;34m\u001b[0m\u001b[0m\n",
      "\u001b[0;32m/opt/conda/lib/python3.7/site-packages/efficientnet_pytorch/model.py\u001b[0m in \u001b[0;36mextract_features\u001b[0;34m(self, inputs)\u001b[0m\n\u001b[1;32m    284\u001b[0m         \"\"\"\n\u001b[1;32m    285\u001b[0m         \u001b[0;31m# Stem\u001b[0m\u001b[0;34m\u001b[0m\u001b[0;34m\u001b[0m\u001b[0;34m\u001b[0m\u001b[0m\n\u001b[0;32m--> 286\u001b[0;31m         \u001b[0mx\u001b[0m \u001b[0;34m=\u001b[0m \u001b[0mself\u001b[0m\u001b[0;34m.\u001b[0m\u001b[0m_swish\u001b[0m\u001b[0;34m(\u001b[0m\u001b[0mself\u001b[0m\u001b[0;34m.\u001b[0m\u001b[0m_bn0\u001b[0m\u001b[0;34m(\u001b[0m\u001b[0mself\u001b[0m\u001b[0;34m.\u001b[0m\u001b[0m_conv_stem\u001b[0m\u001b[0;34m(\u001b[0m\u001b[0minputs\u001b[0m\u001b[0;34m)\u001b[0m\u001b[0;34m)\u001b[0m\u001b[0;34m)\u001b[0m\u001b[0;34m\u001b[0m\u001b[0;34m\u001b[0m\u001b[0m\n\u001b[0m\u001b[1;32m    287\u001b[0m \u001b[0;34m\u001b[0m\u001b[0m\n\u001b[1;32m    288\u001b[0m         \u001b[0;31m# Blocks\u001b[0m\u001b[0;34m\u001b[0m\u001b[0;34m\u001b[0m\u001b[0;34m\u001b[0m\u001b[0m\n",
      "\u001b[0;32m/opt/conda/lib/python3.7/site-packages/torch/nn/modules/module.py\u001b[0m in \u001b[0;36m_call_impl\u001b[0;34m(self, *input, **kwargs)\u001b[0m\n\u001b[1;32m    720\u001b[0m             \u001b[0mresult\u001b[0m \u001b[0;34m=\u001b[0m \u001b[0mself\u001b[0m\u001b[0;34m.\u001b[0m\u001b[0m_slow_forward\u001b[0m\u001b[0;34m(\u001b[0m\u001b[0;34m*\u001b[0m\u001b[0minput\u001b[0m\u001b[0;34m,\u001b[0m \u001b[0;34m**\u001b[0m\u001b[0mkwargs\u001b[0m\u001b[0;34m)\u001b[0m\u001b[0;34m\u001b[0m\u001b[0;34m\u001b[0m\u001b[0m\n\u001b[1;32m    721\u001b[0m         \u001b[0;32melse\u001b[0m\u001b[0;34m:\u001b[0m\u001b[0;34m\u001b[0m\u001b[0;34m\u001b[0m\u001b[0m\n\u001b[0;32m--> 722\u001b[0;31m             \u001b[0mresult\u001b[0m \u001b[0;34m=\u001b[0m \u001b[0mself\u001b[0m\u001b[0;34m.\u001b[0m\u001b[0mforward\u001b[0m\u001b[0;34m(\u001b[0m\u001b[0;34m*\u001b[0m\u001b[0minput\u001b[0m\u001b[0;34m,\u001b[0m \u001b[0;34m**\u001b[0m\u001b[0mkwargs\u001b[0m\u001b[0;34m)\u001b[0m\u001b[0;34m\u001b[0m\u001b[0;34m\u001b[0m\u001b[0m\n\u001b[0m\u001b[1;32m    723\u001b[0m         for hook in itertools.chain(\n\u001b[1;32m    724\u001b[0m                 \u001b[0m_global_forward_hooks\u001b[0m\u001b[0;34m.\u001b[0m\u001b[0mvalues\u001b[0m\u001b[0;34m(\u001b[0m\u001b[0;34m)\u001b[0m\u001b[0;34m,\u001b[0m\u001b[0;34m\u001b[0m\u001b[0;34m\u001b[0m\u001b[0m\n",
      "\u001b[0;32m/opt/conda/lib/python3.7/site-packages/efficientnet_pytorch/utils.py\u001b[0m in \u001b[0;36mforward\u001b[0;34m(self, x)\u001b[0m\n\u001b[1;32m    268\u001b[0m \u001b[0;34m\u001b[0m\u001b[0m\n\u001b[1;32m    269\u001b[0m     \u001b[0;32mdef\u001b[0m \u001b[0mforward\u001b[0m\u001b[0;34m(\u001b[0m\u001b[0mself\u001b[0m\u001b[0;34m,\u001b[0m \u001b[0mx\u001b[0m\u001b[0;34m)\u001b[0m\u001b[0;34m:\u001b[0m\u001b[0;34m\u001b[0m\u001b[0;34m\u001b[0m\u001b[0m\n\u001b[0;32m--> 270\u001b[0;31m         \u001b[0mx\u001b[0m \u001b[0;34m=\u001b[0m \u001b[0mself\u001b[0m\u001b[0;34m.\u001b[0m\u001b[0mstatic_padding\u001b[0m\u001b[0;34m(\u001b[0m\u001b[0mx\u001b[0m\u001b[0;34m)\u001b[0m\u001b[0;34m\u001b[0m\u001b[0;34m\u001b[0m\u001b[0m\n\u001b[0m\u001b[1;32m    271\u001b[0m         \u001b[0mx\u001b[0m \u001b[0;34m=\u001b[0m \u001b[0mF\u001b[0m\u001b[0;34m.\u001b[0m\u001b[0mconv2d\u001b[0m\u001b[0;34m(\u001b[0m\u001b[0mx\u001b[0m\u001b[0;34m,\u001b[0m \u001b[0mself\u001b[0m\u001b[0;34m.\u001b[0m\u001b[0mweight\u001b[0m\u001b[0;34m,\u001b[0m \u001b[0mself\u001b[0m\u001b[0;34m.\u001b[0m\u001b[0mbias\u001b[0m\u001b[0;34m,\u001b[0m \u001b[0mself\u001b[0m\u001b[0;34m.\u001b[0m\u001b[0mstride\u001b[0m\u001b[0;34m,\u001b[0m \u001b[0mself\u001b[0m\u001b[0;34m.\u001b[0m\u001b[0mpadding\u001b[0m\u001b[0;34m,\u001b[0m \u001b[0mself\u001b[0m\u001b[0;34m.\u001b[0m\u001b[0mdilation\u001b[0m\u001b[0;34m,\u001b[0m \u001b[0mself\u001b[0m\u001b[0;34m.\u001b[0m\u001b[0mgroups\u001b[0m\u001b[0;34m)\u001b[0m\u001b[0;34m\u001b[0m\u001b[0;34m\u001b[0m\u001b[0m\n\u001b[1;32m    272\u001b[0m         \u001b[0;32mreturn\u001b[0m \u001b[0mx\u001b[0m\u001b[0;34m\u001b[0m\u001b[0;34m\u001b[0m\u001b[0m\n",
      "\u001b[0;32m/opt/conda/lib/python3.7/site-packages/torch/nn/modules/module.py\u001b[0m in \u001b[0;36m_call_impl\u001b[0;34m(self, *input, **kwargs)\u001b[0m\n\u001b[1;32m    720\u001b[0m             \u001b[0mresult\u001b[0m \u001b[0;34m=\u001b[0m \u001b[0mself\u001b[0m\u001b[0;34m.\u001b[0m\u001b[0m_slow_forward\u001b[0m\u001b[0;34m(\u001b[0m\u001b[0;34m*\u001b[0m\u001b[0minput\u001b[0m\u001b[0;34m,\u001b[0m \u001b[0;34m**\u001b[0m\u001b[0mkwargs\u001b[0m\u001b[0;34m)\u001b[0m\u001b[0;34m\u001b[0m\u001b[0;34m\u001b[0m\u001b[0m\n\u001b[1;32m    721\u001b[0m         \u001b[0;32melse\u001b[0m\u001b[0;34m:\u001b[0m\u001b[0;34m\u001b[0m\u001b[0;34m\u001b[0m\u001b[0m\n\u001b[0;32m--> 722\u001b[0;31m             \u001b[0mresult\u001b[0m \u001b[0;34m=\u001b[0m \u001b[0mself\u001b[0m\u001b[0;34m.\u001b[0m\u001b[0mforward\u001b[0m\u001b[0;34m(\u001b[0m\u001b[0;34m*\u001b[0m\u001b[0minput\u001b[0m\u001b[0;34m,\u001b[0m \u001b[0;34m**\u001b[0m\u001b[0mkwargs\u001b[0m\u001b[0;34m)\u001b[0m\u001b[0;34m\u001b[0m\u001b[0;34m\u001b[0m\u001b[0m\n\u001b[0m\u001b[1;32m    723\u001b[0m         for hook in itertools.chain(\n\u001b[1;32m    724\u001b[0m                 \u001b[0m_global_forward_hooks\u001b[0m\u001b[0;34m.\u001b[0m\u001b[0mvalues\u001b[0m\u001b[0;34m(\u001b[0m\u001b[0;34m)\u001b[0m\u001b[0;34m,\u001b[0m\u001b[0;34m\u001b[0m\u001b[0;34m\u001b[0m\u001b[0m\n",
      "\u001b[0;32m/opt/conda/lib/python3.7/site-packages/torch/nn/modules/padding.py\u001b[0m in \u001b[0;36mforward\u001b[0;34m(self, input)\u001b[0m\n\u001b[1;32m     19\u001b[0m \u001b[0;34m\u001b[0m\u001b[0m\n\u001b[1;32m     20\u001b[0m     \u001b[0;32mdef\u001b[0m \u001b[0mforward\u001b[0m\u001b[0;34m(\u001b[0m\u001b[0mself\u001b[0m\u001b[0;34m,\u001b[0m \u001b[0minput\u001b[0m\u001b[0;34m:\u001b[0m \u001b[0mTensor\u001b[0m\u001b[0;34m)\u001b[0m \u001b[0;34m->\u001b[0m \u001b[0mTensor\u001b[0m\u001b[0;34m:\u001b[0m\u001b[0;34m\u001b[0m\u001b[0;34m\u001b[0m\u001b[0m\n\u001b[0;32m---> 21\u001b[0;31m         \u001b[0;32mreturn\u001b[0m \u001b[0mF\u001b[0m\u001b[0;34m.\u001b[0m\u001b[0mpad\u001b[0m\u001b[0;34m(\u001b[0m\u001b[0minput\u001b[0m\u001b[0;34m,\u001b[0m \u001b[0mself\u001b[0m\u001b[0;34m.\u001b[0m\u001b[0mpadding\u001b[0m\u001b[0;34m,\u001b[0m \u001b[0;34m'constant'\u001b[0m\u001b[0;34m,\u001b[0m \u001b[0mself\u001b[0m\u001b[0;34m.\u001b[0m\u001b[0mvalue\u001b[0m\u001b[0;34m)\u001b[0m\u001b[0;34m\u001b[0m\u001b[0;34m\u001b[0m\u001b[0m\n\u001b[0m\u001b[1;32m     22\u001b[0m \u001b[0;34m\u001b[0m\u001b[0m\n\u001b[1;32m     23\u001b[0m     \u001b[0;32mdef\u001b[0m \u001b[0mextra_repr\u001b[0m\u001b[0;34m(\u001b[0m\u001b[0mself\u001b[0m\u001b[0;34m)\u001b[0m \u001b[0;34m->\u001b[0m \u001b[0mstr\u001b[0m\u001b[0;34m:\u001b[0m\u001b[0;34m\u001b[0m\u001b[0;34m\u001b[0m\u001b[0m\n",
      "\u001b[0;32m/opt/conda/lib/python3.7/site-packages/torch/nn/functional.py\u001b[0m in \u001b[0;36m_pad\u001b[0;34m(input, pad, mode, value)\u001b[0m\n\u001b[1;32m   3550\u001b[0m     \u001b[0;32massert\u001b[0m \u001b[0mlen\u001b[0m\u001b[0;34m(\u001b[0m\u001b[0mpad\u001b[0m\u001b[0;34m)\u001b[0m \u001b[0;34m//\u001b[0m \u001b[0;36m2\u001b[0m \u001b[0;34m<=\u001b[0m \u001b[0minput\u001b[0m\u001b[0;34m.\u001b[0m\u001b[0mdim\u001b[0m\u001b[0;34m(\u001b[0m\u001b[0;34m)\u001b[0m\u001b[0;34m,\u001b[0m \u001b[0;34m'Padding length too large'\u001b[0m\u001b[0;34m\u001b[0m\u001b[0;34m\u001b[0m\u001b[0m\n\u001b[1;32m   3551\u001b[0m     \u001b[0;32mif\u001b[0m \u001b[0mmode\u001b[0m \u001b[0;34m==\u001b[0m \u001b[0;34m'constant'\u001b[0m\u001b[0;34m:\u001b[0m\u001b[0;34m\u001b[0m\u001b[0;34m\u001b[0m\u001b[0m\n\u001b[0;32m-> 3552\u001b[0;31m         \u001b[0;32mreturn\u001b[0m \u001b[0m_VF\u001b[0m\u001b[0;34m.\u001b[0m\u001b[0mconstant_pad_nd\u001b[0m\u001b[0;34m(\u001b[0m\u001b[0minput\u001b[0m\u001b[0;34m,\u001b[0m \u001b[0mpad\u001b[0m\u001b[0;34m,\u001b[0m \u001b[0mvalue\u001b[0m\u001b[0;34m)\u001b[0m\u001b[0;34m\u001b[0m\u001b[0;34m\u001b[0m\u001b[0m\n\u001b[0m\u001b[1;32m   3553\u001b[0m     \u001b[0;32melse\u001b[0m\u001b[0;34m:\u001b[0m\u001b[0;34m\u001b[0m\u001b[0;34m\u001b[0m\u001b[0m\n\u001b[1;32m   3554\u001b[0m         \u001b[0;32massert\u001b[0m \u001b[0mvalue\u001b[0m \u001b[0;34m==\u001b[0m \u001b[0;36m0\u001b[0m\u001b[0;34m,\u001b[0m \u001b[0;34m'Padding mode \"{}\"\" doesn\\'t take in value argument'\u001b[0m\u001b[0;34m.\u001b[0m\u001b[0mformat\u001b[0m\u001b[0;34m(\u001b[0m\u001b[0mmode\u001b[0m\u001b[0;34m)\u001b[0m\u001b[0;34m\u001b[0m\u001b[0;34m\u001b[0m\u001b[0m\n",
      "\u001b[0;31mKeyboardInterrupt\u001b[0m: "
     ]
    }
   ],
   "source": [
    "'''[LATER]effnet-b0-1-1-multi (raw)(nn.CrossEntropyLoss)(AdamP)\n",
    ">>> CHECKPOINTS\n",
    "[lowest loss]()   <-  \"\"\n",
    "[best f1 score]() <-  \"\"\n",
    "'''\n",
    "\n",
    "effnet_b0_1_1_multi = EfficientNetWithMultihead(arc=\"efficientnet-b0\")\n",
    "effnet_b0_1_1_multi.name = \"effnet-b0-1-1-multi-raw+ce(as)+adamp\"\n",
    "effnet_b0_1_1_multi__logger = CSVLogger()\n",
    "\n",
    "\n",
    "branch = ConfigBranch(\n",
    "    train_path = '/opt/ml/input/data/train/all_',\n",
    "    model = effnet_b0_1_1_multi,\n",
    "    logger = effnet_b0_1_1_multi__logger, \n",
    "    classifying = 'all', \n",
    "    upscale = False,\n",
    "    criterion = nn.CrossEntropyLoss(),\n",
    "    optimizer = 'AdamP',\n",
    "    lr = 1e-3, #config.train.lr.low_limit / 10, #after end of training\n",
    "    state_path = '',\n",
    ")\n",
    "\n",
    "config.path.train = branch.train_path\n",
    "config.model.model = branch.model\n",
    "config.train.logger = branch.logger\n",
    "config.model.classifying = branch.classifying\n",
    "config.data.upscale = branch.upscale\n",
    "config.train.optimizer.name = branch.optimizer\n",
    "config.train.lr.base = branch.lr\n",
    "config.train.weight_decay = 1e-4\n",
    "config.train.loss.criterion = branch.criterion\n",
    "config.model.state_path = branch.state_path\n",
    "\n",
    "try:\n",
    "    trainer().load_state_dict_to_model()\n",
    "except:\n",
    "    trainer().model.load_state_dict(load_and_fix_state_dict(config.model.state_path))\n",
    "\n",
    "trainer.train_and_save()"
   ]
  },
  {
   "cell_type": "code",
   "execution_count": null,
   "id": "billion-scenario",
   "metadata": {},
   "outputs": [],
   "source": [
    "# b0-1a-age (raw)(FocalLoss)\n",
    "'''CHECKPOINTS\n",
    "[lowest loss]()   \"/opt/ml/output/models/2021-04-07 02:35:06.329685_effnet-b0-1a_.pth\"\n",
    "[best f1 score](.91815) \"/opt/ml/output/models/2021-04-07 03:08:39.290784_effnet-b0-1a_.pth\"\n",
    "'''\n",
    "\n",
    "branch = ConfigBranch(\n",
    "    train_path = '/opt/ml/input/data/train/all_'\n",
    "    model = effnet_b0_1a,\n",
    "    logger = effnet_b0_1a_logger, \n",
    "    classifying = 'all', \n",
    "    upscale = False,\n",
    "    lr = 1e-3,\n",
    "    state_path = ''\n",
    ")\n",
    "\n",
    "config.path.train = branch.train_path\n",
    "config.model.model = branch.model\n",
    "config.train.logger = branch.logger\n",
    "config.model.classifying = branch.classifying\n",
    "config.data.upscale = branch.upscale\n",
    "config.train.optimizer.name = branch.optimizer\n",
    "config.train.lr.base = branch.lr\n",
    "config.train.weight_decay = 1e-4\n",
    "config.train.loss.criterion = branch.criterion\n",
    "config.model.state_path = branch.state_path\n",
    "\n",
    "try:\n",
    "    trainer().load_state_dict_to_model()\n",
    "except:\n",
    "    trainer().model.load_state_dict(load_and_fix_state_dict(config.model.state_path))\n",
    "trainer.train_and_save()"
   ]
  },
  {
   "cell_type": "markdown",
   "id": "center-state",
   "metadata": {},
   "source": [
    "# Archive"
   ]
  },
  {
   "cell_type": "markdown",
   "id": "legal-census",
   "metadata": {},
   "source": [
    "* **b3-2da-age (raw)** (lr/10): '/opt/ml/output/models/2021-04-06 10:24:14.223154_effnet_b3_2da_age_.pth'\n",
    "* **b3-1a-age (raw)** (1e-4?):  '/opt/ml/output/models/2021-04-04 20:48:11.983449_effnet_b3_age_.pth'"
   ]
  },
  {
   "cell_type": "code",
   "execution_count": 23,
   "id": "regional-housing",
   "metadata": {
    "collapsed": true,
    "jupyter": {
     "outputs_hidden": true
    },
    "tags": []
   },
   "outputs": [
    {
     "name": "stdout",
     "output_type": "stream",
     "text": [
      "WARNING: failed to load state dict - could not find the path.\n",
      "[INFO]\n",
      "model=effnet-b0-1a+smaller+ce+adamp\n",
      "device=cuda:0(Tesla P40)\n",
      "data size=(12959 + 3239), batch size=32\n",
      "optimizer.name=AdamP\n",
      "epochs=20, lr=0.001, weight_decay=0.0001, betas=(0.9, 0.999)\n",
      "\n",
      "Start of traning.\n",
      "[Valid 020] (Batch #070)  Loss: 2.85671,  Acc: 6.866"
     ]
    },
    {
     "ename": "KeyboardInterrupt",
     "evalue": "",
     "output_type": "error",
     "traceback": [
      "\u001b[0;31m---------------------------------------------------------------------------\u001b[0m",
      "\u001b[0;31mKeyboardInterrupt\u001b[0m                         Traceback (most recent call last)",
      "\u001b[0;32m<ipython-input-23-52f8ce486328>\u001b[0m in \u001b[0;36m<module>\u001b[0;34m\u001b[0m\n\u001b[1;32m     38\u001b[0m \u001b[0;32mexcept\u001b[0m\u001b[0;34m:\u001b[0m\u001b[0;34m\u001b[0m\u001b[0;34m\u001b[0m\u001b[0m\n\u001b[1;32m     39\u001b[0m     \u001b[0mtrainer\u001b[0m\u001b[0;34m(\u001b[0m\u001b[0;34m)\u001b[0m\u001b[0;34m.\u001b[0m\u001b[0mmodel\u001b[0m\u001b[0;34m.\u001b[0m\u001b[0mload_state_dict\u001b[0m\u001b[0;34m(\u001b[0m\u001b[0mload_and_fix_state_dict\u001b[0m\u001b[0;34m(\u001b[0m\u001b[0mconfig\u001b[0m\u001b[0;34m.\u001b[0m\u001b[0mmodel\u001b[0m\u001b[0;34m.\u001b[0m\u001b[0mstate_path\u001b[0m\u001b[0;34m)\u001b[0m\u001b[0;34m)\u001b[0m\u001b[0;34m\u001b[0m\u001b[0;34m\u001b[0m\u001b[0m\n\u001b[0;32m---> 40\u001b[0;31m \u001b[0mtrainer\u001b[0m\u001b[0;34m.\u001b[0m\u001b[0mtrain_and_save\u001b[0m\u001b[0;34m(\u001b[0m\u001b[0;34m)\u001b[0m\u001b[0;34m\u001b[0m\u001b[0;34m\u001b[0m\u001b[0m\n\u001b[0m",
      "\u001b[0;32m~/code/stage1/stage1/trainer/trainer.py\u001b[0m in \u001b[0;36mtrain_and_save\u001b[0;34m(self)\u001b[0m\n\u001b[1;32m    458\u001b[0m \u001b[0;34m\u001b[0m\u001b[0m\n\u001b[1;32m    459\u001b[0m         \u001b[0;32mif\u001b[0m \u001b[0mself\u001b[0m\u001b[0;34m.\u001b[0m\u001b[0mepochs\u001b[0m \u001b[0;34m>\u001b[0m \u001b[0mself\u001b[0m\u001b[0;34m.\u001b[0m\u001b[0mconfig\u001b[0m\u001b[0;34m.\u001b[0m\u001b[0mtrain\u001b[0m\u001b[0;34m.\u001b[0m\u001b[0mvalid_min\u001b[0m\u001b[0;34m:\u001b[0m\u001b[0;34m\u001b[0m\u001b[0;34m\u001b[0m\u001b[0m\n\u001b[0;32m--> 460\u001b[0;31m             \u001b[0m_\u001b[0m\u001b[0;34m,\u001b[0m \u001b[0mlast_valid_acc\u001b[0m \u001b[0;34m=\u001b[0m \u001b[0mself\u001b[0m\u001b[0;34m.\u001b[0m\u001b[0mvalid\u001b[0m\u001b[0;34m(\u001b[0m\u001b[0;34m)\u001b[0m\u001b[0;34m\u001b[0m\u001b[0;34m\u001b[0m\u001b[0m\n\u001b[0m\u001b[1;32m    461\u001b[0m         \u001b[0;32melse\u001b[0m\u001b[0;34m:\u001b[0m\u001b[0;34m\u001b[0m\u001b[0;34m\u001b[0m\u001b[0m\n\u001b[1;32m    462\u001b[0m             \u001b[0mlast_valid_acc\u001b[0m \u001b[0;34m=\u001b[0m \u001b[0mself\u001b[0m\u001b[0;34m.\u001b[0m\u001b[0mlogger\u001b[0m\u001b[0;34m.\u001b[0m\u001b[0mvalid\u001b[0m\u001b[0;34m[\u001b[0m\u001b[0;34m-\u001b[0m\u001b[0;36m1\u001b[0m\u001b[0;34m]\u001b[0m\u001b[0;34m[\u001b[0m\u001b[0;36m2\u001b[0m\u001b[0;34m]\u001b[0m \u001b[0;32mif\u001b[0m \u001b[0mself\u001b[0m\u001b[0;34m.\u001b[0m\u001b[0mlogger\u001b[0m\u001b[0;34m.\u001b[0m\u001b[0mvalid\u001b[0m \u001b[0;32melse\u001b[0m \u001b[0;36m0\u001b[0m\u001b[0;34m\u001b[0m\u001b[0;34m\u001b[0m\u001b[0m\n",
      "\u001b[0;32m~/code/stage1/stage1/trainer/trainer.py\u001b[0m in \u001b[0;36mvalid\u001b[0;34m(self, log)\u001b[0m\n\u001b[1;32m    654\u001b[0m                 \u001b[0mloss\u001b[0m \u001b[0;34m=\u001b[0m \u001b[0mself\u001b[0m\u001b[0;34m.\u001b[0m\u001b[0mcriterion\u001b[0m\u001b[0;34m(\u001b[0m\u001b[0moutputs\u001b[0m\u001b[0;34m,\u001b[0m \u001b[0mtargets\u001b[0m\u001b[0;34m)\u001b[0m\u001b[0;34m\u001b[0m\u001b[0;34m\u001b[0m\u001b[0m\n\u001b[1;32m    655\u001b[0m \u001b[0;34m\u001b[0m\u001b[0m\n\u001b[0;32m--> 656\u001b[0;31m                 \u001b[0mvalid_loss\u001b[0m \u001b[0;34m+=\u001b[0m \u001b[0mloss\u001b[0m\u001b[0;34m.\u001b[0m\u001b[0mitem\u001b[0m\u001b[0;34m(\u001b[0m\u001b[0;34m)\u001b[0m\u001b[0;34m\u001b[0m\u001b[0;34m\u001b[0m\u001b[0m\n\u001b[0m\u001b[1;32m    657\u001b[0m                 \u001b[0mpredictions\u001b[0m \u001b[0;34m=\u001b[0m \u001b[0mtorch\u001b[0m\u001b[0;34m.\u001b[0m\u001b[0margmax\u001b[0m\u001b[0;34m(\u001b[0m\u001b[0moutputs\u001b[0m\u001b[0;34m,\u001b[0m \u001b[0mdim\u001b[0m\u001b[0;34m=\u001b[0m\u001b[0;36m1\u001b[0m\u001b[0;34m)\u001b[0m\u001b[0;34m\u001b[0m\u001b[0;34m\u001b[0m\u001b[0m\n\u001b[1;32m    658\u001b[0m                 \u001b[0;32mif\u001b[0m \u001b[0mself\u001b[0m\u001b[0;34m.\u001b[0m\u001b[0mconfig\u001b[0m\u001b[0;34m.\u001b[0m\u001b[0mmodel\u001b[0m\u001b[0;34m.\u001b[0m\u001b[0mclassifying\u001b[0m \u001b[0;34m==\u001b[0m \u001b[0;34m'age'\u001b[0m \u001b[0;32mand\u001b[0m \u001b[0mself\u001b[0m\u001b[0;34m.\u001b[0m\u001b[0mconfig\u001b[0m\u001b[0;34m.\u001b[0m\u001b[0mdata\u001b[0m\u001b[0;34m.\u001b[0m\u001b[0msoften_age\u001b[0m\u001b[0;34m:\u001b[0m\u001b[0;34m\u001b[0m\u001b[0;34m\u001b[0m\u001b[0m\n",
      "\u001b[0;31mKeyboardInterrupt\u001b[0m: "
     ]
    }
   ],
   "source": [
    "'''[BEST YET]effnet-b0-1a-smaller (smaller)(nn.CrossEntropyLoss)(AdamP)\n",
    ">>> CHECKPOINTS\n",
    "[lowest loss](0.2807)<- \"/opt/ml/output/models/2021-04-07 18:02:46.953636__.pth\"\n",
    "[best f1 score](0.97814)<- \"/opt/ml/output/models/2021-04-07 18:02:46.953636__.pth\"\n",
    "'''\n",
    "\n",
    "# effnet_b0_1a = timm.models.efficientnet_b0(pretrained=True)\n",
    "# effnet_b0_1a.classifier = nn.Linear(effnet_b0_1a.classifier.in_features, 18)\n",
    "# setattr(effnet_b0_1a, \"name\", \"effnet-b0-1a+smaller+ce+adamp\")\n",
    "\n",
    "# effnet_b0_1a__logger = CSVLogger()\n",
    "\n",
    "# branch = ConfigBranch(\n",
    "#     train_path = '/opt/ml/input/data/train/smaller_',\n",
    "#     model = effnet_b0_1a,\n",
    "#     logger = effnet_b0_1a__logger, \n",
    "#     classifying = 'all', \n",
    "#     upscale = False,\n",
    "#     criterion = 'CrossEntropyLoss',\n",
    "#     optimizer = 'AdamP',\n",
    "#     lr = 1e-3,\n",
    "#     state_path = '/opt/ml/output/models/2021-04-07 18:02:46.953636__.pth',\n",
    "# )\n",
    "\n",
    "# config.path.train = branch.train_path\n",
    "# config.model.model = branch.model\n",
    "# config.train.logger = branch.logger\n",
    "# config.model.classifying = branch.classifying\n",
    "# config.data.upscale = branch.upscale\n",
    "# config.train.optimizer.name = branch.optimizer\n",
    "# config.train.lr.base = branch.lr\n",
    "# config.train.weight_decay = 1e-4\n",
    "# config.train.loss.criterion = branch.criterion\n",
    "# config.model.state_path = branch.state_path\n",
    "\n",
    "# try:\n",
    "#     trainer().load_state_dict_to_model()\n",
    "# except:\n",
    "#     trainer().model.load_state_dict(load_and_fix_state_dict(config.model.state_path))\n",
    "# trainer.train_and_save()"
   ]
  },
  {
   "cell_type": "code",
   "execution_count": 23,
   "id": "outstanding-disease",
   "metadata": {
    "collapsed": true,
    "jupyter": {
     "outputs_hidden": true
    },
    "tags": []
   },
   "outputs": [
    {
     "name": "stdout",
     "output_type": "stream",
     "text": [
      "[INFO]\n",
      "model=effnet-b0-multi-raw+ce(as)+adamp\n",
      "device=cuda:0(Tesla P40)\n",
      "data size=(15120 + 3780), batch size=32\n",
      "optimizer.name=AdamP\n",
      "epochs=20, lr=0.001, weight_decay=0.0001, betas=(0.9, 0.999)\n",
      "\n",
      "Start of traning.\n",
      "[Epoch 001]  Loss: 0.38090,  Acc: 87.381,  F1 Score: 0.63813  (04:36)\n",
      "[Valid 001]  Loss: 0.18642,  Acc: 93.439,  F1 Score: 0.78057\n",
      "WARNING: model has no name.\n",
      "Saved model: /opt/ml/output/models/2021-04-07 19:32:19.771018__.pth\n",
      "[Epoch 002]  Loss: 0.15477,  Acc: 94.570,  F1 Score: 0.82042  (04:36)\n",
      "[Valid 002]  Loss: 0.11096,  Acc: 96.164,  F1 Score: 0.85367\n",
      "WARNING: model has no name.\n",
      "Saved model: /opt/ml/output/models/2021-04-07 19:37:15.758102__.pth\n",
      "[Epoch 003]  Loss: 0.09633,  Acc: 96.667,  F1 Score: 0.89341  (04:37)\n",
      "[Valid 003]  Loss: 0.11312,  Acc: 96.164,  F1 Score: 0.91241\n",
      "WARNING: model has no name.\n",
      "Saved model: /opt/ml/output/models/2021-04-07 19:42:12.990579__.pth\n",
      "[Epoch 004]  Loss: 0.07690,  Acc: 97.434,  F1 Score: 0.91062  (04:36)\n",
      "[Valid 004]  Loss: 0.13802,  Acc: 95.317,  F1 Score: 0.81907\n",
      "WARNING: model has no name.\n",
      "Saved model: /opt/ml/output/models/2021-04-07 19:47:09.121499__.pth\n",
      "[Epoch 005]  Loss: 0.05464,  Acc: 98.175,  F1 Score: 0.92321  (04:36)\n",
      "[Valid 005]  Loss: 0.09743,  Acc: 96.931,  F1 Score: 0.89975\n",
      "WARNING: model has no name.\n",
      "Saved model: /opt/ml/output/models/2021-04-07 19:52:05.212281__.pth\n"
     ]
    },
    {
     "data": {
      "image/png": "[encoded data removed]",
      "text/plain": [
       "<Figure size 720x360 with 2 Axes>"
      ]
     },
     "metadata": {
      "needs_background": "light"
     },
     "output_type": "display_data"
    },
    {
     "name": "stdout",
     "output_type": "stream",
     "text": [
      "[Epoch 006]  Loss: 0.05440,  Acc: 98.194,  F1 Score: 0.93728  (04:37)\n",
      "[Valid 006]  Loss: 0.07169,  Acc: 97.460,  F1 Score: 0.90058\n",
      "WARNING: model has no name.\n",
      "Saved model: /opt/ml/output/models/2021-04-07 19:57:02.325826__.pth\n",
      "[Epoch 007]  Loss: 0.05813,  Acc: 98.003,  F1 Score: 0.93037  (04:36)\n",
      "[Valid 007]  Loss: 0.07719,  Acc: 97.407,  F1 Score: 0.93133\n",
      "WARNING: model has no name.\n",
      "Saved model: /opt/ml/output/models/2021-04-07 20:01:58.246812__.pth\n",
      "[Epoch 008]  Loss: 0.04489,  Acc: 98.604,  F1 Score: 0.95924  (04:36)\n",
      "[Valid 008]  Loss: 0.05176,  Acc: 98.333,  F1 Score: 0.94117\n",
      "WARNING: model has no name.\n",
      "Saved model: /opt/ml/output/models/2021-04-07 20:06:53.806792__.pth\n",
      "[Epoch 009]  Loss: 0.04952,  Acc: 98.452,  F1 Score: 0.94930  (04:36)\n",
      "[Valid 009]  Loss: 0.08675,  Acc: 97.381,  F1 Score: 0.91197\n",
      "WARNING: model has no name.\n",
      "Saved model: /opt/ml/output/models/2021-04-07 20:11:49.820581__.pth\n",
      "[Epoch 010]  Loss: 0.04314,  Acc: 98.604,  F1 Score: 0.94926  (04:36)\n",
      "[Valid 010]  Loss: 0.04272,  Acc: 98.730,  F1 Score: 0.95298\n",
      "WARNING: model has no name.\n",
      "Saved model: /opt/ml/output/models/2021-04-07 20:16:46.135767__.pth\n"
     ]
    },
    {
     "data": {
      "image/png": "[encoded data removed]",
      "text/plain": [
       "<Figure size 720x360 with 2 Axes>"
      ]
     },
     "metadata": {
      "needs_background": "light"
     },
     "output_type": "display_data"
    },
    {
     "name": "stdout",
     "output_type": "stream",
     "text": [
      "[Epoch 011]  Loss: 0.02573,  Acc: 99.167,  F1 Score: 0.97078  (04:37)\n",
      "[Valid 011]  Loss: 0.06696,  Acc: 97.725,  F1 Score: 0.91032\n",
      "WARNING: model has no name.\n",
      "Saved model: /opt/ml/output/models/2021-04-07 20:21:43.272592__.pth\n",
      "[Epoch 012]  Loss: 0.04792,  Acc: 98.287,  F1 Score: 0.94022  (04:36)\n",
      "[Valid 012]  Loss: 0.05370,  Acc: 98.333,  F1 Score: 0.95228\n",
      "WARNING: model has no name.\n",
      "Saved model: /opt/ml/output/models/2021-04-07 20:26:39.199924__.pth\n",
      "[Epoch 013]  Loss: 0.03947,  Acc: 98.710,  F1 Score: 0.96388  (04:36)\n",
      "[Valid 013]  Loss: 0.07865,  Acc: 97.566,  F1 Score: 0.90016\n",
      "WARNING: model has no name.\n",
      "Saved model: /opt/ml/output/models/2021-04-07 20:31:35.772892__.pth\n",
      "[Epoch 014]  Loss: 0.04291,  Acc: 98.604,  F1 Score: 0.95501  (04:36)\n",
      "[Valid 014]  Loss: 0.09634,  Acc: 97.275,  F1 Score: 0.91045\n",
      "WARNING: model has no name.\n",
      "Saved model: /opt/ml/output/models/2021-04-07 20:36:32.416606__.pth\n",
      "[Epoch 015]  Loss: 0.02041,  Acc: 99.345,  F1 Score: 0.98219  (04:36)\n",
      "[Valid 015]  Loss: 0.12977,  Acc: 96.429,  F1 Score: 0.88723\n",
      "WARNING: model has no name.\n",
      "Saved model: /opt/ml/output/models/2021-04-07 20:41:28.066400__.pth\n"
     ]
    },
    {
     "data": {
      "image/png": "[encoded data removed]",
      "text/plain": [
       "<Figure size 720x360 with 2 Axes>"
      ]
     },
     "metadata": {
      "needs_background": "light"
     },
     "output_type": "display_data"
    },
    {
     "name": "stdout",
     "output_type": "stream",
     "text": [
      "[Epoch 016]  Loss: 0.03828,  Acc: 98.690,  F1 Score: 0.95668  (04:36)\n",
      "[Valid 016]  Loss: 0.19022,  Acc: 94.921,  F1 Score: 0.89050\n",
      "WARNING: model has no name.\n",
      "Saved model: /opt/ml/output/models/2021-04-07 20:46:24.769314__.pth\n",
      "[Epoch 017]  Loss: 0.03063,  Acc: 99.001,  F1 Score: 0.97132  (04:37)\n",
      "[Valid 017]  Loss: 0.06885,  Acc: 98.016,  F1 Score: 0.93158\n",
      "WARNING: model has no name.\n",
      "Saved model: /opt/ml/output/models/2021-04-07 20:51:21.823461__.pth\n",
      "[Epoch 018]  Loss: 0.02970,  Acc: 99.021,  F1 Score: 0.96526  (04:36)\n",
      "[Valid 018]  Loss: 0.03640,  Acc: 99.021,  F1 Score: 0.96051\n",
      "WARNING: model has no name.\n",
      "Saved model: /opt/ml/output/models/2021-04-07 20:56:18.139910__.pth\n",
      "[Epoch 019]  Loss: 0.04146,  Acc: 98.545,  F1 Score: 0.94952  (04:36)\n",
      "[Valid 019]  Loss: 0.11666,  Acc: 96.746,  F1 Score: 0.90707\n",
      "WARNING: model has no name.\n",
      "Saved model: /opt/ml/output/models/2021-04-07 21:01:14.621442__.pth\n",
      "[Epoch 020]  Loss: 0.02264,  Acc: 99.306,  F1 Score: 0.98077  (04:36)\n",
      "[Valid 020]  Loss: 0.07100,  Acc: 98.280,  F1 Score: 0.94965\n",
      "WARNING: model has no name.\n",
      "Saved model: /opt/ml/output/models/2021-04-07 21:06:10.510012__.pth\n"
     ]
    },
    {
     "data": {
      "image/png": "[encoded data removed]",
      "text/plain": [
       "<Figure size 720x360 with 2 Axes>"
      ]
     },
     "metadata": {
      "needs_background": "light"
     },
     "output_type": "display_data"
    },
    {
     "name": "stdout",
     "output_type": "stream",
     "text": [
      "\n",
      "End of training. (end_lr=0.001)\n",
      "\n"
     ]
    },
    {
     "data": {
      "text/plain": [
       "'/opt/ml/output/models/2021-04-07 21:06:10.510012__.pth'"
      ]
     },
     "execution_count": 23,
     "metadata": {},
     "output_type": "execute_result"
    }
   ],
   "source": [
    "'''[BETTER THAN 1-LAYER CLASSIFIER]effnet-b0-multi (raw)(nn.CrossEntropyLoss)(AdamP)\n",
    ">>> CHECKPOINTS\n",
    "[lowest loss](0.03640)<- \"/opt/ml/output/models/2021-04-07 20:56:18.139910__.pth\"\n",
    "[best f1 score](0.96051)<- \"/opt/ml/output/models/2021-04-07 20:56:18.139910__.pth\"\n",
    "'''\n",
    "\n",
    "# effnet_b0_multi = timm.models.efficientnet_b0(True)\n",
    "# effnet_b0_multi.classifier = MultiheadClassifier(in_features=effnet_b0_multi.classifier.in_features)\n",
    "# setattr(effnet_b0_multi, \"name\", \"effnet-b0-multi-raw+ce(as)+adamp\")\n",
    "# effnet_b0_multi_logger = CSVLogger()\n",
    "\n",
    "# branch = ConfigBranch(\n",
    "#     train_path = '/opt/ml/input/data/train/all_',\n",
    "#     model = effnet_b0_multi,\n",
    "#     logger = effnet_b0_multi_logger, \n",
    "#     classifying = 'all', \n",
    "#     upscale = False,\n",
    "#     criterion = nn.CrossEntropyLoss(),\n",
    "#     optimizer = 'AdamP',\n",
    "#     lr = 1e-3,\n",
    "#     state_path = '/opt/ml/output/models/2021-04-07 20:56:18.139910__.pth',\n",
    "# )\n",
    "\n",
    "# config.path.train = branch.train_path\n",
    "# config.model.model = branch.model\n",
    "# config.train.logger = branch.logger\n",
    "# config.model.classifying = branch.classifying\n",
    "# config.data.upscale = branch.upscale\n",
    "# config.train.optimizer.name = branch.optimizer\n",
    "# config.train.lr.base = branch.lr\n",
    "# config.train.weight_decay = 1e-4\n",
    "# config.train.loss.criterion = branch.criterion\n",
    "# config.model.state_path = branch.state_path\n",
    "\n",
    "# try:\n",
    "#     trainer().load_state_dict_to_model()\n",
    "# except:\n",
    "#     trainer().model.load_state_dict(load_and_fix_state_dict(config.model.state_path))\n",
    "\n",
    "# trainer.train_and_save()"
   ]
  },
  {
   "cell_type": "code",
   "execution_count": 26,
   "id": "sunrise-transfer",
   "metadata": {
    "collapsed": true,
    "jupyter": {
     "outputs_hidden": true
    },
    "tags": []
   },
   "outputs": [
    {
     "ename": "NameError",
     "evalue": "name 'effnet_b0_1a_logger' is not defined",
     "output_type": "error",
     "traceback": [
      "\u001b[0;31m---------------------------------------------------------------------------\u001b[0m",
      "\u001b[0;31mNameError\u001b[0m                                 Traceback (most recent call last)",
      "\u001b[0;32m<ipython-input-26-211ea6fb769c>\u001b[0m in \u001b[0;36m<module>\u001b[0;34m\u001b[0m\n\u001b[1;32m     15\u001b[0m branch = ConfigBranch(\n\u001b[1;32m     16\u001b[0m     \u001b[0mmodel\u001b[0m \u001b[0;34m=\u001b[0m \u001b[0meffnet_b0_1a\u001b[0m\u001b[0;34m,\u001b[0m\u001b[0;34m\u001b[0m\u001b[0;34m\u001b[0m\u001b[0m\n\u001b[0;32m---> 17\u001b[0;31m     \u001b[0mlogger\u001b[0m \u001b[0;34m=\u001b[0m \u001b[0meffnet_b0_1a_logger\u001b[0m\u001b[0;34m,\u001b[0m\u001b[0;34m\u001b[0m\u001b[0;34m\u001b[0m\u001b[0m\n\u001b[0m\u001b[1;32m     18\u001b[0m     \u001b[0mclassifying\u001b[0m \u001b[0;34m=\u001b[0m \u001b[0;34m'all'\u001b[0m\u001b[0;34m,\u001b[0m\u001b[0;34m\u001b[0m\u001b[0;34m\u001b[0m\u001b[0m\n\u001b[1;32m     19\u001b[0m     \u001b[0mupscale\u001b[0m \u001b[0;34m=\u001b[0m \u001b[0;32mFalse\u001b[0m\u001b[0;34m,\u001b[0m\u001b[0;34m\u001b[0m\u001b[0;34m\u001b[0m\u001b[0m\n",
      "\u001b[0;31mNameError\u001b[0m: name 'effnet_b0_1a_logger' is not defined"
     ]
    }
   ],
   "source": [
    "# b0-1a-age (raw)(CrossEntropyLoss)(MADGRAD)\n",
    "'''CHECKPOINTS\n",
    "[lowest loss]()   <-  \"\"\n",
    "[best f1 score]() <-  \"\"\n",
    "'''\n",
    "\n",
    "# effnet_b0_1a = timm.models.efficientnet_b0(True)\n",
    "# effnet_b0_1a.classifier = nn.Linear(effnet_b0_1a.classifier.in_features, 18)\n",
    "# setattr(effnet_b0_1a, 'name', 'effnet-b0-1a-all-raw-madgrad_test')\n",
    "\n",
    "# effnet_b0_1a_raw_logger = CSVLogger()\n",
    "\n",
    "\n",
    "\n",
    "# branch = ConfigBranch(\n",
    "#     train_path = '/opt/ml/input/data/train/all_',\n",
    "#     model = effnet_b0_1a,\n",
    "#     logger = effnet_b0_1a_logger, \n",
    "#     classifying = 'all', \n",
    "#     upscale = False,\n",
    "#     criterion = nn.CrossEntropyLoss(),\n",
    "#     optimizer = 'MADGRAD',\n",
    "#     lr = 1e-3,\n",
    "#     state_path = '',\n",
    "# )\n",
    "\n",
    "# config.path.train = branch.train_path\n",
    "# config.model.model = branch.model\n",
    "# config.train.logger = branch.logger\n",
    "# config.model.classifying = branch.classifying\n",
    "# config.data.upscale = branch.upscale\n",
    "# config.train.optimizer.name = branch.optimizer\n",
    "# config.train.lr.base = branch.lr\n",
    "# config.train.weight_decay = 1e-4\n",
    "# config.train.loss.criterion = branch.criterion\n",
    "# config.model.state_path = branch.state_path\n",
    "\n",
    "# try:\n",
    "#     trainer().load_state_dict_to_model()\n",
    "# except:\n",
    "#     trainer().model.load_state_dict(load_and_fix_state_dict(config.model.state_path))\n",
    "# trainer.train_and_save()"
   ]
  },
  {
   "cell_type": "code",
   "execution_count": 3,
   "id": "minus-shirt",
   "metadata": {},
   "outputs": [],
   "source": [
    "# candidates = [\n",
    "#     '2021-04-04 21:06:48.616452_effnet_b3_age_.pth', \n",
    "#     '2021-04-04 20:57:30.119399_effnet_b3_age_.pth', \n",
    "#     '2021-04-04 20:48:11.983449_effnet_b3_age_.pth', # best f1 score\n",
    "#     '2021-04-04 20:38:54.592518_effnet_b3_age_.pth', \n",
    "#     '2021-04-04 20:38:54.592518_effnet_b3_age_.pth', # (redundance)\n",
    "#     '2021-04-04 20:20:18.293577_effnet_b3_age_.pth', \n",
    "#     '2021-04-04 20:10:58.160324_effnet_b3_age_.pth', # lowest loss\n",
    "#     '2021-04-04 20:01:39.279959_effnet_b3_age_.pth'\n",
    "# ]\n",
    "# config.model.model = effnet_b3_age\n",
    "# config.model.classifying = 'age'\n",
    "# for idx, cand in enumerate(candidates):\n",
    "#     print(f\"[{idx + 1}/{len(candidates)}]\", end=\" \")\n",
    "#     config.model.state_path = os.path.join(config.path.models, cand)\n",
    "#     trainer().load_state_dict_to_model()\n",
    "#     trainer.valid()"
   ]
  },
  {
   "cell_type": "code",
   "execution_count": null,
   "id": "mechanical-blink",
   "metadata": {},
   "outputs": [],
   "source": [
    "# b3-2da-age (raw)\n",
    "\n",
    "# branch = ConfigBranch(\n",
    "#     model = effnet_b3_2da_age_raw,\n",
    "#     logger = effnet_b3_2da_age_raw_logger, \n",
    "#     classifying = 'age', \n",
    "#     upscale = False,\n",
    "#     lr = 1e-6, #config.train.lr.low_limit / 10, #after end of training\n",
    "#     state_path = '/opt/ml/output/models/2021-04-06 10:24:14.223154_effnet_b3_2da_age_.pth'\n",
    "# )\n",
    "\n",
    "# config.model.model = branch.model\n",
    "# config.train.logger = branch.logger\n",
    "# config.model.classifying = branch.classifying\n",
    "# config.data.upscale = branch.upscale\n",
    "# config.train.lr.base = branch.lr\n",
    "# config.train.weight_decay = branch.lr / 10 # 1e-4 needed maybe\n",
    "# config.model.state_path = branch.state_path\n",
    "\n",
    "# trainer().load_state_dict_to_model() #nothing happens if not state_path\n",
    "# trainer.train_and_save()"
   ]
  },
  {
   "cell_type": "code",
   "execution_count": null,
   "id": "regulation-volume",
   "metadata": {
    "tags": []
   },
   "outputs": [],
   "source": [
    "# b3-2da-age (upscaled wo/ ColorJitter, Blur)\n",
    "\n",
    "# branch = ConfigBranch(\n",
    "#     model = effnet_b3_2da_age,\n",
    "#     logger = effnet_b3_2da_age_logger, \n",
    "#     classifying = 'age', \n",
    "#     upscale = True,\n",
    "#     lr = 1e-3, #config.train.lr.low_limit / 10, #after end of training\n",
    "#     state_path = '/opt/ml/output/models/2021-04-06 08:13:31.727017_effnet_b3_2da_age_upscaled.pth'\n",
    "# )"
   ]
  },
  {
   "cell_type": "code",
   "execution_count": null,
   "id": "african-stock",
   "metadata": {},
   "outputs": [],
   "source": [
    "# b0-2da-age (upscaled)\n",
    "\n",
    "# branch = ConfigBranch(\n",
    "#     model = effnet_b0_2da_age,\n",
    "#     logger = effnet_b0_2da_age_logger, \n",
    "#     classifying = 'age', \n",
    "#     upscale = True,\n",
    "#     lr = config.train.lr.low_limit / 10, #after end of training\n",
    "#     state_path = '/opt/ml/output/models/2021-04-06 05:02:16.576047_effnet-b0-2da-age_upscaled.pth'\n",
    "# )"
   ]
  },
  {
   "cell_type": "code",
   "execution_count": null,
   "id": "specified-prairie",
   "metadata": {
    "tags": []
   },
   "outputs": [],
   "source": [
    "# b0-2da-all (upscaled)\n",
    "\n",
    "# branch = ConfigBranch(\n",
    "#     model = effnet_b0_2da,\n",
    "#     logger = effnet_b0_2da_logger,\n",
    "#     classifying = 'all', \n",
    "#     lr = config.train.lr.low_limit / 10,\n",
    "#     state_path = '/opt/ml/output/models/archvie/2021-04-05 14:32:34.066673_effnet-b0-2da_upscaled.pth'\n",
    "# )"
   ]
  },
  {
   "cell_type": "code",
   "execution_count": null,
   "id": "competent-bulgarian",
   "metadata": {},
   "outputs": [],
   "source": [
    "# b3-1a-age (raw)\n",
    "\n",
    "# branch = ConfigBranch(\n",
    "#     model = effnet_b3_age,\n",
    "#     logger = effnet_b3_age_logger,\n",
    "#     classifying = 'age',\n",
    "#     upscale = False,\n",
    "#     lr = 1e-4,\n",
    "#     state_path = '/opt/ml/output/models/2021-04-06 00:25:58.199900_effnet_b3_age_upscaled.pth'\n",
    "# )"
   ]
  },
  {
   "cell_type": "code",
   "execution_count": null,
   "id": "educated-intelligence",
   "metadata": {
    "tags": []
   },
   "outputs": [],
   "source": [
    "# b3-1a-age (upscaled)\n",
    "\n",
    "# branch = ConfigBranch(\n",
    "#     model = effnet_b3_age,\n",
    "#     logger = effnet_b3_age_logger,\n",
    "#     classifying = 'age', \n",
    "#     lr = config.train.lr.low_limit / 10,\n",
    "#     state_path = '/opt/ml/output/models/2021-04-06 00:25:58.199900_effnet_b3_age_upscaled.pth'\n",
    "# )"
   ]
  },
  {
   "cell_type": "code",
   "execution_count": null,
   "id": "baking-gossip",
   "metadata": {
    "tags": []
   },
   "outputs": [],
   "source": [
    "# b3-2da-age (upscaled)\n",
    "\n",
    "# branch = ConfigBranch(\n",
    "#     model = effnet_b3_2d_age,\n",
    "#     logger = effnet_b3_2d_age_logger, \n",
    "#     classifying = 'age', \n",
    "#     lr = config.train.lr.low_limit / 10,\n",
    "#     state_path = '/opt/ml/output/models/2021-04-06 02:22:12.233049_effnet_b3_2d_age_upscaled.pth'\n",
    "# )"
   ]
  },
  {
   "cell_type": "markdown",
   "id": "indian-quilt",
   "metadata": {},
   "source": [
    "# Inference"
   ]
  },
  {
   "cell_type": "markdown",
   "id": "failing-harris",
   "metadata": {},
   "source": [
    "## Single model inference"
   ]
  },
  {
   "cell_type": "code",
   "execution_count": 27,
   "id": "addressed-portsmouth",
   "metadata": {
    "tags": []
   },
   "outputs": [
    {
     "name": "stdout",
     "output_type": "stream",
     "text": [
      "Loaded state dict to model.\n",
      "effnet-b0-multi-raw+ce(as)+adamp: End of evaluation (01:02)\n",
      "Saved result: /opt/ml/output/effnet-b0-multi-raw+ce(as)+adamp_2021-04-07-21_21_25.613439.csv\n"
     ]
    },
    {
     "data": {
      "text/html": [
       "<div>\n",
       "<style scoped>\n",
       "    .dataframe tbody tr th:only-of-type {\n",
       "        vertical-align: middle;\n",
       "    }\n",
       "\n",
       "    .dataframe tbody tr th {\n",
       "        vertical-align: top;\n",
       "    }\n",
       "\n",
       "    .dataframe thead th {\n",
       "        text-align: right;\n",
       "    }\n",
       "</style>\n",
       "<table border=\"1\" class=\"dataframe\">\n",
       "  <thead>\n",
       "    <tr style=\"text-align: right;\">\n",
       "      <th></th>\n",
       "      <th>ImageID</th>\n",
       "      <th>ans</th>\n",
       "    </tr>\n",
       "  </thead>\n",
       "  <tbody>\n",
       "    <tr>\n",
       "      <th>0</th>\n",
       "      <td>cbc5c6e168e63498590db46022617123f1fe1268.jpg</td>\n",
       "      <td>13</td>\n",
       "    </tr>\n",
       "    <tr>\n",
       "      <th>1</th>\n",
       "      <td>0e72482bf56b3581c081f7da2a6180b8792c7089.jpg</td>\n",
       "      <td>1</td>\n",
       "    </tr>\n",
       "    <tr>\n",
       "      <th>2</th>\n",
       "      <td>b549040c49190cedc41327748aeb197c1670f14d.jpg</td>\n",
       "      <td>13</td>\n",
       "    </tr>\n",
       "    <tr>\n",
       "      <th>3</th>\n",
       "      <td>4f9cb2a045c6d5b9e50ad3459ea7b791eb6e18bc.jpg</td>\n",
       "      <td>13</td>\n",
       "    </tr>\n",
       "    <tr>\n",
       "      <th>4</th>\n",
       "      <td>248428d9a4a5b6229a7081c32851b90cb8d38d0c.jpg</td>\n",
       "      <td>12</td>\n",
       "    </tr>\n",
       "  </tbody>\n",
       "</table>\n",
       "</div>"
      ],
      "text/plain": [
       "                                        ImageID  ans\n",
       "0  cbc5c6e168e63498590db46022617123f1fe1268.jpg   13\n",
       "1  0e72482bf56b3581c081f7da2a6180b8792c7089.jpg    1\n",
       "2  b549040c49190cedc41327748aeb197c1670f14d.jpg   13\n",
       "3  4f9cb2a045c6d5b9e50ad3459ea7b791eb6e18bc.jpg   13\n",
       "4  248428d9a4a5b6229a7081c32851b90cb8d38d0c.jpg   12"
      ]
     },
     "execution_count": 27,
     "metadata": {},
     "output_type": "execute_result"
    }
   ],
   "source": [
    "effnet_b0_multi = timm.models.efficientnet_b0(True)\n",
    "effnet_b0_multi.classifier = MultiheadClassifier(in_features=effnet_b0_multi.classifier.in_features)\n",
    "setattr(effnet_b0_multi, \"name\", \"effnet-b0-multi-raw+ce(as)+adamp\")\n",
    "effnet_b0_multi_logger = CSVLogger()\n",
    "\n",
    "branch = ConfigBranch(\n",
    "    train_path = '/opt/ml/input/data/train/all_',\n",
    "    model = effnet_b0_multi,\n",
    "    logger = effnet_b0_multi_logger, \n",
    "    classifying = 'all', \n",
    "    upscale = False,\n",
    "    criterion = nn.CrossEntropyLoss(),\n",
    "    optimizer = 'AdamP',\n",
    "    lr = 1e-3,\n",
    "    state_path = '/opt/ml/output/models/2021-04-07 20:56:18.139910__.pth',\n",
    ")\n",
    "\n",
    "\n",
    "config.model.model = branch.model\n",
    "config.model.classifying = branch.classifying\n",
    "config.model.state_path = branch.state_path\n",
    "try:\n",
    "    trainer().load_state_dict_to_model()\n",
    "except:\n",
    "    trainer().model.load_state_dict(load_and_fix_state_dict(config.model.state_path))\n",
    "\n",
    "predictions = trainer.infer_and_save_csv()\n",
    "predictions = pd.read_csv(predictions)\n",
    "predictions.head()"
   ]
  },
  {
   "cell_type": "code",
   "execution_count": 28,
   "id": "instructional-royalty",
   "metadata": {},
   "outputs": [
    {
     "data": {
      "text/html": [
       "<div>\n",
       "<style scoped>\n",
       "    .dataframe tbody tr th:only-of-type {\n",
       "        vertical-align: middle;\n",
       "    }\n",
       "\n",
       "    .dataframe tbody tr th {\n",
       "        vertical-align: top;\n",
       "    }\n",
       "\n",
       "    .dataframe thead th {\n",
       "        text-align: right;\n",
       "    }\n",
       "</style>\n",
       "<table border=\"1\" class=\"dataframe\">\n",
       "  <thead>\n",
       "    <tr style=\"text-align: right;\">\n",
       "      <th></th>\n",
       "      <th>ImageID</th>\n",
       "      <th>ans</th>\n",
       "    </tr>\n",
       "  </thead>\n",
       "  <tbody>\n",
       "    <tr>\n",
       "      <th>0</th>\n",
       "      <td>cbc5c6e168e63498590db46022617123f1fe1268.jpg</td>\n",
       "      <td>14</td>\n",
       "    </tr>\n",
       "    <tr>\n",
       "      <th>1</th>\n",
       "      <td>0e72482bf56b3581c081f7da2a6180b8792c7089.jpg</td>\n",
       "      <td>2</td>\n",
       "    </tr>\n",
       "    <tr>\n",
       "      <th>2</th>\n",
       "      <td>b549040c49190cedc41327748aeb197c1670f14d.jpg</td>\n",
       "      <td>14</td>\n",
       "    </tr>\n",
       "    <tr>\n",
       "      <th>3</th>\n",
       "      <td>4f9cb2a045c6d5b9e50ad3459ea7b791eb6e18bc.jpg</td>\n",
       "      <td>14</td>\n",
       "    </tr>\n",
       "    <tr>\n",
       "      <th>4</th>\n",
       "      <td>248428d9a4a5b6229a7081c32851b90cb8d38d0c.jpg</td>\n",
       "      <td>12</td>\n",
       "    </tr>\n",
       "  </tbody>\n",
       "</table>\n",
       "</div>"
      ],
      "text/plain": [
       "                                        ImageID  ans\n",
       "0  cbc5c6e168e63498590db46022617123f1fe1268.jpg   14\n",
       "1  0e72482bf56b3581c081f7da2a6180b8792c7089.jpg    2\n",
       "2  b549040c49190cedc41327748aeb197c1670f14d.jpg   14\n",
       "3  4f9cb2a045c6d5b9e50ad3459ea7b791eb6e18bc.jpg   14\n",
       "4  248428d9a4a5b6229a7081c32851b90cb8d38d0c.jpg   12"
      ]
     },
     "execution_count": 28,
     "metadata": {},
     "output_type": "execute_result"
    }
   ],
   "source": [
    "pd.read_csv('/opt/ml/output/archive/effnet-b0-1a-smaller-raw_2021-04-07 19_24_27.092316.csv').head()"
   ]
  },
  {
   "cell_type": "code",
   "execution_count": null,
   "id": "oriental-calendar",
   "metadata": {
    "tags": []
   },
   "outputs": [],
   "source": [
    "\"\"\"prefix = branch.model.name # criterion information\n",
    "postfix = \"upscaled\" # data information\n",
    "\n",
    "csv_name = f\"{prefix}_{filename_from_datetime(datetime.today())}_{postfix}.csv\"\n",
    "csv_path = os.path.join(config.path.output, csv_name)\n",
    "\n",
    "predictions.to_csv(csv_path)\n",
    "print(f\"Saved result: {csv_path}\")\"\"\";print()"
   ]
  },
  {
   "cell_type": "markdown",
   "id": "vietnamese-palace",
   "metadata": {},
   "source": [
    "## Single model TTA inference"
   ]
  },
  {
   "cell_type": "code",
   "execution_count": null,
   "id": "southeast-florist",
   "metadata": {},
   "outputs": [],
   "source": [
    "branch = ConfigBranch(\n",
    "    model = effnet_b3_2da_age,\n",
    "    classifying = 'age',\n",
    "    state_path = '/opt/ml/output/models/2021-04-06 02:22:12.233049_effnet_b3_2d_age_upscaled.pth'\n",
    ")      \n",
    "\n",
    "config.model.model = branch.model\n",
    "config.model.classifying = branch.classifying\n",
    "config.model.state_path = branch.state_path\n",
    "trainer().load_state_dict_to_model()\n",
    "predictions = trainer.infer_with_simple_tta()\n",
    "\n",
    "predictions.head()"
   ]
  },
  {
   "cell_type": "code",
   "execution_count": null,
   "id": "plain-divorce",
   "metadata": {},
   "outputs": [],
   "source": [
    "csv_name = f\"effnet-b3-2da-age-upscaled-tta__{filename_from_datetime(datetime.today().time())}.csv\"\n",
    "csv_path = os.path.join(config.path.output, csv_name)\n",
    "\n",
    "predictions.to_csv(csv_path)\n",
    "print(f\"Saved result: {csv_path}\")"
   ]
  },
  {
   "cell_type": "code",
   "execution_count": null,
   "id": "brazilian-healthcare",
   "metadata": {},
   "outputs": [],
   "source": []
  },
  {
   "cell_type": "code",
   "execution_count": null,
   "id": "sensitive-registrar",
   "metadata": {},
   "outputs": [],
   "source": [
    "config.model.model = effnet_b3_age\n",
    "config.model.classifying = 'age'\n",
    "config.model.state_path = '/opt/ml/output/models/2021-04-04 20:48:11.983449_effnet_b3_age_.pth'\n",
    "trainer().load_state_dict_to_model()\n",
    "predictions = trainer.infer_with_simple_tta()\n",
    "predictions.head()"
   ]
  },
  {
   "cell_type": "code",
   "execution_count": null,
   "id": "authorized-doctor",
   "metadata": {},
   "outputs": [],
   "source": [
    "csv_name = f\"effnet-b0-2da-age-raw-tta__{filename_from_datetime(datetime.today().time())}.csv\"\n",
    "csv_path = os.path.join(config.path.output, csv_name)\n",
    "\n",
    "predictions.to_csv(csv_path)\n",
    "print(f\"Saved result: {csv_path}\")"
   ]
  },
  {
   "cell_type": "markdown",
   "id": "increasing-theta",
   "metadata": {},
   "source": [
    "# Ensemble"
   ]
  },
  {
   "cell_type": "markdown",
   "id": "south-compression",
   "metadata": {},
   "source": [
    "## Criteria revision\n",
    "    --- load csv to DataFrame"
   ]
  },
  {
   "cell_type": "code",
   "execution_count": 27,
   "id": "turned-jackson",
   "metadata": {},
   "outputs": [],
   "source": [
    "label_csv = '/opt/ml/output/effnet-b0-multi-raw+ce(as)+adamp_2021-04-07-21_21_25.613439.csv'\n",
    "\n",
    "age_csv = '/opt/ml/output/effnet-b0-1a-age-soft+raw+ce+adamp_2021-04-08-01_08_05.839885.csv'\n",
    "gender_csv = ''\n",
    "mask_csv = ''"
   ]
  },
  {
   "cell_type": "code",
   "execution_count": 28,
   "id": "novel-profit",
   "metadata": {
    "tags": []
   },
   "outputs": [],
   "source": [
    "if label_csv:\n",
    "    labels = pd.read_csv(label_csv, index_col='ImageID')\n",
    "elif not (age_csv and gender_csv and mask_csv):\n",
    "    raise ValueError\n",
    "\n",
    "if age_csv:\n",
    "    ages = pd.read_csv(age_csv, index_col='ImageID')\n",
    "else:\n",
    "    ages = pd.DataFrame(data={'ans': labels.ans.map(data.age_from_label)}, index=labels.index)\n",
    "    \n",
    "if gender_csv:\n",
    "    genders = pd.read_csv(gender_csv, index_col='ImageID')\n",
    "else:\n",
    "    genders = pd.DataFrame(data={'ans': labels.ans.map(data.gender_from_label)}, index=labels.index)\n",
    "    \n",
    "if mask_csv: \n",
    "    masks = pd.read_csv(mask_csv, index_col='ImageID')\n",
    "else:\n",
    "    masks = pd.DataFrame(data={'ans': labels.ans.map(data.mask_from_label)}, index=labels.index)\n",
    "\n",
    "info = pd.read_csv('/opt/ml/output/info.csv', index_col='ImageID')\n",
    "\n",
    "assert (labels.index == info.index).all()\n",
    "assert (ages.index == info.index).all()\n",
    "assert (genders.index == info.index).all()\n",
    "assert (masks.index == info.index).all()"
   ]
  },
  {
   "cell_type": "code",
   "execution_count": 29,
   "id": "marked-vegetarian",
   "metadata": {},
   "outputs": [
    {
     "data": {
      "text/html": [
       "<div>\n",
       "<style scoped>\n",
       "    .dataframe tbody tr th:only-of-type {\n",
       "        vertical-align: middle;\n",
       "    }\n",
       "\n",
       "    .dataframe tbody tr th {\n",
       "        vertical-align: top;\n",
       "    }\n",
       "\n",
       "    .dataframe thead th {\n",
       "        text-align: right;\n",
       "    }\n",
       "</style>\n",
       "<table border=\"1\" class=\"dataframe\">\n",
       "  <thead>\n",
       "    <tr style=\"text-align: right;\">\n",
       "      <th></th>\n",
       "      <th>ans</th>\n",
       "    </tr>\n",
       "    <tr>\n",
       "      <th>ImageID</th>\n",
       "      <th></th>\n",
       "    </tr>\n",
       "  </thead>\n",
       "  <tbody>\n",
       "    <tr>\n",
       "      <th>cbc5c6e168e63498590db46022617123f1fe1268.jpg</th>\n",
       "      <td>13</td>\n",
       "    </tr>\n",
       "    <tr>\n",
       "      <th>0e72482bf56b3581c081f7da2a6180b8792c7089.jpg</th>\n",
       "      <td>1</td>\n",
       "    </tr>\n",
       "    <tr>\n",
       "      <th>b549040c49190cedc41327748aeb197c1670f14d.jpg</th>\n",
       "      <td>13</td>\n",
       "    </tr>\n",
       "    <tr>\n",
       "      <th>4f9cb2a045c6d5b9e50ad3459ea7b791eb6e18bc.jpg</th>\n",
       "      <td>13</td>\n",
       "    </tr>\n",
       "    <tr>\n",
       "      <th>248428d9a4a5b6229a7081c32851b90cb8d38d0c.jpg</th>\n",
       "      <td>12</td>\n",
       "    </tr>\n",
       "  </tbody>\n",
       "</table>\n",
       "</div>"
      ],
      "text/plain": [
       "                                              ans\n",
       "ImageID                                          \n",
       "cbc5c6e168e63498590db46022617123f1fe1268.jpg   13\n",
       "0e72482bf56b3581c081f7da2a6180b8792c7089.jpg    1\n",
       "b549040c49190cedc41327748aeb197c1670f14d.jpg   13\n",
       "4f9cb2a045c6d5b9e50ad3459ea7b791eb6e18bc.jpg   13\n",
       "248428d9a4a5b6229a7081c32851b90cb8d38d0c.jpg   12"
      ]
     },
     "execution_count": 29,
     "metadata": {},
     "output_type": "execute_result"
    }
   ],
   "source": [
    "labels.head()"
   ]
  },
  {
   "cell_type": "code",
   "execution_count": 30,
   "id": "annoying-spring",
   "metadata": {},
   "outputs": [
    {
     "data": {
      "text/plain": [
       "0    5428\n",
       "2    4051\n",
       "1    3121\n",
       "Name: ans, dtype: int64"
      ]
     },
     "execution_count": 30,
     "metadata": {},
     "output_type": "execute_result"
    }
   ],
   "source": [
    "ages.ans = ages.ans.map(data.age_from_label)\n",
    "ages.ans.value_counts()"
   ]
  },
  {
   "cell_type": "code",
   "execution_count": 31,
   "id": "bearing-malawi",
   "metadata": {},
   "outputs": [
    {
     "data": {
      "text/html": [
       "<div>\n",
       "<style scoped>\n",
       "    .dataframe tbody tr th:only-of-type {\n",
       "        vertical-align: middle;\n",
       "    }\n",
       "\n",
       "    .dataframe tbody tr th {\n",
       "        vertical-align: top;\n",
       "    }\n",
       "\n",
       "    .dataframe thead th {\n",
       "        text-align: right;\n",
       "    }\n",
       "</style>\n",
       "<table border=\"1\" class=\"dataframe\">\n",
       "  <thead>\n",
       "    <tr style=\"text-align: right;\">\n",
       "      <th></th>\n",
       "      <th>ans</th>\n",
       "    </tr>\n",
       "    <tr>\n",
       "      <th>ImageID</th>\n",
       "      <th></th>\n",
       "    </tr>\n",
       "  </thead>\n",
       "  <tbody>\n",
       "    <tr>\n",
       "      <th>cbc5c6e168e63498590db46022617123f1fe1268.jpg</th>\n",
       "      <td>14</td>\n",
       "    </tr>\n",
       "    <tr>\n",
       "      <th>0e72482bf56b3581c081f7da2a6180b8792c7089.jpg</th>\n",
       "      <td>2</td>\n",
       "    </tr>\n",
       "    <tr>\n",
       "      <th>b549040c49190cedc41327748aeb197c1670f14d.jpg</th>\n",
       "      <td>14</td>\n",
       "    </tr>\n",
       "    <tr>\n",
       "      <th>4f9cb2a045c6d5b9e50ad3459ea7b791eb6e18bc.jpg</th>\n",
       "      <td>13</td>\n",
       "    </tr>\n",
       "    <tr>\n",
       "      <th>248428d9a4a5b6229a7081c32851b90cb8d38d0c.jpg</th>\n",
       "      <td>12</td>\n",
       "    </tr>\n",
       "  </tbody>\n",
       "</table>\n",
       "</div>"
      ],
      "text/plain": [
       "                                              ans\n",
       "ImageID                                          \n",
       "cbc5c6e168e63498590db46022617123f1fe1268.jpg   14\n",
       "0e72482bf56b3581c081f7da2a6180b8792c7089.jpg    2\n",
       "b549040c49190cedc41327748aeb197c1670f14d.jpg   14\n",
       "4f9cb2a045c6d5b9e50ad3459ea7b791eb6e18bc.jpg   13\n",
       "248428d9a4a5b6229a7081c32851b90cb8d38d0c.jpg   12"
      ]
     },
     "execution_count": 31,
     "metadata": {},
     "output_type": "execute_result"
    }
   ],
   "source": [
    "new_labels = pd.DataFrame(\n",
    "    data={'ans': data.labels(ages.ans, genders.ans, masks.ans)},\n",
    "    index=labels.index\n",
    ")\n",
    "new_labels.head()"
   ]
  },
  {
   "cell_type": "code",
   "execution_count": 32,
   "id": "anticipated-lindsay",
   "metadata": {},
   "outputs": [
    {
     "data": {
      "text/plain": [
       "ans    2719\n",
       "dtype: int64"
      ]
     },
     "execution_count": 32,
     "metadata": {},
     "output_type": "execute_result"
    }
   ],
   "source": [
    "(new_labels - labels).sum()"
   ]
  },
  {
   "cell_type": "code",
   "execution_count": 34,
   "id": "fatty-hotel",
   "metadata": {},
   "outputs": [
    {
     "name": "stdout",
     "output_type": "stream",
     "text": [
      "Saved result: /opt/ml/output/[age]effnet-b0-1a-age-soften+[gender][mask]effnet-b0-multi-all-raw__01_09_45.404480.csv\n"
     ]
    }
   ],
   "source": [
    "prefix = \"[age]effnet-b0-1a-age-soften+[gender][mask]effnet-b0-multi-all-raw\"\n",
    "\n",
    "csv_name = f\"{prefix}__{filename_from_datetime(datetime.today().time())}.csv\"\n",
    "csv_path = os.path.join(config.path.output, csv_name)\n",
    "\n",
    "new_labels.to_csv(csv_path)\n",
    "\n",
    "print(f\"Saved result: {csv_path}\")"
   ]
  },
  {
   "cell_type": "markdown",
   "id": "ambient-enterprise",
   "metadata": {},
   "source": [
    "## Ensemble of n(x/w)"
   ]
  },
  {
   "cell_type": "markdown",
   "id": "wrapped-cooperation",
   "metadata": {},
   "source": [
    "### Inference of each model"
   ]
  },
  {
   "cell_type": "code",
   "execution_count": null,
   "id": "agricultural-edward",
   "metadata": {},
   "outputs": [],
   "source": [
    "models = []\n",
    "\n",
    "for model in models:\n",
    "    branch = next(model_iterator)\n",
    "    model = branch.model\n",
    "    model.load_state_dict(torch.load(branch.state_path, map_location=config.system.device))\n",
    "\n",
    "print(\"<All keys have been matched.>\")"
   ]
  },
  {
   "cell_type": "code",
   "execution_count": null,
   "id": "timely-indie",
   "metadata": {
    "tags": []
   },
   "outputs": [],
   "source": [
    "model_iterator = iter(MODELS_TO_TRAIN)\n",
    "while True:\n",
    "    try:\n",
    "        branch = next(model_iterator)\n",
    "        print(f\"{branch.model.name}\", end=\"\")\n",
    "        config.model.model = branch.model\n",
    "        config.model.classifying = branch.classifying\n",
    "        trainer.infer_and_save_csv()\n",
    "    except StopIteration:\n",
    "        break"
   ]
  },
  {
   "cell_type": "markdown",
   "id": "banned-forest",
   "metadata": {},
   "source": [
    "### Ensemble!"
   ]
  },
  {
   "cell_type": "code",
   "execution_count": null,
   "id": "joint-stress",
   "metadata": {},
   "outputs": [],
   "source": [
    "# ensemble_and_infer_test(trainer, models, weighted=False)"
   ]
  },
  {
   "cell_type": "markdown",
   "id": "armed-marks",
   "metadata": {},
   "source": [
    "# Result check and visualization"
   ]
  },
  {
   "cell_type": "code",
   "execution_count": null,
   "id": "center-pasta",
   "metadata": {},
   "outputs": [],
   "source": [
    "sys.path"
   ]
  },
  {
   "cell_type": "code",
   "execution_count": null,
   "id": "threaded-pound",
   "metadata": {},
   "outputs": [],
   "source": [
    "test_size = len(ages)\n",
    "num_samples = 100\n",
    "\n",
    "fig, axes = plt.subplots(\n",
    "    num_samples // 5, 5, \n",
    "    figsize=(10, 5 * num_samples // 8)\n",
    ")\n",
    "\n",
    "for i, idx in enumerate(np.random.randint(0, test_size, num_samples)):\n",
    "    filename = ages.index[idx]\n",
    "    prediction = ages.iloc[idx].ans\n",
    "    label = labels.loc[filename].ans\n",
    "    \n",
    "    filepath = os.path.join(config.path.test, filename)\n",
    "    image = cv2.imread(filepath)\n",
    "    image = cv2.cvtColor(image, cv2.COLOR_BGR2RGB)\n",
    "    image = image / 255.\n",
    "    \n",
    "        \n",
    "    if prediction % 3 == 0:\n",
    "        age = 'under 30'\n",
    "    elif prediction % 3 == 1:\n",
    "        age = '30 to 60'\n",
    "    else:\n",
    "        age = '60 or more'\n",
    "        \n",
    "    if label % 3 == 0:\n",
    "        age_l = 'under 30'\n",
    "    elif prediction % 3 == 1:\n",
    "        age_l = '30 to 60'\n",
    "    else:\n",
    "        age_l = '60 or more'\n",
    "    \n",
    "    r, c = divmod(i, 5)\n",
    "    axes[r, c].imshow(image)\n",
    "    axes[r, c].set_title(f\"{age_l} -> {age}\", fontsize=12)\n",
    "    axes[r, c].axis('off')\n",
    "    \n",
    "plt.tight_layout()\n",
    "plt.show()"
   ]
  },
  {
   "cell_type": "code",
   "execution_count": null,
   "id": "unknown-transfer",
   "metadata": {
    "tags": []
   },
   "outputs": [],
   "source": [
    "predictions = labels\n",
    "\n",
    "test_size = len(predictions)\n",
    "num_samples = 100\n",
    "\n",
    "fig, axes = plt.subplots(\n",
    "    num_samples // 5, 5, \n",
    "    figsize=(10, 5 * num_samples // 7)\n",
    ")\n",
    "\n",
    "for i, idx in enumerate(np.random.randint(0, test_size, num_samples)):\n",
    "    filename = predictions.index[idx]\n",
    "    prediction = predictions.iloc[idx].ans\n",
    "    filepath = os.path.join(config.path.test, filename)\n",
    "    image = cv2.imread(filepath)\n",
    "    image = cv2.cvtColor(image, cv2.COLOR_BGR2RGB)\n",
    "    image = image / 255.\n",
    "    \n",
    "    if prediction // 6 == 0:\n",
    "        mask = 'correct'\n",
    "    elif prediction // 6 == 1:\n",
    "        mask = 'incorrect'\n",
    "    elif prediction // 6 == 2:\n",
    "        mask = 'not wear'\n",
    "    else:\n",
    "        raise \"?\"\n",
    "    \n",
    "    if (prediction // 3) % 2 == 0:\n",
    "        gender = 'male'\n",
    "    else:\n",
    "        gender = 'female'\n",
    "        \n",
    "    if prediction % 3 == 0:\n",
    "        age = 'under 30'\n",
    "    elif prediction % 3 == 1:\n",
    "        age = '30 to 60'\n",
    "    else:\n",
    "        age = '60 or more'\n",
    "    \n",
    "    r, c = divmod(i, 5)\n",
    "    axes[r, c].imshow(image)\n",
    "    axes[r, c].set_title(f\"{mask}\\n{gender}\\n{age}\", fontsize=12)\n",
    "    axes[r, c].axis('off')\n",
    "    \n",
    "plt.tight_layout()\n",
    "plt.show()"
   ]
  },
  {
   "cell_type": "code",
   "execution_count": null,
   "id": "individual-candle",
   "metadata": {},
   "outputs": [],
   "source": []
  }
 ],
 "metadata": {
  "kernelspec": {
   "display_name": "Python 3",
   "language": "python",
   "name": "python3"
  },
  "language_info": {
   "codemirror_mode": {
    "name": "ipython",
    "version": 3
   },
   "file_extension": ".py",
   "mimetype": "text/x-python",
   "name": "python",
   "nbconvert_exporter": "python",
   "pygments_lexer": "ipython3",
   "version": "3.7.7"
  }
 },
 "nbformat": 4,
 "nbformat_minor": 5
}
