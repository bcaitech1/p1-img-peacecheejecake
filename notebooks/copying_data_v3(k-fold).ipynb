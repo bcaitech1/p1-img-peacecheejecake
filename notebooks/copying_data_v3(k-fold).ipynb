{
 "cells": [
  {
   "cell_type": "code",
   "execution_count": 86,
   "id": "severe-helicopter",
   "metadata": {},
   "outputs": [],
   "source": [
    "from glob import glob\n",
    "import pandas as pd\n",
    "import os\n",
    "import shutil\n",
    "import random\n",
    "from tqdm.notebook import tqdm"
   ]
  },
  {
   "cell_type": "code",
   "execution_count": 2,
   "id": "analyzed-underwear",
   "metadata": {},
   "outputs": [],
   "source": [
    "import matplotlib.pyplot as plt\n",
    "import numpy as np\n",
    "import cv2"
   ]
  },
  {
   "cell_type": "code",
   "execution_count": 4,
   "id": "agreed-looking",
   "metadata": {},
   "outputs": [],
   "source": [
    "train_origin_path = '/opt/ml/input/data/train/images'\n",
    "train_image_path = '/opt/ml/input/data/train/smaller_'\n",
    "train_path = '/opt/ml/input/data/train'\n",
    "eval_image_path = '/opt/ml/input/'"
   ]
  },
  {
   "cell_type": "code",
   "execution_count": 5,
   "id": "numerical-accommodation",
   "metadata": {},
   "outputs": [],
   "source": [
    "train_images = glob(os.path.join(train_image_path, '*.jpg'))\n",
    "train_size = len(train_images)\n",
    "\n",
    "train_origin_folders = glob(os.path.join(train_origin_path, '*'))\n",
    "num_train_origin_folders = len(train_origin_folders)"
   ]
  },
  {
   "cell_type": "code",
   "execution_count": 6,
   "id": "known-potential",
   "metadata": {},
   "outputs": [
    {
     "data": {
      "text/html": [
       "<div>\n",
       "<style scoped>\n",
       "    .dataframe tbody tr th:only-of-type {\n",
       "        vertical-align: middle;\n",
       "    }\n",
       "\n",
       "    .dataframe tbody tr th {\n",
       "        vertical-align: top;\n",
       "    }\n",
       "\n",
       "    .dataframe thead th {\n",
       "        text-align: right;\n",
       "    }\n",
       "</style>\n",
       "<table border=\"1\" class=\"dataframe\">\n",
       "  <thead>\n",
       "    <tr style=\"text-align: right;\">\n",
       "      <th></th>\n",
       "      <th>id</th>\n",
       "      <th>gender</th>\n",
       "      <th>race</th>\n",
       "      <th>age</th>\n",
       "      <th>path</th>\n",
       "    </tr>\n",
       "  </thead>\n",
       "  <tbody>\n",
       "    <tr>\n",
       "      <th>0</th>\n",
       "      <td>000001</td>\n",
       "      <td>female</td>\n",
       "      <td>Asian</td>\n",
       "      <td>45</td>\n",
       "      <td>000001_female_Asian_45</td>\n",
       "    </tr>\n",
       "    <tr>\n",
       "      <th>1</th>\n",
       "      <td>000002</td>\n",
       "      <td>female</td>\n",
       "      <td>Asian</td>\n",
       "      <td>52</td>\n",
       "      <td>000002_female_Asian_52</td>\n",
       "    </tr>\n",
       "    <tr>\n",
       "      <th>2</th>\n",
       "      <td>000004</td>\n",
       "      <td>male</td>\n",
       "      <td>Asian</td>\n",
       "      <td>54</td>\n",
       "      <td>000004_male_Asian_54</td>\n",
       "    </tr>\n",
       "    <tr>\n",
       "      <th>3</th>\n",
       "      <td>000005</td>\n",
       "      <td>female</td>\n",
       "      <td>Asian</td>\n",
       "      <td>58</td>\n",
       "      <td>000005_female_Asian_58</td>\n",
       "    </tr>\n",
       "    <tr>\n",
       "      <th>4</th>\n",
       "      <td>000006</td>\n",
       "      <td>female</td>\n",
       "      <td>Asian</td>\n",
       "      <td>59</td>\n",
       "      <td>000006_female_Asian_59</td>\n",
       "    </tr>\n",
       "  </tbody>\n",
       "</table>\n",
       "</div>"
      ],
      "text/plain": [
       "       id  gender   race  age                    path\n",
       "0  000001  female  Asian   45  000001_female_Asian_45\n",
       "1  000002  female  Asian   52  000002_female_Asian_52\n",
       "2  000004    male  Asian   54    000004_male_Asian_54\n",
       "3  000005  female  Asian   58  000005_female_Asian_58\n",
       "4  000006  female  Asian   59  000006_female_Asian_59"
      ]
     },
     "execution_count": 6,
     "metadata": {},
     "output_type": "execute_result"
    }
   ],
   "source": [
    "train_info_origin = pd.read_csv(os.path.join(train_path, 'train.csv'))\n",
    "train_info_origin.head()"
   ]
  },
  {
   "cell_type": "code",
   "execution_count": 7,
   "id": "identified-nylon",
   "metadata": {},
   "outputs": [
    {
     "data": {
      "text/plain": [
       "45"
      ]
     },
     "execution_count": 7,
     "metadata": {},
     "output_type": "execute_result"
    }
   ],
   "source": [
    "train_info_origin.loc[train_info_origin.path == '000001_female_Asian_45'].age.iloc[0]"
   ]
  },
  {
   "cell_type": "code",
   "execution_count": 8,
   "id": "satellite-flush",
   "metadata": {},
   "outputs": [
    {
     "data": {
      "text/plain": [
       "2700"
      ]
     },
     "execution_count": 8,
     "metadata": {},
     "output_type": "execute_result"
    }
   ],
   "source": [
    "len(train_info_origin)"
   ]
  },
  {
   "cell_type": "code",
   "execution_count": 9,
   "id": "undefined-baptist",
   "metadata": {},
   "outputs": [
    {
     "data": {
      "text/plain": [
       "2350"
      ]
     },
     "execution_count": 9,
     "metadata": {},
     "output_type": "execute_result"
    }
   ],
   "source": [
    "# 60 근처 57~59세 제외하기\n",
    "train_info = train_info_origin.loc[(train_info_origin.age < 57) | (train_info_origin.age >= 60)]\n",
    "len(train_info)"
   ]
  },
  {
   "cell_type": "code",
   "execution_count": 10,
   "id": "worthy-working",
   "metadata": {},
   "outputs": [
    {
     "data": {
      "text/plain": [
       "2314"
      ]
     },
     "execution_count": 10,
     "metadata": {},
     "output_type": "execute_result"
    }
   ],
   "source": [
    "# 30 근처 29~31세 제외하기\n",
    "train_info = train_info.loc[(train_info.age < 29) | (train_info.age > 31)]\n",
    "len(train_info)"
   ]
  },
  {
   "cell_type": "code",
   "execution_count": 11,
   "id": "collaborative-redhead",
   "metadata": {},
   "outputs": [
    {
     "data": {
      "text/plain": [
       "0.14296296296296296"
      ]
     },
     "execution_count": 11,
     "metadata": {},
     "output_type": "execute_result"
    }
   ],
   "source": [
    "(2700-2314) / 2700"
   ]
  },
  {
   "cell_type": "code",
   "execution_count": 12,
   "id": "exclusive-feeding",
   "metadata": {},
   "outputs": [],
   "source": [
    "def gender_dict(x: str):\n",
    "    return int(x == 'female')\n",
    "\n",
    "\n",
    "def age_dict(x: int):\n",
    "    if x < 30: return 0\n",
    "    elif x < 60: return 1\n",
    "    else: return 2\n",
    "\n",
    "\n",
    "def mask_dict(filename: str):\n",
    "    if 'incorrect' in filename:\n",
    "        return 1\n",
    "    elif 'normal' in filename:\n",
    "        return 2\n",
    "    else:\n",
    "        return 0"
   ]
  },
  {
   "cell_type": "code",
   "execution_count": 13,
   "id": "undefined-ending",
   "metadata": {},
   "outputs": [
    {
     "data": {
      "text/html": [
       "<div>\n",
       "<style scoped>\n",
       "    .dataframe tbody tr th:only-of-type {\n",
       "        vertical-align: middle;\n",
       "    }\n",
       "\n",
       "    .dataframe tbody tr th {\n",
       "        vertical-align: top;\n",
       "    }\n",
       "\n",
       "    .dataframe thead th {\n",
       "        text-align: right;\n",
       "    }\n",
       "</style>\n",
       "<table border=\"1\" class=\"dataframe\">\n",
       "  <thead>\n",
       "    <tr style=\"text-align: right;\">\n",
       "      <th></th>\n",
       "      <th>class_num</th>\n",
       "    </tr>\n",
       "    <tr>\n",
       "      <th>path</th>\n",
       "      <th></th>\n",
       "    </tr>\n",
       "  </thead>\n",
       "  <tbody>\n",
       "    <tr>\n",
       "      <th>000001_female_Asian_45</th>\n",
       "      <td>4</td>\n",
       "    </tr>\n",
       "    <tr>\n",
       "      <th>000002_female_Asian_52</th>\n",
       "      <td>4</td>\n",
       "    </tr>\n",
       "    <tr>\n",
       "      <th>000004_male_Asian_54</th>\n",
       "      <td>1</td>\n",
       "    </tr>\n",
       "    <tr>\n",
       "      <th>000009_female_Asian_56</th>\n",
       "      <td>4</td>\n",
       "    </tr>\n",
       "    <tr>\n",
       "      <th>000015_male_Asian_55</th>\n",
       "      <td>1</td>\n",
       "    </tr>\n",
       "  </tbody>\n",
       "</table>\n",
       "</div>"
      ],
      "text/plain": [
       "                        class_num\n",
       "path                             \n",
       "000001_female_Asian_45          4\n",
       "000002_female_Asian_52          4\n",
       "000004_male_Asian_54            1\n",
       "000009_female_Asian_56          4\n",
       "000015_male_Asian_55            1"
      ]
     },
     "execution_count": 13,
     "metadata": {},
     "output_type": "execute_result"
    }
   ],
   "source": [
    "train_info['class_num'] = 3 * train_info.gender.map(gender_dict) + train_info.age.map(age_dict)\n",
    "train_info = train_info.drop(['id', 'gender', 'age', 'race'], axis=1)\n",
    "if len(train_info) == len(np.unique(train_info.path)):\n",
    "    train_info.index = train_info.path\n",
    "    train_info = train_info.drop(['path'], axis=1)\n",
    "train_info.head()"
   ]
  },
  {
   "cell_type": "code",
   "execution_count": 27,
   "id": "binary-holiday",
   "metadata": {},
   "outputs": [
    {
     "data": {
      "text/plain": [
       "[543, 265, 83, 722, 592, 109]"
      ]
     },
     "execution_count": 27,
     "metadata": {},
     "output_type": "execute_result"
    }
   ],
   "source": [
    "class_counts = list(train_info.class_num.value_counts().sort_index())\n",
    "class_counts"
   ]
  },
  {
   "cell_type": "code",
   "execution_count": 69,
   "id": "every-leader",
   "metadata": {},
   "outputs": [],
   "source": [
    "trains = [[] for _ in range(4)]\n",
    "valids = [[] for _ in range(4)]\n",
    "\n",
    "for class_idx, class_ in enumerate(class_counts):\n",
    "    num_class = class_counts[class_idx]\n",
    "    train_info_in_class = train_info.loc[train_info.class_num==class_idx]\n",
    "\n",
    "    valids[0] += list(train_info_in_class.iloc[:num_class // 4].index)\n",
    "    trains[0] += list(train_info_in_class.iloc[num_class // 4:].index)\n",
    "    \n",
    "    valids[1] += list(train_info_in_class.iloc[num_class // 4:(num_class // 4) * 2].index)\n",
    "    trains[1] += list(train_info_in_class.iloc[:num_class // 4].index)\n",
    "    trains[1] += list(train_info_in_class.iloc[(num_class // 4) * 2:].index)\n",
    "    \n",
    "    valids[2] += list(train_info_in_class.iloc[(num_class // 4) * 2:(num_class // 4) * 3].index)\n",
    "    trains[2] += list(train_info_in_class.iloc[:num_class // 4 * 2].index)\n",
    "    trains[2] += list(train_info_in_class.iloc[(num_class // 4) * 3:].index)\n",
    "\n",
    "    valids[3] += list(train_info_in_class.iloc[(num_class // 4) * 3:].index)\n",
    "    trains[3] += list(train_info_in_class.iloc[:(num_class // 4) * 3].index)\n",
    "\n",
    "for train, valid in zip(trains, valids):\n",
    "    random.shuffle(train)\n",
    "    random.shuffle(valid)"
   ]
  },
  {
   "cell_type": "code",
   "execution_count": 99,
   "id": "disturbed-startup",
   "metadata": {},
   "outputs": [
    {
     "data": {
      "text/plain": [
       "3    540\n",
       "4    444\n",
       "0    405\n",
       "1    198\n",
       "5     81\n",
       "2     60\n",
       "Name: class_num, dtype: int64"
      ]
     },
     "execution_count": 99,
     "metadata": {},
     "output_type": "execute_result"
    }
   ],
   "source": [
    "train_info.loc[trains[-1]].class_num.value_counts()"
   ]
  },
  {
   "cell_type": "code",
   "execution_count": 24,
   "id": "statewide-explosion",
   "metadata": {},
   "outputs": [],
   "source": [
    "from glob import glob\n",
    "import pandas as pd\n",
    "import os\n",
    "import shutil"
   ]
  },
  {
   "cell_type": "code",
   "execution_count": 32,
   "id": "rotary-repeat",
   "metadata": {},
   "outputs": [],
   "source": [
    "import matplotlib.pyplot as plt\n",
    "import numpy as np\n",
    "import cv2"
   ]
  },
  {
   "cell_type": "code",
   "execution_count": 31,
   "id": "ordinary-black",
   "metadata": {},
   "outputs": [
    {
     "data": {
      "text/plain": [
       "torch.Size([1000, 1280])"
      ]
     },
     "execution_count": 31,
     "metadata": {},
     "output_type": "execute_result"
    }
   ],
   "source": [
    "import timm\n",
    "list(timm.models.efficientnet_b0().parameters())[-2].shape"
   ]
  },
  {
   "cell_type": "code",
   "execution_count": 3,
   "id": "distinct-federation",
   "metadata": {},
   "outputs": [],
   "source": [
    "train_origin_path = '/opt/ml/input/data/train/images'\n",
    "train_image_path = '/opt/ml/input/data/train/_all'\n",
    "train_path = '/opt/ml/input/data/train'\n",
    "eval_image_path = '/opt/ml/input/'"
   ]
  },
  {
   "cell_type": "code",
   "execution_count": 4,
   "id": "desperate-india",
   "metadata": {},
   "outputs": [],
   "source": [
    "train_images = glob(os.path.join(train_image_path, '*.jpg'))\n",
    "train_size = len(train_images)\n",
    "\n",
    "train_origin_folders = glob(os.path.join(train_origin_path, '*'))\n",
    "num_train_origin_folders = len(train_origin_folders)"
   ]
  },
  {
   "cell_type": "code",
   "execution_count": 69,
   "id": "expressed-shape",
   "metadata": {},
   "outputs": [
    {
     "data": {
      "text/html": [
       "<div>\n",
       "<style scoped>\n",
       "    .dataframe tbody tr th:only-of-type {\n",
       "        vertical-align: middle;\n",
       "    }\n",
       "\n",
       "    .dataframe tbody tr th {\n",
       "        vertical-align: top;\n",
       "    }\n",
       "\n",
       "    .dataframe thead th {\n",
       "        text-align: right;\n",
       "    }\n",
       "</style>\n",
       "<table border=\"1\" class=\"dataframe\">\n",
       "  <thead>\n",
       "    <tr style=\"text-align: right;\">\n",
       "      <th></th>\n",
       "      <th>id</th>\n",
       "      <th>gender</th>\n",
       "      <th>race</th>\n",
       "      <th>age</th>\n",
       "      <th>path</th>\n",
       "    </tr>\n",
       "  </thead>\n",
       "  <tbody>\n",
       "    <tr>\n",
       "      <th>0</th>\n",
       "      <td>000001</td>\n",
       "      <td>female</td>\n",
       "      <td>Asian</td>\n",
       "      <td>45</td>\n",
       "      <td>000001_female_Asian_45</td>\n",
       "    </tr>\n",
       "    <tr>\n",
       "      <th>1</th>\n",
       "      <td>000002</td>\n",
       "      <td>female</td>\n",
       "      <td>Asian</td>\n",
       "      <td>52</td>\n",
       "      <td>000002_female_Asian_52</td>\n",
       "    </tr>\n",
       "    <tr>\n",
       "      <th>2</th>\n",
       "      <td>000004</td>\n",
       "      <td>male</td>\n",
       "      <td>Asian</td>\n",
       "      <td>54</td>\n",
       "      <td>000004_male_Asian_54</td>\n",
       "    </tr>\n",
       "    <tr>\n",
       "      <th>3</th>\n",
       "      <td>000005</td>\n",
       "      <td>female</td>\n",
       "      <td>Asian</td>\n",
       "      <td>58</td>\n",
       "      <td>000005_female_Asian_58</td>\n",
       "    </tr>\n",
       "    <tr>\n",
       "      <th>4</th>\n",
       "      <td>000006</td>\n",
       "      <td>female</td>\n",
       "      <td>Asian</td>\n",
       "      <td>59</td>\n",
       "      <td>000006_female_Asian_59</td>\n",
       "    </tr>\n",
       "  </tbody>\n",
       "</table>\n",
       "</div>"
      ],
      "text/plain": [
       "       id  gender   race  age                    path\n",
       "0  000001  female  Asian   45  000001_female_Asian_45\n",
       "1  000002  female  Asian   52  000002_female_Asian_52\n",
       "2  000004    male  Asian   54    000004_male_Asian_54\n",
       "3  000005  female  Asian   58  000005_female_Asian_58\n",
       "4  000006  female  Asian   59  000006_female_Asian_59"
      ]
     },
     "execution_count": 69,
     "metadata": {},
     "output_type": "execute_result"
    }
   ],
   "source": [
    "train_info_origin = pd.read_csv(os.path.join(train_path, 'train.csv'))\n",
    "train_info_origin.head()"
   ]
  },
  {
   "cell_type": "code",
   "execution_count": 103,
   "id": "strong-trinity",
   "metadata": {},
   "outputs": [
    {
     "data": {
      "text/plain": [
       "45"
      ]
     },
     "execution_count": 103,
     "metadata": {},
     "output_type": "execute_result"
    }
   ],
   "source": [
    "train_info_origin.loc[train_info_origin.path == '000001_female_Asian_45'].age.iloc[0]"
   ]
  },
  {
   "cell_type": "code",
   "execution_count": 6,
   "id": "arranged-comparison",
   "metadata": {},
   "outputs": [
    {
     "data": {
      "text/plain": [
       "2700"
      ]
     },
     "execution_count": 6,
     "metadata": {},
     "output_type": "execute_result"
    }
   ],
   "source": [
    "len(train_info_origin)"
   ]
  },
  {
   "cell_type": "code",
   "execution_count": 70,
   "id": "secret-university",
   "metadata": {},
   "outputs": [
    {
     "data": {
      "text/plain": [
       "2350"
      ]
     },
     "execution_count": 70,
     "metadata": {},
     "output_type": "execute_result"
    }
   ],
   "source": [
    "# 60 근처 57~59세 제외하기\n",
    "train_info = train_info_origin.loc[(train_info_origin.age < 57) | (train_info_origin.age >= 60)]\n",
    "len(train_info)"
   ]
  },
  {
   "cell_type": "code",
   "execution_count": 71,
   "id": "advisory-vermont",
   "metadata": {},
   "outputs": [
    {
     "data": {
      "text/plain": [
       "2314"
      ]
     },
     "execution_count": 71,
     "metadata": {},
     "output_type": "execute_result"
    }
   ],
   "source": [
    "# 30 근처 29~31세 제외하기\n",
    "train_info = train_info.loc[(train_info.age < 29) | (train_info.age > 31)]\n",
    "len(train_info)"
   ]
  },
  {
   "cell_type": "code",
   "execution_count": 9,
   "id": "interim-software",
   "metadata": {},
   "outputs": [
    {
     "data": {
      "text/plain": [
       "0.14296296296296296"
      ]
     },
     "execution_count": 9,
     "metadata": {},
     "output_type": "execute_result"
    }
   ],
   "source": [
    "(2700-2314) / 2700"
   ]
  },
  {
   "cell_type": "code",
   "execution_count": 10,
   "id": "incorporate-potter",
   "metadata": {},
   "outputs": [],
   "source": [
    "def gender_dict(x: str):\n",
    "    return int(x == 'female')\n",
    "\n",
    "\n",
    "def age_dict(x: int):\n",
    "    if x < 30: return 0\n",
    "    elif x < 60: return 1\n",
    "    else: return 2\n",
    "\n",
    "\n",
    "def mask_dict(filename: str):\n",
    "    if 'incorrect' in filename:\n",
    "        return 1\n",
    "    elif 'normal' in filename:\n",
    "        return 2\n",
    "    else:\n",
    "        return 0"
   ]
  },
  {
   "cell_type": "code",
   "execution_count": 11,
   "id": "dietary-veteran",
   "metadata": {},
   "outputs": [
    {
     "data": {
      "text/html": [
       "<div>\n",
       "<style scoped>\n",
       "    .dataframe tbody tr th:only-of-type {\n",
       "        vertical-align: middle;\n",
       "    }\n",
       "\n",
       "    .dataframe tbody tr th {\n",
       "        vertical-align: top;\n",
       "    }\n",
       "\n",
       "    .dataframe thead th {\n",
       "        text-align: right;\n",
       "    }\n",
       "</style>\n",
       "<table border=\"1\" class=\"dataframe\">\n",
       "  <thead>\n",
       "    <tr style=\"text-align: right;\">\n",
       "      <th></th>\n",
       "      <th>class_num</th>\n",
       "    </tr>\n",
       "    <tr>\n",
       "      <th>path</th>\n",
       "      <th></th>\n",
       "    </tr>\n",
       "  </thead>\n",
       "  <tbody>\n",
       "    <tr>\n",
       "      <th>000001_female_Asian_45</th>\n",
       "      <td>4</td>\n",
       "    </tr>\n",
       "    <tr>\n",
       "      <th>000002_female_Asian_52</th>\n",
       "      <td>4</td>\n",
       "    </tr>\n",
       "    <tr>\n",
       "      <th>000004_male_Asian_54</th>\n",
       "      <td>1</td>\n",
       "    </tr>\n",
       "    <tr>\n",
       "      <th>000009_female_Asian_56</th>\n",
       "      <td>4</td>\n",
       "    </tr>\n",
       "    <tr>\n",
       "      <th>000015_male_Asian_55</th>\n",
       "      <td>1</td>\n",
       "    </tr>\n",
       "  </tbody>\n",
       "</table>\n",
       "</div>"
      ],
      "text/plain": [
       "                        class_num\n",
       "path                             \n",
       "000001_female_Asian_45          4\n",
       "000002_female_Asian_52          4\n",
       "000004_male_Asian_54            1\n",
       "000009_female_Asian_56          4\n",
       "000015_male_Asian_55            1"
      ]
     },
     "execution_count": 11,
     "metadata": {},
     "output_type": "execute_result"
    }
   ],
   "source": [
    "train_info['class_num'] = 3 * train_info.gender.map(gender_dict) + train_info.age.map(age_dict)\n",
    "train_info = train_info.drop(['id', 'gender', 'age', 'race'], axis=1)\n",
    "if len(train_info) == len(np.unique(train_info.path)):\n",
    "    train_info.index = train_info.path\n",
    "    train_info = train_info.drop(['path'], axis=1)\n",
    "train_info.head()"
   ]
  },
  {
   "cell_type": "code",
   "execution_count": 17,
   "id": "other-rebel",
   "metadata": {},
   "outputs": [],
   "source": [
    "dest_base = '/opt/ml/input/data/train/smaller_'\n",
    "if not os.path.exists(dir_to_paste):\n",
    "    os.mkdir(dir_to_paste)"
   ]
  },
  {
   "cell_type": "code",
   "execution_count": 29,
   "id": "driving-thousand",
   "metadata": {},
   "outputs": [
    {
     "name": "stdout",
     "output_type": "stream",
     "text": [
      "Start copying: /opt/ml/input/data/train/images -> /opt/ml/input/data/train/smaller_\n",
      "Copying 16198/16198\n",
      "Copied 16198 images.\n"
     ]
    }
   ],
   "source": [
    "print(f\"Start copying: {train_origin_path} -> {dest_base}\")\n",
    "\n",
    "for folder_idx, folder in enumerate(train_info.index):\n",
    "    class_num = train_info.loc[folder].class_num\n",
    "    image_folder = os.path.join(train_origin_path, folder)\n",
    "    for image_idx, origin in enumerate(glob(os.path.join(image_folder, '*'))):\n",
    "        print(f'\\rCopying {folder_idx * 7 + image_idx + 1}/{len(train_info) * 7}', end='')\n",
    "\n",
    "        origin_name, _ = origin.split('/')[-1].split('.')\n",
    "        dest_name = f'{6 * mask_dict(origin_name) + class_num:02d}_{folder}_{image_idx}.jpg'\n",
    "        dest = os.path.join(dest_base, dest_name)\n",
    "        shutil.copy(origin, dest)\n",
    "else:\n",
    "    num_copied_files = len(glob(os.path.join(dest_base, '*.jpg')))\n",
    "    print(f'\\nCopied {num_copied_files} images.')"
   ]
  },
  {
   "cell_type": "code",
   "execution_count": 34,
   "id": "front-password",
   "metadata": {},
   "outputs": [
    {
     "data": {
      "text/plain": [
       "16198"
      ]
     },
     "execution_count": 34,
     "metadata": {},
     "output_type": "execute_result"
    }
   ],
   "source": [
    "smaller_train_images = glob(os.path.join(dest_base, '*.jpg'))\n",
    "smaller_train_size = len(smaller_train_images)\n",
    "smaller_train_size"
   ]
  },
  {
   "cell_type": "code",
   "execution_count": 39,
   "id": "affiliated-chamber",
   "metadata": {},
   "outputs": [],
   "source": [
    "def age_from_label(label: int):\n",
    "    '''\n",
    "    0 <- under 30\n",
    "    1 <- between 30 and 60\n",
    "    2 <- over 60\n",
    "    '''\n",
    "    return label % 3\n",
    "\n",
    "\n",
    "def gender_from_label(label: int):\n",
    "    '''\n",
    "    0 <- male\n",
    "    1 <- female\n",
    "    '''\n",
    "    return (label // 3) % 2\n",
    "\n",
    "\n",
    "def mask_from_label(label: int):\n",
    "    '''\n",
    "    0 <- wear\n",
    "    1 <- incorrect\n",
    "    2 <- not wear\n",
    "    '''\n",
    "    return label // 6\n",
    "\n",
    "\n",
    "def decode_label(label: int):\n",
    "    return label % 3, (label // 3) % 2, label // 6"
   ]
  },
  {
   "cell_type": "code",
   "execution_count": 99,
   "id": "empirical-internet",
   "metadata": {},
   "outputs": [
    {
     "data": {
      "image/png": "[encoded data removed]",
      "text/plain": [
       "<Figure size 432x288 with 1 Axes>"
      ]
     },
     "metadata": {
      "needs_background": "light"
     },
     "output_type": "display_data"
    }
   ],
   "source": [
    "random_idx = np.random.randint(smaller_train_size)\n",
    "random_sample = smaller_train_images[random_idx]\n",
    "\n",
    "label = int(random_sample.split('/')[-1][:2])\n",
    "\n",
    "if label // 6 == 0:\n",
    "    mask = 'correct'\n",
    "elif label // 6 == 1:\n",
    "    mask = 'incorrect'\n",
    "elif label // 6 == 2:\n",
    "    mask = 'not wear'\n",
    "else:\n",
    "    raise \"?\"\n",
    "\n",
    "if (label // 3) % 2 == 0:\n",
    "    gender = 'male'\n",
    "else:\n",
    "    gender = 'female'\n",
    "\n",
    "if label % 3 == 0:\n",
    "    age = 'under 30'\n",
    "elif label % 3 == 1:\n",
    "    age = '30 to 60'\n",
    "else:\n",
    "    age = '60 or more'\n",
    "    \n",
    "folder_in_origin = '_'.join(random_sample.split('/')[-1].split('_')[1:5]).split('.')[0]\n",
    "_, gender_info, _, age_info, _ = train_info_origin.loc[train_info_origin.path == folder_in_origin].iloc[0]\n",
    "\n",
    "random_image = cv2.imread(random_sample)\n",
    "random_image = cv2.cvtColor(random_image, cv2.COLOR_BGR2RGB)\n",
    "plt.imshow(random_image)\n",
    "\n",
    "title = f\"{age} / {gender} / {mask}\\n{age_info} / {gender_info}\"\n",
    "plt.title(title)\n",
    "plt.show()"
   ]
  },
  {
   "cell_type": "code",
   "execution_count": 127,
   "id": "comparable-locking",
   "metadata": {},
   "outputs": [
    {
     "data": {
      "text/plain": [
       "(512, 384, 3)"
      ]
     },
     "execution_count": 127,
     "metadata": {},
     "output_type": "execute_result"
    }
   ],
   "source": [
    "random_image.shape"
   ]
  },
  {
   "cell_type": "code",
   "execution_count": null,
   "id": "consistent-parcel",
   "metadata": {},
   "outputs": [],
   "source": []
  },
  {
   "cell_type": "code",
   "execution_count": 104,
   "id": "powered-college",
   "metadata": {},
   "outputs": [],
   "source": []
  },
  {
   "cell_type": "code",
   "execution_count": 159,
   "id": "initial-astrology",
   "metadata": {},
   "outputs": [
    {
     "data": {
      "text/plain": [
       "(tensor([9.2312e-01, 2.7804e-01, 6.1484e-14]), 21)"
      ]
     },
     "execution_count": 159,
     "metadata": {},
     "output_type": "execute_result"
    }
   ],
   "source": [
    "from scipy.stats import norm\n",
    "\n",
    "def age_norm(x, mu, sigma=15):\n",
    "    z = (x - mu) / sigma\n",
    "    return norm.pdf(z) / norm.pdf(0)\n",
    "\n",
    "\n",
    "image_folder = np.random.choice(glob(os.path.join('/opt/ml/input/data/train/images', '*')))\n",
    "assert os.path.isdir(image_folder), image_folder\n",
    "image_folder = image_folder.split('/')[-1]\n",
    "\n",
    "hard_label = train_info_origin.loc[train_info_origin.path == image_folder].age.iloc[0]\n",
    "\n",
    "soft_label = torch.zeros(3).to(torch.float)\n",
    "soft_label[0] = age_norm(hard_label, mu=15, sigma=15) if hard_label >= 15 else 1\n",
    "soft_label[1] = age_norm(hard_label, mu=45, sigma=15)\n",
    "soft_label[2] = age_norm(hard_label, mu=60, sigma=5) if hard_label < 60 else 1\n",
    "\n",
    "soft_label, hard_label"
   ]
  },
  {
   "cell_type": "code",
   "execution_count": 162,
   "id": "artificial-behavior",
   "metadata": {},
   "outputs": [
    {
     "data": {
      "text/plain": [
       "tensor([0.5203, 0.2730, 0.2067])"
      ]
     },
     "execution_count": 162,
     "metadata": {},
     "output_type": "execute_result"
    }
   ],
   "source": [
    "import torch.nn.functional as F\n",
    "F.softmax(soft_label, dim=0)"
   ]
  },
  {
   "cell_type": "code",
   "execution_count": null,
   "id": "incredible-bidder",
   "metadata": {},
   "outputs": [],
   "source": [
    "\n"
   ]
  },
  {
   "cell_type": "code",
   "execution_count": 71,
   "id": "closing-portland",
   "metadata": {},
   "outputs": [
    {
     "data": {
      "text/plain": [
       "['001482_female_Asian_60',\n",
       " '001323_male_Asian_24',\n",
       " '003071_female_Asian_20',\n",
       " '003771_male_Asian_55',\n",
       " '000511_female_Asian_55']"
      ]
     },
     "execution_count": 71,
     "metadata": {},
     "output_type": "execute_result"
    }
   ],
   "source": [
    "trains[3][5:10]"
   ]
  },
  {
   "cell_type": "code",
   "execution_count": 16,
   "id": "architectural-intersection",
   "metadata": {},
   "outputs": [],
   "source": [
    "# for i in range(4):\n",
    "#     os.mkdir(f'/opt/ml/input/data/train/_{i}')"
   ]
  },
  {
   "cell_type": "code",
   "execution_count": 93,
   "id": "brown-boston",
   "metadata": {},
   "outputs": [
    {
     "name": "stdout",
     "output_type": "stream",
     "text": [
      "[TRAIN FOLD 3] 1727 / 1728[TRAIN FOLD 1][TRAIN FOLD 2][TRAIN FOLD 3]\n",
      "[VALID FOLD 3] 586 / 586[VALID FOLD 3]\n",
      "\n",
      "Done: Copied 328005076 images.\n"
     ]
    }
   ],
   "source": [
    "num_copied_files = 0\n",
    "for fold_idx, folders in enumerate(trains):\n",
    "    print(f\"[TRAIN FOLD {fold_idx}]\", end=\"\")\n",
    "    train_base = os.path.join(train_path, f\"train_{fold_idx}\")\n",
    "    if not os.path.exists(train_base):\n",
    "        os.mkdir(train_base)\n",
    "\n",
    "    for folder_idx, folder in enumerate(folders):\n",
    "        train_images_in_folder = glob(os.path.join(train_origin_path, folder, '*'))\n",
    "        train_folder_class = train_info.loc[folder].class_num\n",
    "        print(f\"\\r[TRAIN FOLD {fold_idx}] {folder_idx} / {len(folders)}\", end=\"\")\n",
    "        for image_idx, origin in enumerate(train_images_in_folder):\n",
    "            origin_name, _ = origin.split('/')[-1].split('.')\n",
    "            dest_name = f'{6 * mask_dict(origin_name) + train_folder_class:02d}_{folder}_{image_idx}.jpg'\n",
    "            dest = os.path.join(train_base, dest_name)\n",
    "            if os.path.exists(dest):\n",
    "                continue\n",
    "            shutil.copy(origin, dest)\n",
    "            num_copied_files += len(glob(os.path.join(train_base, '*.jpg')))\n",
    "\n",
    "\n",
    "print()\n",
    "\n",
    "for fold_idx, folders in enumerate(valids):\n",
    "    print(f\"[VALID FOLD {fold_idx}]\", end=\"\")\n",
    "    valid_base = os.path.join(train_path, f\"valid_{fold_idx}\")\n",
    "    if not os.path.exists(valid_base):\n",
    "        os.mkdir(valid_base)\n",
    "    \n",
    "    for folder_idx, folder in enumerate(folders):\n",
    "        valid_images_in_folder = glob(os.path.join(train_origin_path, folder, '*'))\n",
    "        valid_folder_class = train_info.loc[folder].class_num\n",
    "        print(f\"\\r[VALID FOLD {fold_idx}] {folder_idx + 1} / {len(folders)}\", end=\"\")\n",
    "        for image_idx, origin in enumerate(valid_images_in_folder):\n",
    "            origin_name, _ = origin.split('/')[-1].split('.')\n",
    "            dest_name = f'{6 * mask_dict(origin_name) + valid_folder_class:02d}_{folder}_{image_idx}.jpg'\n",
    "            dest = os.path.join(valid_base, dest_name)\n",
    "            if os.path.exists(dest):\n",
    "                continue\n",
    "            shutil.copy(origin, dest)\n",
    "            num_copied_files += len(glob(os.path.join(valid_base, '*.jpg')))\n",
    "\n",
    "        \n",
    "\n",
    "print()\n",
    "\n",
    "print(f'\\nDone: Copied {num_copied_files} images.')"
   ]
  },
  {
   "cell_type": "code",
   "execution_count": 34,
   "id": "sixth-validation",
   "metadata": {},
   "outputs": [
    {
     "data": {
      "text/plain": [
       "16198"
      ]
     },
     "execution_count": 34,
     "metadata": {},
     "output_type": "execute_result"
    }
   ],
   "source": [
    "smaller_train_images = glob(os.path.join(dest_base, '*.jpg'))\n",
    "smaller_train_size = len(smaller_train_images)\n",
    "smaller_train_size"
   ]
  },
  {
   "cell_type": "code",
   "execution_count": 39,
   "id": "wicked-stupid",
   "metadata": {},
   "outputs": [],
   "source": [
    "def age_from_label(label: int):\n",
    "    '''\n",
    "    0 <- under 30\n",
    "    1 <- between 30 and 60\n",
    "    2 <- over 60\n",
    "    '''\n",
    "    return label % 3\n",
    "\n",
    "\n",
    "def gender_from_label(label: int):\n",
    "    '''\n",
    "    0 <- male\n",
    "    1 <- female\n",
    "    '''\n",
    "    return (label // 3) % 2\n",
    "\n",
    "\n",
    "def mask_from_label(label: int):\n",
    "    '''\n",
    "    0 <- wear\n",
    "    1 <- incorrect\n",
    "    2 <- not wear\n",
    "    '''\n",
    "    return label // 6\n",
    "\n",
    "\n",
    "def decode_label(label: int):\n",
    "    return label % 3, (label // 3) % 2, label // 6"
   ]
  },
  {
   "cell_type": "code",
   "execution_count": 99,
   "id": "pacific-basin",
   "metadata": {},
   "outputs": [
    {
     "data": {
      "image/png": "[encoded data removed]",
      "text/plain": [
       "<Figure size 432x288 with 1 Axes>"
      ]
     },
     "metadata": {
      "needs_background": "light"
     },
     "output_type": "display_data"
    }
   ],
   "source": [
    "random_idx = np.random.randint(smaller_train_size)\n",
    "random_sample = smaller_train_images[random_idx]\n",
    "\n",
    "label = int(random_sample.split('/')[-1][:2])\n",
    "\n",
    "if label // 6 == 0:\n",
    "    mask = 'correct'\n",
    "elif label // 6 == 1:\n",
    "    mask = 'incorrect'\n",
    "elif label // 6 == 2:\n",
    "    mask = 'not wear'\n",
    "else:\n",
    "    raise \"?\"\n",
    "\n",
    "if (label // 3) % 2 == 0:\n",
    "    gender = 'male'\n",
    "else:\n",
    "    gender = 'female'\n",
    "\n",
    "if label % 3 == 0:\n",
    "    age = 'under 30'\n",
    "elif label % 3 == 1:\n",
    "    age = '30 to 60'\n",
    "else:\n",
    "    age = '60 or more'\n",
    "    \n",
    "folder_in_origin = '_'.join(random_sample.split('/')[-1].split('_')[1:5]).split('.')[0]\n",
    "_, gender_info, _, age_info, _ = train_info_origin.loc[train_info_origin.path == folder_in_origin].iloc[0]\n",
    "\n",
    "random_image = cv2.imread(random_sample)\n",
    "random_image = cv2.cvtColor(random_image, cv2.COLOR_BGR2RGB)\n",
    "plt.imshow(random_image)\n",
    "\n",
    "title = f\"{age} / {gender} / {mask}\\n{age_info} / {gender_info}\"\n",
    "plt.title(title)\n",
    "plt.show()"
   ]
  },
  {
   "cell_type": "code",
   "execution_count": 127,
   "id": "voluntary-fleece",
   "metadata": {},
   "outputs": [
    {
     "data": {
      "text/plain": [
       "(512, 384, 3)"
      ]
     },
     "execution_count": 127,
     "metadata": {},
     "output_type": "execute_result"
    }
   ],
   "source": [
    "random_image.shape"
   ]
  },
  {
   "cell_type": "code",
   "execution_count": null,
   "id": "vanilla-today",
   "metadata": {},
   "outputs": [],
   "source": []
  },
  {
   "cell_type": "code",
   "execution_count": 104,
   "id": "eleven-quantum",
   "metadata": {},
   "outputs": [],
   "source": []
  },
  {
   "cell_type": "code",
   "execution_count": 159,
   "id": "steady-permit",
   "metadata": {},
   "outputs": [
    {
     "data": {
      "text/plain": [
       "(tensor([9.2312e-01, 2.7804e-01, 6.1484e-14]), 21)"
      ]
     },
     "execution_count": 159,
     "metadata": {},
     "output_type": "execute_result"
    }
   ],
   "source": [
    "from scipy.stats import norm\n",
    "\n",
    "def age_norm(x, mu, sigma=15):\n",
    "    z = (x - mu) / sigma\n",
    "    return norm.pdf(z) / norm.pdf(0)\n",
    "\n",
    "\n",
    "image_folder = np.random.choice(glob(os.path.join('/opt/ml/input/data/train/images', '*')))\n",
    "assert os.path.isdir(image_folder), image_folder\n",
    "image_folder = image_folder.split('/')[-1]\n",
    "\n",
    "hard_label = train_info_origin.loc[train_info_origin.path == image_folder].age.iloc[0]\n",
    "\n",
    "soft_label = torch.zeros(3).to(torch.float)\n",
    "soft_label[0] = age_norm(hard_label, mu=15, sigma=15) if hard_label >= 15 else 1\n",
    "soft_label[1] = age_norm(hard_label, mu=45, sigma=15)\n",
    "soft_label[2] = age_norm(hard_label, mu=60, sigma=5) if hard_label < 60 else 1\n",
    "\n",
    "soft_label, hard_label"
   ]
  },
  {
   "cell_type": "code",
   "execution_count": 162,
   "id": "offshore-broad",
   "metadata": {},
   "outputs": [
    {
     "data": {
      "text/plain": [
       "tensor([0.5203, 0.2730, 0.2067])"
      ]
     },
     "execution_count": 162,
     "metadata": {},
     "output_type": "execute_result"
    }
   ],
   "source": [
    "import torch.nn.functional as F\n",
    "F.softmax(soft_label, dim=0)"
   ]
  },
  {
   "cell_type": "code",
   "execution_count": null,
   "id": "norman-specific",
   "metadata": {},
   "outputs": [],
   "source": [
    "\n"
   ]
  },
  {
   "cell_type": "code",
   "execution_count": null,
   "id": "prospective-edward",
   "metadata": {},
   "outputs": [],
   "source": []
  },
  {
   "cell_type": "code",
   "execution_count": 102,
   "id": "terminal-frontier",
   "metadata": {},
   "outputs": [
    {
     "data": {
      "text/plain": [
       "16198"
      ]
     },
     "execution_count": 102,
     "metadata": {},
     "output_type": "execute_result"
    }
   ],
   "source": [
    "all_images = glob('/opt/ml/input/data/train/smaller_/*.jpg')\n",
    "random.shuffle(all_images)\n",
    "len(all_images)"
   ]
  },
  {
   "cell_type": "code",
   "execution_count": 103,
   "id": "super-tunisia",
   "metadata": {},
   "outputs": [],
   "source": [
    "all_labels = list(map(lambda x: int(x.split('/')[-1][:2]), all_images))\n",
    "from collections import Counter\n",
    "counter = Counter(all_labels)"
   ]
  },
  {
   "cell_type": "code",
   "execution_count": 107,
   "id": "demographic-privilege",
   "metadata": {},
   "outputs": [
    {
     "data": {
      "text/plain": [
       "Counter({3: 3610,\n",
       "         0: 2715,\n",
       "         4: 2960,\n",
       "         15: 722,\n",
       "         16: 592,\n",
       "         2: 415,\n",
       "         12: 543,\n",
       "         7: 265,\n",
       "         5: 545,\n",
       "         1: 1325,\n",
       "         6: 543,\n",
       "         13: 265,\n",
       "         17: 109,\n",
       "         10: 592,\n",
       "         9: 722,\n",
       "         8: 83,\n",
       "         11: 109,\n",
       "         14: 83})"
      ]
     },
     "execution_count": 107,
     "metadata": {},
     "output_type": "execute_result"
    }
   ],
   "source": [
    "counter"
   ]
  },
  {
   "cell_type": "code",
   "execution_count": null,
   "id": "tracked-confirmation",
   "metadata": {},
   "outputs": [],
   "source": [
    "ordered_counter = [counter[i] for i in range(18)]\n"
   ]
  },
  {
   "cell_type": "code",
   "execution_count": null,
   "id": "altered-career",
   "metadata": {},
   "outputs": [],
   "source": [
    "train_base = '/opt/ml/input/data/train/train'\n",
    "valid_base = '/opt/ml/input/data/train/valid'"
   ]
  }
 ],
 "metadata": {
  "kernelspec": {
   "display_name": "Python 3",
   "language": "python",
   "name": "python3"
  },
  "language_info": {
   "codemirror_mode": {
    "name": "ipython",
    "version": 3
   },
   "file_extension": ".py",
   "mimetype": "text/x-python",
   "name": "python",
   "nbconvert_exporter": "python",
   "pygments_lexer": "ipython3",
   "version": "3.7.7"
  }
 },
 "nbformat": 4,
 "nbformat_minor": 5
}
