{
 "cells": [
  {
   "cell_type": "code",
   "execution_count": null,
   "id": "blessed-swaziland",
   "metadata": {},
   "outputs": [],
   "source": [
    "import matplotlib.pyplot as plt\n",
    "import numpy as np\n",
    "import cv2"
   ]
  },
  {
   "cell_type": "code",
   "execution_count": null,
   "id": "treated-killer",
   "metadata": {},
   "outputs": [],
   "source": [
    "train_origin_path = '/opt/ml/input/data/train/images'\n",
    "train_image_path = '/opt/ml/input/data/train/_all'\n",
    "train_path = '/opt/ml/input/data/train'\n",
    "eval_image_path = '/opt/ml/input/'"
   ]
  }
 ],
 "metadata": {
  "kernelspec": {
   "display_name": "Python 3",
   "language": "python",
   "name": "python3"
  },
  "language_info": {
   "codemirror_mode": {
    "name": "ipython",
    "version": 3
   },
   "file_extension": ".py",
   "mimetype": "text/x-python",
   "name": "python",
   "nbconvert_exporter": "python",
   "pygments_lexer": "ipython3",
   "version": "3.7.7"
  }
 },
 "nbformat": 4,
 "nbformat_minor": 5
}
