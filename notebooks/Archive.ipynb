{
 "cells": [
  {
   "cell_type": "code",
   "execution_count": 4,
   "id": "aerial-shoulder",
   "metadata": {},
   "outputs": [],
   "source": [
    "import sys\n",
    "sys.path.append('/opt/ml/code/stage1')"
   ]
  },
  {
   "cell_type": "code",
   "execution_count": 5,
   "id": "appointed-algebra",
   "metadata": {},
   "outputs": [],
   "source": [
    "import pandas as pd\n",
    "import os\n",
    "import stage1.data as data"
   ]
  },
  {
   "cell_type": "code",
   "execution_count": 16,
   "id": "optional-southwest",
   "metadata": {},
   "outputs": [],
   "source": [
    "from stage1.utils import *\n",
    "from stage1.trainer import *"
   ]
  },
  {
   "cell_type": "markdown",
   "id": "emotional-homework",
   "metadata": {},
   "source": [
    "## Single criterion revision"
   ]
  },
  {
   "cell_type": "code",
   "execution_count": 6,
   "id": "speaking-aquatic",
   "metadata": {},
   "outputs": [],
   "source": [
    "label_csv = '/opt/ml/output/effnet-b3-multi+smaller+ce+adamp_0_2021-04-08-09_54_52.937448.csv'\n",
    "\n",
    "age_csv = '/opt/ml/output/effnet-b0-1a-age-soft+raw+ce+adamp_2021-04-08-01_08_05.839885.csv'\n",
    "gender_csv = ''\n",
    "mask_csv = ''"
   ]
  },
  {
   "cell_type": "code",
   "execution_count": 7,
   "id": "appointed-singing",
   "metadata": {
    "tags": []
   },
   "outputs": [],
   "source": [
    "if label_csv:\n",
    "    labels = pd.read_csv(label_csv, index_col='ImageID')\n",
    "elif not (age_csv and gender_csv and mask_csv):\n",
    "    raise ValueError\n",
    "\n",
    "if age_csv:\n",
    "    ages = pd.read_csv(age_csv, index_col='ImageID')\n",
    "else:\n",
    "    ages = pd.DataFrame(data={'ans': labels.ans.map(data.age_from_label)}, index=labels.index)\n",
    "    \n",
    "if gender_csv:\n",
    "    genders = pd.read_csv(gender_csv, index_col='ImageID')\n",
    "else:\n",
    "    genders = pd.DataFrame(data={'ans': labels.ans.map(data.gender_from_label)}, index=labels.index)\n",
    "    \n",
    "if mask_csv: \n",
    "    masks = pd.read_csv(mask_csv, index_col='ImageID')\n",
    "else:\n",
    "    masks = pd.DataFrame(data={'ans': labels.ans.map(data.mask_from_label)}, index=labels.index)\n",
    "\n",
    "info = pd.read_csv('/opt/ml/output/info.csv', index_col='ImageID')\n",
    "\n",
    "assert (labels.index == info.index).all()\n",
    "assert (ages.index == info.index).all()\n",
    "assert (genders.index == info.index).all()\n",
    "assert (masks.index == info.index).all()"
   ]
  },
  {
   "cell_type": "code",
   "execution_count": 8,
   "id": "prepared-settlement",
   "metadata": {},
   "outputs": [
    {
     "data": {
      "text/html": [
       "<div>\n",
       "<style scoped>\n",
       "    .dataframe tbody tr th:only-of-type {\n",
       "        vertical-align: middle;\n",
       "    }\n",
       "\n",
       "    .dataframe tbody tr th {\n",
       "        vertical-align: top;\n",
       "    }\n",
       "\n",
       "    .dataframe thead th {\n",
       "        text-align: right;\n",
       "    }\n",
       "</style>\n",
       "<table border=\"1\" class=\"dataframe\">\n",
       "  <thead>\n",
       "    <tr style=\"text-align: right;\">\n",
       "      <th></th>\n",
       "      <th>ans</th>\n",
       "    </tr>\n",
       "    <tr>\n",
       "      <th>ImageID</th>\n",
       "      <th></th>\n",
       "    </tr>\n",
       "  </thead>\n",
       "  <tbody>\n",
       "    <tr>\n",
       "      <th>cbc5c6e168e63498590db46022617123f1fe1268.jpg</th>\n",
       "      <td>14</td>\n",
       "    </tr>\n",
       "    <tr>\n",
       "      <th>0e72482bf56b3581c081f7da2a6180b8792c7089.jpg</th>\n",
       "      <td>2</td>\n",
       "    </tr>\n",
       "    <tr>\n",
       "      <th>b549040c49190cedc41327748aeb197c1670f14d.jpg</th>\n",
       "      <td>14</td>\n",
       "    </tr>\n",
       "    <tr>\n",
       "      <th>4f9cb2a045c6d5b9e50ad3459ea7b791eb6e18bc.jpg</th>\n",
       "      <td>14</td>\n",
       "    </tr>\n",
       "    <tr>\n",
       "      <th>248428d9a4a5b6229a7081c32851b90cb8d38d0c.jpg</th>\n",
       "      <td>12</td>\n",
       "    </tr>\n",
       "  </tbody>\n",
       "</table>\n",
       "</div>"
      ],
      "text/plain": [
       "                                              ans\n",
       "ImageID                                          \n",
       "cbc5c6e168e63498590db46022617123f1fe1268.jpg   14\n",
       "0e72482bf56b3581c081f7da2a6180b8792c7089.jpg    2\n",
       "b549040c49190cedc41327748aeb197c1670f14d.jpg   14\n",
       "4f9cb2a045c6d5b9e50ad3459ea7b791eb6e18bc.jpg   14\n",
       "248428d9a4a5b6229a7081c32851b90cb8d38d0c.jpg   12"
      ]
     },
     "execution_count": 8,
     "metadata": {},
     "output_type": "execute_result"
    }
   ],
   "source": [
    "labels.head()"
   ]
  },
  {
   "cell_type": "code",
   "execution_count": 9,
   "id": "passing-radiation",
   "metadata": {},
   "outputs": [
    {
     "data": {
      "text/plain": [
       "0    5428\n",
       "2    4051\n",
       "1    3121\n",
       "Name: ans, dtype: int64"
      ]
     },
     "execution_count": 9,
     "metadata": {},
     "output_type": "execute_result"
    }
   ],
   "source": [
    "ages.ans = ages.ans.map(data.age_from_label)\n",
    "ages.ans.value_counts()"
   ]
  },
  {
   "cell_type": "code",
   "execution_count": 10,
   "id": "italian-touch",
   "metadata": {},
   "outputs": [
    {
     "data": {
      "text/html": [
       "<div>\n",
       "<style scoped>\n",
       "    .dataframe tbody tr th:only-of-type {\n",
       "        vertical-align: middle;\n",
       "    }\n",
       "\n",
       "    .dataframe tbody tr th {\n",
       "        vertical-align: top;\n",
       "    }\n",
       "\n",
       "    .dataframe thead th {\n",
       "        text-align: right;\n",
       "    }\n",
       "</style>\n",
       "<table border=\"1\" class=\"dataframe\">\n",
       "  <thead>\n",
       "    <tr style=\"text-align: right;\">\n",
       "      <th></th>\n",
       "      <th>ans</th>\n",
       "    </tr>\n",
       "    <tr>\n",
       "      <th>ImageID</th>\n",
       "      <th></th>\n",
       "    </tr>\n",
       "  </thead>\n",
       "  <tbody>\n",
       "    <tr>\n",
       "      <th>cbc5c6e168e63498590db46022617123f1fe1268.jpg</th>\n",
       "      <td>14</td>\n",
       "    </tr>\n",
       "    <tr>\n",
       "      <th>0e72482bf56b3581c081f7da2a6180b8792c7089.jpg</th>\n",
       "      <td>2</td>\n",
       "    </tr>\n",
       "    <tr>\n",
       "      <th>b549040c49190cedc41327748aeb197c1670f14d.jpg</th>\n",
       "      <td>14</td>\n",
       "    </tr>\n",
       "    <tr>\n",
       "      <th>4f9cb2a045c6d5b9e50ad3459ea7b791eb6e18bc.jpg</th>\n",
       "      <td>13</td>\n",
       "    </tr>\n",
       "    <tr>\n",
       "      <th>248428d9a4a5b6229a7081c32851b90cb8d38d0c.jpg</th>\n",
       "      <td>12</td>\n",
       "    </tr>\n",
       "  </tbody>\n",
       "</table>\n",
       "</div>"
      ],
      "text/plain": [
       "                                              ans\n",
       "ImageID                                          \n",
       "cbc5c6e168e63498590db46022617123f1fe1268.jpg   14\n",
       "0e72482bf56b3581c081f7da2a6180b8792c7089.jpg    2\n",
       "b549040c49190cedc41327748aeb197c1670f14d.jpg   14\n",
       "4f9cb2a045c6d5b9e50ad3459ea7b791eb6e18bc.jpg   13\n",
       "248428d9a4a5b6229a7081c32851b90cb8d38d0c.jpg   12"
      ]
     },
     "execution_count": 10,
     "metadata": {},
     "output_type": "execute_result"
    }
   ],
   "source": [
    "new_labels = pd.DataFrame(\n",
    "    data={'ans': data.labels(ages.ans, genders.ans, masks.ans)},\n",
    "    index=labels.index\n",
    ")\n",
    "new_labels.head()"
   ]
  },
  {
   "cell_type": "code",
   "execution_count": 11,
   "id": "exact-somerset",
   "metadata": {},
   "outputs": [
    {
     "data": {
      "text/plain": [
       "ans    529\n",
       "dtype: int64"
      ]
     },
     "execution_count": 11,
     "metadata": {},
     "output_type": "execute_result"
    }
   ],
   "source": [
    "(new_labels - labels).sum()"
   ]
  },
  {
   "cell_type": "code",
   "execution_count": 17,
   "id": "handed-begin",
   "metadata": {},
   "outputs": [
    {
     "name": "stdout",
     "output_type": "stream",
     "text": [
      "Saved result: /opt/ml/output/[age]effnet-b3-age-smaller+[gender][mask]effnet-b3-multi-upaug2__09_58_06.443771.csv\n"
     ]
    }
   ],
   "source": [
    "prefix = \"[age]effnet-b3-age-smaller+[gender][mask]effnet-b3-multi-upaug2\"\n",
    "\n",
    "csv_name = f\"{prefix}__{filename_from_datetime(datetime.today().time())}.csv\"\n",
    "csv_path = os.path.join('/opt/ml/output/', csv_name)\n",
    "\n",
    "new_labels.to_csv(csv_path)\n",
    "\n",
    "print(f\"Saved result: {csv_path}\")"
   ]
  },
  {
   "cell_type": "markdown",
   "id": "virgin-briefing",
   "metadata": {},
   "source": [
    "# 나중에 해볼 것"
   ]
  },
  {
   "cell_type": "code",
   "execution_count": 23,
   "id": "special-illinois",
   "metadata": {
    "collapsed": true,
    "jupyter": {
     "outputs_hidden": true
    },
    "tags": []
   },
   "outputs": [
    {
     "name": "stdout",
     "output_type": "stream",
     "text": [
      "Loaded pretrained weights for efficientnet-b4\n",
      "[INFO]\n",
      "model=effnet-b4-1a+smaller+ce+adamp\n",
      "device=cuda:0(Tesla P40)\n",
      "data size=(12959 + 3239), batch size=16\n",
      "optimizer.name=AdamP\n",
      "epochs=20, lr=0.001, weight_decay=0.0001, betas=(0.9, 0.999)\n",
      "\n",
      "Start of traning.\n",
      "[Epoch 001]  Loss: 0.50793,  Acc: 84.104,  F1 Score: 0.58141  (14:42)\n",
      "[Valid 001]  Loss: 0.27447,  Acc: 90.861,  F1 Score: 0.75372\n",
      "Saved model: /opt/ml/output/models/2021-04-08-05_09_51.657508_effnet-b4-1a+smaller+ce+adamp_.pth\n",
      "[Epoch 002] (Batch #123)  Loss: 0.23679,  Acc: 92.893  (02:15)"
     ]
    },
    {
     "ename": "KeyboardInterrupt",
     "evalue": "",
     "output_type": "error",
     "traceback": [
      "\u001b[0;31m---------------------------------------------------------------------------\u001b[0m",
      "\u001b[0;31mKeyboardInterrupt\u001b[0m                         Traceback (most recent call last)",
      "\u001b[0;32m<ipython-input-23-354158c5bb46>\u001b[0m in \u001b[0;36m<module>\u001b[0;34m\u001b[0m\n\u001b[1;32m     41\u001b[0m     \u001b[0mtrainer\u001b[0m\u001b[0;34m(\u001b[0m\u001b[0;34m)\u001b[0m\u001b[0;34m.\u001b[0m\u001b[0mmodel\u001b[0m\u001b[0;34m.\u001b[0m\u001b[0mload_state_dict\u001b[0m\u001b[0;34m(\u001b[0m\u001b[0mload_and_fix_state_dict\u001b[0m\u001b[0;34m(\u001b[0m\u001b[0mconfig\u001b[0m\u001b[0;34m.\u001b[0m\u001b[0mmodel\u001b[0m\u001b[0;34m.\u001b[0m\u001b[0mstate_path\u001b[0m\u001b[0;34m)\u001b[0m\u001b[0;34m)\u001b[0m\u001b[0;34m\u001b[0m\u001b[0;34m\u001b[0m\u001b[0m\n\u001b[1;32m     42\u001b[0m \u001b[0;34m\u001b[0m\u001b[0m\n\u001b[0;32m---> 43\u001b[0;31m \u001b[0mtrainer\u001b[0m\u001b[0;34m.\u001b[0m\u001b[0mtrain_and_save\u001b[0m\u001b[0;34m(\u001b[0m\u001b[0;34m)\u001b[0m\u001b[0;34m\u001b[0m\u001b[0;34m\u001b[0m\u001b[0m\n\u001b[0m\u001b[1;32m     44\u001b[0m \u001b[0;31m# trainer.valid()\u001b[0m\u001b[0;34m\u001b[0m\u001b[0;34m\u001b[0m\u001b[0;34m\u001b[0m\u001b[0m\n\u001b[1;32m     45\u001b[0m \u001b[0;31m# trainer.infer_and_save_csv()\u001b[0m\u001b[0;34m\u001b[0m\u001b[0;34m\u001b[0m\u001b[0;34m\u001b[0m\u001b[0m\n",
      "\u001b[0;32m~/code/stage1/stage1/trainer/trainer.py\u001b[0m in \u001b[0;36mtrain_and_save\u001b[0;34m(self)\u001b[0m\n\u001b[1;32m    614\u001b[0m \u001b[0;34m\u001b[0m\u001b[0m\n\u001b[1;32m    615\u001b[0m             \u001b[0mself\u001b[0m\u001b[0;34m.\u001b[0m\u001b[0mepochs\u001b[0m \u001b[0;34m+=\u001b[0m \u001b[0;36m1\u001b[0m\u001b[0;34m\u001b[0m\u001b[0;34m\u001b[0m\u001b[0m\n\u001b[0;32m--> 616\u001b[0;31m             \u001b[0mself\u001b[0m\u001b[0;34m.\u001b[0m\u001b[0mtrain_one_epoch\u001b[0m\u001b[0;34m(\u001b[0m\u001b[0;34m)\u001b[0m\u001b[0;34m\u001b[0m\u001b[0;34m\u001b[0m\u001b[0m\n\u001b[0m\u001b[1;32m    617\u001b[0m \u001b[0;34m\u001b[0m\u001b[0m\n\u001b[1;32m    618\u001b[0m             \u001b[0;31m# naive k-fold validation\u001b[0m\u001b[0;34m\u001b[0m\u001b[0;34m\u001b[0m\u001b[0;34m\u001b[0m\u001b[0m\n",
      "\u001b[0;32m~/code/stage1/stage1/trainer/trainer.py\u001b[0m in \u001b[0;36mtrain_one_epoch\u001b[0;34m(self, add_loader)\u001b[0m\n\u001b[1;32m    718\u001b[0m \u001b[0;34m\u001b[0m\u001b[0m\n\u001b[1;32m    719\u001b[0m             \u001b[0mloss\u001b[0m \u001b[0;34m=\u001b[0m \u001b[0mself\u001b[0m\u001b[0;34m.\u001b[0m\u001b[0mcriterion\u001b[0m\u001b[0;34m(\u001b[0m\u001b[0moutputs\u001b[0m\u001b[0;34m,\u001b[0m \u001b[0mtargets\u001b[0m\u001b[0;34m)\u001b[0m\u001b[0;34m\u001b[0m\u001b[0;34m\u001b[0m\u001b[0m\n\u001b[0;32m--> 720\u001b[0;31m             \u001b[0mloss\u001b[0m\u001b[0;34m.\u001b[0m\u001b[0mbackward\u001b[0m\u001b[0;34m(\u001b[0m\u001b[0;34m)\u001b[0m\u001b[0;34m\u001b[0m\u001b[0;34m\u001b[0m\u001b[0m\n\u001b[0m\u001b[1;32m    721\u001b[0m \u001b[0;34m\u001b[0m\u001b[0m\n\u001b[1;32m    722\u001b[0m             \u001b[0;32mif\u001b[0m \u001b[0mself\u001b[0m\u001b[0;34m.\u001b[0m\u001b[0mconfig\u001b[0m\u001b[0;34m.\u001b[0m\u001b[0mtrain\u001b[0m\u001b[0;34m.\u001b[0m\u001b[0moptimizer\u001b[0m\u001b[0;34m.\u001b[0m\u001b[0mseparate\u001b[0m\u001b[0;34m:\u001b[0m\u001b[0;34m\u001b[0m\u001b[0;34m\u001b[0m\u001b[0m\n",
      "\u001b[0;32m/opt/conda/lib/python3.7/site-packages/torch/tensor.py\u001b[0m in \u001b[0;36mbackward\u001b[0;34m(self, gradient, retain_graph, create_graph)\u001b[0m\n\u001b[1;32m    183\u001b[0m                 \u001b[0mproducts\u001b[0m\u001b[0;34m.\u001b[0m \u001b[0mDefaults\u001b[0m \u001b[0mto\u001b[0m\u001b[0;31m \u001b[0m\u001b[0;31m`\u001b[0m\u001b[0;31m`\u001b[0m\u001b[0;32mFalse\u001b[0m\u001b[0;31m`\u001b[0m\u001b[0;31m`\u001b[0m\u001b[0;34m.\u001b[0m\u001b[0;34m\u001b[0m\u001b[0;34m\u001b[0m\u001b[0m\n\u001b[1;32m    184\u001b[0m         \"\"\"\n\u001b[0;32m--> 185\u001b[0;31m         \u001b[0mtorch\u001b[0m\u001b[0;34m.\u001b[0m\u001b[0mautograd\u001b[0m\u001b[0;34m.\u001b[0m\u001b[0mbackward\u001b[0m\u001b[0;34m(\u001b[0m\u001b[0mself\u001b[0m\u001b[0;34m,\u001b[0m \u001b[0mgradient\u001b[0m\u001b[0;34m,\u001b[0m \u001b[0mretain_graph\u001b[0m\u001b[0;34m,\u001b[0m \u001b[0mcreate_graph\u001b[0m\u001b[0;34m)\u001b[0m\u001b[0;34m\u001b[0m\u001b[0;34m\u001b[0m\u001b[0m\n\u001b[0m\u001b[1;32m    186\u001b[0m \u001b[0;34m\u001b[0m\u001b[0m\n\u001b[1;32m    187\u001b[0m     \u001b[0;32mdef\u001b[0m \u001b[0mregister_hook\u001b[0m\u001b[0;34m(\u001b[0m\u001b[0mself\u001b[0m\u001b[0;34m,\u001b[0m \u001b[0mhook\u001b[0m\u001b[0;34m)\u001b[0m\u001b[0;34m:\u001b[0m\u001b[0;34m\u001b[0m\u001b[0;34m\u001b[0m\u001b[0m\n",
      "\u001b[0;32m/opt/conda/lib/python3.7/site-packages/torch/autograd/__init__.py\u001b[0m in \u001b[0;36mbackward\u001b[0;34m(tensors, grad_tensors, retain_graph, create_graph, grad_variables)\u001b[0m\n\u001b[1;32m    125\u001b[0m     Variable._execution_engine.run_backward(\n\u001b[1;32m    126\u001b[0m         \u001b[0mtensors\u001b[0m\u001b[0;34m,\u001b[0m \u001b[0mgrad_tensors\u001b[0m\u001b[0;34m,\u001b[0m \u001b[0mretain_graph\u001b[0m\u001b[0;34m,\u001b[0m \u001b[0mcreate_graph\u001b[0m\u001b[0;34m,\u001b[0m\u001b[0;34m\u001b[0m\u001b[0;34m\u001b[0m\u001b[0m\n\u001b[0;32m--> 127\u001b[0;31m         allow_unreachable=True)  # allow_unreachable flag\n\u001b[0m\u001b[1;32m    128\u001b[0m \u001b[0;34m\u001b[0m\u001b[0m\n\u001b[1;32m    129\u001b[0m \u001b[0;34m\u001b[0m\u001b[0m\n",
      "\u001b[0;31mKeyboardInterrupt\u001b[0m: "
     ]
    }
   ],
   "source": [
    "'''[LATER]effnet-b4-1a (smaller)(CE)(AdamP)\n",
    ">>> CHECKPOINTS\n",
    "[lowest loss]()<- \"\"\n",
    "[best f1 score]()<- \"\"\n",
    "'''\n",
    "\n",
    "# effnet_b4_1a = EfficientNet.from_pretrained('efficientnet-b4')\n",
    "# effnet_b4_1a._fc = nn.Linear(effnet_b4_1a._fc.in_features, 18)\n",
    "# setattr(effnet_b4_1a, \"name\", \"effnet-b4-1a+smaller+ce+adamp\")\n",
    "\n",
    "# effnet_b4_1a_logger = CSVLogger()\n",
    "\n",
    "# branch = ConfigBranch(\n",
    "#     train_path = '/opt/ml/input/data/train/smaller_',\n",
    "#     model = effnet_b4_1a,\n",
    "#     logger = effnet_b4_1a_logger, \n",
    "#     classifying = 'all', \n",
    "#     upscale = False,\n",
    "#     cutmix = False,\n",
    "#     criterion = 'CrossEntropyLoss',\n",
    "#     optimizer = 'AdamP',\n",
    "#     lr = 1e-3,\n",
    "#     state_path = '/opt/ml/output/models/2021-04-08-05_09_51.657508_effnet-b4-1a+smaller+ce+adamp_.pth',\n",
    "# )\n",
    "\n",
    "# config.path.train = branch.train_path\n",
    "# config.model.model = branch.model\n",
    "# config.train.logger = branch.logger\n",
    "# config.model.classifying = branch.classifying\n",
    "# config.data.upscale = branch.upscale\n",
    "# config.data.train_cutmix = branch.cutmix\n",
    "# config.train.optimizer.name = branch.optimizer\n",
    "# config.train.lr.base = branch.lr\n",
    "# config.train.weight_decay = 1e-4\n",
    "# config.train.loss.criterion = branch.criterion\n",
    "# config.model.state_path = branch.state_path\n",
    "\n",
    "# try:\n",
    "#     trainer().load_state_dict_to_model()\n",
    "# except KeyError:\n",
    "#     trainer().model.load_state_dict(load_and_fix_state_dict(config.model.state_path))\n",
    "\n",
    "# trainer.train_and_save()\n",
    "# # trainer.valid()\n",
    "# # trainer.infer_and_save_csv()"
   ]
  },
  {
   "cell_type": "code",
   "execution_count": null,
   "id": "involved-economy",
   "metadata": {},
   "outputs": [],
   "source": []
  },
  {
   "cell_type": "code",
   "execution_count": null,
   "id": "essential-genre",
   "metadata": {},
   "outputs": [],
   "source": [
    "# '''[STRATIFIED FOLD #3] effnet-b4-multi (smaller)(CE)(AdamP)\n",
    "# >>> CHECKPOINTS\n",
    "# [lowest loss]()<- \"\"\n",
    "# [best f1 score]()<- \"\"\n",
    "# '''\n",
    "\n",
    "# fold_idx = 3\n",
    "\n",
    "\n",
    "# effnet_b3_multi = timm.models.efficientnet_b3(True)\n",
    "# effnet_b3_multi.classifier = MultiheadClassifier(\n",
    "#     in_features=effnet_b3_multi.classifier.in_features, \n",
    "#     out_features=18\n",
    "# )\n",
    "# setattr(effnet_b3_multi, \"name\", \"effnet-b3-multi+smaller+ce+adamp\")\n",
    "# effnet_b3_multi_logger = CSVLogger()\n",
    "\n",
    "# branch = ConfigBranch(\n",
    "#     train_path = f'/opt/ml/input/data/train/train_{fold_idx}',\n",
    "#     valid_path = f'/opt/ml/input/data/train/valid_{fold_idx}',\n",
    "#     model = effnet_b3_multi,\n",
    "#     logger = effnet_b3_multi_logger,\n",
    "#     classifying = 'all', \n",
    "#     upscale = True,\n",
    "#     cutmix = False,\n",
    "#     criterion = 'CrossEntropyLoss',\n",
    "#     optimizer = 'AdamP',\n",
    "#     lr = 1e-3,\n",
    "#     state_path = '',\n",
    "# )\n",
    "\n",
    "# config.path.train = branch.train_path\n",
    "# config.path.valid = branch.valid_path\n",
    "# config.model.model = branch.model\n",
    "# config.train.logger = branch.logger\n",
    "# config.model.classifying = branch.classifying\n",
    "# config.data.upscale = branch.upscale\n",
    "# config.data.train_cutmix = branch.cutmix\n",
    "# config.train.optimizer.name = branch.optimizer\n",
    "# config.train.lr.base = branch.lr\n",
    "# config.train.weight_decay = 1e-4\n",
    "# config.train.loss.criterion = branch.criterion\n",
    "# config.model.state_path = branch.state_path\n",
    "\n",
    "# try:\n",
    "#     trainer().load_state_dict_to_model()\n",
    "# except KeyError:\n",
    "#     trainer().model.load_state_dict(load_and_fix_state_dict(config.model.state_path))\n",
    "\n",
    "# trainer.train_and_save()\n",
    "# # trainer.valid()\n",
    "# # trainer.infer_and_save_csv()"
   ]
  },
  {
   "cell_type": "code",
   "execution_count": null,
   "id": "interested-finland",
   "metadata": {},
   "outputs": [],
   "source": [
    "'''\n",
    ">>> CHECKPOINTS\n",
    "[lowest loss]()<- \"\"\n",
    "[best f1 score]()<- \"\"\n",
    "'''\n",
    "\n",
    "config.data.train_cutmix = True\n",
    "config.model.state_path = ''\n",
    "# config.train.lr.base = \n",
    "\n",
    "try:\n",
    "    trainer().load_state_dict_to_model()\n",
    "except KeyError:\n",
    "    trainer().model.load_state_dict(load_and_fix_state_dict(config.model.state_path))\n",
    "\n",
    "trainer.train_and_save()\n",
    "# trainer.valid()\n",
    "# trainer.infer_and_save_csv()"
   ]
  },
  {
   "cell_type": "code",
   "execution_count": 25,
   "id": "elegant-cancer",
   "metadata": {},
   "outputs": [
    {
     "data": {
      "text/plain": [
       "'effnet-b0-1a-age-soft (raw)(nn.CrossEntropyLoss)(AdamP)\\n>>>CHECKPOINTS\\n[lowest loss]()<- \" /opt/ml/output/models/2021-04-08-00_55_12.825011_effnet-b0-1a-age-soft+raw+ce+adamp_.pth\"\\n[best f1 score]()<- \"\"\\n'"
      ]
     },
     "execution_count": 25,
     "metadata": {},
     "output_type": "execute_result"
    }
   ],
   "source": [
    "'''effnet-b0-1a-age-soft (raw)(nn.CrossEntropyLoss)(AdamP)\n",
    ">>>CHECKPOINTS\n",
    "[lowest loss]()<- \" /opt/ml/output/models/2021-04-08-00_55_12.825011_effnet-b0-1a-age-soft+raw+ce+adamp_.pth\"\n",
    "[best f1 score]()<- \"\"\n",
    "'''\n",
    "\n",
    "# effnet_b0_1a = timm.models.efficientnet_b0(pretrained=True)\n",
    "# effnet_b0_1a.classifier = nn.Linear(effnet_b0_1a.classifier.in_features, 3)\n",
    "# setattr(effnet_b0_1a, \"name\", \"effnet-b0-1a-age-soft+raw+ce+adamp\")\n",
    "# effnet_b0_1a_logger = CSVLogger()\n",
    "\n",
    "# branch = ConfigBranch(\n",
    "#     train_path = '/opt/ml/input/data/train/all_',\n",
    "#     model = effnet_b0_1a,\n",
    "#     logger = effnet_b0_1a_logger, \n",
    "#     classifying = 'age', \n",
    "#     soften_age = True,\n",
    "#     upscale = False,\n",
    "#     criterion = SoftKLDivLoss(T=1),\n",
    "#     optimizer = 'AdamP',\n",
    "#     lr = 1e-3,\n",
    "#     state_path = '/opt/ml/output/models/2021-04-08-00_55_12.825011_effnet-b0-1a-age-soft+raw+ce+adamp_.pth',\n",
    "# )\n",
    "\n",
    "# config.path.train = branch.train_path\n",
    "# config.model.model = branch.model\n",
    "# config.train.logger = branch.logger\n",
    "# config.model.classifying = branch.classifying\n",
    "# config.data.soften_age = branch.soften_age\n",
    "# config.data.upscale = branch.upscale\n",
    "# config.train.optimizer.name = branch.optimizer\n",
    "# config.train.lr.base = branch.lr\n",
    "# config.train.weight_decay = 1e-4\n",
    "# config.train.loss.criterion = branch.criterion\n",
    "# config.model.state_path = branch.state_path\n",
    "\n",
    "# try:\n",
    "#     trainer().load_state_dict_to_model()\n",
    "# except:\n",
    "#     trainer().model.load_state_dict(load_and_fix_state_dict(config.model.state_path))\n",
    "\n",
    "# # trainer.train_and_save()\n",
    "# # trainer.valid()\n",
    "# trainer.infer_and_save_csv()"
   ]
  },
  {
   "cell_type": "code",
   "execution_count": 36,
   "id": "congressional-trigger",
   "metadata": {},
   "outputs": [
    {
     "name": "stdout",
     "output_type": "stream",
     "text": [
      "Loaded state dict to model.\n",
      "[Valid 039]  Loss: 1.69499,  Acc: 97.530,  F1 Score: 0.93921\n",
      "effnet-b0-1a+smaller+ce+adamp: End of evaluation (01:02)\n",
      "Saved result: /opt/ml/output/effnet-b0-1a+smaller+ce+adamp_2021-04-08-02_44_35.293591.csv\n"
     ]
    },
    {
     "data": {
      "text/plain": [
       "'/opt/ml/output/effnet-b0-1a+smaller+ce+adamp_2021-04-08-02_44_35.293591.csv'"
      ]
     },
     "execution_count": 36,
     "metadata": {},
     "output_type": "execute_result"
    }
   ],
   "source": [
    "'''effnet-b0-1a-all (smaller)(ArcFaceLoss)(AdamP)\n",
    ">>> CHECKPOINTS\n",
    "[lowest loss](1.69499)<- \"/opt/ml/output/models/2021-04-08-02_22_16.155344_effnet-b0-1a+smaller+ce+adamp_.pth\"\n",
    "[best f1 score](0.93921)<- \"/opt/ml/output/models/2021-04-08-02_22_16.155344_effnet-b0-1a+smaller+ce+adamp_.pth\"\n",
    "'''\n",
    "\n",
    "# effnet_b0_1a = timm.models.efficientnet_b0(pretrained=True)\n",
    "# effnet_b0_1a.classifier = nn.Linear(effnet_b0_1a.classifier.in_features, 18)\n",
    "# setattr(effnet_b0_1a, \"name\", \"effnet-b0-1a+smaller+ce+adamp\")\n",
    "\n",
    "# effnet_b0_1a__logger = CSVLogger()\n",
    "\n",
    "# branch = ConfigBranch(\n",
    "#     train_path = '/opt/ml/input/data/train/smaller_',\n",
    "#     model = effnet_b0_1a,\n",
    "#     logger = effnet_b0_1a__logger, \n",
    "#     classifying = 'all', \n",
    "#     upscale = False,\n",
    "#     criterion = 'ArcFaceLoss',\n",
    "#     optimizer = 'AdamP',\n",
    "#     lr = 1e-3,\n",
    "#     state_path = '/opt/ml/output/models/archive/2021-04-08-02_22_16.155344_effnet-b0-1a+smaller+ce+adamp_.pth',\n",
    "# )\n",
    "\n",
    "# config.path.train = branch.train_path\n",
    "# config.model.model = branch.model\n",
    "# config.train.logger = branch.logger\n",
    "# config.model.classifying = branch.classifying\n",
    "# config.data.upscale = branch.upscale\n",
    "# config.train.optimizer.name = branch.optimizer\n",
    "# config.train.lr.base = branch.lr\n",
    "# config.train.weight_decay = 1e-4\n",
    "# config.train.loss.criterion = branch.criterion\n",
    "# config.model.state_path = branch.state_path\n",
    "\n",
    "# try:\n",
    "#     trainer().load_state_dict_to_model()\n",
    "# except KeyError:\n",
    "#     trainer().model.load_state_dict(load_and_fix_state_dict(config.model.state_path))\n",
    "\n",
    "# # trainer.train_and_save()\n",
    "# trainer.valid()\n",
    "# trainer.infer_and_save_csv()"
   ]
  },
  {
   "cell_type": "code",
   "execution_count": 29,
   "id": "partial-emperor",
   "metadata": {
    "collapsed": true,
    "jupyter": {
     "outputs_hidden": true
    },
    "tags": []
   },
   "outputs": [
    {
     "name": "stdout",
     "output_type": "stream",
     "text": [
      "Loaded pretrained weights for efficientnet-b0\n",
      "[INFO]\n",
      "model=effnet-b0-1-1-multi-raw+ce(as)+adamp\n",
      "device=cuda:0(Tesla P40)\n",
      "data size=(15120 + 3780), batch size=32\n",
      "optimizer.name=MADGRAD\n",
      "epochs=20, lr=0.01, weight_decay=0.0001\n",
      "\n",
      "Start of traning.\n",
      "[Valid 005]  Loss: 2.93791,  Acc: 4.233,  F1 Score: 0.00511\n",
      "[Epoch 006]  Loss: 2.47867,  Acc: 22.235,  F1 Score: 0.03701  (05:48)\n",
      "[Valid 006] (Batch #064)  Loss: 9.47496,  Acc: 4.760"
     ]
    },
    {
     "ename": "KeyboardInterrupt",
     "evalue": "",
     "output_type": "error",
     "traceback": [
      "\u001b[0;31m---------------------------------------------------------------------------\u001b[0m",
      "\u001b[0;31mKeyboardInterrupt\u001b[0m                         Traceback (most recent call last)",
      "\u001b[0;32m<ipython-input-29-f8821791c6f5>\u001b[0m in \u001b[0;36m<module>\u001b[0;34m\u001b[0m\n\u001b[1;32m     34\u001b[0m     \u001b[0mstate_dict\u001b[0m \u001b[0;34m=\u001b[0m \u001b[0mload_and_fix_state_dict\u001b[0m\u001b[0;34m(\u001b[0m\u001b[0mstate_path\u001b[0m\u001b[0;34m=\u001b[0m\u001b[0mconfig\u001b[0m\u001b[0;34m.\u001b[0m\u001b[0mmodel\u001b[0m\u001b[0;34m.\u001b[0m\u001b[0mstate_path\u001b[0m\u001b[0;34m)\u001b[0m\u001b[0;34m\u001b[0m\u001b[0;34m\u001b[0m\u001b[0m\n\u001b[1;32m     35\u001b[0m     \u001b[0mbranch\u001b[0m\u001b[0;34m.\u001b[0m\u001b[0mmodel\u001b[0m\u001b[0;34m.\u001b[0m\u001b[0mload_state_dict\u001b[0m\u001b[0;34m(\u001b[0m\u001b[0mstate_dict\u001b[0m\u001b[0;34m)\u001b[0m\u001b[0;34m\u001b[0m\u001b[0;34m\u001b[0m\u001b[0m\n\u001b[0;32m---> 36\u001b[0;31m \u001b[0mtrainer\u001b[0m\u001b[0;34m(\u001b[0m\u001b[0;34m)\u001b[0m\u001b[0;34m.\u001b[0m\u001b[0mtrain_and_save\u001b[0m\u001b[0;34m(\u001b[0m\u001b[0;34m)\u001b[0m\u001b[0;34m\u001b[0m\u001b[0;34m\u001b[0m\u001b[0m\n\u001b[0m",
      "\u001b[0;32m~/code/stage1/stage1/trainer/trainer.py\u001b[0m in \u001b[0;36mtrain_and_save\u001b[0;34m(self)\u001b[0m\n\u001b[1;32m    463\u001b[0m             \u001b[0;32mand\u001b[0m \u001b[0mself\u001b[0m\u001b[0;34m.\u001b[0m\u001b[0mepochs\u001b[0m \u001b[0;34m>=\u001b[0m \u001b[0mself\u001b[0m\u001b[0;34m.\u001b[0m\u001b[0mconfig\u001b[0m\u001b[0;34m.\u001b[0m\u001b[0mtrain\u001b[0m\u001b[0;34m.\u001b[0m\u001b[0mvalid_min\u001b[0m\u001b[0;31m \u001b[0m\u001b[0;31m\\\u001b[0m\u001b[0;34m\u001b[0m\u001b[0;34m\u001b[0m\u001b[0m\n\u001b[1;32m    464\u001b[0m             \u001b[0;32mand\u001b[0m \u001b[0mself\u001b[0m\u001b[0;34m.\u001b[0m\u001b[0mepochs\u001b[0m \u001b[0;34m%\u001b[0m \u001b[0mself\u001b[0m\u001b[0;34m.\u001b[0m\u001b[0mconfig\u001b[0m\u001b[0;34m.\u001b[0m\u001b[0mtrain\u001b[0m\u001b[0;34m.\u001b[0m\u001b[0mvalid_period\u001b[0m \u001b[0;34m==\u001b[0m \u001b[0;36m0\u001b[0m\u001b[0;34m:\u001b[0m\u001b[0;34m\u001b[0m\u001b[0;34m\u001b[0m\u001b[0m\n\u001b[0;32m--> 465\u001b[0;31m                 \u001b[0mlast_valid_loss\u001b[0m\u001b[0;34m,\u001b[0m \u001b[0mlast_valid_acc\u001b[0m \u001b[0;34m=\u001b[0m \u001b[0mself\u001b[0m\u001b[0;34m.\u001b[0m\u001b[0mvalid\u001b[0m\u001b[0;34m(\u001b[0m\u001b[0;34m)\u001b[0m\u001b[0;34m\u001b[0m\u001b[0;34m\u001b[0m\u001b[0m\n\u001b[0m\u001b[1;32m    466\u001b[0m                 \u001b[0mvalided\u001b[0m \u001b[0;34m=\u001b[0m \u001b[0;32mTrue\u001b[0m\u001b[0;34m\u001b[0m\u001b[0;34m\u001b[0m\u001b[0m\n\u001b[1;32m    467\u001b[0m \u001b[0;34m\u001b[0m\u001b[0m\n",
      "\u001b[0;32m~/code/stage1/stage1/trainer/trainer.py\u001b[0m in \u001b[0;36mvalid\u001b[0;34m(self, log)\u001b[0m\n\u001b[1;32m    620\u001b[0m                 \u001b[0minputs\u001b[0m\u001b[0;34m,\u001b[0m \u001b[0mtargets\u001b[0m \u001b[0;34m=\u001b[0m \u001b[0minputs\u001b[0m\u001b[0;34m.\u001b[0m\u001b[0mto\u001b[0m\u001b[0;34m(\u001b[0m\u001b[0mself\u001b[0m\u001b[0;34m.\u001b[0m\u001b[0mdevice\u001b[0m\u001b[0;34m)\u001b[0m\u001b[0;34m,\u001b[0m \u001b[0mtargets\u001b[0m\u001b[0;34m.\u001b[0m\u001b[0mto\u001b[0m\u001b[0;34m(\u001b[0m\u001b[0mself\u001b[0m\u001b[0;34m.\u001b[0m\u001b[0mdevice\u001b[0m\u001b[0;34m)\u001b[0m\u001b[0;34m\u001b[0m\u001b[0;34m\u001b[0m\u001b[0m\n\u001b[1;32m    621\u001b[0m \u001b[0;34m\u001b[0m\u001b[0m\n\u001b[0;32m--> 622\u001b[0;31m                 \u001b[0moutputs\u001b[0m \u001b[0;34m=\u001b[0m \u001b[0mself\u001b[0m\u001b[0;34m.\u001b[0m\u001b[0mmodel\u001b[0m\u001b[0;34m(\u001b[0m\u001b[0minputs\u001b[0m\u001b[0;34m)\u001b[0m\u001b[0;34m\u001b[0m\u001b[0;34m\u001b[0m\u001b[0m\n\u001b[0m\u001b[1;32m    623\u001b[0m                 \u001b[0mloss\u001b[0m \u001b[0;34m=\u001b[0m \u001b[0mself\u001b[0m\u001b[0;34m.\u001b[0m\u001b[0mcriterion\u001b[0m\u001b[0;34m(\u001b[0m\u001b[0moutputs\u001b[0m\u001b[0;34m,\u001b[0m \u001b[0mtargets\u001b[0m\u001b[0;34m)\u001b[0m\u001b[0;34m\u001b[0m\u001b[0;34m\u001b[0m\u001b[0m\n\u001b[1;32m    624\u001b[0m \u001b[0;34m\u001b[0m\u001b[0m\n",
      "\u001b[0;32m/opt/conda/lib/python3.7/site-packages/torch/nn/modules/module.py\u001b[0m in \u001b[0;36m_call_impl\u001b[0;34m(self, *input, **kwargs)\u001b[0m\n\u001b[1;32m    720\u001b[0m             \u001b[0mresult\u001b[0m \u001b[0;34m=\u001b[0m \u001b[0mself\u001b[0m\u001b[0;34m.\u001b[0m\u001b[0m_slow_forward\u001b[0m\u001b[0;34m(\u001b[0m\u001b[0;34m*\u001b[0m\u001b[0minput\u001b[0m\u001b[0;34m,\u001b[0m \u001b[0;34m**\u001b[0m\u001b[0mkwargs\u001b[0m\u001b[0;34m)\u001b[0m\u001b[0;34m\u001b[0m\u001b[0;34m\u001b[0m\u001b[0m\n\u001b[1;32m    721\u001b[0m         \u001b[0;32melse\u001b[0m\u001b[0;34m:\u001b[0m\u001b[0;34m\u001b[0m\u001b[0;34m\u001b[0m\u001b[0m\n\u001b[0;32m--> 722\u001b[0;31m             \u001b[0mresult\u001b[0m \u001b[0;34m=\u001b[0m \u001b[0mself\u001b[0m\u001b[0;34m.\u001b[0m\u001b[0mforward\u001b[0m\u001b[0;34m(\u001b[0m\u001b[0;34m*\u001b[0m\u001b[0minput\u001b[0m\u001b[0;34m,\u001b[0m \u001b[0;34m**\u001b[0m\u001b[0mkwargs\u001b[0m\u001b[0;34m)\u001b[0m\u001b[0;34m\u001b[0m\u001b[0;34m\u001b[0m\u001b[0m\n\u001b[0m\u001b[1;32m    723\u001b[0m         for hook in itertools.chain(\n\u001b[1;32m    724\u001b[0m                 \u001b[0m_global_forward_hooks\u001b[0m\u001b[0;34m.\u001b[0m\u001b[0mvalues\u001b[0m\u001b[0;34m(\u001b[0m\u001b[0;34m)\u001b[0m\u001b[0;34m,\u001b[0m\u001b[0;34m\u001b[0m\u001b[0;34m\u001b[0m\u001b[0m\n",
      "\u001b[0;32m/opt/conda/lib/python3.7/site-packages/torch/nn/parallel/data_parallel.py\u001b[0m in \u001b[0;36mforward\u001b[0;34m(self, *inputs, **kwargs)\u001b[0m\n\u001b[1;32m    151\u001b[0m         \u001b[0minputs\u001b[0m\u001b[0;34m,\u001b[0m \u001b[0mkwargs\u001b[0m \u001b[0;34m=\u001b[0m \u001b[0mself\u001b[0m\u001b[0;34m.\u001b[0m\u001b[0mscatter\u001b[0m\u001b[0;34m(\u001b[0m\u001b[0minputs\u001b[0m\u001b[0;34m,\u001b[0m \u001b[0mkwargs\u001b[0m\u001b[0;34m,\u001b[0m \u001b[0mself\u001b[0m\u001b[0;34m.\u001b[0m\u001b[0mdevice_ids\u001b[0m\u001b[0;34m)\u001b[0m\u001b[0;34m\u001b[0m\u001b[0;34m\u001b[0m\u001b[0m\n\u001b[1;32m    152\u001b[0m         \u001b[0;32mif\u001b[0m \u001b[0mlen\u001b[0m\u001b[0;34m(\u001b[0m\u001b[0mself\u001b[0m\u001b[0;34m.\u001b[0m\u001b[0mdevice_ids\u001b[0m\u001b[0;34m)\u001b[0m \u001b[0;34m==\u001b[0m \u001b[0;36m1\u001b[0m\u001b[0;34m:\u001b[0m\u001b[0;34m\u001b[0m\u001b[0;34m\u001b[0m\u001b[0m\n\u001b[0;32m--> 153\u001b[0;31m             \u001b[0;32mreturn\u001b[0m \u001b[0mself\u001b[0m\u001b[0;34m.\u001b[0m\u001b[0mmodule\u001b[0m\u001b[0;34m(\u001b[0m\u001b[0;34m*\u001b[0m\u001b[0minputs\u001b[0m\u001b[0;34m[\u001b[0m\u001b[0;36m0\u001b[0m\u001b[0;34m]\u001b[0m\u001b[0;34m,\u001b[0m \u001b[0;34m**\u001b[0m\u001b[0mkwargs\u001b[0m\u001b[0;34m[\u001b[0m\u001b[0;36m0\u001b[0m\u001b[0;34m]\u001b[0m\u001b[0;34m)\u001b[0m\u001b[0;34m\u001b[0m\u001b[0;34m\u001b[0m\u001b[0m\n\u001b[0m\u001b[1;32m    154\u001b[0m         \u001b[0mreplicas\u001b[0m \u001b[0;34m=\u001b[0m \u001b[0mself\u001b[0m\u001b[0;34m.\u001b[0m\u001b[0mreplicate\u001b[0m\u001b[0;34m(\u001b[0m\u001b[0mself\u001b[0m\u001b[0;34m.\u001b[0m\u001b[0mmodule\u001b[0m\u001b[0;34m,\u001b[0m \u001b[0mself\u001b[0m\u001b[0;34m.\u001b[0m\u001b[0mdevice_ids\u001b[0m\u001b[0;34m[\u001b[0m\u001b[0;34m:\u001b[0m\u001b[0mlen\u001b[0m\u001b[0;34m(\u001b[0m\u001b[0minputs\u001b[0m\u001b[0;34m)\u001b[0m\u001b[0;34m]\u001b[0m\u001b[0;34m)\u001b[0m\u001b[0;34m\u001b[0m\u001b[0;34m\u001b[0m\u001b[0m\n\u001b[1;32m    155\u001b[0m         \u001b[0moutputs\u001b[0m \u001b[0;34m=\u001b[0m \u001b[0mself\u001b[0m\u001b[0;34m.\u001b[0m\u001b[0mparallel_apply\u001b[0m\u001b[0;34m(\u001b[0m\u001b[0mreplicas\u001b[0m\u001b[0;34m,\u001b[0m \u001b[0minputs\u001b[0m\u001b[0;34m,\u001b[0m \u001b[0mkwargs\u001b[0m\u001b[0;34m)\u001b[0m\u001b[0;34m\u001b[0m\u001b[0;34m\u001b[0m\u001b[0m\n",
      "\u001b[0;32m/opt/conda/lib/python3.7/site-packages/torch/nn/modules/module.py\u001b[0m in \u001b[0;36m_call_impl\u001b[0;34m(self, *input, **kwargs)\u001b[0m\n\u001b[1;32m    720\u001b[0m             \u001b[0mresult\u001b[0m \u001b[0;34m=\u001b[0m \u001b[0mself\u001b[0m\u001b[0;34m.\u001b[0m\u001b[0m_slow_forward\u001b[0m\u001b[0;34m(\u001b[0m\u001b[0;34m*\u001b[0m\u001b[0minput\u001b[0m\u001b[0;34m,\u001b[0m \u001b[0;34m**\u001b[0m\u001b[0mkwargs\u001b[0m\u001b[0;34m)\u001b[0m\u001b[0;34m\u001b[0m\u001b[0;34m\u001b[0m\u001b[0m\n\u001b[1;32m    721\u001b[0m         \u001b[0;32melse\u001b[0m\u001b[0;34m:\u001b[0m\u001b[0;34m\u001b[0m\u001b[0;34m\u001b[0m\u001b[0m\n\u001b[0;32m--> 722\u001b[0;31m             \u001b[0mresult\u001b[0m \u001b[0;34m=\u001b[0m \u001b[0mself\u001b[0m\u001b[0;34m.\u001b[0m\u001b[0mforward\u001b[0m\u001b[0;34m(\u001b[0m\u001b[0;34m*\u001b[0m\u001b[0minput\u001b[0m\u001b[0;34m,\u001b[0m \u001b[0;34m**\u001b[0m\u001b[0mkwargs\u001b[0m\u001b[0;34m)\u001b[0m\u001b[0;34m\u001b[0m\u001b[0;34m\u001b[0m\u001b[0m\n\u001b[0m\u001b[1;32m    723\u001b[0m         for hook in itertools.chain(\n\u001b[1;32m    724\u001b[0m                 \u001b[0m_global_forward_hooks\u001b[0m\u001b[0;34m.\u001b[0m\u001b[0mvalues\u001b[0m\u001b[0;34m(\u001b[0m\u001b[0;34m)\u001b[0m\u001b[0;34m,\u001b[0m\u001b[0;34m\u001b[0m\u001b[0;34m\u001b[0m\u001b[0m\n",
      "\u001b[0;32m~/code/stage1/stage1/modules/models.py\u001b[0m in \u001b[0;36mforward\u001b[0;34m(self, x)\u001b[0m\n\u001b[1;32m     43\u001b[0m             \u001b[0;32mreturn\u001b[0m \u001b[0moutputs\u001b[0m\u001b[0;34m\u001b[0m\u001b[0;34m\u001b[0m\u001b[0m\n\u001b[1;32m     44\u001b[0m \u001b[0;34m\u001b[0m\u001b[0m\n\u001b[0;32m---> 45\u001b[0;31m         \u001b[0;32mreturn\u001b[0m \u001b[0mself\u001b[0m\u001b[0;34m.\u001b[0m\u001b[0m_forward_impl\u001b[0m\u001b[0;34m(\u001b[0m\u001b[0mx\u001b[0m\u001b[0;34m)\u001b[0m\u001b[0;34m\u001b[0m\u001b[0;34m\u001b[0m\u001b[0m\n\u001b[0m\u001b[1;32m     46\u001b[0m \u001b[0;34m\u001b[0m\u001b[0m\n\u001b[1;32m     47\u001b[0m \u001b[0;34m\u001b[0m\u001b[0m\n",
      "\u001b[0;32m~/code/stage1/stage1/modules/models.py\u001b[0m in \u001b[0;36m_forward_impl\u001b[0;34m(self, x)\u001b[0m\n\u001b[1;32m    296\u001b[0m \u001b[0;34m\u001b[0m\u001b[0m\n\u001b[1;32m    297\u001b[0m     \u001b[0;32mdef\u001b[0m \u001b[0m_forward_impl\u001b[0m\u001b[0;34m(\u001b[0m\u001b[0mself\u001b[0m\u001b[0;34m,\u001b[0m \u001b[0mx\u001b[0m\u001b[0;34m)\u001b[0m\u001b[0;34m:\u001b[0m\u001b[0;34m\u001b[0m\u001b[0;34m\u001b[0m\u001b[0m\n\u001b[0;32m--> 298\u001b[0;31m         \u001b[0mx\u001b[0m \u001b[0;34m=\u001b[0m \u001b[0mself\u001b[0m\u001b[0;34m.\u001b[0m\u001b[0mmodel\u001b[0m\u001b[0;34m(\u001b[0m\u001b[0mx\u001b[0m\u001b[0;34m)\u001b[0m\u001b[0;34m\u001b[0m\u001b[0;34m\u001b[0m\u001b[0m\n\u001b[0m\u001b[1;32m    299\u001b[0m         \u001b[0;32mreturn\u001b[0m \u001b[0mx\u001b[0m\u001b[0;34m\u001b[0m\u001b[0;34m\u001b[0m\u001b[0m\n\u001b[1;32m    300\u001b[0m \u001b[0;34m\u001b[0m\u001b[0m\n",
      "\u001b[0;32m/opt/conda/lib/python3.7/site-packages/torch/nn/modules/module.py\u001b[0m in \u001b[0;36m_call_impl\u001b[0;34m(self, *input, **kwargs)\u001b[0m\n\u001b[1;32m    720\u001b[0m             \u001b[0mresult\u001b[0m \u001b[0;34m=\u001b[0m \u001b[0mself\u001b[0m\u001b[0;34m.\u001b[0m\u001b[0m_slow_forward\u001b[0m\u001b[0;34m(\u001b[0m\u001b[0;34m*\u001b[0m\u001b[0minput\u001b[0m\u001b[0;34m,\u001b[0m \u001b[0;34m**\u001b[0m\u001b[0mkwargs\u001b[0m\u001b[0;34m)\u001b[0m\u001b[0;34m\u001b[0m\u001b[0;34m\u001b[0m\u001b[0m\n\u001b[1;32m    721\u001b[0m         \u001b[0;32melse\u001b[0m\u001b[0;34m:\u001b[0m\u001b[0;34m\u001b[0m\u001b[0;34m\u001b[0m\u001b[0m\n\u001b[0;32m--> 722\u001b[0;31m             \u001b[0mresult\u001b[0m \u001b[0;34m=\u001b[0m \u001b[0mself\u001b[0m\u001b[0;34m.\u001b[0m\u001b[0mforward\u001b[0m\u001b[0;34m(\u001b[0m\u001b[0;34m*\u001b[0m\u001b[0minput\u001b[0m\u001b[0;34m,\u001b[0m \u001b[0;34m**\u001b[0m\u001b[0mkwargs\u001b[0m\u001b[0;34m)\u001b[0m\u001b[0;34m\u001b[0m\u001b[0;34m\u001b[0m\u001b[0m\n\u001b[0m\u001b[1;32m    723\u001b[0m         for hook in itertools.chain(\n\u001b[1;32m    724\u001b[0m                 \u001b[0m_global_forward_hooks\u001b[0m\u001b[0;34m.\u001b[0m\u001b[0mvalues\u001b[0m\u001b[0;34m(\u001b[0m\u001b[0;34m)\u001b[0m\u001b[0;34m,\u001b[0m\u001b[0;34m\u001b[0m\u001b[0;34m\u001b[0m\u001b[0m\n",
      "\u001b[0;32m/opt/conda/lib/python3.7/site-packages/torch/nn/modules/container.py\u001b[0m in \u001b[0;36mforward\u001b[0;34m(self, input)\u001b[0m\n\u001b[1;32m    115\u001b[0m     \u001b[0;32mdef\u001b[0m \u001b[0mforward\u001b[0m\u001b[0;34m(\u001b[0m\u001b[0mself\u001b[0m\u001b[0;34m,\u001b[0m \u001b[0minput\u001b[0m\u001b[0;34m)\u001b[0m\u001b[0;34m:\u001b[0m\u001b[0;34m\u001b[0m\u001b[0;34m\u001b[0m\u001b[0m\n\u001b[1;32m    116\u001b[0m         \u001b[0;32mfor\u001b[0m \u001b[0mmodule\u001b[0m \u001b[0;32min\u001b[0m \u001b[0mself\u001b[0m\u001b[0;34m:\u001b[0m\u001b[0;34m\u001b[0m\u001b[0;34m\u001b[0m\u001b[0m\n\u001b[0;32m--> 117\u001b[0;31m             \u001b[0minput\u001b[0m \u001b[0;34m=\u001b[0m \u001b[0mmodule\u001b[0m\u001b[0;34m(\u001b[0m\u001b[0minput\u001b[0m\u001b[0;34m)\u001b[0m\u001b[0;34m\u001b[0m\u001b[0;34m\u001b[0m\u001b[0m\n\u001b[0m\u001b[1;32m    118\u001b[0m         \u001b[0;32mreturn\u001b[0m \u001b[0minput\u001b[0m\u001b[0;34m\u001b[0m\u001b[0;34m\u001b[0m\u001b[0m\n\u001b[1;32m    119\u001b[0m \u001b[0;34m\u001b[0m\u001b[0m\n",
      "\u001b[0;32m/opt/conda/lib/python3.7/site-packages/torch/nn/modules/module.py\u001b[0m in \u001b[0;36m_call_impl\u001b[0;34m(self, *input, **kwargs)\u001b[0m\n\u001b[1;32m    720\u001b[0m             \u001b[0mresult\u001b[0m \u001b[0;34m=\u001b[0m \u001b[0mself\u001b[0m\u001b[0;34m.\u001b[0m\u001b[0m_slow_forward\u001b[0m\u001b[0;34m(\u001b[0m\u001b[0;34m*\u001b[0m\u001b[0minput\u001b[0m\u001b[0;34m,\u001b[0m \u001b[0;34m**\u001b[0m\u001b[0mkwargs\u001b[0m\u001b[0;34m)\u001b[0m\u001b[0;34m\u001b[0m\u001b[0;34m\u001b[0m\u001b[0m\n\u001b[1;32m    721\u001b[0m         \u001b[0;32melse\u001b[0m\u001b[0;34m:\u001b[0m\u001b[0;34m\u001b[0m\u001b[0;34m\u001b[0m\u001b[0m\n\u001b[0;32m--> 722\u001b[0;31m             \u001b[0mresult\u001b[0m \u001b[0;34m=\u001b[0m \u001b[0mself\u001b[0m\u001b[0;34m.\u001b[0m\u001b[0mforward\u001b[0m\u001b[0;34m(\u001b[0m\u001b[0;34m*\u001b[0m\u001b[0minput\u001b[0m\u001b[0;34m,\u001b[0m \u001b[0;34m**\u001b[0m\u001b[0mkwargs\u001b[0m\u001b[0;34m)\u001b[0m\u001b[0;34m\u001b[0m\u001b[0;34m\u001b[0m\u001b[0m\n\u001b[0m\u001b[1;32m    723\u001b[0m         for hook in itertools.chain(\n\u001b[1;32m    724\u001b[0m                 \u001b[0m_global_forward_hooks\u001b[0m\u001b[0;34m.\u001b[0m\u001b[0mvalues\u001b[0m\u001b[0;34m(\u001b[0m\u001b[0;34m)\u001b[0m\u001b[0;34m,\u001b[0m\u001b[0;34m\u001b[0m\u001b[0;34m\u001b[0m\u001b[0m\n",
      "\u001b[0;32m/opt/conda/lib/python3.7/site-packages/efficientnet_pytorch/model.py\u001b[0m in \u001b[0;36mforward\u001b[0;34m(self, inputs)\u001b[0m\n\u001b[1;32m    309\u001b[0m         \"\"\"\n\u001b[1;32m    310\u001b[0m         \u001b[0;31m# Convolution layers\u001b[0m\u001b[0;34m\u001b[0m\u001b[0;34m\u001b[0m\u001b[0;34m\u001b[0m\u001b[0m\n\u001b[0;32m--> 311\u001b[0;31m         \u001b[0mx\u001b[0m \u001b[0;34m=\u001b[0m \u001b[0mself\u001b[0m\u001b[0;34m.\u001b[0m\u001b[0mextract_features\u001b[0m\u001b[0;34m(\u001b[0m\u001b[0minputs\u001b[0m\u001b[0;34m)\u001b[0m\u001b[0;34m\u001b[0m\u001b[0;34m\u001b[0m\u001b[0m\n\u001b[0m\u001b[1;32m    312\u001b[0m         \u001b[0;31m# Pooling and final linear layer\u001b[0m\u001b[0;34m\u001b[0m\u001b[0;34m\u001b[0m\u001b[0;34m\u001b[0m\u001b[0m\n\u001b[1;32m    313\u001b[0m         \u001b[0mx\u001b[0m \u001b[0;34m=\u001b[0m \u001b[0mself\u001b[0m\u001b[0;34m.\u001b[0m\u001b[0m_avg_pooling\u001b[0m\u001b[0;34m(\u001b[0m\u001b[0mx\u001b[0m\u001b[0;34m)\u001b[0m\u001b[0;34m\u001b[0m\u001b[0;34m\u001b[0m\u001b[0m\n",
      "\u001b[0;32m/opt/conda/lib/python3.7/site-packages/efficientnet_pytorch/model.py\u001b[0m in \u001b[0;36mextract_features\u001b[0;34m(self, inputs)\u001b[0m\n\u001b[1;32m    284\u001b[0m         \"\"\"\n\u001b[1;32m    285\u001b[0m         \u001b[0;31m# Stem\u001b[0m\u001b[0;34m\u001b[0m\u001b[0;34m\u001b[0m\u001b[0;34m\u001b[0m\u001b[0m\n\u001b[0;32m--> 286\u001b[0;31m         \u001b[0mx\u001b[0m \u001b[0;34m=\u001b[0m \u001b[0mself\u001b[0m\u001b[0;34m.\u001b[0m\u001b[0m_swish\u001b[0m\u001b[0;34m(\u001b[0m\u001b[0mself\u001b[0m\u001b[0;34m.\u001b[0m\u001b[0m_bn0\u001b[0m\u001b[0;34m(\u001b[0m\u001b[0mself\u001b[0m\u001b[0;34m.\u001b[0m\u001b[0m_conv_stem\u001b[0m\u001b[0;34m(\u001b[0m\u001b[0minputs\u001b[0m\u001b[0;34m)\u001b[0m\u001b[0;34m)\u001b[0m\u001b[0;34m)\u001b[0m\u001b[0;34m\u001b[0m\u001b[0;34m\u001b[0m\u001b[0m\n\u001b[0m\u001b[1;32m    287\u001b[0m \u001b[0;34m\u001b[0m\u001b[0m\n\u001b[1;32m    288\u001b[0m         \u001b[0;31m# Blocks\u001b[0m\u001b[0;34m\u001b[0m\u001b[0;34m\u001b[0m\u001b[0;34m\u001b[0m\u001b[0m\n",
      "\u001b[0;32m/opt/conda/lib/python3.7/site-packages/torch/nn/modules/module.py\u001b[0m in \u001b[0;36m_call_impl\u001b[0;34m(self, *input, **kwargs)\u001b[0m\n\u001b[1;32m    720\u001b[0m             \u001b[0mresult\u001b[0m \u001b[0;34m=\u001b[0m \u001b[0mself\u001b[0m\u001b[0;34m.\u001b[0m\u001b[0m_slow_forward\u001b[0m\u001b[0;34m(\u001b[0m\u001b[0;34m*\u001b[0m\u001b[0minput\u001b[0m\u001b[0;34m,\u001b[0m \u001b[0;34m**\u001b[0m\u001b[0mkwargs\u001b[0m\u001b[0;34m)\u001b[0m\u001b[0;34m\u001b[0m\u001b[0;34m\u001b[0m\u001b[0m\n\u001b[1;32m    721\u001b[0m         \u001b[0;32melse\u001b[0m\u001b[0;34m:\u001b[0m\u001b[0;34m\u001b[0m\u001b[0;34m\u001b[0m\u001b[0m\n\u001b[0;32m--> 722\u001b[0;31m             \u001b[0mresult\u001b[0m \u001b[0;34m=\u001b[0m \u001b[0mself\u001b[0m\u001b[0;34m.\u001b[0m\u001b[0mforward\u001b[0m\u001b[0;34m(\u001b[0m\u001b[0;34m*\u001b[0m\u001b[0minput\u001b[0m\u001b[0;34m,\u001b[0m \u001b[0;34m**\u001b[0m\u001b[0mkwargs\u001b[0m\u001b[0;34m)\u001b[0m\u001b[0;34m\u001b[0m\u001b[0;34m\u001b[0m\u001b[0m\n\u001b[0m\u001b[1;32m    723\u001b[0m         for hook in itertools.chain(\n\u001b[1;32m    724\u001b[0m                 \u001b[0m_global_forward_hooks\u001b[0m\u001b[0;34m.\u001b[0m\u001b[0mvalues\u001b[0m\u001b[0;34m(\u001b[0m\u001b[0;34m)\u001b[0m\u001b[0;34m,\u001b[0m\u001b[0;34m\u001b[0m\u001b[0;34m\u001b[0m\u001b[0m\n",
      "\u001b[0;32m/opt/conda/lib/python3.7/site-packages/efficientnet_pytorch/utils.py\u001b[0m in \u001b[0;36mforward\u001b[0;34m(self, x)\u001b[0m\n\u001b[1;32m    268\u001b[0m \u001b[0;34m\u001b[0m\u001b[0m\n\u001b[1;32m    269\u001b[0m     \u001b[0;32mdef\u001b[0m \u001b[0mforward\u001b[0m\u001b[0;34m(\u001b[0m\u001b[0mself\u001b[0m\u001b[0;34m,\u001b[0m \u001b[0mx\u001b[0m\u001b[0;34m)\u001b[0m\u001b[0;34m:\u001b[0m\u001b[0;34m\u001b[0m\u001b[0;34m\u001b[0m\u001b[0m\n\u001b[0;32m--> 270\u001b[0;31m         \u001b[0mx\u001b[0m \u001b[0;34m=\u001b[0m \u001b[0mself\u001b[0m\u001b[0;34m.\u001b[0m\u001b[0mstatic_padding\u001b[0m\u001b[0;34m(\u001b[0m\u001b[0mx\u001b[0m\u001b[0;34m)\u001b[0m\u001b[0;34m\u001b[0m\u001b[0;34m\u001b[0m\u001b[0m\n\u001b[0m\u001b[1;32m    271\u001b[0m         \u001b[0mx\u001b[0m \u001b[0;34m=\u001b[0m \u001b[0mF\u001b[0m\u001b[0;34m.\u001b[0m\u001b[0mconv2d\u001b[0m\u001b[0;34m(\u001b[0m\u001b[0mx\u001b[0m\u001b[0;34m,\u001b[0m \u001b[0mself\u001b[0m\u001b[0;34m.\u001b[0m\u001b[0mweight\u001b[0m\u001b[0;34m,\u001b[0m \u001b[0mself\u001b[0m\u001b[0;34m.\u001b[0m\u001b[0mbias\u001b[0m\u001b[0;34m,\u001b[0m \u001b[0mself\u001b[0m\u001b[0;34m.\u001b[0m\u001b[0mstride\u001b[0m\u001b[0;34m,\u001b[0m \u001b[0mself\u001b[0m\u001b[0;34m.\u001b[0m\u001b[0mpadding\u001b[0m\u001b[0;34m,\u001b[0m \u001b[0mself\u001b[0m\u001b[0;34m.\u001b[0m\u001b[0mdilation\u001b[0m\u001b[0;34m,\u001b[0m \u001b[0mself\u001b[0m\u001b[0;34m.\u001b[0m\u001b[0mgroups\u001b[0m\u001b[0;34m)\u001b[0m\u001b[0;34m\u001b[0m\u001b[0;34m\u001b[0m\u001b[0m\n\u001b[1;32m    272\u001b[0m         \u001b[0;32mreturn\u001b[0m \u001b[0mx\u001b[0m\u001b[0;34m\u001b[0m\u001b[0;34m\u001b[0m\u001b[0m\n",
      "\u001b[0;32m/opt/conda/lib/python3.7/site-packages/torch/nn/modules/module.py\u001b[0m in \u001b[0;36m_call_impl\u001b[0;34m(self, *input, **kwargs)\u001b[0m\n\u001b[1;32m    720\u001b[0m             \u001b[0mresult\u001b[0m \u001b[0;34m=\u001b[0m \u001b[0mself\u001b[0m\u001b[0;34m.\u001b[0m\u001b[0m_slow_forward\u001b[0m\u001b[0;34m(\u001b[0m\u001b[0;34m*\u001b[0m\u001b[0minput\u001b[0m\u001b[0;34m,\u001b[0m \u001b[0;34m**\u001b[0m\u001b[0mkwargs\u001b[0m\u001b[0;34m)\u001b[0m\u001b[0;34m\u001b[0m\u001b[0;34m\u001b[0m\u001b[0m\n\u001b[1;32m    721\u001b[0m         \u001b[0;32melse\u001b[0m\u001b[0;34m:\u001b[0m\u001b[0;34m\u001b[0m\u001b[0;34m\u001b[0m\u001b[0m\n\u001b[0;32m--> 722\u001b[0;31m             \u001b[0mresult\u001b[0m \u001b[0;34m=\u001b[0m \u001b[0mself\u001b[0m\u001b[0;34m.\u001b[0m\u001b[0mforward\u001b[0m\u001b[0;34m(\u001b[0m\u001b[0;34m*\u001b[0m\u001b[0minput\u001b[0m\u001b[0;34m,\u001b[0m \u001b[0;34m**\u001b[0m\u001b[0mkwargs\u001b[0m\u001b[0;34m)\u001b[0m\u001b[0;34m\u001b[0m\u001b[0;34m\u001b[0m\u001b[0m\n\u001b[0m\u001b[1;32m    723\u001b[0m         for hook in itertools.chain(\n\u001b[1;32m    724\u001b[0m                 \u001b[0m_global_forward_hooks\u001b[0m\u001b[0;34m.\u001b[0m\u001b[0mvalues\u001b[0m\u001b[0;34m(\u001b[0m\u001b[0;34m)\u001b[0m\u001b[0;34m,\u001b[0m\u001b[0;34m\u001b[0m\u001b[0;34m\u001b[0m\u001b[0m\n",
      "\u001b[0;32m/opt/conda/lib/python3.7/site-packages/torch/nn/modules/padding.py\u001b[0m in \u001b[0;36mforward\u001b[0;34m(self, input)\u001b[0m\n\u001b[1;32m     19\u001b[0m \u001b[0;34m\u001b[0m\u001b[0m\n\u001b[1;32m     20\u001b[0m     \u001b[0;32mdef\u001b[0m \u001b[0mforward\u001b[0m\u001b[0;34m(\u001b[0m\u001b[0mself\u001b[0m\u001b[0;34m,\u001b[0m \u001b[0minput\u001b[0m\u001b[0;34m:\u001b[0m \u001b[0mTensor\u001b[0m\u001b[0;34m)\u001b[0m \u001b[0;34m->\u001b[0m \u001b[0mTensor\u001b[0m\u001b[0;34m:\u001b[0m\u001b[0;34m\u001b[0m\u001b[0;34m\u001b[0m\u001b[0m\n\u001b[0;32m---> 21\u001b[0;31m         \u001b[0;32mreturn\u001b[0m \u001b[0mF\u001b[0m\u001b[0;34m.\u001b[0m\u001b[0mpad\u001b[0m\u001b[0;34m(\u001b[0m\u001b[0minput\u001b[0m\u001b[0;34m,\u001b[0m \u001b[0mself\u001b[0m\u001b[0;34m.\u001b[0m\u001b[0mpadding\u001b[0m\u001b[0;34m,\u001b[0m \u001b[0;34m'constant'\u001b[0m\u001b[0;34m,\u001b[0m \u001b[0mself\u001b[0m\u001b[0;34m.\u001b[0m\u001b[0mvalue\u001b[0m\u001b[0;34m)\u001b[0m\u001b[0;34m\u001b[0m\u001b[0;34m\u001b[0m\u001b[0m\n\u001b[0m\u001b[1;32m     22\u001b[0m \u001b[0;34m\u001b[0m\u001b[0m\n\u001b[1;32m     23\u001b[0m     \u001b[0;32mdef\u001b[0m \u001b[0mextra_repr\u001b[0m\u001b[0;34m(\u001b[0m\u001b[0mself\u001b[0m\u001b[0;34m)\u001b[0m \u001b[0;34m->\u001b[0m \u001b[0mstr\u001b[0m\u001b[0;34m:\u001b[0m\u001b[0;34m\u001b[0m\u001b[0;34m\u001b[0m\u001b[0m\n",
      "\u001b[0;32m/opt/conda/lib/python3.7/site-packages/torch/nn/functional.py\u001b[0m in \u001b[0;36m_pad\u001b[0;34m(input, pad, mode, value)\u001b[0m\n\u001b[1;32m   3550\u001b[0m     \u001b[0;32massert\u001b[0m \u001b[0mlen\u001b[0m\u001b[0;34m(\u001b[0m\u001b[0mpad\u001b[0m\u001b[0;34m)\u001b[0m \u001b[0;34m//\u001b[0m \u001b[0;36m2\u001b[0m \u001b[0;34m<=\u001b[0m \u001b[0minput\u001b[0m\u001b[0;34m.\u001b[0m\u001b[0mdim\u001b[0m\u001b[0;34m(\u001b[0m\u001b[0;34m)\u001b[0m\u001b[0;34m,\u001b[0m \u001b[0;34m'Padding length too large'\u001b[0m\u001b[0;34m\u001b[0m\u001b[0;34m\u001b[0m\u001b[0m\n\u001b[1;32m   3551\u001b[0m     \u001b[0;32mif\u001b[0m \u001b[0mmode\u001b[0m \u001b[0;34m==\u001b[0m \u001b[0;34m'constant'\u001b[0m\u001b[0;34m:\u001b[0m\u001b[0;34m\u001b[0m\u001b[0;34m\u001b[0m\u001b[0m\n\u001b[0;32m-> 3552\u001b[0;31m         \u001b[0;32mreturn\u001b[0m \u001b[0m_VF\u001b[0m\u001b[0;34m.\u001b[0m\u001b[0mconstant_pad_nd\u001b[0m\u001b[0;34m(\u001b[0m\u001b[0minput\u001b[0m\u001b[0;34m,\u001b[0m \u001b[0mpad\u001b[0m\u001b[0;34m,\u001b[0m \u001b[0mvalue\u001b[0m\u001b[0;34m)\u001b[0m\u001b[0;34m\u001b[0m\u001b[0;34m\u001b[0m\u001b[0m\n\u001b[0m\u001b[1;32m   3553\u001b[0m     \u001b[0;32melse\u001b[0m\u001b[0;34m:\u001b[0m\u001b[0;34m\u001b[0m\u001b[0;34m\u001b[0m\u001b[0m\n\u001b[1;32m   3554\u001b[0m         \u001b[0;32massert\u001b[0m \u001b[0mvalue\u001b[0m \u001b[0;34m==\u001b[0m \u001b[0;36m0\u001b[0m\u001b[0;34m,\u001b[0m \u001b[0;34m'Padding mode \"{}\"\" doesn\\'t take in value argument'\u001b[0m\u001b[0;34m.\u001b[0m\u001b[0mformat\u001b[0m\u001b[0;34m(\u001b[0m\u001b[0mmode\u001b[0m\u001b[0;34m)\u001b[0m\u001b[0;34m\u001b[0m\u001b[0;34m\u001b[0m\u001b[0m\n",
      "\u001b[0;31mKeyboardInterrupt\u001b[0m: "
     ]
    }
   ],
   "source": [
    "'''[LATER]effnet-b0-1-1-multi (raw)(nn.CrossEntropyLoss)(AdamP)\n",
    ">>> CHECKPOINTS\n",
    "[lowest loss]()   <-  \"\"\n",
    "[best f1 score]() <-  \"\"\n",
    "'''\n",
    "\n",
    "# effnet_b0_1_1_multi = EfficientNetWithMultihead(arc=\"efficientnet-b0\")\n",
    "# effnet_b0_1_1_multi.name = \"effnet-b0-1-1-multi-raw+ce(as)+adamp\"\n",
    "# effnet_b0_1_1_multi__logger = CSVLogger()\n",
    "\n",
    "\n",
    "# branch = ConfigBranch(\n",
    "#     train_path = '/opt/ml/input/data/train/all_',\n",
    "#     model = effnet_b0_1_1_multi,\n",
    "#     logger = effnet_b0_1_1_multi__logger, \n",
    "#     classifying = 'all', \n",
    "#     upscale = False,\n",
    "#     criterion = nn.CrossEntropyLoss(),\n",
    "#     optimizer = 'AdamP',\n",
    "#     lr = 1e-3, #config.train.lr.low_limit / 10, #after end of training\n",
    "#     state_path = '',\n",
    "# )\n",
    "\n",
    "# config.path.train = branch.train_path\n",
    "# config.model.model = branch.model\n",
    "# config.train.logger = branch.logger\n",
    "# config.model.classifying = branch.classifying\n",
    "# config.data.upscale = branch.upscale\n",
    "# config.train.optimizer.name = branch.optimizer\n",
    "# config.train.lr.base = branch.lr\n",
    "# config.train.weight_decay = 1e-4\n",
    "# config.train.loss.criterion = branch.criterion\n",
    "# config.model.state_path = branch.state_path\n",
    "\n",
    "# try:\n",
    "#     trainer().load_state_dict_to_model()\n",
    "# except:\n",
    "#     trainer().model.load_state_dict(load_and_fix_state_dict(config.model.state_path))\n",
    "\n",
    "# trainer.train_and_save()"
   ]
  },
  {
   "cell_type": "code",
   "execution_count": null,
   "id": "geographic-astrology",
   "metadata": {},
   "outputs": [],
   "source": [
    "# b0-1a-age (raw)(FocalLoss)\n",
    "'''CHECKPOINTS\n",
    "[lowest loss]()   \"/opt/ml/output/models/2021-04-07 02:35:06.329685_effnet-b0-1a_.pth\"\n",
    "[best f1 score](.91815) \"/opt/ml/output/models/2021-04-07 03:08:39.290784_effnet-b0-1a_.pth\"\n",
    "'''\n",
    "\n",
    "# branch = ConfigBranch(\n",
    "#     train_path = '/opt/ml/input/data/train/all_'\n",
    "#     model = effnet_b0_1a,\n",
    "#     logger = effnet_b0_1a_logger, \n",
    "#     classifying = 'all', \n",
    "#     upscale = False,\n",
    "#     lr = 1e-3,\n",
    "#     state_path = ''\n",
    "# )\n",
    "\n",
    "# config.path.train = branch.train_path\n",
    "# config.model.model = branch.model\n",
    "# config.train.logger = branch.logger\n",
    "# config.model.classifying = branch.classifying\n",
    "# config.data.upscale = branch.upscale\n",
    "# config.train.optimizer.name = branch.optimizer\n",
    "# config.train.lr.base = branch.lr\n",
    "# config.train.weight_decay = 1e-4\n",
    "# config.train.loss.criterion = branch.criterion\n",
    "# config.model.state_path = branch.state_path\n",
    "\n",
    "# try:\n",
    "#     trainer().load_state_dict_to_model()\n",
    "# except:\n",
    "#     trainer().model.load_state_dict(load_and_fix_state_dict(config.model.state_path))\n",
    "# trainer.train_and_save()"
   ]
  },
  {
   "cell_type": "markdown",
   "id": "strategic-typing",
   "metadata": {},
   "source": [
    "# Archive"
   ]
  },
  {
   "cell_type": "markdown",
   "id": "european-energy",
   "metadata": {},
   "source": [
    "* **b3-2da-age (raw)** (lr/10): '/opt/ml/output/models/2021-04-06 10:24:14.223154_effnet_b3_2da_age_.pth'\n",
    "* **b3-1a-age (raw)** (1e-4?):  '/opt/ml/output/models/2021-04-04 20:48:11.983449_effnet_b3_age_.pth'"
   ]
  },
  {
   "cell_type": "code",
   "execution_count": 23,
   "id": "wicked-shore",
   "metadata": {
    "collapsed": true,
    "jupyter": {
     "outputs_hidden": true
    },
    "tags": []
   },
   "outputs": [
    {
     "name": "stdout",
     "output_type": "stream",
     "text": [
      "WARNING: failed to load state dict - could not find the path.\n",
      "[INFO]\n",
      "model=effnet-b0-1a+smaller+ce+adamp\n",
      "device=cuda:0(Tesla P40)\n",
      "data size=(12959 + 3239), batch size=32\n",
      "optimizer.name=AdamP\n",
      "epochs=20, lr=0.001, weight_decay=0.0001, betas=(0.9, 0.999)\n",
      "\n",
      "Start of traning.\n",
      "[Valid 020] (Batch #070)  Loss: 2.85671,  Acc: 6.866"
     ]
    },
    {
     "ename": "KeyboardInterrupt",
     "evalue": "",
     "output_type": "error",
     "traceback": [
      "\u001b[0;31m---------------------------------------------------------------------------\u001b[0m",
      "\u001b[0;31mKeyboardInterrupt\u001b[0m                         Traceback (most recent call last)",
      "\u001b[0;32m<ipython-input-23-52f8ce486328>\u001b[0m in \u001b[0;36m<module>\u001b[0;34m\u001b[0m\n\u001b[1;32m     38\u001b[0m \u001b[0;32mexcept\u001b[0m\u001b[0;34m:\u001b[0m\u001b[0;34m\u001b[0m\u001b[0;34m\u001b[0m\u001b[0m\n\u001b[1;32m     39\u001b[0m     \u001b[0mtrainer\u001b[0m\u001b[0;34m(\u001b[0m\u001b[0;34m)\u001b[0m\u001b[0;34m.\u001b[0m\u001b[0mmodel\u001b[0m\u001b[0;34m.\u001b[0m\u001b[0mload_state_dict\u001b[0m\u001b[0;34m(\u001b[0m\u001b[0mload_and_fix_state_dict\u001b[0m\u001b[0;34m(\u001b[0m\u001b[0mconfig\u001b[0m\u001b[0;34m.\u001b[0m\u001b[0mmodel\u001b[0m\u001b[0;34m.\u001b[0m\u001b[0mstate_path\u001b[0m\u001b[0;34m)\u001b[0m\u001b[0;34m)\u001b[0m\u001b[0;34m\u001b[0m\u001b[0;34m\u001b[0m\u001b[0m\n\u001b[0;32m---> 40\u001b[0;31m \u001b[0mtrainer\u001b[0m\u001b[0;34m.\u001b[0m\u001b[0mtrain_and_save\u001b[0m\u001b[0;34m(\u001b[0m\u001b[0;34m)\u001b[0m\u001b[0;34m\u001b[0m\u001b[0;34m\u001b[0m\u001b[0m\n\u001b[0m",
      "\u001b[0;32m~/code/stage1/stage1/trainer/trainer.py\u001b[0m in \u001b[0;36mtrain_and_save\u001b[0;34m(self)\u001b[0m\n\u001b[1;32m    458\u001b[0m \u001b[0;34m\u001b[0m\u001b[0m\n\u001b[1;32m    459\u001b[0m         \u001b[0;32mif\u001b[0m \u001b[0mself\u001b[0m\u001b[0;34m.\u001b[0m\u001b[0mepochs\u001b[0m \u001b[0;34m>\u001b[0m \u001b[0mself\u001b[0m\u001b[0;34m.\u001b[0m\u001b[0mconfig\u001b[0m\u001b[0;34m.\u001b[0m\u001b[0mtrain\u001b[0m\u001b[0;34m.\u001b[0m\u001b[0mvalid_min\u001b[0m\u001b[0;34m:\u001b[0m\u001b[0;34m\u001b[0m\u001b[0;34m\u001b[0m\u001b[0m\n\u001b[0;32m--> 460\u001b[0;31m             \u001b[0m_\u001b[0m\u001b[0;34m,\u001b[0m \u001b[0mlast_valid_acc\u001b[0m \u001b[0;34m=\u001b[0m \u001b[0mself\u001b[0m\u001b[0;34m.\u001b[0m\u001b[0mvalid\u001b[0m\u001b[0;34m(\u001b[0m\u001b[0;34m)\u001b[0m\u001b[0;34m\u001b[0m\u001b[0;34m\u001b[0m\u001b[0m\n\u001b[0m\u001b[1;32m    461\u001b[0m         \u001b[0;32melse\u001b[0m\u001b[0;34m:\u001b[0m\u001b[0;34m\u001b[0m\u001b[0;34m\u001b[0m\u001b[0m\n\u001b[1;32m    462\u001b[0m             \u001b[0mlast_valid_acc\u001b[0m \u001b[0;34m=\u001b[0m \u001b[0mself\u001b[0m\u001b[0;34m.\u001b[0m\u001b[0mlogger\u001b[0m\u001b[0;34m.\u001b[0m\u001b[0mvalid\u001b[0m\u001b[0;34m[\u001b[0m\u001b[0;34m-\u001b[0m\u001b[0;36m1\u001b[0m\u001b[0;34m]\u001b[0m\u001b[0;34m[\u001b[0m\u001b[0;36m2\u001b[0m\u001b[0;34m]\u001b[0m \u001b[0;32mif\u001b[0m \u001b[0mself\u001b[0m\u001b[0;34m.\u001b[0m\u001b[0mlogger\u001b[0m\u001b[0;34m.\u001b[0m\u001b[0mvalid\u001b[0m \u001b[0;32melse\u001b[0m \u001b[0;36m0\u001b[0m\u001b[0;34m\u001b[0m\u001b[0;34m\u001b[0m\u001b[0m\n",
      "\u001b[0;32m~/code/stage1/stage1/trainer/trainer.py\u001b[0m in \u001b[0;36mvalid\u001b[0;34m(self, log)\u001b[0m\n\u001b[1;32m    654\u001b[0m                 \u001b[0mloss\u001b[0m \u001b[0;34m=\u001b[0m \u001b[0mself\u001b[0m\u001b[0;34m.\u001b[0m\u001b[0mcriterion\u001b[0m\u001b[0;34m(\u001b[0m\u001b[0moutputs\u001b[0m\u001b[0;34m,\u001b[0m \u001b[0mtargets\u001b[0m\u001b[0;34m)\u001b[0m\u001b[0;34m\u001b[0m\u001b[0;34m\u001b[0m\u001b[0m\n\u001b[1;32m    655\u001b[0m \u001b[0;34m\u001b[0m\u001b[0m\n\u001b[0;32m--> 656\u001b[0;31m                 \u001b[0mvalid_loss\u001b[0m \u001b[0;34m+=\u001b[0m \u001b[0mloss\u001b[0m\u001b[0;34m.\u001b[0m\u001b[0mitem\u001b[0m\u001b[0;34m(\u001b[0m\u001b[0;34m)\u001b[0m\u001b[0;34m\u001b[0m\u001b[0;34m\u001b[0m\u001b[0m\n\u001b[0m\u001b[1;32m    657\u001b[0m                 \u001b[0mpredictions\u001b[0m \u001b[0;34m=\u001b[0m \u001b[0mtorch\u001b[0m\u001b[0;34m.\u001b[0m\u001b[0margmax\u001b[0m\u001b[0;34m(\u001b[0m\u001b[0moutputs\u001b[0m\u001b[0;34m,\u001b[0m \u001b[0mdim\u001b[0m\u001b[0;34m=\u001b[0m\u001b[0;36m1\u001b[0m\u001b[0;34m)\u001b[0m\u001b[0;34m\u001b[0m\u001b[0;34m\u001b[0m\u001b[0m\n\u001b[1;32m    658\u001b[0m                 \u001b[0;32mif\u001b[0m \u001b[0mself\u001b[0m\u001b[0;34m.\u001b[0m\u001b[0mconfig\u001b[0m\u001b[0;34m.\u001b[0m\u001b[0mmodel\u001b[0m\u001b[0;34m.\u001b[0m\u001b[0mclassifying\u001b[0m \u001b[0;34m==\u001b[0m \u001b[0;34m'age'\u001b[0m \u001b[0;32mand\u001b[0m \u001b[0mself\u001b[0m\u001b[0;34m.\u001b[0m\u001b[0mconfig\u001b[0m\u001b[0;34m.\u001b[0m\u001b[0mdata\u001b[0m\u001b[0;34m.\u001b[0m\u001b[0msoften_age\u001b[0m\u001b[0;34m:\u001b[0m\u001b[0;34m\u001b[0m\u001b[0;34m\u001b[0m\u001b[0m\n",
      "\u001b[0;31mKeyboardInterrupt\u001b[0m: "
     ]
    }
   ],
   "source": [
    "'''[BEST YET]effnet-b0-1a-smaller (smaller)(nn.CrossEntropyLoss)(AdamP)\n",
    ">>> CHECKPOINTS\n",
    "[lowest loss](0.2807)<- \"/opt/ml/output/models/2021-04-07 18:02:46.953636__.pth\"\n",
    "[best f1 score](0.97814)<- \"/opt/ml/output/models/2021-04-07 18:02:46.953636__.pth\"\n",
    "'''\n",
    "\n",
    "# effnet_b0_1a = timm.models.efficientnet_b0(pretrained=True)\n",
    "# effnet_b0_1a.classifier = nn.Linear(effnet_b0_1a.classifier.in_features, 18)\n",
    "# setattr(effnet_b0_1a, \"name\", \"effnet-b0-1a+smaller+ce+adamp\")\n",
    "\n",
    "# effnet_b0_1a__logger = CSVLogger()\n",
    "\n",
    "# branch = ConfigBranch(\n",
    "#     train_path = '/opt/ml/input/data/train/smaller_',\n",
    "#     model = effnet_b0_1a,\n",
    "#     logger = effnet_b0_1a__logger, \n",
    "#     classifying = 'all', \n",
    "#     upscale = False,\n",
    "#     criterion = 'CrossEntropyLoss',\n",
    "#     optimizer = 'AdamP',\n",
    "#     lr = 1e-3,\n",
    "#     state_path = '/opt/ml/output/models/2021-04-07 18:02:46.953636__.pth',\n",
    "# )\n",
    "\n",
    "# config.path.train = branch.train_path\n",
    "# config.model.model = branch.model\n",
    "# config.train.logger = branch.logger\n",
    "# config.model.classifying = branch.classifying\n",
    "# config.data.upscale = branch.upscale\n",
    "# config.train.optimizer.name = branch.optimizer\n",
    "# config.train.lr.base = branch.lr\n",
    "# config.train.weight_decay = 1e-4\n",
    "# config.train.loss.criterion = branch.criterion\n",
    "# config.model.state_path = branch.state_path\n",
    "\n",
    "# try:\n",
    "#     trainer().load_state_dict_to_model()\n",
    "# except:\n",
    "#     trainer().model.load_state_dict(load_and_fix_state_dict(config.model.state_path))\n",
    "# trainer.train_and_save()"
   ]
  },
  {
   "cell_type": "code",
   "execution_count": 23,
   "id": "clinical-position",
   "metadata": {
    "collapsed": true,
    "jupyter": {
     "outputs_hidden": true
    },
    "tags": []
   },
   "outputs": [
    {
     "name": "stdout",
     "output_type": "stream",
     "text": [
      "[INFO]\n",
      "model=effnet-b0-multi-raw+ce(as)+adamp\n",
      "device=cuda:0(Tesla P40)\n",
      "data size=(15120 + 3780), batch size=32\n",
      "optimizer.name=AdamP\n",
      "epochs=20, lr=0.001, weight_decay=0.0001, betas=(0.9, 0.999)\n",
      "\n",
      "Start of traning.\n",
      "[Epoch 001]  Loss: 0.38090,  Acc: 87.381,  F1 Score: 0.63813  (04:36)\n",
      "[Valid 001]  Loss: 0.18642,  Acc: 93.439,  F1 Score: 0.78057\n",
      "WARNING: model has no name.\n",
      "Saved model: /opt/ml/output/models/2021-04-07 19:32:19.771018__.pth\n",
      "[Epoch 002]  Loss: 0.15477,  Acc: 94.570,  F1 Score: 0.82042  (04:36)\n",
      "[Valid 002]  Loss: 0.11096,  Acc: 96.164,  F1 Score: 0.85367\n",
      "WARNING: model has no name.\n",
      "Saved model: /opt/ml/output/models/2021-04-07 19:37:15.758102__.pth\n",
      "[Epoch 003]  Loss: 0.09633,  Acc: 96.667,  F1 Score: 0.89341  (04:37)\n",
      "[Valid 003]  Loss: 0.11312,  Acc: 96.164,  F1 Score: 0.91241\n",
      "WARNING: model has no name.\n",
      "Saved model: /opt/ml/output/models/2021-04-07 19:42:12.990579__.pth\n",
      "[Epoch 004]  Loss: 0.07690,  Acc: 97.434,  F1 Score: 0.91062  (04:36)\n",
      "[Valid 004]  Loss: 0.13802,  Acc: 95.317,  F1 Score: 0.81907\n",
      "WARNING: model has no name.\n",
      "Saved model: /opt/ml/output/models/2021-04-07 19:47:09.121499__.pth\n",
      "[Epoch 005]  Loss: 0.05464,  Acc: 98.175,  F1 Score: 0.92321  (04:36)\n",
      "[Valid 005]  Loss: 0.09743,  Acc: 96.931,  F1 Score: 0.89975\n",
      "WARNING: model has no name.\n",
      "Saved model: /opt/ml/output/models/2021-04-07 19:52:05.212281__.pth\n"
     ]
    },
    {
     "data": {
      "image/png": "[encoded data removed]",
      "text/plain": [
       "<Figure size 720x360 with 2 Axes>"
      ]
     },
     "metadata": {
      "needs_background": "light"
     },
     "output_type": "display_data"
    },
    {
     "name": "stdout",
     "output_type": "stream",
     "text": [
      "[Epoch 006]  Loss: 0.05440,  Acc: 98.194,  F1 Score: 0.93728  (04:37)\n",
      "[Valid 006]  Loss: 0.07169,  Acc: 97.460,  F1 Score: 0.90058\n",
      "WARNING: model has no name.\n",
      "Saved model: /opt/ml/output/models/2021-04-07 19:57:02.325826__.pth\n",
      "[Epoch 007]  Loss: 0.05813,  Acc: 98.003,  F1 Score: 0.93037  (04:36)\n",
      "[Valid 007]  Loss: 0.07719,  Acc: 97.407,  F1 Score: 0.93133\n",
      "WARNING: model has no name.\n",
      "Saved model: /opt/ml/output/models/2021-04-07 20:01:58.246812__.pth\n",
      "[Epoch 008]  Loss: 0.04489,  Acc: 98.604,  F1 Score: 0.95924  (04:36)\n",
      "[Valid 008]  Loss: 0.05176,  Acc: 98.333,  F1 Score: 0.94117\n",
      "WARNING: model has no name.\n",
      "Saved model: /opt/ml/output/models/2021-04-07 20:06:53.806792__.pth\n",
      "[Epoch 009]  Loss: 0.04952,  Acc: 98.452,  F1 Score: 0.94930  (04:36)\n",
      "[Valid 009]  Loss: 0.08675,  Acc: 97.381,  F1 Score: 0.91197\n",
      "WARNING: model has no name.\n",
      "Saved model: /opt/ml/output/models/2021-04-07 20:11:49.820581__.pth\n",
      "[Epoch 010]  Loss: 0.04314,  Acc: 98.604,  F1 Score: 0.94926  (04:36)\n",
      "[Valid 010]  Loss: 0.04272,  Acc: 98.730,  F1 Score: 0.95298\n",
      "WARNING: model has no name.\n",
      "Saved model: /opt/ml/output/models/2021-04-07 20:16:46.135767__.pth\n"
     ]
    },
    {
     "data": {
      "image/png": "[encoded data removed]",
      "text/plain": [
       "<Figure size 720x360 with 2 Axes>"
      ]
     },
     "metadata": {
      "needs_background": "light"
     },
     "output_type": "display_data"
    },
    {
     "name": "stdout",
     "output_type": "stream",
     "text": [
      "[Epoch 011]  Loss: 0.02573,  Acc: 99.167,  F1 Score: 0.97078  (04:37)\n",
      "[Valid 011]  Loss: 0.06696,  Acc: 97.725,  F1 Score: 0.91032\n",
      "WARNING: model has no name.\n",
      "Saved model: /opt/ml/output/models/2021-04-07 20:21:43.272592__.pth\n",
      "[Epoch 012]  Loss: 0.04792,  Acc: 98.287,  F1 Score: 0.94022  (04:36)\n",
      "[Valid 012]  Loss: 0.05370,  Acc: 98.333,  F1 Score: 0.95228\n",
      "WARNING: model has no name.\n",
      "Saved model: /opt/ml/output/models/2021-04-07 20:26:39.199924__.pth\n",
      "[Epoch 013]  Loss: 0.03947,  Acc: 98.710,  F1 Score: 0.96388  (04:36)\n",
      "[Valid 013]  Loss: 0.07865,  Acc: 97.566,  F1 Score: 0.90016\n",
      "WARNING: model has no name.\n",
      "Saved model: /opt/ml/output/models/2021-04-07 20:31:35.772892__.pth\n",
      "[Epoch 014]  Loss: 0.04291,  Acc: 98.604,  F1 Score: 0.95501  (04:36)\n",
      "[Valid 014]  Loss: 0.09634,  Acc: 97.275,  F1 Score: 0.91045\n",
      "WARNING: model has no name.\n",
      "Saved model: /opt/ml/output/models/2021-04-07 20:36:32.416606__.pth\n",
      "[Epoch 015]  Loss: 0.02041,  Acc: 99.345,  F1 Score: 0.98219  (04:36)\n",
      "[Valid 015]  Loss: 0.12977,  Acc: 96.429,  F1 Score: 0.88723\n",
      "WARNING: model has no name.\n",
      "Saved model: /opt/ml/output/models/2021-04-07 20:41:28.066400__.pth\n"
     ]
    },
    {
     "data": {
      "image/png": "[encoded data removed]",
      "text/plain": [
       "<Figure size 720x360 with 2 Axes>"
      ]
     },
     "metadata": {
      "needs_background": "light"
     },
     "output_type": "display_data"
    },
    {
     "name": "stdout",
     "output_type": "stream",
     "text": [
      "[Epoch 016]  Loss: 0.03828,  Acc: 98.690,  F1 Score: 0.95668  (04:36)\n",
      "[Valid 016]  Loss: 0.19022,  Acc: 94.921,  F1 Score: 0.89050\n",
      "WARNING: model has no name.\n",
      "Saved model: /opt/ml/output/models/2021-04-07 20:46:24.769314__.pth\n",
      "[Epoch 017]  Loss: 0.03063,  Acc: 99.001,  F1 Score: 0.97132  (04:37)\n",
      "[Valid 017]  Loss: 0.06885,  Acc: 98.016,  F1 Score: 0.93158\n",
      "WARNING: model has no name.\n",
      "Saved model: /opt/ml/output/models/2021-04-07 20:51:21.823461__.pth\n",
      "[Epoch 018]  Loss: 0.02970,  Acc: 99.021,  F1 Score: 0.96526  (04:36)\n",
      "[Valid 018]  Loss: 0.03640,  Acc: 99.021,  F1 Score: 0.96051\n",
      "WARNING: model has no name.\n",
      "Saved model: /opt/ml/output/models/2021-04-07 20:56:18.139910__.pth\n",
      "[Epoch 019]  Loss: 0.04146,  Acc: 98.545,  F1 Score: 0.94952  (04:36)\n",
      "[Valid 019]  Loss: 0.11666,  Acc: 96.746,  F1 Score: 0.90707\n",
      "WARNING: model has no name.\n",
      "Saved model: /opt/ml/output/models/2021-04-07 21:01:14.621442__.pth\n",
      "[Epoch 020]  Loss: 0.02264,  Acc: 99.306,  F1 Score: 0.98077  (04:36)\n",
      "[Valid 020]  Loss: 0.07100,  Acc: 98.280,  F1 Score: 0.94965\n",
      "WARNING: model has no name.\n",
      "Saved model: /opt/ml/output/models/2021-04-07 21:06:10.510012__.pth\n"
     ]
    },
    {
     "data": {
      "image/png": "[encoded data removed]",
      "text/plain": [
       "<Figure size 720x360 with 2 Axes>"
      ]
     },
     "metadata": {
      "needs_background": "light"
     },
     "output_type": "display_data"
    },
    {
     "name": "stdout",
     "output_type": "stream",
     "text": [
      "\n",
      "End of training. (end_lr=0.001)\n",
      "\n"
     ]
    },
    {
     "data": {
      "text/plain": [
       "'/opt/ml/output/models/2021-04-07 21:06:10.510012__.pth'"
      ]
     },
     "execution_count": 23,
     "metadata": {},
     "output_type": "execute_result"
    }
   ],
   "source": [
    "'''[BETTER THAN 1-LAYER CLASSIFIER]effnet-b0-multi (raw)(nn.CrossEntropyLoss)(AdamP)\n",
    ">>> CHECKPOINTS\n",
    "[lowest loss](0.03640)<- \"/opt/ml/output/models/2021-04-07 20:56:18.139910__.pth\"\n",
    "[best f1 score](0.96051)<- \"/opt/ml/output/models/2021-04-07 20:56:18.139910__.pth\"\n",
    "'''\n",
    "\n",
    "# effnet_b0_multi = timm.models.efficientnet_b0(True)\n",
    "# effnet_b0_multi.classifier = MultiheadClassifier(in_features=effnet_b0_multi.classifier.in_features)\n",
    "# setattr(effnet_b0_multi, \"name\", \"effnet-b0-multi-raw+ce(as)+adamp\")\n",
    "# effnet_b0_multi_logger = CSVLogger()\n",
    "\n",
    "# branch = ConfigBranch(\n",
    "#     train_path = '/opt/ml/input/data/train/all_',\n",
    "#     model = effnet_b0_multi,\n",
    "#     logger = effnet_b0_multi_logger, \n",
    "#     classifying = 'all', \n",
    "#     upscale = False,\n",
    "#     criterion = nn.CrossEntropyLoss(),\n",
    "#     optimizer = 'AdamP',\n",
    "#     lr = 1e-3,\n",
    "#     state_path = '/opt/ml/output/models/2021-04-07 20:56:18.139910__.pth',\n",
    "# )\n",
    "\n",
    "# config.path.train = branch.train_path\n",
    "# config.model.model = branch.model\n",
    "# config.train.logger = branch.logger\n",
    "# config.model.classifying = branch.classifying\n",
    "# config.data.upscale = branch.upscale\n",
    "# config.train.optimizer.name = branch.optimizer\n",
    "# config.train.lr.base = branch.lr\n",
    "# config.train.weight_decay = 1e-4\n",
    "# config.train.loss.criterion = branch.criterion\n",
    "# config.model.state_path = branch.state_path\n",
    "\n",
    "# try:\n",
    "#     trainer().load_state_dict_to_model()\n",
    "# except:\n",
    "#     trainer().model.load_state_dict(load_and_fix_state_dict(config.model.state_path))\n",
    "\n",
    "# trainer.train_and_save()"
   ]
  },
  {
   "cell_type": "code",
   "execution_count": 26,
   "id": "fabulous-income",
   "metadata": {
    "collapsed": true,
    "jupyter": {
     "outputs_hidden": true
    },
    "tags": []
   },
   "outputs": [
    {
     "ename": "NameError",
     "evalue": "name 'effnet_b0_1a_logger' is not defined",
     "output_type": "error",
     "traceback": [
      "\u001b[0;31m---------------------------------------------------------------------------\u001b[0m",
      "\u001b[0;31mNameError\u001b[0m                                 Traceback (most recent call last)",
      "\u001b[0;32m<ipython-input-26-211ea6fb769c>\u001b[0m in \u001b[0;36m<module>\u001b[0;34m\u001b[0m\n\u001b[1;32m     15\u001b[0m branch = ConfigBranch(\n\u001b[1;32m     16\u001b[0m     \u001b[0mmodel\u001b[0m \u001b[0;34m=\u001b[0m \u001b[0meffnet_b0_1a\u001b[0m\u001b[0;34m,\u001b[0m\u001b[0;34m\u001b[0m\u001b[0;34m\u001b[0m\u001b[0m\n\u001b[0;32m---> 17\u001b[0;31m     \u001b[0mlogger\u001b[0m \u001b[0;34m=\u001b[0m \u001b[0meffnet_b0_1a_logger\u001b[0m\u001b[0;34m,\u001b[0m\u001b[0;34m\u001b[0m\u001b[0;34m\u001b[0m\u001b[0m\n\u001b[0m\u001b[1;32m     18\u001b[0m     \u001b[0mclassifying\u001b[0m \u001b[0;34m=\u001b[0m \u001b[0;34m'all'\u001b[0m\u001b[0;34m,\u001b[0m\u001b[0;34m\u001b[0m\u001b[0;34m\u001b[0m\u001b[0m\n\u001b[1;32m     19\u001b[0m     \u001b[0mupscale\u001b[0m \u001b[0;34m=\u001b[0m \u001b[0;32mFalse\u001b[0m\u001b[0;34m,\u001b[0m\u001b[0;34m\u001b[0m\u001b[0;34m\u001b[0m\u001b[0m\n",
      "\u001b[0;31mNameError\u001b[0m: name 'effnet_b0_1a_logger' is not defined"
     ]
    }
   ],
   "source": [
    "# b0-1a-age (raw)(CrossEntropyLoss)(MADGRAD)\n",
    "'''CHECKPOINTS\n",
    "[lowest loss]()   <-  \"\"\n",
    "[best f1 score]() <-  \"\"\n",
    "'''\n",
    "\n",
    "# effnet_b0_1a = timm.models.efficientnet_b0(True)\n",
    "# effnet_b0_1a.classifier = nn.Linear(effnet_b0_1a.classifier.in_features, 18)\n",
    "# setattr(effnet_b0_1a, 'name', 'effnet-b0-1a-all-raw-madgrad_test')\n",
    "\n",
    "# effnet_b0_1a_raw_logger = CSVLogger()\n",
    "\n",
    "\n",
    "\n",
    "# branch = ConfigBranch(\n",
    "#     train_path = '/opt/ml/input/data/train/all_',\n",
    "#     model = effnet_b0_1a,\n",
    "#     logger = effnet_b0_1a_logger, \n",
    "#     classifying = 'all', \n",
    "#     upscale = False,\n",
    "#     criterion = nn.CrossEntropyLoss(),\n",
    "#     optimizer = 'MADGRAD',\n",
    "#     lr = 1e-3,\n",
    "#     state_path = '',\n",
    "# )\n",
    "\n",
    "# config.path.train = branch.train_path\n",
    "# config.model.model = branch.model\n",
    "# config.train.logger = branch.logger\n",
    "# config.model.classifying = branch.classifying\n",
    "# config.data.upscale = branch.upscale\n",
    "# config.train.optimizer.name = branch.optimizer\n",
    "# config.train.lr.base = branch.lr\n",
    "# config.train.weight_decay = 1e-4\n",
    "# config.train.loss.criterion = branch.criterion\n",
    "# config.model.state_path = branch.state_path\n",
    "\n",
    "# try:\n",
    "#     trainer().load_state_dict_to_model()\n",
    "# except:\n",
    "#     trainer().model.load_state_dict(load_and_fix_state_dict(config.model.state_path))\n",
    "# trainer.train_and_save()"
   ]
  },
  {
   "cell_type": "code",
   "execution_count": 3,
   "id": "canadian-found",
   "metadata": {},
   "outputs": [],
   "source": [
    "# candidates = [\n",
    "#     '2021-04-04 21:06:48.616452_effnet_b3_age_.pth', \n",
    "#     '2021-04-04 20:57:30.119399_effnet_b3_age_.pth', \n",
    "#     '2021-04-04 20:48:11.983449_effnet_b3_age_.pth', # best f1 score\n",
    "#     '2021-04-04 20:38:54.592518_effnet_b3_age_.pth', \n",
    "#     '2021-04-04 20:38:54.592518_effnet_b3_age_.pth', # (redundance)\n",
    "#     '2021-04-04 20:20:18.293577_effnet_b3_age_.pth', \n",
    "#     '2021-04-04 20:10:58.160324_effnet_b3_age_.pth', # lowest loss\n",
    "#     '2021-04-04 20:01:39.279959_effnet_b3_age_.pth'\n",
    "# ]\n",
    "# config.model.model = effnet_b3_age\n",
    "# config.model.classifying = 'age'\n",
    "# for idx, cand in enumerate(candidates):\n",
    "#     print(f\"[{idx + 1}/{len(candidates)}]\", end=\" \")\n",
    "#     config.model.state_path = os.path.join(config.path.models, cand)\n",
    "#     trainer().load_state_dict_to_model()\n",
    "#     trainer.valid()"
   ]
  },
  {
   "cell_type": "code",
   "execution_count": null,
   "id": "engaging-minister",
   "metadata": {},
   "outputs": [],
   "source": [
    "# b3-2da-age (raw)\n",
    "\n",
    "# branch = ConfigBranch(\n",
    "#     model = effnet_b3_2da_age_raw,\n",
    "#     logger = effnet_b3_2da_age_raw_logger, \n",
    "#     classifying = 'age', \n",
    "#     upscale = False,\n",
    "#     lr = 1e-6, #config.train.lr.low_limit / 10, #after end of training\n",
    "#     state_path = '/opt/ml/output/models/2021-04-06 10:24:14.223154_effnet_b3_2da_age_.pth'\n",
    "# )\n",
    "\n",
    "# config.model.model = branch.model\n",
    "# config.train.logger = branch.logger\n",
    "# config.model.classifying = branch.classifying\n",
    "# config.data.upscale = branch.upscale\n",
    "# config.train.lr.base = branch.lr\n",
    "# config.train.weight_decay = branch.lr / 10 # 1e-4 needed maybe\n",
    "# config.model.state_path = branch.state_path\n",
    "\n",
    "# trainer().load_state_dict_to_model() #nothing happens if not state_path\n",
    "# trainer.train_and_save()"
   ]
  },
  {
   "cell_type": "code",
   "execution_count": null,
   "id": "functioning-conflict",
   "metadata": {
    "tags": []
   },
   "outputs": [],
   "source": [
    "# b3-2da-age (upscaled wo/ ColorJitter, Blur)\n",
    "\n",
    "# branch = ConfigBranch(\n",
    "#     model = effnet_b3_2da_age,\n",
    "#     logger = effnet_b3_2da_age_logger, \n",
    "#     classifying = 'age', \n",
    "#     upscale = True,\n",
    "#     lr = 1e-3, #config.train.lr.low_limit / 10, #after end of training\n",
    "#     state_path = '/opt/ml/output/models/2021-04-06 08:13:31.727017_effnet_b3_2da_age_upscaled.pth'\n",
    "# )"
   ]
  },
  {
   "cell_type": "code",
   "execution_count": null,
   "id": "presidential-chinese",
   "metadata": {},
   "outputs": [],
   "source": [
    "# b0-2da-age (upscaled)\n",
    "\n",
    "# branch = ConfigBranch(\n",
    "#     model = effnet_b0_2da_age,\n",
    "#     logger = effnet_b0_2da_age_logger, \n",
    "#     classifying = 'age', \n",
    "#     upscale = True,\n",
    "#     lr = config.train.lr.low_limit / 10, #after end of training\n",
    "#     state_path = '/opt/ml/output/models/2021-04-06 05:02:16.576047_effnet-b0-2da-age_upscaled.pth'\n",
    "# )"
   ]
  },
  {
   "cell_type": "code",
   "execution_count": null,
   "id": "adjustable-guinea",
   "metadata": {
    "tags": []
   },
   "outputs": [],
   "source": [
    "# b0-2da-all (upscaled)\n",
    "\n",
    "# branch = ConfigBranch(\n",
    "#     model = effnet_b0_2da,\n",
    "#     logger = effnet_b0_2da_logger,\n",
    "#     classifying = 'all', \n",
    "#     lr = config.train.lr.low_limit / 10,\n",
    "#     state_path = '/opt/ml/output/models/archvie/2021-04-05 14:32:34.066673_effnet-b0-2da_upscaled.pth'\n",
    "# )"
   ]
  },
  {
   "cell_type": "code",
   "execution_count": null,
   "id": "animated-briefing",
   "metadata": {},
   "outputs": [],
   "source": [
    "# b3-1a-age (raw)\n",
    "\n",
    "# branch = ConfigBranch(\n",
    "#     model = effnet_b3_age,\n",
    "#     logger = effnet_b3_age_logger,\n",
    "#     classifying = 'age',\n",
    "#     upscale = False,\n",
    "#     lr = 1e-4,\n",
    "#     state_path = '/opt/ml/output/models/2021-04-06 00:25:58.199900_effnet_b3_age_upscaled.pth'\n",
    "# )"
   ]
  },
  {
   "cell_type": "code",
   "execution_count": null,
   "id": "comprehensive-spectacular",
   "metadata": {
    "tags": []
   },
   "outputs": [],
   "source": [
    "# b3-1a-age (upscaled)\n",
    "\n",
    "# branch = ConfigBranch(\n",
    "#     model = effnet_b3_age,\n",
    "#     logger = effnet_b3_age_logger,\n",
    "#     classifying = 'age', \n",
    "#     lr = config.train.lr.low_limit / 10,\n",
    "#     state_path = '/opt/ml/output/models/2021-04-06 00:25:58.199900_effnet_b3_age_upscaled.pth'\n",
    "# )"
   ]
  },
  {
   "cell_type": "code",
   "execution_count": null,
   "id": "double-annex",
   "metadata": {
    "tags": []
   },
   "outputs": [],
   "source": [
    "# b3-2da-age (upscaled)\n",
    "\n",
    "# branch = ConfigBranch(\n",
    "#     model = effnet_b3_2d_age,\n",
    "#     logger = effnet_b3_2d_age_logger, \n",
    "#     classifying = 'age', \n",
    "#     lr = config.train.lr.low_limit / 10,\n",
    "#     state_path = '/opt/ml/output/models/2021-04-06 02:22:12.233049_effnet_b3_2d_age_upscaled.pth'\n",
    "# )"
   ]
  },
  {
   "cell_type": "code",
   "execution_count": null,
   "id": "stuck-candle",
   "metadata": {},
   "outputs": [],
   "source": []
  }
 ],
 "metadata": {
  "kernelspec": {
   "display_name": "Python 3",
   "language": "python",
   "name": "python3"
  },
  "language_info": {
   "codemirror_mode": {
    "name": "ipython",
    "version": 3
   },
   "file_extension": ".py",
   "mimetype": "text/x-python",
   "name": "python",
   "nbconvert_exporter": "python",
   "pygments_lexer": "ipython3",
   "version": "3.7.7"
  }
 },
 "nbformat": 4,
 "nbformat_minor": 5
}
